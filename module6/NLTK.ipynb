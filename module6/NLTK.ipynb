{
  "nbformat": 4,
  "nbformat_minor": 0,
  "metadata": {
    "colab": {
      "provenance": [],
      "toc_visible": true,
      "include_colab_link": true
    },
    "kernelspec": {
      "name": "python3",
      "display_name": "Python 3"
    },
    "language_info": {
      "name": "python"
    }
  },
  "cells": [
    {
      "cell_type": "markdown",
      "metadata": {
        "id": "view-in-github",
        "colab_type": "text"
      },
      "source": [
        "<a href=\"https://colab.research.google.com/github/dlbkv/AI-Step/blob/lectures/module6/NLTK.ipynb\" target=\"_parent\"><img src=\"https://colab.research.google.com/assets/colab-badge.svg\" alt=\"Open In Colab\"/></a>"
      ]
    },
    {
      "cell_type": "markdown",
      "source": [
        "[BBC](https://www.kaggle.com/datasets/alfathterry/bbc-full-text-document-classification)\n",
        "\n",
        "[Article](https://www.kaggle.com/datasets/banuprakashv/news-articles-classification-dataset-for-nlp-and-ml/code)\n",
        "\n",
        "[Telegram](https://www.kaggle.com/datasets/mexwell/telegram-spam-or-ham)"
      ],
      "metadata": {
        "id": "0Ug7OFXdFe5d"
      }
    },
    {
      "cell_type": "markdown",
      "source": [
        "# Посібник з обробки природної мови (NLP) за допомогою NLTK у Python\n",
        "\n",
        "Обробка природної мови (Natural Language Processing, NLP) - це підгалузь штучного інтелекту, що займається взаємодією між комп'ютером і людською мовою. Він надає комп'ютерам можливість розуміти, обробляти та генерувати людську мову. НЛП має численні застосування, серед яких\n",
        "\n",
        "* **Аналіз настрою:** Класифікація тексту як позитивного, негативного або нейтрального.\n",
        "* **Машинний переклад:** автоматичний переклад тексту з однієї мови на іншу.\n",
        "* **Чат-боти:** створення розмовних агентів, які можуть взаємодіяти з користувачами.\n",
        "* **Реферування тексту:** Перетворення довгого тексту на коротший, інформативний підсумок.\n",
        "\n"
      ],
      "metadata": {
        "id": "m7pKByaskjd1"
      }
    },
    {
      "cell_type": "markdown",
      "source": [
        "[Документація](https://www.nltk.org/)\n",
        "\n",
        "NLTK, або Natural Language Toolkit, - це пакет Python, який можна використовувати для NLP.\n",
        "\n",
        "Багато даних, які ви можете аналізувати, є неструктурованими і містять текст, що читається людиною. Перш ніж ви зможете проаналізувати ці дані програмно, вам потрібно їх попередньо обробити. У цьому підручнику ви вперше подивитеся на типи завдань з попередньої обробки тексту, які можна виконувати за допомогою NLTK, щоб бути готовими застосовувати їх у майбутніх проектах."
      ],
      "metadata": {
        "id": "0LjUy5TMl-UR"
      }
    },
    {
      "cell_type": "code",
      "execution_count": null,
      "metadata": {
        "id": "JYv8t11FFcrh"
      },
      "outputs": [],
      "source": [
        "import nltk"
      ]
    },
    {
      "cell_type": "markdown",
      "source": [
        "# Токенізація\n",
        "\n",
        "За допомогою **токенізації** ви можете зручно розбивати текст на слова або речення. Це дозволить вам працювати з меншими фрагментами тексту, які залишаються відносно зв'язними і значущими навіть поза контекстом решти тексту. Це ваш перший крок до перетворення неструктурованих даних на структуровані, які легше аналізувати.\n",
        "\n",
        "Аналізуючи текст, ви будете токенізувати за словами і токенізувати за реченнями. Ось що дають обидва типи токенізації:\n",
        "\n",
        "* **Токенізація за словом:** Слова схожі на атоми природної мови. Вони є найменшою одиницею значення, яка все ще має сенс сама по собі. Токенізація тексту за словами дозволяє визначити слова, які з'являються особливо часто. Наприклад, якщо ви аналізуєте групу оголошень про роботу, то можете виявити, що слово \"Python\" зустрічається дуже часто. Це може свідчити про високий попит на знання Python, але вам потрібно зазирнути глибше, щоб дізнатися більше.\n",
        "\n",
        "* **Токенізація за реченням:** Коли ви токенізуєте за реченням, ви можете проаналізувати, як ці слова співвідносяться одне з одним, і побачити більше контексту. Чи багато негативних слів навколо слова \"Python\", тому що менеджер з персоналу не любить Python? Чи більше термінів з області герпетології, ніж з області розробки програмного забезпечення, що свідчить про те, що ви, можливо, маєте справу з зовсім іншим видом пітона, ніж ви очікували?"
      ],
      "metadata": {
        "id": "tAlkxpYEmBt2"
      }
    },
    {
      "cell_type": "code",
      "source": [
        "from nltk.tokenize import sent_tokenize, word_tokenize\n",
        "nltk.download('punkt')\n",
        "\n",
        "example_string = \"\"\"\n",
        "Muad'Dib learned rapidly because his first training was in how to learn.\n",
        "And the first lesson of all was the basic trust that he could learn.\n",
        "It's shocking to find how many people do not believe they can learn,\n",
        "and how many more believe learning to be difficult.\"\"\""
      ],
      "metadata": {
        "id": "GR0e88-ym6OC"
      },
      "execution_count": null,
      "outputs": []
    },
    {
      "cell_type": "markdown",
      "source": [
        "Токенізація за реченням:"
      ],
      "metadata": {
        "id": "pcwQeidPnNB_"
      }
    },
    {
      "cell_type": "code",
      "source": [
        "sentences = sent_tokenize(example_string)"
      ],
      "metadata": {
        "id": "SkFeGxv_nJ2P"
      },
      "execution_count": null,
      "outputs": []
    },
    {
      "cell_type": "code",
      "source": [
        "type(sentences), len(sentences)"
      ],
      "metadata": {
        "colab": {
          "base_uri": "https://localhost:8080/"
        },
        "id": "ZJB7oe1znXEt",
        "outputId": "abef123a-5990-4f16-bab9-1e7e752afa91"
      },
      "execution_count": null,
      "outputs": [
        {
          "output_type": "execute_result",
          "data": {
            "text/plain": [
              "(list, 3)"
            ]
          },
          "metadata": {},
          "execution_count": 10
        }
      ]
    },
    {
      "cell_type": "code",
      "source": [
        "sentences"
      ],
      "metadata": {
        "id": "V-8N5vz-g963",
        "outputId": "7a231a84-1658-4dc3-824c-bf985bf72758",
        "colab": {
          "base_uri": "https://localhost:8080/"
        }
      },
      "execution_count": null,
      "outputs": [
        {
          "output_type": "execute_result",
          "data": {
            "text/plain": [
              "[\"\\nMuad'Dib learned rapidly because his first training was in how to learn.\",\n",
              " 'And the first lesson of all was the basic trust that he could learn.',\n",
              " \"It's shocking to find how many people do not believe they can learn,\\nand how many more believe learning to be difficult.\"]"
            ]
          },
          "metadata": {},
          "execution_count": 13
        }
      ]
    },
    {
      "cell_type": "code",
      "source": [
        "sentences[0]"
      ],
      "metadata": {
        "colab": {
          "base_uri": "https://localhost:8080/",
          "height": 36
        },
        "id": "ixIGnhXQnkIK",
        "outputId": "1d0df60a-9de5-465f-84c5-eab99c5b0a98"
      },
      "execution_count": null,
      "outputs": [
        {
          "output_type": "execute_result",
          "data": {
            "text/plain": [
              "\"\\nMuad'Dib learned rapidly because his first training was in how to learn.\""
            ],
            "application/vnd.google.colaboratory.intrinsic+json": {
              "type": "string"
            }
          },
          "metadata": {},
          "execution_count": 11
        }
      ]
    },
    {
      "cell_type": "markdown",
      "source": [
        "Токенізація за словом:"
      ],
      "metadata": {
        "id": "LGjTVSBnnwgU"
      }
    },
    {
      "cell_type": "code",
      "source": [
        "words = word_tokenize(example_string)"
      ],
      "metadata": {
        "id": "eqm9C6ZLnnTz"
      },
      "execution_count": null,
      "outputs": []
    },
    {
      "cell_type": "code",
      "source": [
        "len(words)"
      ],
      "metadata": {
        "colab": {
          "base_uri": "https://localhost:8080/"
        },
        "id": "hLhDV_HUn3pG",
        "outputId": "8c0c4ac8-49b8-4e38-94d8-27ada464d71d"
      },
      "execution_count": null,
      "outputs": [
        {
          "output_type": "execute_result",
          "data": {
            "text/plain": [
              "53"
            ]
          },
          "metadata": {},
          "execution_count": 15
        }
      ]
    },
    {
      "cell_type": "code",
      "source": [
        "words"
      ],
      "metadata": {
        "colab": {
          "base_uri": "https://localhost:8080/"
        },
        "id": "PE0jlvc5n90W",
        "outputId": "5ec337e0-c516-4513-ec44-5ebd6b29f43e"
      },
      "execution_count": null,
      "outputs": [
        {
          "output_type": "execute_result",
          "data": {
            "text/plain": [
              "[\"Muad'Dib\",\n",
              " 'learned',\n",
              " 'rapidly',\n",
              " 'because',\n",
              " 'his',\n",
              " 'first',\n",
              " 'training',\n",
              " 'was',\n",
              " 'in',\n",
              " 'how',\n",
              " 'to',\n",
              " 'learn',\n",
              " '.',\n",
              " 'And',\n",
              " 'the',\n",
              " 'first',\n",
              " 'lesson',\n",
              " 'of',\n",
              " 'all',\n",
              " 'was',\n",
              " 'the',\n",
              " 'basic',\n",
              " 'trust',\n",
              " 'that',\n",
              " 'he',\n",
              " 'could',\n",
              " 'learn',\n",
              " '.',\n",
              " 'It',\n",
              " \"'s\",\n",
              " 'shocking',\n",
              " 'to',\n",
              " 'find',\n",
              " 'how',\n",
              " 'many',\n",
              " 'people',\n",
              " 'do',\n",
              " 'not',\n",
              " 'believe',\n",
              " 'they',\n",
              " 'can',\n",
              " 'learn',\n",
              " ',',\n",
              " 'and',\n",
              " 'how',\n",
              " 'many',\n",
              " 'more',\n",
              " 'believe',\n",
              " 'learning',\n",
              " 'to',\n",
              " 'be',\n",
              " 'difficult',\n",
              " '.']"
            ]
          },
          "metadata": {},
          "execution_count": 16
        }
      ]
    },
    {
      "cell_type": "markdown",
      "source": [
        "Бачите, як \"It's\" розділилося на апострофі, щоб отримати \"It\" і \"'s\", але \"Muad'Dib\" залишилося цілим? Це сталося тому, що NLTK знає, що \"It\" і \"'s\" (скорочення від \"is\") - це два різних слова, тому він порахував їх окремо. Але \"Muad'Dib\" не є загальноприйнятим скороченням, як \"It's\", тому воно не було прочитане як два окремих слова і залишилося цілим."
      ],
      "metadata": {
        "id": "-4OaYYLZoy8R"
      }
    },
    {
      "cell_type": "markdown",
      "source": [
        "## Фільтрування стоп-слів\n",
        "**Стоп-слова** - це слова, які ви хочете ігнорувати, тому ви відфільтровуєте їх з тексту під час обробки. Дуже поширені слова, такі як \"in\", \"is\" та \"an\", часто використовуються як стоп-слова, оскільки самі по собі вони не додають багато сенсу до тексту.\n",
        "\n",
        "Ось як імпортувати відповідні частини NLTK, щоб відфільтрувати стоп-слова:"
      ],
      "metadata": {
        "id": "ocWI3FNkpF9I"
      }
    },
    {
      "cell_type": "code",
      "source": [
        "nltk.download(\"stopwords\")\n",
        "from nltk.corpus import stopwords"
      ],
      "metadata": {
        "colab": {
          "base_uri": "https://localhost:8080/"
        },
        "id": "4NwfaKEfoA42",
        "outputId": "1cd51aaa-bdb4-4793-99ce-dfeb43551254"
      },
      "execution_count": null,
      "outputs": [
        {
          "output_type": "stream",
          "name": "stderr",
          "text": [
            "[nltk_data] Downloading package stopwords to /root/nltk_data...\n",
            "[nltk_data]   Package stopwords is already up-to-date!\n"
          ]
        }
      ]
    },
    {
      "cell_type": "code",
      "source": [
        "stop_words = set(stopwords.words(\"english\"))\n",
        "stop_words"
      ],
      "metadata": {
        "id": "YFqmWQ7xpOGX",
        "colab": {
          "base_uri": "https://localhost:8080/"
        },
        "outputId": "a38aceeb-4bed-4d01-811c-0adab617ae4e"
      },
      "execution_count": null,
      "outputs": [
        {
          "output_type": "execute_result",
          "data": {
            "text/plain": [
              "{'a',\n",
              " 'about',\n",
              " 'above',\n",
              " 'after',\n",
              " 'again',\n",
              " 'against',\n",
              " 'ain',\n",
              " 'all',\n",
              " 'am',\n",
              " 'an',\n",
              " 'and',\n",
              " 'any',\n",
              " 'are',\n",
              " 'aren',\n",
              " \"aren't\",\n",
              " 'as',\n",
              " 'at',\n",
              " 'be',\n",
              " 'because',\n",
              " 'been',\n",
              " 'before',\n",
              " 'being',\n",
              " 'below',\n",
              " 'between',\n",
              " 'both',\n",
              " 'but',\n",
              " 'by',\n",
              " 'can',\n",
              " 'couldn',\n",
              " \"couldn't\",\n",
              " 'd',\n",
              " 'did',\n",
              " 'didn',\n",
              " \"didn't\",\n",
              " 'do',\n",
              " 'does',\n",
              " 'doesn',\n",
              " \"doesn't\",\n",
              " 'doing',\n",
              " 'don',\n",
              " \"don't\",\n",
              " 'down',\n",
              " 'during',\n",
              " 'each',\n",
              " 'few',\n",
              " 'for',\n",
              " 'from',\n",
              " 'further',\n",
              " 'had',\n",
              " 'hadn',\n",
              " \"hadn't\",\n",
              " 'has',\n",
              " 'hasn',\n",
              " \"hasn't\",\n",
              " 'have',\n",
              " 'haven',\n",
              " \"haven't\",\n",
              " 'having',\n",
              " 'he',\n",
              " 'her',\n",
              " 'here',\n",
              " 'hers',\n",
              " 'herself',\n",
              " 'him',\n",
              " 'himself',\n",
              " 'his',\n",
              " 'how',\n",
              " 'i',\n",
              " 'if',\n",
              " 'in',\n",
              " 'into',\n",
              " 'is',\n",
              " 'isn',\n",
              " \"isn't\",\n",
              " 'it',\n",
              " \"it's\",\n",
              " 'its',\n",
              " 'itself',\n",
              " 'just',\n",
              " 'll',\n",
              " 'm',\n",
              " 'ma',\n",
              " 'me',\n",
              " 'mightn',\n",
              " \"mightn't\",\n",
              " 'more',\n",
              " 'most',\n",
              " 'mustn',\n",
              " \"mustn't\",\n",
              " 'my',\n",
              " 'myself',\n",
              " 'needn',\n",
              " \"needn't\",\n",
              " 'no',\n",
              " 'nor',\n",
              " 'not',\n",
              " 'now',\n",
              " 'o',\n",
              " 'of',\n",
              " 'off',\n",
              " 'on',\n",
              " 'once',\n",
              " 'only',\n",
              " 'or',\n",
              " 'other',\n",
              " 'our',\n",
              " 'ours',\n",
              " 'ourselves',\n",
              " 'out',\n",
              " 'over',\n",
              " 'own',\n",
              " 're',\n",
              " 's',\n",
              " 'same',\n",
              " 'shan',\n",
              " \"shan't\",\n",
              " 'she',\n",
              " \"she's\",\n",
              " 'should',\n",
              " \"should've\",\n",
              " 'shouldn',\n",
              " \"shouldn't\",\n",
              " 'so',\n",
              " 'some',\n",
              " 'such',\n",
              " 't',\n",
              " 'than',\n",
              " 'that',\n",
              " \"that'll\",\n",
              " 'the',\n",
              " 'their',\n",
              " 'theirs',\n",
              " 'them',\n",
              " 'themselves',\n",
              " 'then',\n",
              " 'there',\n",
              " 'these',\n",
              " 'they',\n",
              " 'this',\n",
              " 'those',\n",
              " 'through',\n",
              " 'to',\n",
              " 'too',\n",
              " 'under',\n",
              " 'until',\n",
              " 'up',\n",
              " 've',\n",
              " 'very',\n",
              " 'was',\n",
              " 'wasn',\n",
              " \"wasn't\",\n",
              " 'we',\n",
              " 'were',\n",
              " 'weren',\n",
              " \"weren't\",\n",
              " 'what',\n",
              " 'when',\n",
              " 'where',\n",
              " 'which',\n",
              " 'while',\n",
              " 'who',\n",
              " 'whom',\n",
              " 'why',\n",
              " 'will',\n",
              " 'with',\n",
              " 'won',\n",
              " \"won't\",\n",
              " 'wouldn',\n",
              " \"wouldn't\",\n",
              " 'y',\n",
              " 'you',\n",
              " \"you'd\",\n",
              " \"you'll\",\n",
              " \"you're\",\n",
              " \"you've\",\n",
              " 'your',\n",
              " 'yours',\n",
              " 'yourself',\n",
              " 'yourselves'}"
            ]
          },
          "metadata": {},
          "execution_count": 18
        }
      ]
    },
    {
      "cell_type": "code",
      "source": [
        "sentence = sentences[0]\n",
        "sentence"
      ],
      "metadata": {
        "colab": {
          "base_uri": "https://localhost:8080/",
          "height": 36
        },
        "id": "7udRrNWrpZ5m",
        "outputId": "5a013bd3-8c32-46b8-ac2c-75bc1fbeb80c"
      },
      "execution_count": null,
      "outputs": [
        {
          "output_type": "execute_result",
          "data": {
            "text/plain": [
              "\"\\nMuad'Dib learned rapidly because his first training was in how to learn.\""
            ],
            "application/vnd.google.colaboratory.intrinsic+json": {
              "type": "string"
            }
          },
          "metadata": {},
          "execution_count": 19
        }
      ]
    },
    {
      "cell_type": "code",
      "source": [
        "words = word_tokenize(sentence)\n",
        "words"
      ],
      "metadata": {
        "colab": {
          "base_uri": "https://localhost:8080/"
        },
        "id": "O5iIiYyqpohR",
        "outputId": "5b7d9a84-a7b0-482c-9142-a70b2de4e547"
      },
      "execution_count": null,
      "outputs": [
        {
          "output_type": "execute_result",
          "data": {
            "text/plain": [
              "[\"Muad'Dib\",\n",
              " 'learned',\n",
              " 'rapidly',\n",
              " 'because',\n",
              " 'his',\n",
              " 'first',\n",
              " 'training',\n",
              " 'was',\n",
              " 'in',\n",
              " 'how',\n",
              " 'to',\n",
              " 'learn',\n",
              " '.']"
            ]
          },
          "metadata": {},
          "execution_count": 20
        }
      ]
    },
    {
      "cell_type": "markdown",
      "source": [
        "Позбуваємось пунктуації"
      ],
      "metadata": {
        "id": "K72-b5w-u2M_"
      }
    },
    {
      "cell_type": "code",
      "source": [
        "import string\n",
        "\n",
        "words = [word for word in words if word not in string.punctuation]\n",
        "words"
      ],
      "metadata": {
        "colab": {
          "base_uri": "https://localhost:8080/"
        },
        "id": "vskSuHZhu7pZ",
        "outputId": "5e14a8e2-6a12-4341-89ca-ecda92f70d81"
      },
      "execution_count": null,
      "outputs": [
        {
          "output_type": "execute_result",
          "data": {
            "text/plain": [
              "[\"Muad'Dib\",\n",
              " 'learned',\n",
              " 'rapidly',\n",
              " 'because',\n",
              " 'his',\n",
              " 'first',\n",
              " 'training',\n",
              " 'was',\n",
              " 'in',\n",
              " 'how',\n",
              " 'to',\n",
              " 'learn']"
            ]
          },
          "metadata": {},
          "execution_count": 21
        }
      ]
    },
    {
      "cell_type": "code",
      "source": [
        "string.punctuation"
      ],
      "metadata": {
        "id": "ngA9vJHBi6Nb",
        "outputId": "7dead5cb-b254-46e1-8b49-04669259a246",
        "colab": {
          "base_uri": "https://localhost:8080/",
          "height": 36
        }
      },
      "execution_count": null,
      "outputs": [
        {
          "output_type": "execute_result",
          "data": {
            "text/plain": [
              "'!\"#$%&\\'()*+,-./:;<=>?@[\\\\]^_`{|}~'"
            ],
            "application/vnd.google.colaboratory.intrinsic+json": {
              "type": "string"
            }
          },
          "metadata": {},
          "execution_count": 22
        }
      ]
    },
    {
      "cell_type": "markdown",
      "source": [
        "Позбуваємось стоп-слів"
      ],
      "metadata": {
        "id": "SY57qMu_vO5e"
      }
    },
    {
      "cell_type": "code",
      "source": [
        "filtered_words = [word for word in words if word.lower() not in stop_words]\n",
        "filtered_words"
      ],
      "metadata": {
        "colab": {
          "base_uri": "https://localhost:8080/"
        },
        "id": "f4xGGKPep2zR",
        "outputId": "a605d5c6-1377-4764-dc60-650cf412a452"
      },
      "execution_count": null,
      "outputs": [
        {
          "output_type": "execute_result",
          "data": {
            "text/plain": [
              "[\"Muad'Dib\", 'learned', 'rapidly', 'first', 'training', 'learn']"
            ]
          },
          "metadata": {},
          "execution_count": 23
        }
      ]
    },
    {
      "cell_type": "markdown",
      "source": [
        "# Стемінг\n",
        "**Стемінг** - це завдання з обробки тексту, за допомогою якого ви скорочуєте слова до їхнього кореня, який є основною частиною слова. Наприклад, слова \"ліс\" та \"лісник\" мають спільний корінь \"ліс\". Стеммінг дозволяє вам зосередитися на основному значенні слова, а не на всіх деталях його використання. У NLTK є кілька стеммерів, але ви використовуватимете PorterStemmer."
      ],
      "metadata": {
        "id": "RWVR8ELaqtxK"
      }
    },
    {
      "cell_type": "code",
      "source": [
        "from nltk.stem import PorterStemmer\n",
        "\n",
        "stemmer = PorterStemmer()"
      ],
      "metadata": {
        "id": "nh-rQXR7qMJ1"
      },
      "execution_count": null,
      "outputs": []
    },
    {
      "cell_type": "code",
      "source": [
        "stemmed_words = [stemmer.stem(word) for word in filtered_words]\n",
        "stemmed_words"
      ],
      "metadata": {
        "colab": {
          "base_uri": "https://localhost:8080/"
        },
        "id": "DYhL_7lFrU6q",
        "outputId": "482a6329-3bac-4400-973d-920951aa2c5d"
      },
      "execution_count": null,
      "outputs": [
        {
          "output_type": "execute_result",
          "data": {
            "text/plain": [
              "[\"muad'dib\", 'learn', 'rapidli', 'first', 'train', 'learn']"
            ]
          },
          "metadata": {},
          "execution_count": 25
        }
      ]
    },
    {
      "cell_type": "markdown",
      "source": [
        "Іншим, більш **агресивним,** алгоритмом стеммерів є **SnowballStemmer**"
      ],
      "metadata": {
        "id": "MWjZwoxjspvM"
      }
    },
    {
      "cell_type": "code",
      "source": [
        "from nltk.stem.snowball import SnowballStemmer\n",
        "\n",
        "\n",
        "snowball_stemmer = SnowballStemmer(language='english')\n",
        "\n",
        "[snowball_stemmer.stem(word) for word in filtered_words]"
      ],
      "metadata": {
        "colab": {
          "base_uri": "https://localhost:8080/"
        },
        "id": "DlftYA--rdf4",
        "outputId": "05eb9bc5-df29-44b4-b945-c4e63f52c805"
      },
      "execution_count": null,
      "outputs": [
        {
          "output_type": "execute_result",
          "data": {
            "text/plain": [
              "[\"muad'dib\", 'learn', 'rapid', 'first', 'train', 'learn']"
            ]
          },
          "metadata": {},
          "execution_count": 26
        }
      ]
    },
    {
      "cell_type": "markdown",
      "source": [
        "#Лематизація\n",
        "Тепер, коли ви розібралися з частинами мови, можна повернутися до лематизації. Як і стеммінг, **лематизація** скорочує слова до їхнього основного значення, але в результаті ви отримаєте повне англійське слово, яке має сенс саме по собі, а не просто фрагмент слова, як-от \"repidli\".\n",
        "\n",
        "*Примітка: **лема** - це слово, яке представляє цілу групу слів, а ця група слів називається **лексемою**.*\n",
        "\n",
        "*Наприклад, якщо ви шукаєте слово \"ходьба\" у словнику, то вам потрібно подивитися на статтю \"ходити\", в якій ви побачите слово \"ходьба\", перераховане як лема.*\n",
        "\n",
        "У цьому прикладі \"ходити\" - це лема, а \"ходьба\" - частина лексеми. Отже, коли ви лематизуєте слово, ви зводите його до його леми.\n",
        "\n",
        "Ось як імпортувати відповідні частини з NLTK, щоб почати лематизацію:\n"
      ],
      "metadata": {
        "id": "AYjkZNPpvTcH"
      }
    },
    {
      "cell_type": "code",
      "source": [
        "from nltk.stem import WordNetLemmatizer\n",
        "nltk.download('wordnet')\n",
        "\n",
        "lemmatizer = WordNetLemmatizer()"
      ],
      "metadata": {
        "colab": {
          "base_uri": "https://localhost:8080/"
        },
        "id": "_SyhJAiEtrW8",
        "outputId": "263ee263-26fc-4c42-fbd1-63f36edcb714"
      },
      "execution_count": null,
      "outputs": [
        {
          "output_type": "stream",
          "name": "stderr",
          "text": [
            "[nltk_data] Downloading package wordnet to /root/nltk_data...\n",
            "[nltk_data]   Package wordnet is already up-to-date!\n"
          ]
        }
      ]
    },
    {
      "cell_type": "code",
      "source": [
        "filtered_words"
      ],
      "metadata": {
        "id": "mVKCcYF1lrDJ",
        "outputId": "4769bb3c-3268-41af-c9e3-4d0223d29021",
        "colab": {
          "base_uri": "https://localhost:8080/"
        }
      },
      "execution_count": null,
      "outputs": [
        {
          "output_type": "execute_result",
          "data": {
            "text/plain": [
              "[\"Muad'Dib\", 'learned', 'rapidly', 'first', 'training', 'learn']"
            ]
          },
          "metadata": {},
          "execution_count": 29
        }
      ]
    },
    {
      "cell_type": "code",
      "source": [
        "[lemmatizer.lemmatize(word, pos='v') for word in filtered_words]"
      ],
      "metadata": {
        "colab": {
          "base_uri": "https://localhost:8080/"
        },
        "id": "8CI7e-zDyvOa",
        "outputId": "0ea22797-5f24-46b2-92b8-33ea27467a7e"
      },
      "execution_count": null,
      "outputs": [
        {
          "output_type": "execute_result",
          "data": {
            "text/plain": [
              "[\"Muad'Dib\", 'learn', 'rapidly', 'first', 'train', 'learn']"
            ]
          },
          "metadata": {},
          "execution_count": 34
        }
      ]
    },
    {
      "cell_type": "code",
      "source": [
        "lemmatizer.lemmatize('better', pos='a')"
      ],
      "metadata": {
        "id": "EzWWA6yWluNY",
        "outputId": "95f5dc23-7174-456d-d7e1-66c702d54153",
        "colab": {
          "base_uri": "https://localhost:8080/",
          "height": 36
        }
      },
      "execution_count": null,
      "outputs": [
        {
          "output_type": "execute_result",
          "data": {
            "text/plain": [
              "'good'"
            ],
            "application/vnd.google.colaboratory.intrinsic+json": {
              "type": "string"
            }
          },
          "metadata": {},
          "execution_count": 32
        }
      ]
    },
    {
      "cell_type": "code",
      "source": [
        "stemmer.stem('better')"
      ],
      "metadata": {
        "id": "fL3RrucGmGt6",
        "outputId": "3b09190f-61b9-4c27-86d2-98d35fb95869",
        "colab": {
          "base_uri": "https://localhost:8080/",
          "height": 36
        }
      },
      "execution_count": null,
      "outputs": [
        {
          "output_type": "execute_result",
          "data": {
            "text/plain": [
              "'better'"
            ],
            "application/vnd.google.colaboratory.intrinsic+json": {
              "type": "string"
            }
          },
          "metadata": {},
          "execution_count": 36
        }
      ]
    },
    {
      "cell_type": "markdown",
      "source": [
        "## Стеммінг чи лематизація:\n",
        "\n",
        "* **Стеммінг:** Може бути швидшим і достатнім для простих завдань, де точні форми слів не є критичними.\n",
        "* **Лематизація:** Перевага надається, коли важливо зберегти граматичне значення і переконатися, що слова відповідають словниковим статтям."
      ],
      "metadata": {
        "id": "1LVeRp3Az1Fg"
      }
    },
    {
      "cell_type": "markdown",
      "source": [
        "# Виділення частин мови\n",
        "**Parts of speech** (POS) - це фундаментальне завдання в NLP, яке передбачає присвоєння граматичних міток (іменників, дієслів, прикметників тощо) кожному слову в реченні. NLTK пропонує інструменти для виконання POS-тегування та отримання цінної інформації про структуру та значення тексту."
      ],
      "metadata": {
        "id": "vKUpCH4GUfKB"
      }
    },
    {
      "cell_type": "code",
      "source": [
        "nltk.download('averaged_perceptron_tagger')"
      ],
      "metadata": {
        "colab": {
          "base_uri": "https://localhost:8080/"
        },
        "id": "y1zIsNKpVDZv",
        "outputId": "871fd687-f084-44e7-c68d-35d81d85c1aa"
      },
      "execution_count": null,
      "outputs": [
        {
          "output_type": "stream",
          "name": "stderr",
          "text": [
            "[nltk_data] Downloading package averaged_perceptron_tagger to\n",
            "[nltk_data]     /root/nltk_data...\n",
            "[nltk_data]   Package averaged_perceptron_tagger is already up-to-\n",
            "[nltk_data]       date!\n"
          ]
        },
        {
          "output_type": "execute_result",
          "data": {
            "text/plain": [
              "True"
            ]
          },
          "metadata": {},
          "execution_count": 37
        }
      ]
    },
    {
      "cell_type": "code",
      "source": [
        "words"
      ],
      "metadata": {
        "id": "C6ixaB1fy1LQ",
        "colab": {
          "base_uri": "https://localhost:8080/"
        },
        "outputId": "acb2b0d8-acd8-4bc3-be93-2a7e8fc70a55"
      },
      "execution_count": null,
      "outputs": [
        {
          "output_type": "execute_result",
          "data": {
            "text/plain": [
              "[\"Muad'Dib\",\n",
              " 'learned',\n",
              " 'rapidly',\n",
              " 'because',\n",
              " 'his',\n",
              " 'first',\n",
              " 'training',\n",
              " 'was',\n",
              " 'in',\n",
              " 'how',\n",
              " 'to',\n",
              " 'learn']"
            ]
          },
          "metadata": {},
          "execution_count": 38
        }
      ]
    },
    {
      "cell_type": "code",
      "source": [
        "tags = nltk.pos_tag(words)\n",
        "tags"
      ],
      "metadata": {
        "colab": {
          "base_uri": "https://localhost:8080/"
        },
        "id": "9MJZdmRJU8D1",
        "outputId": "1ab78339-37b0-40d2-b4f4-1109bdb79c92"
      },
      "execution_count": null,
      "outputs": [
        {
          "output_type": "execute_result",
          "data": {
            "text/plain": [
              "[(\"Muad'Dib\", 'NNP'),\n",
              " ('learned', 'VBD'),\n",
              " ('rapidly', 'RB'),\n",
              " ('because', 'IN'),\n",
              " ('his', 'PRP$'),\n",
              " ('first', 'JJ'),\n",
              " ('training', 'NN'),\n",
              " ('was', 'VBD'),\n",
              " ('in', 'IN'),\n",
              " ('how', 'WRB'),\n",
              " ('to', 'TO'),\n",
              " ('learn', 'VB')]"
            ]
          },
          "metadata": {},
          "execution_count": 39
        }
      ]
    },
    {
      "cell_type": "markdown",
      "source": [
        "Інформація про всі теги"
      ],
      "metadata": {
        "id": "K-MYxaQyVh3r"
      }
    },
    {
      "cell_type": "code",
      "source": [
        "nltk.download('tagsets')\n",
        "nltk.help.upenn_tagset()"
      ],
      "metadata": {
        "colab": {
          "base_uri": "https://localhost:8080/"
        },
        "id": "c1eI50eGVAZM",
        "outputId": "c1355ef6-2692-4ee5-8df9-411523a26289"
      },
      "execution_count": null,
      "outputs": [
        {
          "output_type": "stream",
          "name": "stdout",
          "text": [
            "$: dollar\n",
            "    $ -$ --$ A$ C$ HK$ M$ NZ$ S$ U.S.$ US$\n",
            "'': closing quotation mark\n",
            "    ' ''\n",
            "(: opening parenthesis\n",
            "    ( [ {\n",
            "): closing parenthesis\n",
            "    ) ] }\n",
            ",: comma\n",
            "    ,\n",
            "--: dash\n",
            "    --\n",
            ".: sentence terminator\n",
            "    . ! ?\n",
            ":: colon or ellipsis\n",
            "    : ; ...\n",
            "CC: conjunction, coordinating\n",
            "    & 'n and both but either et for less minus neither nor or plus so\n",
            "    therefore times v. versus vs. whether yet\n",
            "CD: numeral, cardinal\n",
            "    mid-1890 nine-thirty forty-two one-tenth ten million 0.5 one forty-\n",
            "    seven 1987 twenty '79 zero two 78-degrees eighty-four IX '60s .025\n",
            "    fifteen 271,124 dozen quintillion DM2,000 ...\n",
            "DT: determiner\n",
            "    all an another any both del each either every half la many much nary\n",
            "    neither no some such that the them these this those\n",
            "EX: existential there\n",
            "    there\n",
            "FW: foreign word\n",
            "    gemeinschaft hund ich jeux habeas Haementeria Herr K'ang-si vous\n",
            "    lutihaw alai je jour objets salutaris fille quibusdam pas trop Monte\n",
            "    terram fiche oui corporis ...\n",
            "IN: preposition or conjunction, subordinating\n",
            "    astride among uppon whether out inside pro despite on by throughout\n",
            "    below within for towards near behind atop around if like until below\n",
            "    next into if beside ...\n",
            "JJ: adjective or numeral, ordinal\n",
            "    third ill-mannered pre-war regrettable oiled calamitous first separable\n",
            "    ectoplasmic battery-powered participatory fourth still-to-be-named\n",
            "    multilingual multi-disciplinary ...\n",
            "JJR: adjective, comparative\n",
            "    bleaker braver breezier briefer brighter brisker broader bumper busier\n",
            "    calmer cheaper choosier cleaner clearer closer colder commoner costlier\n",
            "    cozier creamier crunchier cuter ...\n",
            "JJS: adjective, superlative\n",
            "    calmest cheapest choicest classiest cleanest clearest closest commonest\n",
            "    corniest costliest crassest creepiest crudest cutest darkest deadliest\n",
            "    dearest deepest densest dinkiest ...\n",
            "LS: list item marker\n",
            "    A A. B B. C C. D E F First G H I J K One SP-44001 SP-44002 SP-44005\n",
            "    SP-44007 Second Third Three Two * a b c d first five four one six three\n",
            "    two\n",
            "MD: modal auxiliary\n",
            "    can cannot could couldn't dare may might must need ought shall should\n",
            "    shouldn't will would\n",
            "NN: noun, common, singular or mass\n",
            "    common-carrier cabbage knuckle-duster Casino afghan shed thermostat\n",
            "    investment slide humour falloff slick wind hyena override subhumanity\n",
            "    machinist ...\n",
            "NNP: noun, proper, singular\n",
            "    Motown Venneboerger Czestochwa Ranzer Conchita Trumplane Christos\n",
            "    Oceanside Escobar Kreisler Sawyer Cougar Yvette Ervin ODI Darryl CTCA\n",
            "    Shannon A.K.C. Meltex Liverpool ...\n",
            "NNPS: noun, proper, plural\n",
            "    Americans Americas Amharas Amityvilles Amusements Anarcho-Syndicalists\n",
            "    Andalusians Andes Andruses Angels Animals Anthony Antilles Antiques\n",
            "    Apache Apaches Apocrypha ...\n",
            "NNS: noun, common, plural\n",
            "    undergraduates scotches bric-a-brac products bodyguards facets coasts\n",
            "    divestitures storehouses designs clubs fragrances averages\n",
            "    subjectivists apprehensions muses factory-jobs ...\n",
            "PDT: pre-determiner\n",
            "    all both half many quite such sure this\n",
            "POS: genitive marker\n",
            "    ' 's\n",
            "PRP: pronoun, personal\n",
            "    hers herself him himself hisself it itself me myself one oneself ours\n",
            "    ourselves ownself self she thee theirs them themselves they thou thy us\n",
            "PRP$: pronoun, possessive\n",
            "    her his mine my our ours their thy your\n",
            "RB: adverb\n",
            "    occasionally unabatingly maddeningly adventurously professedly\n",
            "    stirringly prominently technologically magisterially predominately\n",
            "    swiftly fiscally pitilessly ...\n",
            "RBR: adverb, comparative\n",
            "    further gloomier grander graver greater grimmer harder harsher\n",
            "    healthier heavier higher however larger later leaner lengthier less-\n",
            "    perfectly lesser lonelier longer louder lower more ...\n",
            "RBS: adverb, superlative\n",
            "    best biggest bluntest earliest farthest first furthest hardest\n",
            "    heartiest highest largest least less most nearest second tightest worst\n",
            "RP: particle\n",
            "    aboard about across along apart around aside at away back before behind\n",
            "    by crop down ever fast for forth from go high i.e. in into just later\n",
            "    low more off on open out over per pie raising start teeth that through\n",
            "    under unto up up-pp upon whole with you\n",
            "SYM: symbol\n",
            "    % & ' '' ''. ) ). * + ,. < = > @ A[fj] U.S U.S.S.R * ** ***\n",
            "TO: \"to\" as preposition or infinitive marker\n",
            "    to\n",
            "UH: interjection\n",
            "    Goodbye Goody Gosh Wow Jeepers Jee-sus Hubba Hey Kee-reist Oops amen\n",
            "    huh howdy uh dammit whammo shucks heck anyways whodunnit honey golly\n",
            "    man baby diddle hush sonuvabitch ...\n",
            "VB: verb, base form\n",
            "    ask assemble assess assign assume atone attention avoid bake balkanize\n",
            "    bank begin behold believe bend benefit bevel beware bless boil bomb\n",
            "    boost brace break bring broil brush build ...\n",
            "VBD: verb, past tense\n",
            "    dipped pleaded swiped regummed soaked tidied convened halted registered\n",
            "    cushioned exacted snubbed strode aimed adopted belied figgered\n",
            "    speculated wore appreciated contemplated ...\n",
            "VBG: verb, present participle or gerund\n",
            "    telegraphing stirring focusing angering judging stalling lactating\n",
            "    hankerin' alleging veering capping approaching traveling besieging\n",
            "    encrypting interrupting erasing wincing ...\n",
            "VBN: verb, past participle\n",
            "    multihulled dilapidated aerosolized chaired languished panelized used\n",
            "    experimented flourished imitated reunifed factored condensed sheared\n",
            "    unsettled primed dubbed desired ...\n",
            "VBP: verb, present tense, not 3rd person singular\n",
            "    predominate wrap resort sue twist spill cure lengthen brush terminate\n",
            "    appear tend stray glisten obtain comprise detest tease attract\n",
            "    emphasize mold postpone sever return wag ...\n",
            "VBZ: verb, present tense, 3rd person singular\n",
            "    bases reconstructs marks mixes displeases seals carps weaves snatches\n",
            "    slumps stretches authorizes smolders pictures emerges stockpiles\n",
            "    seduces fizzes uses bolsters slaps speaks pleads ...\n",
            "WDT: WH-determiner\n",
            "    that what whatever which whichever\n",
            "WP: WH-pronoun\n",
            "    that what whatever whatsoever which who whom whosoever\n",
            "WP$: WH-pronoun, possessive\n",
            "    whose\n",
            "WRB: Wh-adverb\n",
            "    how however whence whenever where whereby whereever wherein whereof why\n",
            "``: opening quotation mark\n",
            "    ` ``\n"
          ]
        },
        {
          "output_type": "stream",
          "name": "stderr",
          "text": [
            "[nltk_data] Downloading package tagsets to /root/nltk_data...\n",
            "[nltk_data]   Package tagsets is already up-to-date!\n"
          ]
        }
      ]
    },
    {
      "cell_type": "markdown",
      "source": [
        "## Розбиття на частини\n",
        "Якщо **токенізація** дозволяє ідентифікувати слова і речення, то **розбиття** дозволяє ідентифікувати **фрази.**\n",
        "\n",
        "*Примітка: **фраза** - це слово або група слів, які працюють як єдине ціле для виконання граматичної функції. Іменникові словосполучення будуються навколо іменника*.\n",
        "\n",
        "Ось кілька прикладів:\n",
        "\n",
        "* \"течія\"\n",
        "* \"швидка течія\"\n",
        "* \"надзвичайно швидка течія\"\n",
        "\n",
        "**Chunking** використовує POS-теги для групування слів і застосування тегів чанків до цих груп. Фрагменти не перетинаються, тому один екземпляр слова може бути лише в одному фрагменті одночасно.\n"
      ],
      "metadata": {
        "id": "LfHcl1haV7nA"
      }
    },
    {
      "cell_type": "code",
      "source": [
        "!pip install -q svgling"
      ],
      "metadata": {
        "colab": {
          "base_uri": "https://localhost:8080/"
        },
        "id": "VDA-S3DCYozp",
        "outputId": "ac649da3-d5b8-4778-be4f-542ea09501f6"
      },
      "execution_count": null,
      "outputs": [
        {
          "output_type": "stream",
          "name": "stdout",
          "text": [
            "\u001b[?25l     \u001b[90m━━━━━━━━━━━━━━━━━━━━━━━━━━━━━━━━━━━━━━━━\u001b[0m \u001b[32m0.0/67.1 kB\u001b[0m \u001b[31m?\u001b[0m eta \u001b[36m-:--:--\u001b[0m\r\u001b[2K     \u001b[90m━━━━━━━━━━━━━━━━━━━━━━━━━━━━━━━━━━━━━━━━\u001b[0m \u001b[32m67.1/67.1 kB\u001b[0m \u001b[31m2.5 MB/s\u001b[0m eta \u001b[36m0:00:00\u001b[0m\n",
            "\u001b[?25h"
          ]
        }
      ]
    },
    {
      "cell_type": "code",
      "source": [
        "grammar = \"NV: {<N.*><V.*>}\""
      ],
      "metadata": {
        "id": "8FsqRQFkVKFK"
      },
      "execution_count": null,
      "outputs": []
    },
    {
      "cell_type": "markdown",
      "source": [
        "## Шпаргалка по регулярним виразам\n",
        "\n",
        "| Символ | Опис | Приклад відповідності | Приклад невідповідності |\n",
        "|---|---|---|---|\n",
        "| `\\w` | Відповідає будь-якому символу слова (буквено-цифровому та підкресленню) | \"текст\" | \"!\" |\n",
        "| `\\d` | Відповідає будь-якій цифрі (0-9) | \"123\" | \"abc\" |\n",
        "| `\\s` | Відповідає будь-якому символу пропуску (пробіл, табуляція, новий рядок) | «Це текст» | \"текст\" |\n",
        "| `.` | Відповідає будь-якому символу (окрім нового рядка за умовчанням) | \"h.llo\" | \"\\n\" |\n",
        "| `^` | Відповідає початку рядка | \"Привіт\" | \"worldHello\" |\n",
        "| `$` | Збігається з кінцем рядка | \"світ\" | \"Привіт Світ!\" |\n",
        "| `[]` | Клас символу: відповідає будь-якому символу в дужках | \"[abc]\" (відповідає a, b або c) | \"д\" |\n",
        "| `[^]` | Клас заперечених символів: відповідає будь-якому символу **не** в дужках | \"[^abc]\" (відповідає будь-якому символу, крім a, b або c) | \"а\" |\n",
        "| `*` | Збігається з попереднім елементом нуль або більше разів | \"ab*c\" (відповідає \"ac\", \"abc\", \"abbc\" тощо) | \"д\" |\n",
        "| `+` | Збігається з попереднім елементом один або кілька разів | \"ab+c\" (відповідає \"abc\", \"abbc\", \"abbbc\" тощо) | \"ac\" |\n",
        "| `?` | Збігається з попереднім елементом нуль або один раз | \"ab?c\" (відповідає \"ac\" або \"abc\") | \"abbc\" |\n",
        "| `|` | Оператор АБО: відповідає одному з варіантів, розділених вертикальною рискою | \"кішка|собака\" (відповідає \"кіт\" або \"собака\") | «птах» |\n",
        "| `\\(` | Група захоплення: запускає групу захоплення | \"([a-z]+)@([a-z]+)\\.com\" (записує ім’я користувача та доменне ім’я) | \"user@domain\" |\n",
        "| `\\)` | Група захоплення: завершує групу захоплення | (див. попередній приклад) | Н/З |\n",
        "| `\\1` | Зворотне посилання: Посилається на вміст, зафіксований у першій групі захоплення | \"(\\d{3})-(\\d{3})-(\\d{4})\" (захоплює частини номера телефону) - \\1-\\2-\\3 | \"123-456\" |"
      ],
      "metadata": {
        "id": "p6EzW8el3SwG"
      }
    },
    {
      "cell_type": "code",
      "source": [
        "tags"
      ],
      "metadata": {
        "id": "-hRUAgTZp0PV",
        "outputId": "ffbd2b07-1361-4131-e777-2d538dc10bf4",
        "colab": {
          "base_uri": "https://localhost:8080/"
        }
      },
      "execution_count": null,
      "outputs": [
        {
          "output_type": "execute_result",
          "data": {
            "text/plain": [
              "[(\"Muad'Dib\", 'NNP'),\n",
              " ('learned', 'VBD'),\n",
              " ('rapidly', 'RB'),\n",
              " ('because', 'IN'),\n",
              " ('his', 'PRP$'),\n",
              " ('first', 'JJ'),\n",
              " ('training', 'NN'),\n",
              " ('was', 'VBD'),\n",
              " ('in', 'IN'),\n",
              " ('how', 'WRB'),\n",
              " ('to', 'TO'),\n",
              " ('learn', 'VB')]"
            ]
          },
          "metadata": {},
          "execution_count": 68
        }
      ]
    },
    {
      "cell_type": "code",
      "source": [
        "chunk_parser = nltk.RegexpParser(grammar)\n",
        "\n",
        "tree = chunk_parser.parse(tags)"
      ],
      "metadata": {
        "id": "qTUcl2mPW41u"
      },
      "execution_count": null,
      "outputs": []
    },
    {
      "cell_type": "code",
      "source": [
        "tree"
      ],
      "metadata": {
        "colab": {
          "base_uri": "https://localhost:8080/",
          "height": 190
        },
        "id": "rMfZCFF7W_Id",
        "outputId": "b1dba52b-600b-4149-b592-d00182bed67e"
      },
      "execution_count": null,
      "outputs": [
        {
          "output_type": "execute_result",
          "data": {
            "text/plain": [
              "Tree('S', [Tree('NV', [(\"Muad'Dib\", 'NNP'), ('learned', 'VBD')]), ('rapidly', 'RB'), ('because', 'IN'), ('his', 'PRP$'), ('first', 'JJ'), Tree('NV', [('training', 'NN'), ('was', 'VBD')]), ('in', 'IN'), ('how', 'WRB'), ('to', 'TO'), ('learn', 'VB')])"
            ],
            "image/svg+xml": "<svg baseProfile=\"full\" height=\"168px\" preserveAspectRatio=\"xMidYMid meet\" style=\"font-family: times, serif; font-weight: normal; font-style: normal; font-size: 16px;\" version=\"1.1\" viewBox=\"0,0,680.0,168.0\" width=\"680px\" xmlns=\"http://www.w3.org/2000/svg\" xmlns:ev=\"http://www.w3.org/2001/xml-events\" xmlns:xlink=\"http://www.w3.org/1999/xlink\"><defs /><svg width=\"100%\" x=\"0\" y=\"0px\"><defs /><text text-anchor=\"middle\" x=\"50%\" y=\"16px\">S</text></svg><svg width=\"22.3529%\" x=\"0%\" y=\"48px\"><defs /><svg width=\"100%\" x=\"0\" y=\"0px\"><defs /><text text-anchor=\"middle\" x=\"50%\" y=\"16px\">NV</text></svg><svg width=\"52.6316%\" x=\"0%\" y=\"48px\"><defs /><svg width=\"100%\" x=\"0\" y=\"0px\"><defs /><text text-anchor=\"middle\" x=\"50%\" y=\"16px\">Muad'Dib</text></svg><svg width=\"100%\" x=\"0%\" y=\"48px\"><defs /><svg width=\"100%\" x=\"0\" y=\"0px\"><defs /><text text-anchor=\"middle\" x=\"50%\" y=\"16px\">NNP</text></svg></svg><line stroke=\"black\" x1=\"50%\" x2=\"50%\" y1=\"19.2px\" y2=\"48px\" /></svg><line stroke=\"black\" x1=\"50%\" x2=\"26.3158%\" y1=\"19.2px\" y2=\"48px\" /><svg width=\"47.3684%\" x=\"52.6316%\" y=\"48px\"><defs /><svg width=\"100%\" x=\"0\" y=\"0px\"><defs /><text text-anchor=\"middle\" x=\"50%\" y=\"16px\">learned</text></svg><svg width=\"100%\" x=\"0%\" y=\"48px\"><defs /><svg width=\"100%\" x=\"0\" y=\"0px\"><defs /><text text-anchor=\"middle\" x=\"50%\" y=\"16px\">VBD</text></svg></svg><line stroke=\"black\" x1=\"50%\" x2=\"50%\" y1=\"19.2px\" y2=\"48px\" /></svg><line stroke=\"black\" x1=\"50%\" x2=\"76.3158%\" y1=\"19.2px\" y2=\"48px\" /></svg><line stroke=\"black\" x1=\"50%\" x2=\"11.1765%\" y1=\"19.2px\" y2=\"48px\" /><svg width=\"10.5882%\" x=\"22.3529%\" y=\"48px\"><defs /><svg width=\"100%\" x=\"0\" y=\"0px\"><defs /><text text-anchor=\"middle\" x=\"50%\" y=\"16px\">rapidly</text></svg><svg width=\"100%\" x=\"0%\" y=\"48px\"><defs /><svg width=\"100%\" x=\"0\" y=\"0px\"><defs /><text text-anchor=\"middle\" x=\"50%\" y=\"16px\">RB</text></svg></svg><line stroke=\"black\" x1=\"50%\" x2=\"50%\" y1=\"19.2px\" y2=\"48px\" /></svg><line stroke=\"black\" x1=\"50%\" x2=\"27.6471%\" y1=\"19.2px\" y2=\"48px\" /><svg width=\"10.5882%\" x=\"32.9412%\" y=\"48px\"><defs /><svg width=\"100%\" x=\"0\" y=\"0px\"><defs /><text text-anchor=\"middle\" x=\"50%\" y=\"16px\">because</text></svg><svg width=\"100%\" x=\"0%\" y=\"48px\"><defs /><svg width=\"100%\" x=\"0\" y=\"0px\"><defs /><text text-anchor=\"middle\" x=\"50%\" y=\"16px\">IN</text></svg></svg><line stroke=\"black\" x1=\"50%\" x2=\"50%\" y1=\"19.2px\" y2=\"48px\" /></svg><line stroke=\"black\" x1=\"50%\" x2=\"38.2353%\" y1=\"19.2px\" y2=\"48px\" /><svg width=\"7.05882%\" x=\"43.5294%\" y=\"48px\"><defs /><svg width=\"100%\" x=\"0\" y=\"0px\"><defs /><text text-anchor=\"middle\" x=\"50%\" y=\"16px\">his</text></svg><svg width=\"100%\" x=\"0%\" y=\"48px\"><defs /><svg width=\"100%\" x=\"0\" y=\"0px\"><defs /><text text-anchor=\"middle\" x=\"50%\" y=\"16px\">PRP$</text></svg></svg><line stroke=\"black\" x1=\"50%\" x2=\"50%\" y1=\"19.2px\" y2=\"48px\" /></svg><line stroke=\"black\" x1=\"50%\" x2=\"47.0588%\" y1=\"19.2px\" y2=\"48px\" /><svg width=\"8.23529%\" x=\"50.5882%\" y=\"48px\"><defs /><svg width=\"100%\" x=\"0\" y=\"0px\"><defs /><text text-anchor=\"middle\" x=\"50%\" y=\"16px\">first</text></svg><svg width=\"100%\" x=\"0%\" y=\"48px\"><defs /><svg width=\"100%\" x=\"0\" y=\"0px\"><defs /><text text-anchor=\"middle\" x=\"50%\" y=\"16px\">JJ</text></svg></svg><line stroke=\"black\" x1=\"50%\" x2=\"50%\" y1=\"19.2px\" y2=\"48px\" /></svg><line stroke=\"black\" x1=\"50%\" x2=\"54.7059%\" y1=\"19.2px\" y2=\"48px\" /><svg width=\"17.6471%\" x=\"58.8235%\" y=\"48px\"><defs /><svg width=\"100%\" x=\"0\" y=\"0px\"><defs /><text text-anchor=\"middle\" x=\"50%\" y=\"16px\">NV</text></svg><svg width=\"66.6667%\" x=\"0%\" y=\"48px\"><defs /><svg width=\"100%\" x=\"0\" y=\"0px\"><defs /><text text-anchor=\"middle\" x=\"50%\" y=\"16px\">training</text></svg><svg width=\"100%\" x=\"0%\" y=\"48px\"><defs /><svg width=\"100%\" x=\"0\" y=\"0px\"><defs /><text text-anchor=\"middle\" x=\"50%\" y=\"16px\">NN</text></svg></svg><line stroke=\"black\" x1=\"50%\" x2=\"50%\" y1=\"19.2px\" y2=\"48px\" /></svg><line stroke=\"black\" x1=\"50%\" x2=\"33.3333%\" y1=\"19.2px\" y2=\"48px\" /><svg width=\"33.3333%\" x=\"66.6667%\" y=\"48px\"><defs /><svg width=\"100%\" x=\"0\" y=\"0px\"><defs /><text text-anchor=\"middle\" x=\"50%\" y=\"16px\">was</text></svg><svg width=\"100%\" x=\"0%\" y=\"48px\"><defs /><svg width=\"100%\" x=\"0\" y=\"0px\"><defs /><text text-anchor=\"middle\" x=\"50%\" y=\"16px\">VBD</text></svg></svg><line stroke=\"black\" x1=\"50%\" x2=\"50%\" y1=\"19.2px\" y2=\"48px\" /></svg><line stroke=\"black\" x1=\"50%\" x2=\"83.3333%\" y1=\"19.2px\" y2=\"48px\" /></svg><line stroke=\"black\" x1=\"50%\" x2=\"67.6471%\" y1=\"19.2px\" y2=\"48px\" /><svg width=\"4.70588%\" x=\"76.4706%\" y=\"48px\"><defs /><svg width=\"100%\" x=\"0\" y=\"0px\"><defs /><text text-anchor=\"middle\" x=\"50%\" y=\"16px\">in</text></svg><svg width=\"100%\" x=\"0%\" y=\"48px\"><defs /><svg width=\"100%\" x=\"0\" y=\"0px\"><defs /><text text-anchor=\"middle\" x=\"50%\" y=\"16px\">IN</text></svg></svg><line stroke=\"black\" x1=\"50%\" x2=\"50%\" y1=\"19.2px\" y2=\"48px\" /></svg><line stroke=\"black\" x1=\"50%\" x2=\"78.8235%\" y1=\"19.2px\" y2=\"48px\" /><svg width=\"5.88235%\" x=\"81.1765%\" y=\"48px\"><defs /><svg width=\"100%\" x=\"0\" y=\"0px\"><defs /><text text-anchor=\"middle\" x=\"50%\" y=\"16px\">how</text></svg><svg width=\"100%\" x=\"0%\" y=\"48px\"><defs /><svg width=\"100%\" x=\"0\" y=\"0px\"><defs /><text text-anchor=\"middle\" x=\"50%\" y=\"16px\">WRB</text></svg></svg><line stroke=\"black\" x1=\"50%\" x2=\"50%\" y1=\"19.2px\" y2=\"48px\" /></svg><line stroke=\"black\" x1=\"50%\" x2=\"84.1176%\" y1=\"19.2px\" y2=\"48px\" /><svg width=\"4.70588%\" x=\"87.0588%\" y=\"48px\"><defs /><svg width=\"100%\" x=\"0\" y=\"0px\"><defs /><text text-anchor=\"middle\" x=\"50%\" y=\"16px\">to</text></svg><svg width=\"100%\" x=\"0%\" y=\"48px\"><defs /><svg width=\"100%\" x=\"0\" y=\"0px\"><defs /><text text-anchor=\"middle\" x=\"50%\" y=\"16px\">TO</text></svg></svg><line stroke=\"black\" x1=\"50%\" x2=\"50%\" y1=\"19.2px\" y2=\"48px\" /></svg><line stroke=\"black\" x1=\"50%\" x2=\"89.4118%\" y1=\"19.2px\" y2=\"48px\" /><svg width=\"8.23529%\" x=\"91.7647%\" y=\"48px\"><defs /><svg width=\"100%\" x=\"0\" y=\"0px\"><defs /><text text-anchor=\"middle\" x=\"50%\" y=\"16px\">learn</text></svg><svg width=\"100%\" x=\"0%\" y=\"48px\"><defs /><svg width=\"100%\" x=\"0\" y=\"0px\"><defs /><text text-anchor=\"middle\" x=\"50%\" y=\"16px\">VB</text></svg></svg><line stroke=\"black\" x1=\"50%\" x2=\"50%\" y1=\"19.2px\" y2=\"48px\" /></svg><line stroke=\"black\" x1=\"50%\" x2=\"95.8824%\" y1=\"19.2px\" y2=\"48px\" /></svg>"
          },
          "metadata": {},
          "execution_count": 70
        }
      ]
    },
    {
      "cell_type": "code",
      "source": [
        "for item in tree:\n",
        "  print(type(item), item)"
      ],
      "metadata": {
        "colab": {
          "base_uri": "https://localhost:8080/"
        },
        "id": "fGOGMCNSXGbb",
        "outputId": "d8ea7783-f3b5-4b27-92a5-8b4e2d3f64ee"
      },
      "execution_count": null,
      "outputs": [
        {
          "output_type": "stream",
          "name": "stdout",
          "text": [
            "<class 'nltk.tree.tree.Tree'> (NV Muad'Dib/NNP learned/VBD)\n",
            "<class 'tuple'> ('rapidly', 'RB')\n",
            "<class 'tuple'> ('because', 'IN')\n",
            "<class 'tuple'> ('his', 'PRP$')\n",
            "<class 'tuple'> ('first', 'JJ')\n",
            "<class 'nltk.tree.tree.Tree'> (NV training/NN was/VBD)\n",
            "<class 'tuple'> ('in', 'IN')\n",
            "<class 'tuple'> ('how', 'WRB')\n",
            "<class 'tuple'> ('to', 'TO')\n",
            "<class 'tuple'> ('learn', 'VB')\n"
          ]
        }
      ]
    },
    {
      "cell_type": "code",
      "source": [
        "for subtree in tree.subtrees(lambda t: t.label()=='NV'):\n",
        "  subtree.pretty_print()"
      ],
      "metadata": {
        "colab": {
          "base_uri": "https://localhost:8080/"
        },
        "id": "91tgKqzbXl3H",
        "outputId": "58fbe86d-ac1c-4436-b55e-aab59a910ecd"
      },
      "execution_count": null,
      "outputs": [
        {
          "output_type": "stream",
          "name": "stdout",
          "text": [
            "              NV            \n",
            "      ________|_______       \n",
            "Muad'Dib/NNP     learned/VBD\n",
            "\n",
            "             NV        \n",
            "      _______|_____     \n",
            "training/NN     was/VBD\n",
            "\n"
          ]
        }
      ]
    },
    {
      "cell_type": "markdown",
      "source": [
        "# Розкриття значень слів Word2Vec\n",
        "\n",
        "[Візуалізація](https://projector.tensorflow.org/)\n",
        "\n",
        "Word2vec, скорочено від \"слово до вектора\", - це потужна техніка в обробці природної мови (NLP), яка вивчає змістовне представлення слів у вигляді векторів. Уявіть собі словник, де кожне слово визначається не лише своїм значенням, але й числовим вектором у багатовимірному просторі. Слова зі схожими значеннями матимуть схожі вектори, що дозволяє нам фіксувати семантичні зв'язки між словами.\n",
        "\n",
        "![](https://images.ctfassets.net/1wryd5vd9xez/3hga69w0xjje4zkJqyEuV2/6d764c23853d735d97158a8fb2f57ae2/https___cdn-images-1.medium.com_max_3696_1_4B4zxpEVSkxGq3FzIbTL4g.png)\n",
        "\n",
        "**Ключові поняття у Word2Vec:**\n",
        "\n",
        "* **Безперервний мішок слів (CBOW):** Цей підхід передбачає цільове слово на основі слів, що оточують його в контексті. Модель навчається, коригуючи вектори слів для підвищення точності прогнозування.\n",
        "\n",
        "* **Скіп-грама:** Цей підхід передбачає навколишні контекстні слова на основі заданого цільового слова. Модель спрямована на пошук контекстних слів з векторами, близькими до вектора цільового слова.\n",
        "\n",
        "* **Векторний простір:** Word2Vec представляє слова як вектори у високорозмірному просторі. Слова зі схожими значеннями матимуть вектори близько один до одного у цьому просторі.\n",
        "\n",
        "* **Вимірність:** Кількість вимірів у векторному просторі визначає рівень деталізації представлення слів. Вища вимірність дозволяє відображати більш складні зв'язки, але також вимагає більше навчальних даних та обчислювальних ресурсів.\n",
        "\n",
        "**Процес навчання:**.\n",
        "\n",
        "1. **Попередня обробка тексту:** Корпус тексту очищується і попередньо обробляється. Це часто включає видалення стоп-слів, розділових знаків і перетворення тексту в нижній регістр.\n",
        "2. **Розсувне вікно:** Розсувне вікно ітераційно переміщується над текстом, захоплюючи цільове слово та навколишні слова контексту в межах певного розміру вікна.\n",
        "3. **Навчання моделі:** На основі обраного підходу (CBOW або Skip-грама) модель обробляє пари слів (цільове слово і слова контексту) і оновлює вектори слів для підвищення точності прогнозування.\n",
        "4. **Векторне представлення:** Після навчання кожне слово в словнику має вивчене векторне представлення у вибраній розмірності.\n",
        "\n",
        "**Переваги Word2Vec:**\n",
        "\n",
        "* **Семантичні зв'язки:** Word2Vec фіксує семантичні зв'язки між словами, що дозволяє виконувати такі завдання, як пошук синонімів, аналогій та схожості слів. (наприклад, \"король\" відноситься до \"королеви\", як \"чоловік\" до \"жінки\").\n",
        "* **Зменшення розмірності:** Вектори слів можна використовувати в різних завданнях НЛП. Їхню високу розмірність можна зменшити за допомогою таких методів, як аналіз головних компонент (PCA) для ефективної обробки.\n",
        "* **Неконтрольоване навчання:** Word2Vec - це метод неконтрольованого навчання, що означає, що йому не потрібні марковані дані для навчання. Це робить його застосовним до великих немаркованих текстових масивів.\n",
        "\n",
        "**Застосування Word2Vec:**.\n",
        "\n",
        "* **Машинний переклад:** Вбудовування слів Word2Vec можна використовувати як функції в моделях машинного перекладу для покращення якості перекладу.\n",
        "* **Класифікація тексту:** Вектори слів можна використовувати як вхідні ознаки для задач класифікації тексту, таких як аналіз настроїв або моделювання тем.\n",
        "* **Рекомендаційні системи:** Word2Vec може представляти вподобання користувачів та описи товарів у вигляді векторів, що дозволяє рекомендаційним системам пропонувати схожі товари на основі семантичних зв'язків.\n",
        "\n",
        "**Початок роботи з Word2Vec:**\n",
        "\n",
        "Реалізацію Word2Vec можна знайти у кількох бібліотеках, зокрема Gensim (Python) та Word2Vec (Google). Ознайомтеся з цими бібліотеками та підручниками, щоб поекспериментувати з Word2Vec на власних текстових даних.\n",
        "\n",
        "**Пам'ятайте:**\n",
        "\n",
        "* Word2Vec фіксує статистичні зв'язки між словами, а не ідеальні визначення.\n",
        "* Якість вбудовування слів залежить від корпусу навчальних даних та обраних параметрів.\n",
        "* Word2Vec є базовою технікою, а подальші вдосконалення, такі як GloVe, пропонують додаткові функціональні можливості.\n",
        "\n",
        "Зрозумівши Word2Vec, ви отримаєте цінну інформацію про те, як моделі НЛП фіксують значення слів і взаємозв'язки, прокладаючи шлях до вивчення більш просунутих додатків НЛП.\n"
      ],
      "metadata": {
        "id": "xM4BCJhGzNUF"
      }
    }
  ]
}