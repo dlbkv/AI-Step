{
  "nbformat": 4,
  "nbformat_minor": 0,
  "metadata": {
    "colab": {
      "provenance": [],
      "include_colab_link": true
    },
    "kernelspec": {
      "name": "python3",
      "display_name": "Python 3"
    },
    "language_info": {
      "name": "python"
    }
  },
  "cells": [
    {
      "cell_type": "markdown",
      "metadata": {
        "id": "view-in-github",
        "colab_type": "text"
      },
      "source": [
        "<a href=\"https://colab.research.google.com/github/dlbkv/AI-Step/blob/lectures/module7/Recommendation_system.ipynb\" target=\"_parent\"><img src=\"https://colab.research.google.com/assets/colab-badge.svg\" alt=\"Open In Colab\"/></a>"
      ]
    },
    {
      "cell_type": "markdown",
      "source": [
        "# Посібник для про рекомендаційні системи\n",
        "\n",
        "У сучасному світі системи рекомендацій поширені повсюдно, впливаючи на те, що ви дивитеся, слухаєте, купуєте і навіть читаєте. Цей посібник занурює вас у захопливий світ цих систем, надаючи вам основи того, як вони працюють.\n",
        "\n",
        "**Що таке система рекомендацій?**\n",
        "\n",
        "Уявіть, що ви зайшли до величезної бібліотеки. Система рекомендацій діє як доброзичливий бібліотекар, пропонуючи книги, які можуть вам сподобатися, ґрунтуючись на ваших читацьких звичках або вподобаннях інших людей, схожих на вас. По суті, ці системи передбачають, що може зацікавити користувачів, прагнучи персоналізувати їхній досвід і підвищити зацікавленість.\n",
        "\n",
        "<div>\n",
        "<img src=https://www.nvidia.com/content/dam/en-zz/Solutions/glossary/data-science/recommendation-system/img-1.png width=\"500\"/>\n",
        "</div>"
      ],
      "metadata": {
        "id": "0Zi38lzC4Fsl"
      }
    },
    {
      "cell_type": "markdown",
      "source": [
        "# Типи рекомендаційних систем\n",
        "\n",
        "Існує три основні категорії рекомендаційних систем, кожна з яких має власний підхід:\n",
        "\n",
        "1. **Фільтрація на основі вмісту:**.\n",
        "![](https://i0.wp.com/spotintelligence.com/wp-content/uploads/2023/11/content-based-recommendation-system-1024x576.webp?resize=1024%2C576&ssl=1)\n",
        "   - Фокусується на **характеристиках об'єктів** (наприклад, фільмів, продуктів, музики) і **минулій взаємодії користувача**.\n",
        "   - Якщо користувачеві сподобалися бойовики з Томом Крузом, система рекомендує схожі фільми (жанр бойовик, Том Круз) або фільми, які сподобалися іншим користувачам, яким сподобався цей вибір.\n",
        "   - **Плюси:** Добре працює для нових елементів або користувачів з обмеженою історією, простий у впровадженні.\n",
        "   - **Мінуси:** Обмежена можливість врахувати складні вподобання користувачів або виявити абсолютно нові інтереси.\n",
        "\n",
        "2. **Спільне фільтрування:**.\n",
        "\n",
        "<div>\n",
        "<img src=https://www.nvidia.com/content/dam/en-zz/Solutions/glossary/data-science/recommendation-system/img-2.png width=\"500\"/>\n",
        "</div>\n",
        "\n",
        "   - Використовує **зв'язки між користувачами** і **предметами**.\n",
        "   - Визначає користувачів зі схожими смаковими профілями на основі їхніх минулих взаємодій.\n",
        "   - Рекомендує елементи, які сподобалися користувачам зі схожими вподобаннями.\n",
        "   - Існує два основних підходи до спільної фільтрації:\n",
        "      * **На основі користувачів:** Знаходить схожих користувачів і рекомендує матеріали, які їм сподобалися.\n",
        "      * **На основі елементів:** Знаходить елементи, схожі на ті, що сподобалися користувачеві, і рекомендує їх.\n",
        "   - **Плюси:** Потужно знаходить нові предмети на основі схожості користувачів, ефективний для користувачів з різними інтересами.\n",
        "   - **Мінуси:** Покладається на достатню кількість даних користувача для точних рекомендацій, має проблеми з новими користувачами або товарами (проблема холодного старту).\n",
        "\n",
        "3. **Гібридні підходи:**\n",
        "   - Поєднують методи фільтрації на основі контенту та спільної роботи.\n",
        "   - Використовуйте як характеристики товарів, так і схожість користувачів для більш надійної системи рекомендацій."
      ],
      "metadata": {
        "id": "3KDSf3RG4Xyh"
      }
    },
    {
      "cell_type": "markdown",
      "source": [
        "## Пояснення спільної фільтрації\n",
        "\n",
        "Давайте заглибимося у спільну фільтрацію:\n",
        "\n",
        "* **Фільтрування на основі користувачів:**\n",
        "   1. **Визначення схожих користувачів:** Система аналізує взаємодію користувачів (рейтинги, покупки тощо), щоб знайти користувачів зі схожими смаками з цільовим користувачем.\n",
        "   2. **Використовувати схожість:** На основі виявлених схожих користувачів система рекомендує товари, які сподобалися цим користувачам, але з якими цільовий користувач ще не взаємодіяв.\n",
        "   - Приклад: Якщо ви і Користувач Б високо оцінили комедії, а Користувач Б також вподобав певний науково-фантастичний фільм, система може порекомендувати вам цей фільм.\n",
        "\n",
        "* **Фільтрація на основі елементів:**\n",
        "   1. **Визначення схожих елементів:** Система аналізує характеристики елементів і взаємодії користувачів, щоб знайти елементи, схожі на ті, що сподобалися користувачеві.\n",
        "   2. **Рекомендувати схожі товари:** На основі знайдених схожих товарів система рекомендує їх користувачеві.\n",
        "   - Приклад: Якщо ви високо оцінили певний бойовик, система може порекомендувати інші бойовики зі схожими акторами, режисерами або темами.\n",
        "\n",
        "![](https://miro.medium.com/v2/resize:fit:1400/1*3ALliiz9hG79_2xopzgyrQ.png)"
      ],
      "metadata": {
        "id": "Ji4gJp1E4mmi"
      }
    },
    {
      "cell_type": "markdown",
      "source": [
        "## Вибір правильного підходу\n",
        "\n",
        "Найкращий підхід залежить від конкретного випадку використання та наявних даних. Ось загальні рекомендації:\n",
        "\n",
        "* **Фільтрування на основі користувачів:** Подумайте про це, якщо у вас велика база користувачів і ви хочете рекомендувати елементи на основі схожості користувачів (наприклад, платформи соціальних мереж).\n",
        "* **Фільтрація на основі товарів:** Це може бути доречним, якщо у вас великий каталог товарів і ви хочете рекомендувати схожі товари, які можуть сподобатися користувачам (наприклад, платформи електронної комерції).\n",
        "* **Гібридний підхід:** Це може бути ефективним, коли ви хочете використовувати інформацію про користувачів і товари для більш повних рекомендацій."
      ],
      "metadata": {
        "id": "KiGvhWKO3-JF"
      }
    },
    {
      "cell_type": "markdown",
      "source": [
        "# Імпорт даних"
      ],
      "metadata": {
        "id": "8HQJP0Kz4unq"
      }
    },
    {
      "cell_type": "code",
      "execution_count": null,
      "metadata": {
        "colab": {
          "base_uri": "https://localhost:8080/",
          "height": 206
        },
        "id": "As1_qozgq0IL",
        "outputId": "19fc324c-00bc-45ff-fc8e-1b698a17ba73"
      },
      "outputs": [
        {
          "output_type": "execute_result",
          "data": {
            "text/plain": [
              "   User ID  Product ID Product Name   Brand         Category  Price    Rating  \\\n",
              "0       19           1        Dress  Adidas    Men's Fashion     40  1.043159   \n",
              "1       97           2        Shoes     H&M  Women's Fashion     82  4.026416   \n",
              "2       25           3        Dress  Adidas  Women's Fashion     44  3.337938   \n",
              "3       57           4        Shoes    Zara    Men's Fashion     23  1.049523   \n",
              "4       79           5      T-shirt  Adidas    Men's Fashion     79  4.302773   \n",
              "\n",
              "    Color Size  \n",
              "0   Black   XL  \n",
              "1   Black    L  \n",
              "2  Yellow   XL  \n",
              "3   White    S  \n",
              "4   Black    M  "
            ],
            "text/html": [
              "\n",
              "  <div id=\"df-a2ecdddd-6604-462a-9770-9df20708c45a\" class=\"colab-df-container\">\n",
              "    <div>\n",
              "<style scoped>\n",
              "    .dataframe tbody tr th:only-of-type {\n",
              "        vertical-align: middle;\n",
              "    }\n",
              "\n",
              "    .dataframe tbody tr th {\n",
              "        vertical-align: top;\n",
              "    }\n",
              "\n",
              "    .dataframe thead th {\n",
              "        text-align: right;\n",
              "    }\n",
              "</style>\n",
              "<table border=\"1\" class=\"dataframe\">\n",
              "  <thead>\n",
              "    <tr style=\"text-align: right;\">\n",
              "      <th></th>\n",
              "      <th>User ID</th>\n",
              "      <th>Product ID</th>\n",
              "      <th>Product Name</th>\n",
              "      <th>Brand</th>\n",
              "      <th>Category</th>\n",
              "      <th>Price</th>\n",
              "      <th>Rating</th>\n",
              "      <th>Color</th>\n",
              "      <th>Size</th>\n",
              "    </tr>\n",
              "  </thead>\n",
              "  <tbody>\n",
              "    <tr>\n",
              "      <th>0</th>\n",
              "      <td>19</td>\n",
              "      <td>1</td>\n",
              "      <td>Dress</td>\n",
              "      <td>Adidas</td>\n",
              "      <td>Men's Fashion</td>\n",
              "      <td>40</td>\n",
              "      <td>1.043159</td>\n",
              "      <td>Black</td>\n",
              "      <td>XL</td>\n",
              "    </tr>\n",
              "    <tr>\n",
              "      <th>1</th>\n",
              "      <td>97</td>\n",
              "      <td>2</td>\n",
              "      <td>Shoes</td>\n",
              "      <td>H&amp;M</td>\n",
              "      <td>Women's Fashion</td>\n",
              "      <td>82</td>\n",
              "      <td>4.026416</td>\n",
              "      <td>Black</td>\n",
              "      <td>L</td>\n",
              "    </tr>\n",
              "    <tr>\n",
              "      <th>2</th>\n",
              "      <td>25</td>\n",
              "      <td>3</td>\n",
              "      <td>Dress</td>\n",
              "      <td>Adidas</td>\n",
              "      <td>Women's Fashion</td>\n",
              "      <td>44</td>\n",
              "      <td>3.337938</td>\n",
              "      <td>Yellow</td>\n",
              "      <td>XL</td>\n",
              "    </tr>\n",
              "    <tr>\n",
              "      <th>3</th>\n",
              "      <td>57</td>\n",
              "      <td>4</td>\n",
              "      <td>Shoes</td>\n",
              "      <td>Zara</td>\n",
              "      <td>Men's Fashion</td>\n",
              "      <td>23</td>\n",
              "      <td>1.049523</td>\n",
              "      <td>White</td>\n",
              "      <td>S</td>\n",
              "    </tr>\n",
              "    <tr>\n",
              "      <th>4</th>\n",
              "      <td>79</td>\n",
              "      <td>5</td>\n",
              "      <td>T-shirt</td>\n",
              "      <td>Adidas</td>\n",
              "      <td>Men's Fashion</td>\n",
              "      <td>79</td>\n",
              "      <td>4.302773</td>\n",
              "      <td>Black</td>\n",
              "      <td>M</td>\n",
              "    </tr>\n",
              "  </tbody>\n",
              "</table>\n",
              "</div>\n",
              "    <div class=\"colab-df-buttons\">\n",
              "\n",
              "  <div class=\"colab-df-container\">\n",
              "    <button class=\"colab-df-convert\" onclick=\"convertToInteractive('df-a2ecdddd-6604-462a-9770-9df20708c45a')\"\n",
              "            title=\"Convert this dataframe to an interactive table.\"\n",
              "            style=\"display:none;\">\n",
              "\n",
              "  <svg xmlns=\"http://www.w3.org/2000/svg\" height=\"24px\" viewBox=\"0 -960 960 960\">\n",
              "    <path d=\"M120-120v-720h720v720H120Zm60-500h600v-160H180v160Zm220 220h160v-160H400v160Zm0 220h160v-160H400v160ZM180-400h160v-160H180v160Zm440 0h160v-160H620v160ZM180-180h160v-160H180v160Zm440 0h160v-160H620v160Z\"/>\n",
              "  </svg>\n",
              "    </button>\n",
              "\n",
              "  <style>\n",
              "    .colab-df-container {\n",
              "      display:flex;\n",
              "      gap: 12px;\n",
              "    }\n",
              "\n",
              "    .colab-df-convert {\n",
              "      background-color: #E8F0FE;\n",
              "      border: none;\n",
              "      border-radius: 50%;\n",
              "      cursor: pointer;\n",
              "      display: none;\n",
              "      fill: #1967D2;\n",
              "      height: 32px;\n",
              "      padding: 0 0 0 0;\n",
              "      width: 32px;\n",
              "    }\n",
              "\n",
              "    .colab-df-convert:hover {\n",
              "      background-color: #E2EBFA;\n",
              "      box-shadow: 0px 1px 2px rgba(60, 64, 67, 0.3), 0px 1px 3px 1px rgba(60, 64, 67, 0.15);\n",
              "      fill: #174EA6;\n",
              "    }\n",
              "\n",
              "    .colab-df-buttons div {\n",
              "      margin-bottom: 4px;\n",
              "    }\n",
              "\n",
              "    [theme=dark] .colab-df-convert {\n",
              "      background-color: #3B4455;\n",
              "      fill: #D2E3FC;\n",
              "    }\n",
              "\n",
              "    [theme=dark] .colab-df-convert:hover {\n",
              "      background-color: #434B5C;\n",
              "      box-shadow: 0px 1px 3px 1px rgba(0, 0, 0, 0.15);\n",
              "      filter: drop-shadow(0px 1px 2px rgba(0, 0, 0, 0.3));\n",
              "      fill: #FFFFFF;\n",
              "    }\n",
              "  </style>\n",
              "\n",
              "    <script>\n",
              "      const buttonEl =\n",
              "        document.querySelector('#df-a2ecdddd-6604-462a-9770-9df20708c45a button.colab-df-convert');\n",
              "      buttonEl.style.display =\n",
              "        google.colab.kernel.accessAllowed ? 'block' : 'none';\n",
              "\n",
              "      async function convertToInteractive(key) {\n",
              "        const element = document.querySelector('#df-a2ecdddd-6604-462a-9770-9df20708c45a');\n",
              "        const dataTable =\n",
              "          await google.colab.kernel.invokeFunction('convertToInteractive',\n",
              "                                                    [key], {});\n",
              "        if (!dataTable) return;\n",
              "\n",
              "        const docLinkHtml = 'Like what you see? Visit the ' +\n",
              "          '<a target=\"_blank\" href=https://colab.research.google.com/notebooks/data_table.ipynb>data table notebook</a>'\n",
              "          + ' to learn more about interactive tables.';\n",
              "        element.innerHTML = '';\n",
              "        dataTable['output_type'] = 'display_data';\n",
              "        await google.colab.output.renderOutput(dataTable, element);\n",
              "        const docLink = document.createElement('div');\n",
              "        docLink.innerHTML = docLinkHtml;\n",
              "        element.appendChild(docLink);\n",
              "      }\n",
              "    </script>\n",
              "  </div>\n",
              "\n",
              "\n",
              "<div id=\"df-02d1de5f-3c27-4cf7-80e3-0e216851deb5\">\n",
              "  <button class=\"colab-df-quickchart\" onclick=\"quickchart('df-02d1de5f-3c27-4cf7-80e3-0e216851deb5')\"\n",
              "            title=\"Suggest charts\"\n",
              "            style=\"display:none;\">\n",
              "\n",
              "<svg xmlns=\"http://www.w3.org/2000/svg\" height=\"24px\"viewBox=\"0 0 24 24\"\n",
              "     width=\"24px\">\n",
              "    <g>\n",
              "        <path d=\"M19 3H5c-1.1 0-2 .9-2 2v14c0 1.1.9 2 2 2h14c1.1 0 2-.9 2-2V5c0-1.1-.9-2-2-2zM9 17H7v-7h2v7zm4 0h-2V7h2v10zm4 0h-2v-4h2v4z\"/>\n",
              "    </g>\n",
              "</svg>\n",
              "  </button>\n",
              "\n",
              "<style>\n",
              "  .colab-df-quickchart {\n",
              "      --bg-color: #E8F0FE;\n",
              "      --fill-color: #1967D2;\n",
              "      --hover-bg-color: #E2EBFA;\n",
              "      --hover-fill-color: #174EA6;\n",
              "      --disabled-fill-color: #AAA;\n",
              "      --disabled-bg-color: #DDD;\n",
              "  }\n",
              "\n",
              "  [theme=dark] .colab-df-quickchart {\n",
              "      --bg-color: #3B4455;\n",
              "      --fill-color: #D2E3FC;\n",
              "      --hover-bg-color: #434B5C;\n",
              "      --hover-fill-color: #FFFFFF;\n",
              "      --disabled-bg-color: #3B4455;\n",
              "      --disabled-fill-color: #666;\n",
              "  }\n",
              "\n",
              "  .colab-df-quickchart {\n",
              "    background-color: var(--bg-color);\n",
              "    border: none;\n",
              "    border-radius: 50%;\n",
              "    cursor: pointer;\n",
              "    display: none;\n",
              "    fill: var(--fill-color);\n",
              "    height: 32px;\n",
              "    padding: 0;\n",
              "    width: 32px;\n",
              "  }\n",
              "\n",
              "  .colab-df-quickchart:hover {\n",
              "    background-color: var(--hover-bg-color);\n",
              "    box-shadow: 0 1px 2px rgba(60, 64, 67, 0.3), 0 1px 3px 1px rgba(60, 64, 67, 0.15);\n",
              "    fill: var(--button-hover-fill-color);\n",
              "  }\n",
              "\n",
              "  .colab-df-quickchart-complete:disabled,\n",
              "  .colab-df-quickchart-complete:disabled:hover {\n",
              "    background-color: var(--disabled-bg-color);\n",
              "    fill: var(--disabled-fill-color);\n",
              "    box-shadow: none;\n",
              "  }\n",
              "\n",
              "  .colab-df-spinner {\n",
              "    border: 2px solid var(--fill-color);\n",
              "    border-color: transparent;\n",
              "    border-bottom-color: var(--fill-color);\n",
              "    animation:\n",
              "      spin 1s steps(1) infinite;\n",
              "  }\n",
              "\n",
              "  @keyframes spin {\n",
              "    0% {\n",
              "      border-color: transparent;\n",
              "      border-bottom-color: var(--fill-color);\n",
              "      border-left-color: var(--fill-color);\n",
              "    }\n",
              "    20% {\n",
              "      border-color: transparent;\n",
              "      border-left-color: var(--fill-color);\n",
              "      border-top-color: var(--fill-color);\n",
              "    }\n",
              "    30% {\n",
              "      border-color: transparent;\n",
              "      border-left-color: var(--fill-color);\n",
              "      border-top-color: var(--fill-color);\n",
              "      border-right-color: var(--fill-color);\n",
              "    }\n",
              "    40% {\n",
              "      border-color: transparent;\n",
              "      border-right-color: var(--fill-color);\n",
              "      border-top-color: var(--fill-color);\n",
              "    }\n",
              "    60% {\n",
              "      border-color: transparent;\n",
              "      border-right-color: var(--fill-color);\n",
              "    }\n",
              "    80% {\n",
              "      border-color: transparent;\n",
              "      border-right-color: var(--fill-color);\n",
              "      border-bottom-color: var(--fill-color);\n",
              "    }\n",
              "    90% {\n",
              "      border-color: transparent;\n",
              "      border-bottom-color: var(--fill-color);\n",
              "    }\n",
              "  }\n",
              "</style>\n",
              "\n",
              "  <script>\n",
              "    async function quickchart(key) {\n",
              "      const quickchartButtonEl =\n",
              "        document.querySelector('#' + key + ' button');\n",
              "      quickchartButtonEl.disabled = true;  // To prevent multiple clicks.\n",
              "      quickchartButtonEl.classList.add('colab-df-spinner');\n",
              "      try {\n",
              "        const charts = await google.colab.kernel.invokeFunction(\n",
              "            'suggestCharts', [key], {});\n",
              "      } catch (error) {\n",
              "        console.error('Error during call to suggestCharts:', error);\n",
              "      }\n",
              "      quickchartButtonEl.classList.remove('colab-df-spinner');\n",
              "      quickchartButtonEl.classList.add('colab-df-quickchart-complete');\n",
              "    }\n",
              "    (() => {\n",
              "      let quickchartButtonEl =\n",
              "        document.querySelector('#df-02d1de5f-3c27-4cf7-80e3-0e216851deb5 button');\n",
              "      quickchartButtonEl.style.display =\n",
              "        google.colab.kernel.accessAllowed ? 'block' : 'none';\n",
              "    })();\n",
              "  </script>\n",
              "</div>\n",
              "    </div>\n",
              "  </div>\n"
            ],
            "application/vnd.google.colaboratory.intrinsic+json": {
              "type": "dataframe",
              "variable_name": "df",
              "summary": "{\n  \"name\": \"df\",\n  \"rows\": 1000,\n  \"fields\": [\n    {\n      \"column\": \"User ID\",\n      \"properties\": {\n        \"dtype\": \"number\",\n        \"std\": 28,\n        \"min\": 1,\n        \"max\": 100,\n        \"num_unique_values\": 100,\n        \"samples\": [\n          55,\n          4,\n          29\n        ],\n        \"semantic_type\": \"\",\n        \"description\": \"\"\n      }\n    },\n    {\n      \"column\": \"Product ID\",\n      \"properties\": {\n        \"dtype\": \"number\",\n        \"std\": 288,\n        \"min\": 1,\n        \"max\": 1000,\n        \"num_unique_values\": 1000,\n        \"samples\": [\n          522,\n          738,\n          741\n        ],\n        \"semantic_type\": \"\",\n        \"description\": \"\"\n      }\n    },\n    {\n      \"column\": \"Product Name\",\n      \"properties\": {\n        \"dtype\": \"category\",\n        \"num_unique_values\": 5,\n        \"samples\": [\n          \"Shoes\",\n          \"Sweater\",\n          \"T-shirt\"\n        ],\n        \"semantic_type\": \"\",\n        \"description\": \"\"\n      }\n    },\n    {\n      \"column\": \"Brand\",\n      \"properties\": {\n        \"dtype\": \"category\",\n        \"num_unique_values\": 5,\n        \"samples\": [\n          \"H&M\",\n          \"Nike\",\n          \"Zara\"\n        ],\n        \"semantic_type\": \"\",\n        \"description\": \"\"\n      }\n    },\n    {\n      \"column\": \"Category\",\n      \"properties\": {\n        \"dtype\": \"category\",\n        \"num_unique_values\": 3,\n        \"samples\": [\n          \"Men's Fashion\",\n          \"Women's Fashion\",\n          \"Kids' Fashion\"\n        ],\n        \"semantic_type\": \"\",\n        \"description\": \"\"\n      }\n    },\n    {\n      \"column\": \"Price\",\n      \"properties\": {\n        \"dtype\": \"number\",\n        \"std\": 26,\n        \"min\": 10,\n        \"max\": 100,\n        \"num_unique_values\": 91,\n        \"samples\": [\n          59,\n          21,\n          42\n        ],\n        \"semantic_type\": \"\",\n        \"description\": \"\"\n      }\n    },\n    {\n      \"column\": \"Rating\",\n      \"properties\": {\n        \"dtype\": \"number\",\n        \"std\": 1.1531854436466726,\n        \"min\": 1.000967235428064,\n        \"max\": 4.987964320970842,\n        \"num_unique_values\": 1000,\n        \"samples\": [\n          2.9390797234183057,\n          1.0338431929963692,\n          3.3868368182647823\n        ],\n        \"semantic_type\": \"\",\n        \"description\": \"\"\n      }\n    },\n    {\n      \"column\": \"Color\",\n      \"properties\": {\n        \"dtype\": \"category\",\n        \"num_unique_values\": 6,\n        \"samples\": [\n          \"Black\",\n          \"Yellow\",\n          \"Red\"\n        ],\n        \"semantic_type\": \"\",\n        \"description\": \"\"\n      }\n    },\n    {\n      \"column\": \"Size\",\n      \"properties\": {\n        \"dtype\": \"category\",\n        \"num_unique_values\": 4,\n        \"samples\": [\n          \"L\",\n          \"M\",\n          \"XL\"\n        ],\n        \"semantic_type\": \"\",\n        \"description\": \"\"\n      }\n    }\n  ]\n}"
            }
          },
          "metadata": {},
          "execution_count": 1
        }
      ],
      "source": [
        "import pandas as pd\n",
        "\n",
        "df = pd.read_csv(\"https://raw.githubusercontent.com/HalyshAnton/IT-Step-Pyton-AI/main/module7/data/fashion_products.csv\")\n",
        "\n",
        "df.head()"
      ]
    },
    {
      "cell_type": "code",
      "source": [
        "df.describe()"
      ],
      "metadata": {
        "colab": {
          "base_uri": "https://localhost:8080/",
          "height": 300
        },
        "id": "F4uiFx2VyvPy",
        "outputId": "7e97d583-a915-49c6-f755-f61eca634400"
      },
      "execution_count": null,
      "outputs": [
        {
          "output_type": "execute_result",
          "data": {
            "text/plain": [
              "          User ID   Product ID        Price       Rating\n",
              "count  1000.00000  1000.000000  1000.000000  1000.000000\n",
              "mean     50.41900   500.500000    55.785000     2.993135\n",
              "std      28.78131   288.819436    26.291748     1.153185\n",
              "min       1.00000     1.000000    10.000000     1.000967\n",
              "25%      26.00000   250.750000    33.000000     1.992786\n",
              "50%      50.00000   500.500000    57.000000     2.984003\n",
              "75%      75.00000   750.250000    78.250000     3.985084\n",
              "max     100.00000  1000.000000   100.000000     4.987964"
            ],
            "text/html": [
              "\n",
              "  <div id=\"df-1f3ebf47-dfc4-4a42-a7ad-2b422a40535a\" class=\"colab-df-container\">\n",
              "    <div>\n",
              "<style scoped>\n",
              "    .dataframe tbody tr th:only-of-type {\n",
              "        vertical-align: middle;\n",
              "    }\n",
              "\n",
              "    .dataframe tbody tr th {\n",
              "        vertical-align: top;\n",
              "    }\n",
              "\n",
              "    .dataframe thead th {\n",
              "        text-align: right;\n",
              "    }\n",
              "</style>\n",
              "<table border=\"1\" class=\"dataframe\">\n",
              "  <thead>\n",
              "    <tr style=\"text-align: right;\">\n",
              "      <th></th>\n",
              "      <th>User ID</th>\n",
              "      <th>Product ID</th>\n",
              "      <th>Price</th>\n",
              "      <th>Rating</th>\n",
              "    </tr>\n",
              "  </thead>\n",
              "  <tbody>\n",
              "    <tr>\n",
              "      <th>count</th>\n",
              "      <td>1000.00000</td>\n",
              "      <td>1000.000000</td>\n",
              "      <td>1000.000000</td>\n",
              "      <td>1000.000000</td>\n",
              "    </tr>\n",
              "    <tr>\n",
              "      <th>mean</th>\n",
              "      <td>50.41900</td>\n",
              "      <td>500.500000</td>\n",
              "      <td>55.785000</td>\n",
              "      <td>2.993135</td>\n",
              "    </tr>\n",
              "    <tr>\n",
              "      <th>std</th>\n",
              "      <td>28.78131</td>\n",
              "      <td>288.819436</td>\n",
              "      <td>26.291748</td>\n",
              "      <td>1.153185</td>\n",
              "    </tr>\n",
              "    <tr>\n",
              "      <th>min</th>\n",
              "      <td>1.00000</td>\n",
              "      <td>1.000000</td>\n",
              "      <td>10.000000</td>\n",
              "      <td>1.000967</td>\n",
              "    </tr>\n",
              "    <tr>\n",
              "      <th>25%</th>\n",
              "      <td>26.00000</td>\n",
              "      <td>250.750000</td>\n",
              "      <td>33.000000</td>\n",
              "      <td>1.992786</td>\n",
              "    </tr>\n",
              "    <tr>\n",
              "      <th>50%</th>\n",
              "      <td>50.00000</td>\n",
              "      <td>500.500000</td>\n",
              "      <td>57.000000</td>\n",
              "      <td>2.984003</td>\n",
              "    </tr>\n",
              "    <tr>\n",
              "      <th>75%</th>\n",
              "      <td>75.00000</td>\n",
              "      <td>750.250000</td>\n",
              "      <td>78.250000</td>\n",
              "      <td>3.985084</td>\n",
              "    </tr>\n",
              "    <tr>\n",
              "      <th>max</th>\n",
              "      <td>100.00000</td>\n",
              "      <td>1000.000000</td>\n",
              "      <td>100.000000</td>\n",
              "      <td>4.987964</td>\n",
              "    </tr>\n",
              "  </tbody>\n",
              "</table>\n",
              "</div>\n",
              "    <div class=\"colab-df-buttons\">\n",
              "\n",
              "  <div class=\"colab-df-container\">\n",
              "    <button class=\"colab-df-convert\" onclick=\"convertToInteractive('df-1f3ebf47-dfc4-4a42-a7ad-2b422a40535a')\"\n",
              "            title=\"Convert this dataframe to an interactive table.\"\n",
              "            style=\"display:none;\">\n",
              "\n",
              "  <svg xmlns=\"http://www.w3.org/2000/svg\" height=\"24px\" viewBox=\"0 -960 960 960\">\n",
              "    <path d=\"M120-120v-720h720v720H120Zm60-500h600v-160H180v160Zm220 220h160v-160H400v160Zm0 220h160v-160H400v160ZM180-400h160v-160H180v160Zm440 0h160v-160H620v160ZM180-180h160v-160H180v160Zm440 0h160v-160H620v160Z\"/>\n",
              "  </svg>\n",
              "    </button>\n",
              "\n",
              "  <style>\n",
              "    .colab-df-container {\n",
              "      display:flex;\n",
              "      gap: 12px;\n",
              "    }\n",
              "\n",
              "    .colab-df-convert {\n",
              "      background-color: #E8F0FE;\n",
              "      border: none;\n",
              "      border-radius: 50%;\n",
              "      cursor: pointer;\n",
              "      display: none;\n",
              "      fill: #1967D2;\n",
              "      height: 32px;\n",
              "      padding: 0 0 0 0;\n",
              "      width: 32px;\n",
              "    }\n",
              "\n",
              "    .colab-df-convert:hover {\n",
              "      background-color: #E2EBFA;\n",
              "      box-shadow: 0px 1px 2px rgba(60, 64, 67, 0.3), 0px 1px 3px 1px rgba(60, 64, 67, 0.15);\n",
              "      fill: #174EA6;\n",
              "    }\n",
              "\n",
              "    .colab-df-buttons div {\n",
              "      margin-bottom: 4px;\n",
              "    }\n",
              "\n",
              "    [theme=dark] .colab-df-convert {\n",
              "      background-color: #3B4455;\n",
              "      fill: #D2E3FC;\n",
              "    }\n",
              "\n",
              "    [theme=dark] .colab-df-convert:hover {\n",
              "      background-color: #434B5C;\n",
              "      box-shadow: 0px 1px 3px 1px rgba(0, 0, 0, 0.15);\n",
              "      filter: drop-shadow(0px 1px 2px rgba(0, 0, 0, 0.3));\n",
              "      fill: #FFFFFF;\n",
              "    }\n",
              "  </style>\n",
              "\n",
              "    <script>\n",
              "      const buttonEl =\n",
              "        document.querySelector('#df-1f3ebf47-dfc4-4a42-a7ad-2b422a40535a button.colab-df-convert');\n",
              "      buttonEl.style.display =\n",
              "        google.colab.kernel.accessAllowed ? 'block' : 'none';\n",
              "\n",
              "      async function convertToInteractive(key) {\n",
              "        const element = document.querySelector('#df-1f3ebf47-dfc4-4a42-a7ad-2b422a40535a');\n",
              "        const dataTable =\n",
              "          await google.colab.kernel.invokeFunction('convertToInteractive',\n",
              "                                                    [key], {});\n",
              "        if (!dataTable) return;\n",
              "\n",
              "        const docLinkHtml = 'Like what you see? Visit the ' +\n",
              "          '<a target=\"_blank\" href=https://colab.research.google.com/notebooks/data_table.ipynb>data table notebook</a>'\n",
              "          + ' to learn more about interactive tables.';\n",
              "        element.innerHTML = '';\n",
              "        dataTable['output_type'] = 'display_data';\n",
              "        await google.colab.output.renderOutput(dataTable, element);\n",
              "        const docLink = document.createElement('div');\n",
              "        docLink.innerHTML = docLinkHtml;\n",
              "        element.appendChild(docLink);\n",
              "      }\n",
              "    </script>\n",
              "  </div>\n",
              "\n",
              "\n",
              "<div id=\"df-9e5baed5-8a47-47cd-aff9-79edf36fd278\">\n",
              "  <button class=\"colab-df-quickchart\" onclick=\"quickchart('df-9e5baed5-8a47-47cd-aff9-79edf36fd278')\"\n",
              "            title=\"Suggest charts\"\n",
              "            style=\"display:none;\">\n",
              "\n",
              "<svg xmlns=\"http://www.w3.org/2000/svg\" height=\"24px\"viewBox=\"0 0 24 24\"\n",
              "     width=\"24px\">\n",
              "    <g>\n",
              "        <path d=\"M19 3H5c-1.1 0-2 .9-2 2v14c0 1.1.9 2 2 2h14c1.1 0 2-.9 2-2V5c0-1.1-.9-2-2-2zM9 17H7v-7h2v7zm4 0h-2V7h2v10zm4 0h-2v-4h2v4z\"/>\n",
              "    </g>\n",
              "</svg>\n",
              "  </button>\n",
              "\n",
              "<style>\n",
              "  .colab-df-quickchart {\n",
              "      --bg-color: #E8F0FE;\n",
              "      --fill-color: #1967D2;\n",
              "      --hover-bg-color: #E2EBFA;\n",
              "      --hover-fill-color: #174EA6;\n",
              "      --disabled-fill-color: #AAA;\n",
              "      --disabled-bg-color: #DDD;\n",
              "  }\n",
              "\n",
              "  [theme=dark] .colab-df-quickchart {\n",
              "      --bg-color: #3B4455;\n",
              "      --fill-color: #D2E3FC;\n",
              "      --hover-bg-color: #434B5C;\n",
              "      --hover-fill-color: #FFFFFF;\n",
              "      --disabled-bg-color: #3B4455;\n",
              "      --disabled-fill-color: #666;\n",
              "  }\n",
              "\n",
              "  .colab-df-quickchart {\n",
              "    background-color: var(--bg-color);\n",
              "    border: none;\n",
              "    border-radius: 50%;\n",
              "    cursor: pointer;\n",
              "    display: none;\n",
              "    fill: var(--fill-color);\n",
              "    height: 32px;\n",
              "    padding: 0;\n",
              "    width: 32px;\n",
              "  }\n",
              "\n",
              "  .colab-df-quickchart:hover {\n",
              "    background-color: var(--hover-bg-color);\n",
              "    box-shadow: 0 1px 2px rgba(60, 64, 67, 0.3), 0 1px 3px 1px rgba(60, 64, 67, 0.15);\n",
              "    fill: var(--button-hover-fill-color);\n",
              "  }\n",
              "\n",
              "  .colab-df-quickchart-complete:disabled,\n",
              "  .colab-df-quickchart-complete:disabled:hover {\n",
              "    background-color: var(--disabled-bg-color);\n",
              "    fill: var(--disabled-fill-color);\n",
              "    box-shadow: none;\n",
              "  }\n",
              "\n",
              "  .colab-df-spinner {\n",
              "    border: 2px solid var(--fill-color);\n",
              "    border-color: transparent;\n",
              "    border-bottom-color: var(--fill-color);\n",
              "    animation:\n",
              "      spin 1s steps(1) infinite;\n",
              "  }\n",
              "\n",
              "  @keyframes spin {\n",
              "    0% {\n",
              "      border-color: transparent;\n",
              "      border-bottom-color: var(--fill-color);\n",
              "      border-left-color: var(--fill-color);\n",
              "    }\n",
              "    20% {\n",
              "      border-color: transparent;\n",
              "      border-left-color: var(--fill-color);\n",
              "      border-top-color: var(--fill-color);\n",
              "    }\n",
              "    30% {\n",
              "      border-color: transparent;\n",
              "      border-left-color: var(--fill-color);\n",
              "      border-top-color: var(--fill-color);\n",
              "      border-right-color: var(--fill-color);\n",
              "    }\n",
              "    40% {\n",
              "      border-color: transparent;\n",
              "      border-right-color: var(--fill-color);\n",
              "      border-top-color: var(--fill-color);\n",
              "    }\n",
              "    60% {\n",
              "      border-color: transparent;\n",
              "      border-right-color: var(--fill-color);\n",
              "    }\n",
              "    80% {\n",
              "      border-color: transparent;\n",
              "      border-right-color: var(--fill-color);\n",
              "      border-bottom-color: var(--fill-color);\n",
              "    }\n",
              "    90% {\n",
              "      border-color: transparent;\n",
              "      border-bottom-color: var(--fill-color);\n",
              "    }\n",
              "  }\n",
              "</style>\n",
              "\n",
              "  <script>\n",
              "    async function quickchart(key) {\n",
              "      const quickchartButtonEl =\n",
              "        document.querySelector('#' + key + ' button');\n",
              "      quickchartButtonEl.disabled = true;  // To prevent multiple clicks.\n",
              "      quickchartButtonEl.classList.add('colab-df-spinner');\n",
              "      try {\n",
              "        const charts = await google.colab.kernel.invokeFunction(\n",
              "            'suggestCharts', [key], {});\n",
              "      } catch (error) {\n",
              "        console.error('Error during call to suggestCharts:', error);\n",
              "      }\n",
              "      quickchartButtonEl.classList.remove('colab-df-spinner');\n",
              "      quickchartButtonEl.classList.add('colab-df-quickchart-complete');\n",
              "    }\n",
              "    (() => {\n",
              "      let quickchartButtonEl =\n",
              "        document.querySelector('#df-9e5baed5-8a47-47cd-aff9-79edf36fd278 button');\n",
              "      quickchartButtonEl.style.display =\n",
              "        google.colab.kernel.accessAllowed ? 'block' : 'none';\n",
              "    })();\n",
              "  </script>\n",
              "</div>\n",
              "    </div>\n",
              "  </div>\n"
            ],
            "application/vnd.google.colaboratory.intrinsic+json": {
              "type": "dataframe",
              "summary": "{\n  \"name\": \"df\",\n  \"rows\": 8,\n  \"fields\": [\n    {\n      \"column\": \"User ID\",\n      \"properties\": {\n        \"dtype\": \"number\",\n        \"std\": 338.2012621861894,\n        \"min\": 1.0,\n        \"max\": 1000.0,\n        \"num_unique_values\": 8,\n        \"samples\": [\n          50.419,\n          50.0,\n          1000.0\n        ],\n        \"semantic_type\": \"\",\n        \"description\": \"\"\n      }\n    },\n    {\n      \"column\": \"Product ID\",\n      \"properties\": {\n        \"dtype\": \"number\",\n        \"std\": 360.1000917722167,\n        \"min\": 1.0,\n        \"max\": 1000.0,\n        \"num_unique_values\": 6,\n        \"samples\": [\n          1000.0,\n          500.5,\n          750.25\n        ],\n        \"semantic_type\": \"\",\n        \"description\": \"\"\n      }\n    },\n    {\n      \"column\": \"Price\",\n      \"properties\": {\n        \"dtype\": \"number\",\n        \"std\": 336.5907173351229,\n        \"min\": 10.0,\n        \"max\": 1000.0,\n        \"num_unique_values\": 8,\n        \"samples\": [\n          55.785,\n          57.0,\n          1000.0\n        ],\n        \"semantic_type\": \"\",\n        \"description\": \"\"\n      }\n    },\n    {\n      \"column\": \"Rating\",\n      \"properties\": {\n        \"dtype\": \"number\",\n        \"std\": 352.5914385671099,\n        \"min\": 1.000967235428064,\n        \"max\": 1000.0,\n        \"num_unique_values\": 8,\n        \"samples\": [\n          2.9931351057620845,\n          2.984002878443823,\n          1000.0\n        ],\n        \"semantic_type\": \"\",\n        \"description\": \"\"\n      }\n    }\n  ]\n}"
            }
          },
          "metadata": {},
          "execution_count": 2
        }
      ]
    },
    {
      "cell_type": "markdown",
      "source": [
        "# Surprise: ваш ключ до створення рекомендацій\n",
        "\n",
        "Surprise - це зручна бібліотека Python для створення рекомендаційних систем. Вона має модульний дизайн, що дозволяє зосередитися на конкретних аспектах процесу, таких як завантаження даних, вибір алгоритму та оцінка."
      ],
      "metadata": {
        "id": "Vv6rpJO66iSK"
      }
    },
    {
      "cell_type": "code",
      "source": [
        "!pip install -q surprise"
      ],
      "metadata": {
        "colab": {
          "base_uri": "https://localhost:8080/"
        },
        "id": "MTQLiWmGxqeH",
        "outputId": "6446f4af-9d20-4082-cbbb-1d0647053ebd"
      },
      "execution_count": null,
      "outputs": [
        {
          "output_type": "stream",
          "name": "stdout",
          "text": [
            "\u001b[?25l     \u001b[90m━━━━━━━━━━━━━━━━━━━━━━━━━━━━━━━━━━━━━━━━\u001b[0m \u001b[32m0.0/772.0 kB\u001b[0m \u001b[31m?\u001b[0m eta \u001b[36m-:--:--\u001b[0m\r\u001b[2K     \u001b[91m━━━\u001b[0m\u001b[91m╸\u001b[0m\u001b[90m━━━━━━━━━━━━━━━━━━━━━━━━━━━━━━━━━━━━\u001b[0m \u001b[32m71.7/772.0 kB\u001b[0m \u001b[31m1.9 MB/s\u001b[0m eta \u001b[36m0:00:01\u001b[0m\r\u001b[2K     \u001b[91m━━━━━━━━━━━━━━━━━━━━━━━━━━━━━━━━━━━━━━━\u001b[0m\u001b[91m╸\u001b[0m \u001b[32m768.0/772.0 kB\u001b[0m \u001b[31m10.8 MB/s\u001b[0m eta \u001b[36m0:00:01\u001b[0m\r\u001b[2K     \u001b[90m━━━━━━━━━━━━━━━━━━━━━━━━━━━━━━━━━━━━━━━━\u001b[0m \u001b[32m772.0/772.0 kB\u001b[0m \u001b[31m8.7 MB/s\u001b[0m eta \u001b[36m0:00:00\u001b[0m\n",
            "\u001b[?25h  Preparing metadata (setup.py) ... \u001b[?25l\u001b[?25hdone\n",
            "  Building wheel for scikit-surprise (setup.py) ... \u001b[?25l\u001b[?25hdone\n"
          ]
        }
      ]
    },
    {
      "cell_type": "markdown",
      "source": [
        "* **Reader:** Тут вказується, як Surprise зчитує ваш файл даних. Для різних форматів даних (наприклад, CSV, movielens) доступні різні зчитувачі.\n",
        "* **Dataset:** Визначає об'єкт набору даних після того, як зчитувач проаналізує дані.\n",
        "\n",
        "**Surprise використовує два типи ідентифікаторів:**\n",
        "\n",
        "* **Inner id:** Внутрішні ідентифікатори, що використовуються Surprise для ефективного управління даними. Зазвичай це цілі числа.\n",
        "* **Raw id:** Оригінальні ідентифікатори (імена) користувачів та об'єктів, присутніх у вашому файлі даних."
      ],
      "metadata": {
        "id": "66ocPnI86tnZ"
      }
    },
    {
      "cell_type": "code",
      "source": [
        "from surprise import Dataset, SVD, Reader\n",
        "\n",
        "reader = Reader(rating_scale=(1, 5))\n",
        "\n",
        "# The columns must correspond to user id, item id and ratings (in that order).\n",
        "data = Dataset.load_from_df(df[[\"User ID\", \"Product ID\", \"Rating\"]], reader)"
      ],
      "metadata": {
        "id": "srORMUI4xJ0T"
      },
      "execution_count": null,
      "outputs": []
    },
    {
      "cell_type": "markdown",
      "source": [
        "Поділ на тренувальні та тестові"
      ],
      "metadata": {
        "id": "JQmlfDZZN-Jm"
      }
    },
    {
      "cell_type": "code",
      "source": [
        "from surprise.model_selection import train_test_split\n",
        "\n",
        "trainset, testset = train_test_split(data, train_size=0.8)"
      ],
      "metadata": {
        "id": "UYnZrfa0NwvF"
      },
      "execution_count": null,
      "outputs": []
    },
    {
      "cell_type": "markdown",
      "source": [
        "# Матриця \"користувач-об'єкт\"\n",
        "\n",
        "Surprise працює з матрицею елементів користувача, яка по суті являє собою таблицю:\n",
        "\n",
        "* **Рядки:** Представляють користувачів.\n",
        "* **Стовпці:** представляють об'єкти.\n",
        "* **Клітинки:** Значення у комірках можуть представляти різні речі, залежно від даних:\n",
        "    * **Оцінки:** Явні оцінки користувачів для елементів (наприклад, оцінка від 1 до 5 зірок для фільмів).\n",
        "    * **Двійкові вподобання:** Вказують, чи користувач взаємодіяв з елементом (1), чи ні (0).\n",
        "    * **Неявні відгуки:** Неявні взаємодії, такі як покупки або історія переглядів, можуть бути використані для визначення зацікавленості користувача.\n",
        "\n",
        "\n",
        "<div>\n",
        "<img src=https://images.squarespace-cdn.com/content/v1/5bce4071ab1a620db382773e/1589362419442-B40GLVHOX8MGF9II6AHC/Collaborative+RecommenderV3.png width=\"500\"/>\n",
        "</div>\n"
      ],
      "metadata": {
        "id": "oEFTrvw77VwJ"
      }
    },
    {
      "cell_type": "markdown",
      "source": [
        "# Схожість\n",
        "\n",
        "Алгоритми рекомендацій покладаються на міри схожості, щоб знайти користувачів або об'єкти зі схожими вподобаннями. Surprise надає різні міри схожості, такі як:\n",
        "\n",
        "* **Косинусна схожість:** Вимірює спрямовану схожість між профілями користувачів або об'єктів на основі їхніх оцінок або взаємодій.\n",
        "* **евклідова відстань:** Використовує суму квадратів різниць\n",
        "* **Кореляція Пірсона:** Відображає лінійний зв'язок між профілями користувачів або товарів.\n",
        "* **Скоригована косинусоїдальна схожість:** Подібна до косинусоїдальної схожості, але коригує упередженість користувачів або об'єктів (середні оцінки)."
      ],
      "metadata": {
        "id": "HFoxpDm77ZXA"
      }
    },
    {
      "cell_type": "markdown",
      "source": [
        "# Основні алгоритми"
      ],
      "metadata": {
        "id": "gxdjGDpL7nVE"
      }
    },
    {
      "cell_type": "markdown",
      "source": [
        "## BaselineOnly\n",
        "\n",
        "Алгоритм BaselineOnly в Surprise пропонує фундаментальний підхід для рекомендаційних систем. Він прогнозує рейтинги на основі оціночного базового значення, що слугує орієнтиром для більш складних алгоритмів. Ось детальна розбивка:\n",
        "\n",
        "**Формула для прогнозування (базова оцінка):**.\n",
        "\n",
        "Алгоритм BaselineOnly прогнозує рейтинг взаємодії користувача з елементом за наступною формулою:\n",
        "\n",
        "$$\n",
        "\\hat{r}_{ui} = b_u + b_i + \\mu\n",
        "$$\n",
        "\n",
        "\n",
        "- **$\\hat{r}_{ui}$**: Прогнозований рейтинг для користувача `u` та товару `i`.\n",
        "- **$b_u$**: Упередженість користувача, що представляє середнє відхилення оцінок користувача `u` від загального середнього значення.\n",
        "- **$b_i$**: Упередженість пункту, що представляє середнє відхилення оцінок пункту `i` від загального середнього значення.\n",
        "- **$\\mu$**: Глобальний середній рейтинг для всіх користувачів та позицій.\n",
        "\n",
        "**Оцінка упереджень:**\n",
        "\n",
        "Упередженість користувачів та товарів оцінюється за допомогою методу найменших квадратів, що чергуються (ALS). Алгоритм ітеративно оновлює ці упередження, щоб мінімізувати помилку прогнозування.\n",
        "\n",
        "**bsl_options:**\n",
        "\n",
        "Аргумент `bsl_options` у Surprise дозволяє вам налаштувати процес оцінювання базової лінії:\n",
        "\n",
        "- **method** (рядок, необов'язковий): Визначає метод, який використовується для оцінки глобального середнього та зміщень. Можливі варіанти включають:\n",
        "    - `\"als\"` (за замовчуванням): метод чергування найменших квадратів\n",
        "    - `\"sgd\"`: Використовує стохастичний градієнтний спуск (SGD) для оптимізації.\n",
        "\n",
        "Якщо **ALS:**\n",
        "  - **reg_u** (число з плаваючою комою, необов'язково): Параметр регуляризації для оцінки зсуву користувача (контролює надмірне припасування).\n",
        "  - **reg_i** (плаваюче, необов'язкове): Параметр регуляризації для оцінки зміщення елемента.\n",
        "  - **n_epochs** кількість ітерацій процедури ALS. За замовчуванням — 10\n",
        "\n",
        "Якщо **SGD:**\n",
        "  - **reg:** Параметр регулярізації оптимізованої функції вартості.\n",
        "  - **learning_rate** (число з плаваючою комою, необов'язкове): Швидкість навчання для оцінки зсуву на основі SGD.\n",
        "  - **n_epochs** кількість ітерацій процедури SGD. За замовчуванням — 20"
      ],
      "metadata": {
        "id": "ob7oS0fnAUhU"
      }
    },
    {
      "cell_type": "code",
      "source": [
        "from surprise import BaselineOnly\n",
        "\n",
        "bsl_options = {'method': 'als',\n",
        "               'reg_u': 0.0001,\n",
        "               'reg_i': 0.0001}\n",
        "\n",
        "algo = BaselineOnly(bsl_options=bsl_options)\n",
        "algo.fit(trainset)"
      ],
      "metadata": {
        "id": "B0_oF7Se-MqL",
        "outputId": "7486e7f0-ef36-4ccd-e8a2-1850c84d3e5a",
        "colab": {
          "base_uri": "https://localhost:8080/"
        }
      },
      "execution_count": null,
      "outputs": [
        {
          "output_type": "stream",
          "name": "stdout",
          "text": [
            "Estimating biases using als...\n"
          ]
        },
        {
          "output_type": "execute_result",
          "data": {
            "text/plain": [
              "<surprise.prediction_algorithms.baseline_only.BaselineOnly at 0x7d644e4f46d0>"
            ]
          },
          "metadata": {},
          "execution_count": 14
        }
      ]
    },
    {
      "cell_type": "markdown",
      "source": [
        "## Матрична факторизація\n",
        "\n",
        "Матрична факторизація (МФ) є популярною технікою для побудови рекомендаційних систем. Surprise пропонує кілька алгоритмів на основі МФ, зокрема\n",
        "\n",
        "* **SVD (Singular Value Decomposition):** Класичний підхід МФ, який розкладає матрицю оцінок користувача і товару на дві матриці меншої розмірності, що представляють латентні фактори (приховані особливості) для користувачів і товарів.\n",
        "\n",
        "\n",
        "**Формула прогнозування (SVD):**:.\n",
        "\n",
        "Передбачуваний рейтинг для користувача `u` і товару `i` можна сформулювати так:\n",
        "\n",
        "$$\n",
        "\\hat{r}_{ui} = \\mathbf{p}_u^T \\mathbf{q}_i\n",
        "$$\n",
        "\n",
        "де\n",
        "\n",
        "* $\\hat{r}_{ui}$: Передбачуваний рейтинг користувача `u` на пункті `i`.\n",
        "* $\\mathbf{p}_u$: Вектор латентних факторів для користувача `u` (довжина `n_factors`).\n",
        "* $\\mathbf{q}_i$: Вектор латентних факторів елемента для елемента `i` (довжина `n_factors`).\n",
        "* $^T$: Транспонування матриці.\n",
        "\n",
        "**Параметри:**\n",
        "\n",
        "* **n_factors (int):** Кількість латентних факторів для декомпозиції (за замовчуванням: 100). Це значення контролює складність моделі. Вищі значення можуть відображати більш тонкі взаємозв'язки, але можуть призвести до надмірної підгонки.\n",
        "* **reg_all (float):** Коефіцієнт регуляризації для всіх ваг (факторів користувача та елемента) у моделі (за замовчуванням: 0.01). Це допомагає запобігти надмірному припасуванню, штрафуючи великі ваги.\n",
        "* **reg_user (float):** Член регуляризації спеціально для факторів користувача (за замовчуванням: 0.0).\n",
        "* **reg_item (float):** Член регуляризації спеціально для факторів елементів (за замовчуванням: 0.0).\n",
        "* **lr_all (float):** Швидкість навчання для всіх ваг під час навчання моделі (за замовчуванням: 0.005). Контролює, як швидко модель оновлює свої параметри на основі помилок.\n",
        "* **lr_user (float):** Швидкість навчання для користувацьких факторів (за замовчуванням: Ні, використовується `lr_all`).\n",
        "* **lr_item (float):** Швидкість навчання для факторів елементів (за замовчуванням: Ні, використовується `lr_all`).\n",
        "* **init_std (float):** Стандартне відхилення, що використовується для ініціалізації латентних факторів користувача та елемента (за замовчуванням: 0.01). Це значення визначає початковий розкид значень латентних факторів.\n",
        "* **biased (bool):** Чи включати в модель зміщення користувача та зміщення елементів (за замовчуванням: True). Упередження можуть відображати специфічні для користувача або товару тенденції в оцінках, які не враховуються латентними факторами.\n"
      ],
      "metadata": {
        "id": "MAV2Z6fmCd_8"
      }
    },
    {
      "cell_type": "code",
      "source": [
        "from surprise import SVD\n",
        "\n",
        "alfo = SVD(n_factors=100,\n",
        "           n_epochs=50,\n",
        "           )\n",
        "\n",
        "algo.fit(trainset)"
      ],
      "metadata": {
        "id": "e8mH6YSjEXo0",
        "outputId": "9b4abf53-e23f-4203-d369-630d5e0b85a3",
        "colab": {
          "base_uri": "https://localhost:8080/"
        }
      },
      "execution_count": null,
      "outputs": [
        {
          "output_type": "stream",
          "name": "stdout",
          "text": [
            "Estimating biases using als...\n"
          ]
        },
        {
          "output_type": "execute_result",
          "data": {
            "text/plain": [
              "<surprise.prediction_algorithms.baseline_only.BaselineOnly at 0x7d644e4f46d0>"
            ]
          },
          "metadata": {},
          "execution_count": 15
        }
      ]
    },
    {
      "cell_type": "markdown",
      "source": [
        "## K-Nearest Neighbours (KNN)\n",
        "\n",
        "Surprise пропонує кілька алгоритмів рекомендацій, натхненних підходом K-Nearest Neighbors (KNN). Ці алгоритми визначають k найбільш схожих користувачів (KNN на основі користувачів) або об'єктів (KNN на основі об'єктів) на цільового користувача і використовують їхні рейтинги, щоб передбачити рейтинг цільового користувача для невидимого об'єкта.\n",
        "\n",
        "Цей алгоритм реалізує базовий підхід ШНМ, заснований на користувацьких оцінках.\n",
        "\n",
        "**Формула для передбачення (користувацький ШНМ):**\n",
        "\n",
        "$$\n",
        "\\hat{r}_{ui} = \\frac{\\sum_{v \\in N_k(u)} similarity(u, v) \\cdot r_{vi}} {\\sum_{v \\in N_k(u)} similarity(u, v)}\n",
        "$$\n",
        "\n",
        "- $\\hat{r}_{ui}$: Передбачуваний рейтинг користувача u на пункті i.\n",
        "- $N_k(u)$: k найближчих сусідів користувача u.\n",
        "- $similarity(u, v) $: Вага, присвоєна сусіду v на основі схожості з користувачем u.\n",
        "- $r_{vi}$: Рейтинг сусіда v на пункті i.\n",
        "\n",
        "**Параметри:**\n",
        "\n",
        "* `k`: Кількість найближчих сусідів для розгляду (за замовчуванням: 10).\n",
        "* `min_k`: Мінімальна кількість сусідів, необхідна для прогнозування (за замовчуванням: 1).\n",
        "* `sim_options`: параметри для схожості\n",
        "  - **`name` (str, необов'язково):** Назва міри схожості для використання. Доступні варіанти включають:\n",
        "      - `cosine` (за замовчуванням): Косинусна подібність\n",
        "      - `pearson` (за замовчуванням для алгоритмів на основі елементів): Коефіцієнт кореляції Пірсона\n",
        "      - `msd`: середньоквадратична різниця\n",
        "      - `pearson_baseline`: інша реалізація коефіцієнта Пірсона\n",
        "  - **`min_support` (int, необов'язковий):**\n",
        "      - Мінімальна кількість об'єктів із спільним рейтингом (для користувачів) або користувачів із спільним рейтингом (для об'єктів), необхідна для врахування двох користувачів або об'єктів при обчисленні схожості. Це допомагає уникнути недостовірної схожості на основі розрізнених даних.\n",
        "      - За замовчуванням дорівнює 1 (тобто потрібен принаймні один спільно оцінений об'єкт/користувач).\n",
        "  - **`user_based` (bool, необов'язковий):**\n",
        "      - Вказує, чи обчислювати схожість між користувачами (True) або об'єктами (False). За замовчуванням False (на основі елементів).\n",
        "  - **`shrinkage`:**\n",
        "      - параметр скорочення для застосування (актуально лише для подібності pearson_baseline). За замовчуванням 100"
      ],
      "metadata": {
        "id": "K_n04K0IErIP"
      }
    },
    {
      "cell_type": "code",
      "source": [
        "from surprise import KNNBasic\n",
        "\n",
        "algo = KNNBasic(k=10,\n",
        "                min_k=1,\n",
        "                sim_options={'name': 'cosine',\n",
        "                             'user_based': True})\n",
        "\n",
        "algo.fit(trainset)"
      ],
      "metadata": {
        "id": "o6hiOVCIIEZ8",
        "outputId": "c0de8c29-981a-4615-c325-9f8441e8f1f5",
        "colab": {
          "base_uri": "https://localhost:8080/"
        }
      },
      "execution_count": null,
      "outputs": [
        {
          "output_type": "stream",
          "name": "stdout",
          "text": [
            "Computing the cosine similarity matrix...\n",
            "Done computing similarity matrix.\n"
          ]
        },
        {
          "output_type": "execute_result",
          "data": {
            "text/plain": [
              "<surprise.prediction_algorithms.knns.KNNBasic at 0x7d644e4a36a0>"
            ]
          },
          "metadata": {},
          "execution_count": 16
        }
      ]
    },
    {
      "cell_type": "markdown",
      "source": [
        "## Co-Clustering\n",
        "\n",
        "Спільна кластеризація в Surprise - це алгоритм спільної фільтрації, який одночасно виконує кластеризацію як рядків (користувачів), так і стовпців (об'єктів) матриці рейтингу. Цей підхід має на меті вловити притаманну даним структуру, групуючи користувачів та об'єкти в кластери, тим самим підвищуючи точність рекомендацій.\n",
        "\n",
        "**Опис:**\n",
        "\n",
        "Спільна кластеризація виконує кластеризацію для користувачів і товарів одночасно, з метою виявлення груп користувачів і товарів зі схожими вподобаннями. Вона оптимізує формулу прогнозування, згадану вище, шляхом ітеративного оновлення членів зсуву і кластерних призначень, щоб мінімізувати різницю між прогнозованими і фактичними рейтингами. Цей ітеративний процес оптимізації триває протягом певної кількості епох, поки не буде досягнуто збіжності.\n",
        "\n",
        "**Формула передбачення**\n",
        "\n",
        "$$\n",
        "\\hat{r}_{ui} = \\overline{C_{ui}} + \\left(\\mu_u - \\overline{C_{u}} \\right) + \\left(\\mu_i - \\overline{C_{i}} \\right)\n",
        "$$\n",
        "\n",
        "Де:\n",
        "- \\overline{C_{ui}}: середній рейтинг по спільному кластеру користувача u та предмета i\n",
        "- \\overline{C_{u}}: середній рейтинг по кластеру користувача u\n",
        "- \\overline{C_{i}}: середній рейтинг по  кластеру предмета i\n",
        "- \\mu_u: середній рейтинг користувача u\n",
        "- \\mu_i: середній ркйтинг предмета i\n",
        "\n",
        "**Параметри:**\n",
        "\n",
        "- `n_cltr_u` (int): Кількість кластерів користувача.\n",
        "- `n_cltr_i` (int): Кількість кластерів елементів.\n",
        "- `n_epochs` (int): Кількість ітерацій для запуску алгоритму оптимізації.\n",
        "- `random_state` (int, екземпляр RandomState або None): Визначає генерацію випадкових чисел для ініціалізації. Передайте int для відтворюваних результатів."
      ],
      "metadata": {
        "id": "a_eyQvH3IfQ6"
      }
    },
    {
      "cell_type": "code",
      "source": [
        "from surprise import CoClustering\n",
        "\n",
        "algo = CoClustering(n_cltr_u = 5,\n",
        "                    n_cltr_i = 15,\n",
        "                    n_epochs = 40)\n",
        "\n",
        "algo.fit(trainset)"
      ],
      "metadata": {
        "id": "2ZXUsSbVMkj9",
        "outputId": "e302d099-23bc-4d8e-9194-16ac316b4345",
        "colab": {
          "base_uri": "https://localhost:8080/"
        }
      },
      "execution_count": null,
      "outputs": [
        {
          "output_type": "execute_result",
          "data": {
            "text/plain": [
              "<surprise.prediction_algorithms.co_clustering.CoClustering at 0x7d644e4f5e10>"
            ]
          },
          "metadata": {},
          "execution_count": 17
        }
      ]
    },
    {
      "cell_type": "markdown",
      "source": [
        "# Показники точності: Оцінка ваших рекомендацій\n",
        "\n",
        "Після того, як ви створили модель рекомендацій, важливо оцінити її ефективність. Surprise пропонує кілька метрик для оцінки ваших рекомендацій:\n",
        "\n",
        "1. `accuracy.rmse(predictions, verbose=True)`\n",
        "   - Середньоквадратична похибка (RMSE) між фактичними та прогнозованими рейтингами.\n",
        "\n",
        "2. `accuracy.mae(predictions, verbose=True)`\n",
        "   - Середня абсолютна похибка (MAE) між фактичними та прогнозованими рейтингами.\n",
        "\n",
        "3. `accuracy.fcp(predictions, verbose=True)`\n",
        "   - Частка співпадаючих пар (FCP) між фактичними рейтингами та прогнозованими рейтингами.\n",
        "\n",
        "Ці показники точності дають уявлення про роботу алгоритмів рекомендацій у Surprise, кількісно оцінюючи різницю між фактичними та передбачуваними рейтингами, допомагаючи оцінити та порівняти ефективність різних моделей.\n"
      ],
      "metadata": {
        "id": "pdiAZ9mh6eqx"
      }
    },
    {
      "cell_type": "code",
      "source": [
        "from surprise import BaselineOnly, accuracy\n",
        "\n",
        "\n",
        "bsl_options = {'method': 'als',\n",
        "               'reg_u': 0.0001,\n",
        "               'reg_i': 0.0001}\n",
        "\n",
        "algo = BaselineOnly(bsl_options=bsl_options)\n",
        "algo.fit(trainset)\n",
        "\n",
        "preds = algo.test(testset)\n",
        "\n",
        "print(f\"mae = {accuracy.mae(preds, verbose=False)}\")\n",
        "print(f\"mse = {accuracy.mse(preds, verbose=False)}\")\n",
        "print(f\"rmse= {accuracy.rmse(preds, verbose=False)}\")\n",
        "print(f\"fcp = {accuracy.fcp(preds, verbose=False)}\")"
      ],
      "metadata": {
        "id": "0Nw_N2fZNfbf",
        "outputId": "dc0aa98a-1bde-453f-fc8d-660674cd3ec3",
        "colab": {
          "base_uri": "https://localhost:8080/"
        }
      },
      "execution_count": null,
      "outputs": [
        {
          "output_type": "stream",
          "name": "stdout",
          "text": [
            "Estimating biases using als...\n",
            "mae = 1.0056762275247684\n",
            "mse = 1.349003325237926\n",
            "rmse= 1.1614660241427324\n",
            "fcp = 0.0\n"
          ]
        }
      ]
    },
    {
      "cell_type": "markdown",
      "source": [
        "# Прогноз"
      ],
      "metadata": {
        "id": "HeIxUW0fQtdY"
      }
    },
    {
      "cell_type": "code",
      "source": [
        "algo.predict(uid=2,\n",
        "             iid=97)"
      ],
      "metadata": {
        "id": "RPoOfAqtOocf",
        "outputId": "87d3ea5c-4a41-48ba-d1f3-23ae0f38cc66",
        "colab": {
          "base_uri": "https://localhost:8080/"
        }
      },
      "execution_count": null,
      "outputs": [
        {
          "output_type": "execute_result",
          "data": {
            "text/plain": [
              "Prediction(uid=2, iid=97, r_ui=None, est=3.761673592994601, details={'was_impossible': False})"
            ]
          },
          "metadata": {},
          "execution_count": 24
        }
      ]
    },
    {
      "cell_type": "code",
      "source": [],
      "metadata": {
        "id": "QKdrxevFQ1w_"
      },
      "execution_count": null,
      "outputs": []
    }
  ]
}