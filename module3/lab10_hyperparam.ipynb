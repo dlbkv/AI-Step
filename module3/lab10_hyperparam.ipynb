{
 "cells": [
  {
   "cell_type": "code",
   "execution_count": 1,
   "id": "acff4b1f",
   "metadata": {
    "execution": {
     "iopub.execute_input": "2024-03-20T19:41:30.789707Z",
     "iopub.status.busy": "2024-03-20T19:41:30.788874Z",
     "iopub.status.idle": "2024-03-20T19:41:35.029354Z",
     "shell.execute_reply": "2024-03-20T19:41:35.028069Z"
    },
    "papermill": {
     "duration": 4.255142,
     "end_time": "2024-03-20T19:41:35.032296",
     "exception": false,
     "start_time": "2024-03-20T19:41:30.777154",
     "status": "completed"
    },
    "tags": []
   },
   "outputs": [],
   "source": [
    "import pandas as pd\n",
    "import numpy as np\n",
    "import matplotlib.pyplot as plt\n",
    "from sklearn import model_selection, metrics\n",
    "import lightgbm as lgb"
   ]
  },
  {
   "cell_type": "code",
   "execution_count": 2,
   "id": "38ef8ac8",
   "metadata": {
    "execution": {
     "iopub.execute_input": "2024-03-20T19:41:35.052515Z",
     "iopub.status.busy": "2024-03-20T19:41:35.052047Z",
     "iopub.status.idle": "2024-03-20T19:41:51.427631Z",
     "shell.execute_reply": "2024-03-20T19:41:51.425899Z"
    },
    "papermill": {
     "duration": 16.390235,
     "end_time": "2024-03-20T19:41:51.431627",
     "exception": false,
     "start_time": "2024-03-20T19:41:35.041392",
     "status": "completed"
    },
    "tags": []
   },
   "outputs": [],
   "source": [
    "!pip install -q optuna"
   ]
  },
  {
   "cell_type": "code",
   "execution_count": 3,
   "id": "273c1510",
   "metadata": {
    "execution": {
     "iopub.execute_input": "2024-03-20T19:41:51.453389Z",
     "iopub.status.busy": "2024-03-20T19:41:51.452873Z",
     "iopub.status.idle": "2024-03-20T19:41:53.179882Z",
     "shell.execute_reply": "2024-03-20T19:41:53.178923Z"
    },
    "papermill": {
     "duration": 1.740523,
     "end_time": "2024-03-20T19:41:53.182497",
     "exception": false,
     "start_time": "2024-03-20T19:41:51.441974",
     "status": "completed"
    },
    "tags": []
   },
   "outputs": [],
   "source": [
    "from sklearn.model_selection import train_test_split\n",
    "import optuna"
   ]
  },
  {
   "cell_type": "code",
   "execution_count": 4,
   "id": "c4987466",
   "metadata": {
    "execution": {
     "iopub.execute_input": "2024-03-20T19:41:53.201857Z",
     "iopub.status.busy": "2024-03-20T19:41:53.201423Z",
     "iopub.status.idle": "2024-03-20T19:41:53.225832Z",
     "shell.execute_reply": "2024-03-20T19:41:53.224685Z"
    },
    "papermill": {
     "duration": 0.037447,
     "end_time": "2024-03-20T19:41:53.228767",
     "exception": false,
     "start_time": "2024-03-20T19:41:53.191320",
     "status": "completed"
    },
    "tags": []
   },
   "outputs": [],
   "source": [
    "df = pd.read_csv(r\"/kaggle/input/restaurant-revenue-prediction/train.csv.zip\")"
   ]
  },
  {
   "cell_type": "code",
   "execution_count": 5,
   "id": "ae923c7d",
   "metadata": {
    "execution": {
     "iopub.execute_input": "2024-03-20T19:41:53.248478Z",
     "iopub.status.busy": "2024-03-20T19:41:53.248054Z",
     "iopub.status.idle": "2024-03-20T19:41:53.295740Z",
     "shell.execute_reply": "2024-03-20T19:41:53.294486Z"
    },
    "papermill": {
     "duration": 0.060846,
     "end_time": "2024-03-20T19:41:53.298645",
     "exception": false,
     "start_time": "2024-03-20T19:41:53.237799",
     "status": "completed"
    },
    "tags": []
   },
   "outputs": [
    {
     "data": {
      "text/html": [
       "<div>\n",
       "<style scoped>\n",
       "    .dataframe tbody tr th:only-of-type {\n",
       "        vertical-align: middle;\n",
       "    }\n",
       "\n",
       "    .dataframe tbody tr th {\n",
       "        vertical-align: top;\n",
       "    }\n",
       "\n",
       "    .dataframe thead th {\n",
       "        text-align: right;\n",
       "    }\n",
       "</style>\n",
       "<table border=\"1\" class=\"dataframe\">\n",
       "  <thead>\n",
       "    <tr style=\"text-align: right;\">\n",
       "      <th></th>\n",
       "      <th>Id</th>\n",
       "      <th>Open Date</th>\n",
       "      <th>City</th>\n",
       "      <th>City Group</th>\n",
       "      <th>Type</th>\n",
       "      <th>P1</th>\n",
       "      <th>P2</th>\n",
       "      <th>P3</th>\n",
       "      <th>P4</th>\n",
       "      <th>P5</th>\n",
       "      <th>...</th>\n",
       "      <th>P29</th>\n",
       "      <th>P30</th>\n",
       "      <th>P31</th>\n",
       "      <th>P32</th>\n",
       "      <th>P33</th>\n",
       "      <th>P34</th>\n",
       "      <th>P35</th>\n",
       "      <th>P36</th>\n",
       "      <th>P37</th>\n",
       "      <th>revenue</th>\n",
       "    </tr>\n",
       "  </thead>\n",
       "  <tbody>\n",
       "    <tr>\n",
       "      <th>0</th>\n",
       "      <td>0</td>\n",
       "      <td>07/17/1999</td>\n",
       "      <td>İstanbul</td>\n",
       "      <td>Big Cities</td>\n",
       "      <td>IL</td>\n",
       "      <td>4</td>\n",
       "      <td>5.0</td>\n",
       "      <td>4.0</td>\n",
       "      <td>4.0</td>\n",
       "      <td>2</td>\n",
       "      <td>...</td>\n",
       "      <td>3.0</td>\n",
       "      <td>5</td>\n",
       "      <td>3</td>\n",
       "      <td>4</td>\n",
       "      <td>5</td>\n",
       "      <td>5</td>\n",
       "      <td>4</td>\n",
       "      <td>3</td>\n",
       "      <td>4</td>\n",
       "      <td>5653753.0</td>\n",
       "    </tr>\n",
       "    <tr>\n",
       "      <th>1</th>\n",
       "      <td>1</td>\n",
       "      <td>02/14/2008</td>\n",
       "      <td>Ankara</td>\n",
       "      <td>Big Cities</td>\n",
       "      <td>FC</td>\n",
       "      <td>4</td>\n",
       "      <td>5.0</td>\n",
       "      <td>4.0</td>\n",
       "      <td>4.0</td>\n",
       "      <td>1</td>\n",
       "      <td>...</td>\n",
       "      <td>3.0</td>\n",
       "      <td>0</td>\n",
       "      <td>0</td>\n",
       "      <td>0</td>\n",
       "      <td>0</td>\n",
       "      <td>0</td>\n",
       "      <td>0</td>\n",
       "      <td>0</td>\n",
       "      <td>0</td>\n",
       "      <td>6923131.0</td>\n",
       "    </tr>\n",
       "    <tr>\n",
       "      <th>2</th>\n",
       "      <td>2</td>\n",
       "      <td>03/09/2013</td>\n",
       "      <td>Diyarbakır</td>\n",
       "      <td>Other</td>\n",
       "      <td>IL</td>\n",
       "      <td>2</td>\n",
       "      <td>4.0</td>\n",
       "      <td>2.0</td>\n",
       "      <td>5.0</td>\n",
       "      <td>2</td>\n",
       "      <td>...</td>\n",
       "      <td>3.0</td>\n",
       "      <td>0</td>\n",
       "      <td>0</td>\n",
       "      <td>0</td>\n",
       "      <td>0</td>\n",
       "      <td>0</td>\n",
       "      <td>0</td>\n",
       "      <td>0</td>\n",
       "      <td>0</td>\n",
       "      <td>2055379.0</td>\n",
       "    </tr>\n",
       "    <tr>\n",
       "      <th>3</th>\n",
       "      <td>3</td>\n",
       "      <td>02/02/2012</td>\n",
       "      <td>Tokat</td>\n",
       "      <td>Other</td>\n",
       "      <td>IL</td>\n",
       "      <td>6</td>\n",
       "      <td>4.5</td>\n",
       "      <td>6.0</td>\n",
       "      <td>6.0</td>\n",
       "      <td>4</td>\n",
       "      <td>...</td>\n",
       "      <td>7.5</td>\n",
       "      <td>25</td>\n",
       "      <td>12</td>\n",
       "      <td>10</td>\n",
       "      <td>6</td>\n",
       "      <td>18</td>\n",
       "      <td>12</td>\n",
       "      <td>12</td>\n",
       "      <td>6</td>\n",
       "      <td>2675511.0</td>\n",
       "    </tr>\n",
       "    <tr>\n",
       "      <th>4</th>\n",
       "      <td>4</td>\n",
       "      <td>05/09/2009</td>\n",
       "      <td>Gaziantep</td>\n",
       "      <td>Other</td>\n",
       "      <td>IL</td>\n",
       "      <td>3</td>\n",
       "      <td>4.0</td>\n",
       "      <td>3.0</td>\n",
       "      <td>4.0</td>\n",
       "      <td>2</td>\n",
       "      <td>...</td>\n",
       "      <td>3.0</td>\n",
       "      <td>5</td>\n",
       "      <td>1</td>\n",
       "      <td>3</td>\n",
       "      <td>2</td>\n",
       "      <td>3</td>\n",
       "      <td>4</td>\n",
       "      <td>3</td>\n",
       "      <td>3</td>\n",
       "      <td>4316715.0</td>\n",
       "    </tr>\n",
       "  </tbody>\n",
       "</table>\n",
       "<p>5 rows × 43 columns</p>\n",
       "</div>"
      ],
      "text/plain": [
       "   Id   Open Date        City  City Group Type  P1   P2   P3   P4  P5  ...  \\\n",
       "0   0  07/17/1999    İstanbul  Big Cities   IL   4  5.0  4.0  4.0   2  ...   \n",
       "1   1  02/14/2008      Ankara  Big Cities   FC   4  5.0  4.0  4.0   1  ...   \n",
       "2   2  03/09/2013  Diyarbakır       Other   IL   2  4.0  2.0  5.0   2  ...   \n",
       "3   3  02/02/2012       Tokat       Other   IL   6  4.5  6.0  6.0   4  ...   \n",
       "4   4  05/09/2009   Gaziantep       Other   IL   3  4.0  3.0  4.0   2  ...   \n",
       "\n",
       "   P29  P30  P31  P32  P33  P34  P35  P36  P37    revenue  \n",
       "0  3.0    5    3    4    5    5    4    3    4  5653753.0  \n",
       "1  3.0    0    0    0    0    0    0    0    0  6923131.0  \n",
       "2  3.0    0    0    0    0    0    0    0    0  2055379.0  \n",
       "3  7.5   25   12   10    6   18   12   12    6  2675511.0  \n",
       "4  3.0    5    1    3    2    3    4    3    3  4316715.0  \n",
       "\n",
       "[5 rows x 43 columns]"
      ]
     },
     "execution_count": 5,
     "metadata": {},
     "output_type": "execute_result"
    }
   ],
   "source": [
    "df.head()"
   ]
  },
  {
   "cell_type": "code",
   "execution_count": 6,
   "id": "c5326771",
   "metadata": {
    "execution": {
     "iopub.execute_input": "2024-03-20T19:41:53.319703Z",
     "iopub.status.busy": "2024-03-20T19:41:53.319297Z",
     "iopub.status.idle": "2024-03-20T19:41:53.328865Z",
     "shell.execute_reply": "2024-03-20T19:41:53.327640Z"
    },
    "papermill": {
     "duration": 0.023304,
     "end_time": "2024-03-20T19:41:53.331460",
     "exception": false,
     "start_time": "2024-03-20T19:41:53.308156",
     "status": "completed"
    },
    "tags": []
   },
   "outputs": [],
   "source": [
    "df = df.drop(columns=['Id', 'Open Date'])"
   ]
  },
  {
   "cell_type": "code",
   "execution_count": 7,
   "id": "031369e7",
   "metadata": {
    "execution": {
     "iopub.execute_input": "2024-03-20T19:41:53.353470Z",
     "iopub.status.busy": "2024-03-20T19:41:53.352595Z",
     "iopub.status.idle": "2024-03-20T19:41:53.387255Z",
     "shell.execute_reply": "2024-03-20T19:41:53.386016Z"
    },
    "papermill": {
     "duration": 0.049333,
     "end_time": "2024-03-20T19:41:53.390341",
     "exception": false,
     "start_time": "2024-03-20T19:41:53.341008",
     "status": "completed"
    },
    "tags": []
   },
   "outputs": [
    {
     "data": {
      "text/html": [
       "<div>\n",
       "<style scoped>\n",
       "    .dataframe tbody tr th:only-of-type {\n",
       "        vertical-align: middle;\n",
       "    }\n",
       "\n",
       "    .dataframe tbody tr th {\n",
       "        vertical-align: top;\n",
       "    }\n",
       "\n",
       "    .dataframe thead th {\n",
       "        text-align: right;\n",
       "    }\n",
       "</style>\n",
       "<table border=\"1\" class=\"dataframe\">\n",
       "  <thead>\n",
       "    <tr style=\"text-align: right;\">\n",
       "      <th></th>\n",
       "      <th>City</th>\n",
       "      <th>City Group</th>\n",
       "      <th>Type</th>\n",
       "      <th>P1</th>\n",
       "      <th>P2</th>\n",
       "      <th>P3</th>\n",
       "      <th>P4</th>\n",
       "      <th>P5</th>\n",
       "      <th>P6</th>\n",
       "      <th>P7</th>\n",
       "      <th>...</th>\n",
       "      <th>P29</th>\n",
       "      <th>P30</th>\n",
       "      <th>P31</th>\n",
       "      <th>P32</th>\n",
       "      <th>P33</th>\n",
       "      <th>P34</th>\n",
       "      <th>P35</th>\n",
       "      <th>P36</th>\n",
       "      <th>P37</th>\n",
       "      <th>revenue</th>\n",
       "    </tr>\n",
       "  </thead>\n",
       "  <tbody>\n",
       "    <tr>\n",
       "      <th>0</th>\n",
       "      <td>İstanbul</td>\n",
       "      <td>Big Cities</td>\n",
       "      <td>IL</td>\n",
       "      <td>4</td>\n",
       "      <td>5.0</td>\n",
       "      <td>4.0</td>\n",
       "      <td>4.0</td>\n",
       "      <td>2</td>\n",
       "      <td>2</td>\n",
       "      <td>5</td>\n",
       "      <td>...</td>\n",
       "      <td>3.0</td>\n",
       "      <td>5</td>\n",
       "      <td>3</td>\n",
       "      <td>4</td>\n",
       "      <td>5</td>\n",
       "      <td>5</td>\n",
       "      <td>4</td>\n",
       "      <td>3</td>\n",
       "      <td>4</td>\n",
       "      <td>5653753.0</td>\n",
       "    </tr>\n",
       "    <tr>\n",
       "      <th>1</th>\n",
       "      <td>Ankara</td>\n",
       "      <td>Big Cities</td>\n",
       "      <td>FC</td>\n",
       "      <td>4</td>\n",
       "      <td>5.0</td>\n",
       "      <td>4.0</td>\n",
       "      <td>4.0</td>\n",
       "      <td>1</td>\n",
       "      <td>2</td>\n",
       "      <td>5</td>\n",
       "      <td>...</td>\n",
       "      <td>3.0</td>\n",
       "      <td>0</td>\n",
       "      <td>0</td>\n",
       "      <td>0</td>\n",
       "      <td>0</td>\n",
       "      <td>0</td>\n",
       "      <td>0</td>\n",
       "      <td>0</td>\n",
       "      <td>0</td>\n",
       "      <td>6923131.0</td>\n",
       "    </tr>\n",
       "    <tr>\n",
       "      <th>2</th>\n",
       "      <td>Diyarbakır</td>\n",
       "      <td>Other</td>\n",
       "      <td>IL</td>\n",
       "      <td>2</td>\n",
       "      <td>4.0</td>\n",
       "      <td>2.0</td>\n",
       "      <td>5.0</td>\n",
       "      <td>2</td>\n",
       "      <td>3</td>\n",
       "      <td>5</td>\n",
       "      <td>...</td>\n",
       "      <td>3.0</td>\n",
       "      <td>0</td>\n",
       "      <td>0</td>\n",
       "      <td>0</td>\n",
       "      <td>0</td>\n",
       "      <td>0</td>\n",
       "      <td>0</td>\n",
       "      <td>0</td>\n",
       "      <td>0</td>\n",
       "      <td>2055379.0</td>\n",
       "    </tr>\n",
       "    <tr>\n",
       "      <th>3</th>\n",
       "      <td>Tokat</td>\n",
       "      <td>Other</td>\n",
       "      <td>IL</td>\n",
       "      <td>6</td>\n",
       "      <td>4.5</td>\n",
       "      <td>6.0</td>\n",
       "      <td>6.0</td>\n",
       "      <td>4</td>\n",
       "      <td>4</td>\n",
       "      <td>10</td>\n",
       "      <td>...</td>\n",
       "      <td>7.5</td>\n",
       "      <td>25</td>\n",
       "      <td>12</td>\n",
       "      <td>10</td>\n",
       "      <td>6</td>\n",
       "      <td>18</td>\n",
       "      <td>12</td>\n",
       "      <td>12</td>\n",
       "      <td>6</td>\n",
       "      <td>2675511.0</td>\n",
       "    </tr>\n",
       "    <tr>\n",
       "      <th>4</th>\n",
       "      <td>Gaziantep</td>\n",
       "      <td>Other</td>\n",
       "      <td>IL</td>\n",
       "      <td>3</td>\n",
       "      <td>4.0</td>\n",
       "      <td>3.0</td>\n",
       "      <td>4.0</td>\n",
       "      <td>2</td>\n",
       "      <td>2</td>\n",
       "      <td>5</td>\n",
       "      <td>...</td>\n",
       "      <td>3.0</td>\n",
       "      <td>5</td>\n",
       "      <td>1</td>\n",
       "      <td>3</td>\n",
       "      <td>2</td>\n",
       "      <td>3</td>\n",
       "      <td>4</td>\n",
       "      <td>3</td>\n",
       "      <td>3</td>\n",
       "      <td>4316715.0</td>\n",
       "    </tr>\n",
       "    <tr>\n",
       "      <th>...</th>\n",
       "      <td>...</td>\n",
       "      <td>...</td>\n",
       "      <td>...</td>\n",
       "      <td>...</td>\n",
       "      <td>...</td>\n",
       "      <td>...</td>\n",
       "      <td>...</td>\n",
       "      <td>...</td>\n",
       "      <td>...</td>\n",
       "      <td>...</td>\n",
       "      <td>...</td>\n",
       "      <td>...</td>\n",
       "      <td>...</td>\n",
       "      <td>...</td>\n",
       "      <td>...</td>\n",
       "      <td>...</td>\n",
       "      <td>...</td>\n",
       "      <td>...</td>\n",
       "      <td>...</td>\n",
       "      <td>...</td>\n",
       "      <td>...</td>\n",
       "    </tr>\n",
       "    <tr>\n",
       "      <th>132</th>\n",
       "      <td>Trabzon</td>\n",
       "      <td>Other</td>\n",
       "      <td>FC</td>\n",
       "      <td>2</td>\n",
       "      <td>3.0</td>\n",
       "      <td>3.0</td>\n",
       "      <td>5.0</td>\n",
       "      <td>4</td>\n",
       "      <td>2</td>\n",
       "      <td>4</td>\n",
       "      <td>...</td>\n",
       "      <td>3.0</td>\n",
       "      <td>0</td>\n",
       "      <td>0</td>\n",
       "      <td>0</td>\n",
       "      <td>0</td>\n",
       "      <td>0</td>\n",
       "      <td>0</td>\n",
       "      <td>0</td>\n",
       "      <td>0</td>\n",
       "      <td>5787594.0</td>\n",
       "    </tr>\n",
       "    <tr>\n",
       "      <th>133</th>\n",
       "      <td>İzmir</td>\n",
       "      <td>Big Cities</td>\n",
       "      <td>FC</td>\n",
       "      <td>4</td>\n",
       "      <td>5.0</td>\n",
       "      <td>4.0</td>\n",
       "      <td>4.0</td>\n",
       "      <td>2</td>\n",
       "      <td>3</td>\n",
       "      <td>5</td>\n",
       "      <td>...</td>\n",
       "      <td>3.0</td>\n",
       "      <td>0</td>\n",
       "      <td>0</td>\n",
       "      <td>0</td>\n",
       "      <td>0</td>\n",
       "      <td>0</td>\n",
       "      <td>0</td>\n",
       "      <td>0</td>\n",
       "      <td>0</td>\n",
       "      <td>9262754.0</td>\n",
       "    </tr>\n",
       "    <tr>\n",
       "      <th>134</th>\n",
       "      <td>Kayseri</td>\n",
       "      <td>Other</td>\n",
       "      <td>FC</td>\n",
       "      <td>3</td>\n",
       "      <td>4.0</td>\n",
       "      <td>4.0</td>\n",
       "      <td>4.0</td>\n",
       "      <td>2</td>\n",
       "      <td>3</td>\n",
       "      <td>5</td>\n",
       "      <td>...</td>\n",
       "      <td>3.0</td>\n",
       "      <td>0</td>\n",
       "      <td>0</td>\n",
       "      <td>0</td>\n",
       "      <td>0</td>\n",
       "      <td>0</td>\n",
       "      <td>0</td>\n",
       "      <td>0</td>\n",
       "      <td>0</td>\n",
       "      <td>2544857.0</td>\n",
       "    </tr>\n",
       "    <tr>\n",
       "      <th>135</th>\n",
       "      <td>İstanbul</td>\n",
       "      <td>Big Cities</td>\n",
       "      <td>FC</td>\n",
       "      <td>4</td>\n",
       "      <td>5.0</td>\n",
       "      <td>4.0</td>\n",
       "      <td>5.0</td>\n",
       "      <td>2</td>\n",
       "      <td>2</td>\n",
       "      <td>5</td>\n",
       "      <td>...</td>\n",
       "      <td>3.0</td>\n",
       "      <td>0</td>\n",
       "      <td>0</td>\n",
       "      <td>0</td>\n",
       "      <td>0</td>\n",
       "      <td>0</td>\n",
       "      <td>0</td>\n",
       "      <td>0</td>\n",
       "      <td>0</td>\n",
       "      <td>7217634.0</td>\n",
       "    </tr>\n",
       "    <tr>\n",
       "      <th>136</th>\n",
       "      <td>İstanbul</td>\n",
       "      <td>Big Cities</td>\n",
       "      <td>FC</td>\n",
       "      <td>4</td>\n",
       "      <td>5.0</td>\n",
       "      <td>3.0</td>\n",
       "      <td>5.0</td>\n",
       "      <td>2</td>\n",
       "      <td>2</td>\n",
       "      <td>5</td>\n",
       "      <td>...</td>\n",
       "      <td>3.0</td>\n",
       "      <td>0</td>\n",
       "      <td>0</td>\n",
       "      <td>0</td>\n",
       "      <td>0</td>\n",
       "      <td>0</td>\n",
       "      <td>0</td>\n",
       "      <td>0</td>\n",
       "      <td>0</td>\n",
       "      <td>6363241.0</td>\n",
       "    </tr>\n",
       "  </tbody>\n",
       "</table>\n",
       "<p>137 rows × 41 columns</p>\n",
       "</div>"
      ],
      "text/plain": [
       "           City  City Group Type  P1   P2   P3   P4  P5  P6  P7  ...  P29  \\\n",
       "0      İstanbul  Big Cities   IL   4  5.0  4.0  4.0   2   2   5  ...  3.0   \n",
       "1        Ankara  Big Cities   FC   4  5.0  4.0  4.0   1   2   5  ...  3.0   \n",
       "2    Diyarbakır       Other   IL   2  4.0  2.0  5.0   2   3   5  ...  3.0   \n",
       "3         Tokat       Other   IL   6  4.5  6.0  6.0   4   4  10  ...  7.5   \n",
       "4     Gaziantep       Other   IL   3  4.0  3.0  4.0   2   2   5  ...  3.0   \n",
       "..          ...         ...  ...  ..  ...  ...  ...  ..  ..  ..  ...  ...   \n",
       "132     Trabzon       Other   FC   2  3.0  3.0  5.0   4   2   4  ...  3.0   \n",
       "133       İzmir  Big Cities   FC   4  5.0  4.0  4.0   2   3   5  ...  3.0   \n",
       "134     Kayseri       Other   FC   3  4.0  4.0  4.0   2   3   5  ...  3.0   \n",
       "135    İstanbul  Big Cities   FC   4  5.0  4.0  5.0   2   2   5  ...  3.0   \n",
       "136    İstanbul  Big Cities   FC   4  5.0  3.0  5.0   2   2   5  ...  3.0   \n",
       "\n",
       "     P30  P31  P32  P33  P34  P35  P36  P37    revenue  \n",
       "0      5    3    4    5    5    4    3    4  5653753.0  \n",
       "1      0    0    0    0    0    0    0    0  6923131.0  \n",
       "2      0    0    0    0    0    0    0    0  2055379.0  \n",
       "3     25   12   10    6   18   12   12    6  2675511.0  \n",
       "4      5    1    3    2    3    4    3    3  4316715.0  \n",
       "..   ...  ...  ...  ...  ...  ...  ...  ...        ...  \n",
       "132    0    0    0    0    0    0    0    0  5787594.0  \n",
       "133    0    0    0    0    0    0    0    0  9262754.0  \n",
       "134    0    0    0    0    0    0    0    0  2544857.0  \n",
       "135    0    0    0    0    0    0    0    0  7217634.0  \n",
       "136    0    0    0    0    0    0    0    0  6363241.0  \n",
       "\n",
       "[137 rows x 41 columns]"
      ]
     },
     "execution_count": 7,
     "metadata": {},
     "output_type": "execute_result"
    }
   ],
   "source": [
    "df"
   ]
  },
  {
   "cell_type": "code",
   "execution_count": 8,
   "id": "d9b320ed",
   "metadata": {
    "execution": {
     "iopub.execute_input": "2024-03-20T19:41:53.413654Z",
     "iopub.status.busy": "2024-03-20T19:41:53.412821Z",
     "iopub.status.idle": "2024-03-20T19:41:53.442504Z",
     "shell.execute_reply": "2024-03-20T19:41:53.440981Z"
    },
    "papermill": {
     "duration": 0.044215,
     "end_time": "2024-03-20T19:41:53.445541",
     "exception": false,
     "start_time": "2024-03-20T19:41:53.401326",
     "status": "completed"
    },
    "tags": []
   },
   "outputs": [
    {
     "name": "stdout",
     "output_type": "stream",
     "text": [
      "<class 'pandas.core.frame.DataFrame'>\n",
      "RangeIndex: 137 entries, 0 to 136\n",
      "Data columns (total 41 columns):\n",
      " #   Column      Non-Null Count  Dtype  \n",
      "---  ------      --------------  -----  \n",
      " 0   City        137 non-null    object \n",
      " 1   City Group  137 non-null    object \n",
      " 2   Type        137 non-null    object \n",
      " 3   P1          137 non-null    int64  \n",
      " 4   P2          137 non-null    float64\n",
      " 5   P3          137 non-null    float64\n",
      " 6   P4          137 non-null    float64\n",
      " 7   P5          137 non-null    int64  \n",
      " 8   P6          137 non-null    int64  \n",
      " 9   P7          137 non-null    int64  \n",
      " 10  P8          137 non-null    int64  \n",
      " 11  P9          137 non-null    int64  \n",
      " 12  P10         137 non-null    int64  \n",
      " 13  P11         137 non-null    int64  \n",
      " 14  P12         137 non-null    int64  \n",
      " 15  P13         137 non-null    float64\n",
      " 16  P14         137 non-null    int64  \n",
      " 17  P15         137 non-null    int64  \n",
      " 18  P16         137 non-null    int64  \n",
      " 19  P17         137 non-null    int64  \n",
      " 20  P18         137 non-null    int64  \n",
      " 21  P19         137 non-null    int64  \n",
      " 22  P20         137 non-null    int64  \n",
      " 23  P21         137 non-null    int64  \n",
      " 24  P22         137 non-null    int64  \n",
      " 25  P23         137 non-null    int64  \n",
      " 26  P24         137 non-null    int64  \n",
      " 27  P25         137 non-null    int64  \n",
      " 28  P26         137 non-null    float64\n",
      " 29  P27         137 non-null    float64\n",
      " 30  P28         137 non-null    float64\n",
      " 31  P29         137 non-null    float64\n",
      " 32  P30         137 non-null    int64  \n",
      " 33  P31         137 non-null    int64  \n",
      " 34  P32         137 non-null    int64  \n",
      " 35  P33         137 non-null    int64  \n",
      " 36  P34         137 non-null    int64  \n",
      " 37  P35         137 non-null    int64  \n",
      " 38  P36         137 non-null    int64  \n",
      " 39  P37         137 non-null    int64  \n",
      " 40  revenue     137 non-null    float64\n",
      "dtypes: float64(9), int64(29), object(3)\n",
      "memory usage: 44.0+ KB\n"
     ]
    }
   ],
   "source": [
    "df.info()"
   ]
  },
  {
   "cell_type": "code",
   "execution_count": 9,
   "id": "b29741f0",
   "metadata": {
    "execution": {
     "iopub.execute_input": "2024-03-20T19:41:53.468813Z",
     "iopub.status.busy": "2024-03-20T19:41:53.468424Z",
     "iopub.status.idle": "2024-03-20T19:41:53.474550Z",
     "shell.execute_reply": "2024-03-20T19:41:53.473187Z"
    },
    "papermill": {
     "duration": 0.021182,
     "end_time": "2024-03-20T19:41:53.477133",
     "exception": false,
     "start_time": "2024-03-20T19:41:53.455951",
     "status": "completed"
    },
    "tags": []
   },
   "outputs": [],
   "source": [
    "y = df['revenue']\n",
    "X = df.drop(columns='revenue')"
   ]
  },
  {
   "cell_type": "code",
   "execution_count": 10,
   "id": "b885788e",
   "metadata": {
    "execution": {
     "iopub.execute_input": "2024-03-20T19:41:53.499431Z",
     "iopub.status.busy": "2024-03-20T19:41:53.498738Z",
     "iopub.status.idle": "2024-03-20T19:41:53.508340Z",
     "shell.execute_reply": "2024-03-20T19:41:53.507247Z"
    },
    "papermill": {
     "duration": 0.024114,
     "end_time": "2024-03-20T19:41:53.511241",
     "exception": false,
     "start_time": "2024-03-20T19:41:53.487127",
     "status": "completed"
    },
    "tags": []
   },
   "outputs": [],
   "source": [
    "X_train, X_test, y_train, y_test = train_test_split(X, y,\n",
    "                                                    train_size=0.8,\n",
    "                                                    random_state=42)\n",
    "\n",
    "X_train, X_val, y_train, y_val = train_test_split(X_train, y_train,\n",
    "                                                  train_size=0.75,\n",
    "                                                  random_state=42)"
   ]
  },
  {
   "cell_type": "code",
   "execution_count": 11,
   "id": "b9d383ac",
   "metadata": {
    "execution": {
     "iopub.execute_input": "2024-03-20T19:41:53.533157Z",
     "iopub.status.busy": "2024-03-20T19:41:53.532736Z",
     "iopub.status.idle": "2024-03-20T19:41:53.751770Z",
     "shell.execute_reply": "2024-03-20T19:41:53.750545Z"
    },
    "papermill": {
     "duration": 0.233585,
     "end_time": "2024-03-20T19:41:53.754810",
     "exception": false,
     "start_time": "2024-03-20T19:41:53.521225",
     "status": "completed"
    },
    "tags": []
   },
   "outputs": [],
   "source": [
    "from sklearn.compose import ColumnTransformer\n",
    "from sklearn.pipeline import Pipeline\n",
    "from sklearn.impute import SimpleImputer\n",
    "from sklearn.preprocessing import OneHotEncoder"
   ]
  },
  {
   "cell_type": "code",
   "execution_count": 12,
   "id": "82db8a0f",
   "metadata": {
    "execution": {
     "iopub.execute_input": "2024-03-20T19:41:53.777821Z",
     "iopub.status.busy": "2024-03-20T19:41:53.777388Z",
     "iopub.status.idle": "2024-03-20T19:41:53.825805Z",
     "shell.execute_reply": "2024-03-20T19:41:53.824633Z"
    },
    "papermill": {
     "duration": 0.063155,
     "end_time": "2024-03-20T19:41:53.828512",
     "exception": false,
     "start_time": "2024-03-20T19:41:53.765357",
     "status": "completed"
    },
    "tags": []
   },
   "outputs": [
    {
     "data": {
      "text/html": [
       "<style>#sk-container-id-1 {color: black;background-color: white;}#sk-container-id-1 pre{padding: 0;}#sk-container-id-1 div.sk-toggleable {background-color: white;}#sk-container-id-1 label.sk-toggleable__label {cursor: pointer;display: block;width: 100%;margin-bottom: 0;padding: 0.3em;box-sizing: border-box;text-align: center;}#sk-container-id-1 label.sk-toggleable__label-arrow:before {content: \"▸\";float: left;margin-right: 0.25em;color: #696969;}#sk-container-id-1 label.sk-toggleable__label-arrow:hover:before {color: black;}#sk-container-id-1 div.sk-estimator:hover label.sk-toggleable__label-arrow:before {color: black;}#sk-container-id-1 div.sk-toggleable__content {max-height: 0;max-width: 0;overflow: hidden;text-align: left;background-color: #f0f8ff;}#sk-container-id-1 div.sk-toggleable__content pre {margin: 0.2em;color: black;border-radius: 0.25em;background-color: #f0f8ff;}#sk-container-id-1 input.sk-toggleable__control:checked~div.sk-toggleable__content {max-height: 200px;max-width: 100%;overflow: auto;}#sk-container-id-1 input.sk-toggleable__control:checked~label.sk-toggleable__label-arrow:before {content: \"▾\";}#sk-container-id-1 div.sk-estimator input.sk-toggleable__control:checked~label.sk-toggleable__label {background-color: #d4ebff;}#sk-container-id-1 div.sk-label input.sk-toggleable__control:checked~label.sk-toggleable__label {background-color: #d4ebff;}#sk-container-id-1 input.sk-hidden--visually {border: 0;clip: rect(1px 1px 1px 1px);clip: rect(1px, 1px, 1px, 1px);height: 1px;margin: -1px;overflow: hidden;padding: 0;position: absolute;width: 1px;}#sk-container-id-1 div.sk-estimator {font-family: monospace;background-color: #f0f8ff;border: 1px dotted black;border-radius: 0.25em;box-sizing: border-box;margin-bottom: 0.5em;}#sk-container-id-1 div.sk-estimator:hover {background-color: #d4ebff;}#sk-container-id-1 div.sk-parallel-item::after {content: \"\";width: 100%;border-bottom: 1px solid gray;flex-grow: 1;}#sk-container-id-1 div.sk-label:hover label.sk-toggleable__label {background-color: #d4ebff;}#sk-container-id-1 div.sk-serial::before {content: \"\";position: absolute;border-left: 1px solid gray;box-sizing: border-box;top: 0;bottom: 0;left: 50%;z-index: 0;}#sk-container-id-1 div.sk-serial {display: flex;flex-direction: column;align-items: center;background-color: white;padding-right: 0.2em;padding-left: 0.2em;position: relative;}#sk-container-id-1 div.sk-item {position: relative;z-index: 1;}#sk-container-id-1 div.sk-parallel {display: flex;align-items: stretch;justify-content: center;background-color: white;position: relative;}#sk-container-id-1 div.sk-item::before, #sk-container-id-1 div.sk-parallel-item::before {content: \"\";position: absolute;border-left: 1px solid gray;box-sizing: border-box;top: 0;bottom: 0;left: 50%;z-index: -1;}#sk-container-id-1 div.sk-parallel-item {display: flex;flex-direction: column;z-index: 1;position: relative;background-color: white;}#sk-container-id-1 div.sk-parallel-item:first-child::after {align-self: flex-end;width: 50%;}#sk-container-id-1 div.sk-parallel-item:last-child::after {align-self: flex-start;width: 50%;}#sk-container-id-1 div.sk-parallel-item:only-child::after {width: 0;}#sk-container-id-1 div.sk-dashed-wrapped {border: 1px dashed gray;margin: 0 0.4em 0.5em 0.4em;box-sizing: border-box;padding-bottom: 0.4em;background-color: white;}#sk-container-id-1 div.sk-label label {font-family: monospace;font-weight: bold;display: inline-block;line-height: 1.2em;}#sk-container-id-1 div.sk-label-container {text-align: center;}#sk-container-id-1 div.sk-container {/* jupyter's `normalize.less` sets `[hidden] { display: none; }` but bootstrap.min.css set `[hidden] { display: none !important; }` so we also need the `!important` here to be able to override the default hidden behavior on the sphinx rendered scikit-learn.org. See: https://github.com/scikit-learn/scikit-learn/issues/21755 */display: inline-block !important;position: relative;}#sk-container-id-1 div.sk-text-repr-fallback {display: none;}</style><div id=\"sk-container-id-1\" class=\"sk-top-container\"><div class=\"sk-text-repr-fallback\"><pre>ColumnTransformer(transformers=[(&#x27;num&#x27;,\n",
       "                                 Pipeline(steps=[(&#x27;imputer&#x27;,\n",
       "                                                  SimpleImputer(strategy=&#x27;median&#x27;))]),\n",
       "                                 Index([&#x27;P1&#x27;, &#x27;P2&#x27;, &#x27;P3&#x27;, &#x27;P4&#x27;, &#x27;P5&#x27;, &#x27;P6&#x27;, &#x27;P7&#x27;, &#x27;P8&#x27;, &#x27;P9&#x27;, &#x27;P10&#x27;, &#x27;P11&#x27;,\n",
       "       &#x27;P12&#x27;, &#x27;P13&#x27;, &#x27;P14&#x27;, &#x27;P15&#x27;, &#x27;P16&#x27;, &#x27;P17&#x27;, &#x27;P18&#x27;, &#x27;P19&#x27;, &#x27;P20&#x27;, &#x27;P21&#x27;,\n",
       "       &#x27;P22&#x27;, &#x27;P23&#x27;, &#x27;P24&#x27;, &#x27;P25&#x27;, &#x27;P26&#x27;, &#x27;P27&#x27;, &#x27;P28&#x27;, &#x27;P29&#x27;, &#x27;P30&#x27;, &#x27;P31&#x27;,\n",
       "       &#x27;P32&#x27;, &#x27;P33&#x27;, &#x27;P34&#x27;, &#x27;P35&#x27;, &#x27;P36&#x27;, &#x27;P37&#x27;],\n",
       "      dtype=&#x27;object&#x27;)),\n",
       "                                (&#x27;cat&#x27;,\n",
       "                                 Pipeline(steps=[(&#x27;imputer&#x27;,\n",
       "                                                  SimpleImputer(strategy=&#x27;most_frequent&#x27;)),\n",
       "                                                 (&#x27;encoder&#x27;,\n",
       "                                                  OneHotEncoder(handle_unknown=&#x27;ignore&#x27;,\n",
       "                                                                sparse_output=False))]),\n",
       "                                 Index([&#x27;City&#x27;, &#x27;City Group&#x27;, &#x27;Type&#x27;], dtype=&#x27;object&#x27;))])</pre><b>In a Jupyter environment, please rerun this cell to show the HTML representation or trust the notebook. <br />On GitHub, the HTML representation is unable to render, please try loading this page with nbviewer.org.</b></div><div class=\"sk-container\" hidden><div class=\"sk-item sk-dashed-wrapped\"><div class=\"sk-label-container\"><div class=\"sk-label sk-toggleable\"><input class=\"sk-toggleable__control sk-hidden--visually\" id=\"sk-estimator-id-1\" type=\"checkbox\" ><label for=\"sk-estimator-id-1\" class=\"sk-toggleable__label sk-toggleable__label-arrow\">ColumnTransformer</label><div class=\"sk-toggleable__content\"><pre>ColumnTransformer(transformers=[(&#x27;num&#x27;,\n",
       "                                 Pipeline(steps=[(&#x27;imputer&#x27;,\n",
       "                                                  SimpleImputer(strategy=&#x27;median&#x27;))]),\n",
       "                                 Index([&#x27;P1&#x27;, &#x27;P2&#x27;, &#x27;P3&#x27;, &#x27;P4&#x27;, &#x27;P5&#x27;, &#x27;P6&#x27;, &#x27;P7&#x27;, &#x27;P8&#x27;, &#x27;P9&#x27;, &#x27;P10&#x27;, &#x27;P11&#x27;,\n",
       "       &#x27;P12&#x27;, &#x27;P13&#x27;, &#x27;P14&#x27;, &#x27;P15&#x27;, &#x27;P16&#x27;, &#x27;P17&#x27;, &#x27;P18&#x27;, &#x27;P19&#x27;, &#x27;P20&#x27;, &#x27;P21&#x27;,\n",
       "       &#x27;P22&#x27;, &#x27;P23&#x27;, &#x27;P24&#x27;, &#x27;P25&#x27;, &#x27;P26&#x27;, &#x27;P27&#x27;, &#x27;P28&#x27;, &#x27;P29&#x27;, &#x27;P30&#x27;, &#x27;P31&#x27;,\n",
       "       &#x27;P32&#x27;, &#x27;P33&#x27;, &#x27;P34&#x27;, &#x27;P35&#x27;, &#x27;P36&#x27;, &#x27;P37&#x27;],\n",
       "      dtype=&#x27;object&#x27;)),\n",
       "                                (&#x27;cat&#x27;,\n",
       "                                 Pipeline(steps=[(&#x27;imputer&#x27;,\n",
       "                                                  SimpleImputer(strategy=&#x27;most_frequent&#x27;)),\n",
       "                                                 (&#x27;encoder&#x27;,\n",
       "                                                  OneHotEncoder(handle_unknown=&#x27;ignore&#x27;,\n",
       "                                                                sparse_output=False))]),\n",
       "                                 Index([&#x27;City&#x27;, &#x27;City Group&#x27;, &#x27;Type&#x27;], dtype=&#x27;object&#x27;))])</pre></div></div></div><div class=\"sk-parallel\"><div class=\"sk-parallel-item\"><div class=\"sk-item\"><div class=\"sk-label-container\"><div class=\"sk-label sk-toggleable\"><input class=\"sk-toggleable__control sk-hidden--visually\" id=\"sk-estimator-id-2\" type=\"checkbox\" ><label for=\"sk-estimator-id-2\" class=\"sk-toggleable__label sk-toggleable__label-arrow\">num</label><div class=\"sk-toggleable__content\"><pre>Index([&#x27;P1&#x27;, &#x27;P2&#x27;, &#x27;P3&#x27;, &#x27;P4&#x27;, &#x27;P5&#x27;, &#x27;P6&#x27;, &#x27;P7&#x27;, &#x27;P8&#x27;, &#x27;P9&#x27;, &#x27;P10&#x27;, &#x27;P11&#x27;,\n",
       "       &#x27;P12&#x27;, &#x27;P13&#x27;, &#x27;P14&#x27;, &#x27;P15&#x27;, &#x27;P16&#x27;, &#x27;P17&#x27;, &#x27;P18&#x27;, &#x27;P19&#x27;, &#x27;P20&#x27;, &#x27;P21&#x27;,\n",
       "       &#x27;P22&#x27;, &#x27;P23&#x27;, &#x27;P24&#x27;, &#x27;P25&#x27;, &#x27;P26&#x27;, &#x27;P27&#x27;, &#x27;P28&#x27;, &#x27;P29&#x27;, &#x27;P30&#x27;, &#x27;P31&#x27;,\n",
       "       &#x27;P32&#x27;, &#x27;P33&#x27;, &#x27;P34&#x27;, &#x27;P35&#x27;, &#x27;P36&#x27;, &#x27;P37&#x27;],\n",
       "      dtype=&#x27;object&#x27;)</pre></div></div></div><div class=\"sk-serial\"><div class=\"sk-item\"><div class=\"sk-serial\"><div class=\"sk-item\"><div class=\"sk-estimator sk-toggleable\"><input class=\"sk-toggleable__control sk-hidden--visually\" id=\"sk-estimator-id-3\" type=\"checkbox\" ><label for=\"sk-estimator-id-3\" class=\"sk-toggleable__label sk-toggleable__label-arrow\">SimpleImputer</label><div class=\"sk-toggleable__content\"><pre>SimpleImputer(strategy=&#x27;median&#x27;)</pre></div></div></div></div></div></div></div></div><div class=\"sk-parallel-item\"><div class=\"sk-item\"><div class=\"sk-label-container\"><div class=\"sk-label sk-toggleable\"><input class=\"sk-toggleable__control sk-hidden--visually\" id=\"sk-estimator-id-4\" type=\"checkbox\" ><label for=\"sk-estimator-id-4\" class=\"sk-toggleable__label sk-toggleable__label-arrow\">cat</label><div class=\"sk-toggleable__content\"><pre>Index([&#x27;City&#x27;, &#x27;City Group&#x27;, &#x27;Type&#x27;], dtype=&#x27;object&#x27;)</pre></div></div></div><div class=\"sk-serial\"><div class=\"sk-item\"><div class=\"sk-serial\"><div class=\"sk-item\"><div class=\"sk-estimator sk-toggleable\"><input class=\"sk-toggleable__control sk-hidden--visually\" id=\"sk-estimator-id-5\" type=\"checkbox\" ><label for=\"sk-estimator-id-5\" class=\"sk-toggleable__label sk-toggleable__label-arrow\">SimpleImputer</label><div class=\"sk-toggleable__content\"><pre>SimpleImputer(strategy=&#x27;most_frequent&#x27;)</pre></div></div></div><div class=\"sk-item\"><div class=\"sk-estimator sk-toggleable\"><input class=\"sk-toggleable__control sk-hidden--visually\" id=\"sk-estimator-id-6\" type=\"checkbox\" ><label for=\"sk-estimator-id-6\" class=\"sk-toggleable__label sk-toggleable__label-arrow\">OneHotEncoder</label><div class=\"sk-toggleable__content\"><pre>OneHotEncoder(handle_unknown=&#x27;ignore&#x27;, sparse_output=False)</pre></div></div></div></div></div></div></div></div></div></div></div></div>"
      ],
      "text/plain": [
       "ColumnTransformer(transformers=[('num',\n",
       "                                 Pipeline(steps=[('imputer',\n",
       "                                                  SimpleImputer(strategy='median'))]),\n",
       "                                 Index(['P1', 'P2', 'P3', 'P4', 'P5', 'P6', 'P7', 'P8', 'P9', 'P10', 'P11',\n",
       "       'P12', 'P13', 'P14', 'P15', 'P16', 'P17', 'P18', 'P19', 'P20', 'P21',\n",
       "       'P22', 'P23', 'P24', 'P25', 'P26', 'P27', 'P28', 'P29', 'P30', 'P31',\n",
       "       'P32', 'P33', 'P34', 'P35', 'P36', 'P37'],\n",
       "      dtype='object')),\n",
       "                                ('cat',\n",
       "                                 Pipeline(steps=[('imputer',\n",
       "                                                  SimpleImputer(strategy='most_frequent')),\n",
       "                                                 ('encoder',\n",
       "                                                  OneHotEncoder(handle_unknown='ignore',\n",
       "                                                                sparse_output=False))]),\n",
       "                                 Index(['City', 'City Group', 'Type'], dtype='object'))])"
      ]
     },
     "execution_count": 12,
     "metadata": {},
     "output_type": "execute_result"
    }
   ],
   "source": [
    "num_columns = X.select_dtypes(include=\"number\").columns\n",
    "cat_columns = X.select_dtypes(include=\"object\").columns\n",
    "\n",
    "\n",
    "num_transformer = Pipeline(\n",
    "    steps=[(\"imputer\", SimpleImputer(strategy=\"median\"))]\n",
    "    )\n",
    "\n",
    "cat_transformer = Pipeline(\n",
    "    steps=[(\"imputer\", SimpleImputer(strategy=\"most_frequent\")),\n",
    "           ('encoder', OneHotEncoder(sparse_output=False, handle_unknown=\"ignore\")),\n",
    "           ])  \n",
    "\n",
    "preprocessor = ColumnTransformer(\n",
    "    transformers=[\n",
    "        (\"num\", num_transformer, num_columns),\n",
    "        (\"cat\", cat_transformer, cat_columns),\n",
    "    ]\n",
    ")\n",
    "\n",
    "preprocessor.set_output(transform='pandas')\n",
    "preprocessor"
   ]
  },
  {
   "cell_type": "code",
   "execution_count": 13,
   "id": "f58ae208",
   "metadata": {
    "execution": {
     "iopub.execute_input": "2024-03-20T19:41:53.851253Z",
     "iopub.status.busy": "2024-03-20T19:41:53.850809Z",
     "iopub.status.idle": "2024-03-20T19:41:53.896939Z",
     "shell.execute_reply": "2024-03-20T19:41:53.895451Z"
    },
    "papermill": {
     "duration": 0.060914,
     "end_time": "2024-03-20T19:41:53.899872",
     "exception": false,
     "start_time": "2024-03-20T19:41:53.838958",
     "status": "completed"
    },
    "tags": []
   },
   "outputs": [],
   "source": [
    "X_train = preprocessor.fit_transform(X_train)\n",
    "\n",
    "X_val = preprocessor.transform(X_val)\n",
    "X_test = preprocessor.transform(X_test)"
   ]
  },
  {
   "cell_type": "code",
   "execution_count": 14,
   "id": "b5ad954d",
   "metadata": {
    "execution": {
     "iopub.execute_input": "2024-03-20T19:41:53.923297Z",
     "iopub.status.busy": "2024-03-20T19:41:53.922889Z",
     "iopub.status.idle": "2024-03-20T19:41:53.931859Z",
     "shell.execute_reply": "2024-03-20T19:41:53.930630Z"
    },
    "papermill": {
     "duration": 0.023468,
     "end_time": "2024-03-20T19:41:53.934192",
     "exception": false,
     "start_time": "2024-03-20T19:41:53.910724",
     "status": "completed"
    },
    "tags": []
   },
   "outputs": [],
   "source": [
    "from sklearn import metrics\n",
    "\n",
    "\n",
    "def objective(trial):\n",
    "\n",
    "  params = {\n",
    "        \"objective\": \"mse\",\n",
    "        \"verbosity\": -1,\n",
    "        \"n_estimators\": 30,\n",
    "        'learning_rate': trial.suggest_float('learning_rate', 1e-6, 1.0, log=True),\n",
    "        \"boosting_type\": trial.suggest_categorical(\"boosting_type\", [\"gbdt\", \"dart\"]),\n",
    "        \"lambda_l1\": trial.suggest_float(\"lambda_l1\", 1e-2, 10.0, log=True),\n",
    "        \"lambda_l2\": trial.suggest_float(\"lambda_l2\", 1e-2, 10.0, log=True),\n",
    "        \"num_leaves\": trial.suggest_int(\"num_leaves\", 2, 100),\n",
    "  }\n",
    "\n",
    "\n",
    "  model = lgb.LGBMRegressor(**params)\n",
    "    \n",
    "  model.fit(X_train, y_train)\n",
    "\n",
    "  y_pred = model.predict(X_val)\n",
    "  r2 = metrics.r2_score(y_val, y_pred)\n",
    "\n",
    "  return r2"
   ]
  },
  {
   "cell_type": "code",
   "execution_count": null,
   "id": "dba24aa4",
   "metadata": {
    "execution": {
     "iopub.execute_input": "2024-03-20T19:23:57.362023Z",
     "iopub.status.busy": "2024-03-20T19:23:57.361740Z",
     "iopub.status.idle": "2024-03-20T19:23:57.374312Z",
     "shell.execute_reply": "2024-03-20T19:23:57.373532Z",
     "shell.execute_reply.started": "2024-03-20T19:23:57.361997Z"
    },
    "papermill": {
     "duration": 0.009889,
     "end_time": "2024-03-20T19:41:53.954400",
     "exception": false,
     "start_time": "2024-03-20T19:41:53.944511",
     "status": "completed"
    },
    "tags": []
   },
   "outputs": [],
   "source": []
  },
  {
   "cell_type": "code",
   "execution_count": null,
   "id": "1056ad4f",
   "metadata": {
    "papermill": {
     "duration": 0.009975,
     "end_time": "2024-03-20T19:41:53.974647",
     "exception": false,
     "start_time": "2024-03-20T19:41:53.964672",
     "status": "completed"
    },
    "tags": []
   },
   "outputs": [],
   "source": []
  },
  {
   "cell_type": "code",
   "execution_count": 15,
   "id": "12ff4dab",
   "metadata": {
    "_kg_hide-output": true,
    "execution": {
     "iopub.execute_input": "2024-03-20T19:41:53.997390Z",
     "iopub.status.busy": "2024-03-20T19:41:53.996932Z",
     "iopub.status.idle": "2024-03-20T19:42:00.532837Z",
     "shell.execute_reply": "2024-03-20T19:42:00.531439Z"
    },
    "papermill": {
     "duration": 6.55078,
     "end_time": "2024-03-20T19:42:00.535807",
     "exception": false,
     "start_time": "2024-03-20T19:41:53.985027",
     "status": "completed"
    },
    "scrolled": true,
    "tags": []
   },
   "outputs": [
    {
     "name": "stdout",
     "output_type": "stream",
     "text": [
      "[LightGBM] [Warning] lambda_l2 is set=0.21903278592846148, reg_lambda=0.0 will be ignored. Current value: lambda_l2=0.21903278592846148\n",
      "[LightGBM] [Warning] lambda_l1 is set=2.9565704574525054, reg_alpha=0.0 will be ignored. Current value: lambda_l1=2.9565704574525054\n",
      "[LightGBM] [Warning] lambda_l2 is set=1.4467448913184286, reg_lambda=0.0 will be ignored. Current value: lambda_l2=1.4467448913184286\n",
      "[LightGBM] [Warning] lambda_l1 is set=0.8835367807226171, reg_alpha=0.0 will be ignored. Current value: lambda_l1=0.8835367807226171\n",
      "[LightGBM] [Warning] lambda_l2 is set=2.4509936132542873, reg_lambda=0.0 will be ignored. Current value: lambda_l2=2.4509936132542873\n",
      "[LightGBM] [Warning] lambda_l1 is set=0.3291158293222485, reg_alpha=0.0 will be ignored. Current value: lambda_l1=0.3291158293222485\n",
      "[LightGBM] [Warning] lambda_l2 is set=0.010089255969055057, reg_lambda=0.0 will be ignored. Current value: lambda_l2=0.010089255969055057\n",
      "[LightGBM] [Warning] lambda_l1 is set=0.7894529374022194, reg_alpha=0.0 will be ignored. Current value: lambda_l1=0.7894529374022194\n",
      "[LightGBM] [Warning] lambda_l2 is set=0.10878707331430489, reg_lambda=0.0 will be ignored. Current value: lambda_l2=0.10878707331430489\n",
      "[LightGBM] [Warning] lambda_l1 is set=3.6798703359950604, reg_alpha=0.0 will be ignored. Current value: lambda_l1=3.6798703359950604\n",
      "[LightGBM] [Warning] lambda_l2 is set=0.05616706214854625, reg_lambda=0.0 will be ignored. Current value: lambda_l2=0.05616706214854625\n",
      "[LightGBM] [Warning] lambda_l1 is set=6.913116538638251, reg_alpha=0.0 will be ignored. Current value: lambda_l1=6.913116538638251\n",
      "[LightGBM] [Warning] lambda_l2 is set=0.12067214145014686, reg_lambda=0.0 will be ignored. Current value: lambda_l2=0.12067214145014686\n",
      "[LightGBM] [Warning] lambda_l1 is set=2.1440954175686717, reg_alpha=0.0 will be ignored. Current value: lambda_l1=2.1440954175686717\n",
      "[LightGBM] [Warning] lambda_l2 is set=0.03016692172771105, reg_lambda=0.0 will be ignored. Current value: lambda_l2=0.03016692172771105\n",
      "[LightGBM] [Warning] lambda_l1 is set=5.094052130118926, reg_alpha=0.0 will be ignored. Current value: lambda_l1=5.094052130118926\n",
      "[LightGBM] [Warning] lambda_l2 is set=0.6415893626194046, reg_lambda=0.0 will be ignored. Current value: lambda_l2=0.6415893626194046\n",
      "[LightGBM] [Warning] lambda_l1 is set=2.843728785416408, reg_alpha=0.0 will be ignored. Current value: lambda_l1=2.843728785416408\n",
      "[LightGBM] [Warning] lambda_l2 is set=0.11173846545621839, reg_lambda=0.0 will be ignored. Current value: lambda_l2=0.11173846545621839\n",
      "[LightGBM] [Warning] lambda_l1 is set=0.21751843586456207, reg_alpha=0.0 will be ignored. Current value: lambda_l1=0.21751843586456207\n",
      "[LightGBM] [Warning] lambda_l2 is set=7.094720906247933, reg_lambda=0.0 will be ignored. Current value: lambda_l2=7.094720906247933\n",
      "[LightGBM] [Warning] lambda_l1 is set=0.02743098514182722, reg_alpha=0.0 will be ignored. Current value: lambda_l1=0.02743098514182722\n",
      "[LightGBM] [Warning] lambda_l2 is set=9.918825991346115, reg_lambda=0.0 will be ignored. Current value: lambda_l2=9.918825991346115\n",
      "[LightGBM] [Warning] lambda_l1 is set=0.016084822999789167, reg_alpha=0.0 will be ignored. Current value: lambda_l1=0.016084822999789167\n",
      "[LightGBM] [Warning] lambda_l2 is set=9.352624688125799, reg_lambda=0.0 will be ignored. Current value: lambda_l2=9.352624688125799\n",
      "[LightGBM] [Warning] lambda_l1 is set=0.01328468403662204, reg_alpha=0.0 will be ignored. Current value: lambda_l1=0.01328468403662204\n",
      "[LightGBM] [Warning] lambda_l2 is set=9.709637354527894, reg_lambda=0.0 will be ignored. Current value: lambda_l2=9.709637354527894\n",
      "[LightGBM] [Warning] lambda_l1 is set=0.010538301613777225, reg_alpha=0.0 will be ignored. Current value: lambda_l1=0.010538301613777225\n",
      "[LightGBM] [Warning] lambda_l2 is set=3.6065892513543214, reg_lambda=0.0 will be ignored. Current value: lambda_l2=3.6065892513543214\n",
      "[LightGBM] [Warning] lambda_l1 is set=0.04296685369989852, reg_alpha=0.0 will be ignored. Current value: lambda_l1=0.04296685369989852\n",
      "[LightGBM] [Warning] lambda_l2 is set=4.02586127134678, reg_lambda=0.0 will be ignored. Current value: lambda_l2=4.02586127134678\n",
      "[LightGBM] [Warning] lambda_l1 is set=0.04930959602592708, reg_alpha=0.0 will be ignored. Current value: lambda_l1=0.04930959602592708\n",
      "[LightGBM] [Warning] lambda_l2 is set=0.7804026912083352, reg_lambda=0.0 will be ignored. Current value: lambda_l2=0.7804026912083352\n",
      "[LightGBM] [Warning] lambda_l1 is set=0.033978952735160724, reg_alpha=0.0 will be ignored. Current value: lambda_l1=0.033978952735160724\n",
      "[LightGBM] [Warning] lambda_l2 is set=5.459917654973447, reg_lambda=0.0 will be ignored. Current value: lambda_l2=5.459917654973447\n",
      "[LightGBM] [Warning] lambda_l1 is set=0.10687282508956439, reg_alpha=0.0 will be ignored. Current value: lambda_l1=0.10687282508956439\n",
      "[LightGBM] [Warning] lambda_l2 is set=1.4972460166809984, reg_lambda=0.0 will be ignored. Current value: lambda_l2=1.4972460166809984\n",
      "[LightGBM] [Warning] lambda_l1 is set=0.021897722838599785, reg_alpha=0.0 will be ignored. Current value: lambda_l1=0.021897722838599785\n",
      "[LightGBM] [Warning] lambda_l2 is set=0.47624682226245824, reg_lambda=0.0 will be ignored. Current value: lambda_l2=0.47624682226245824\n",
      "[LightGBM] [Warning] lambda_l1 is set=0.0876795691960194, reg_alpha=0.0 will be ignored. Current value: lambda_l1=0.0876795691960194\n",
      "[LightGBM] [Warning] lambda_l2 is set=1.8659831497688593, reg_lambda=0.0 will be ignored. Current value: lambda_l2=1.8659831497688593\n",
      "[LightGBM] [Warning] lambda_l1 is set=0.011237718717386226, reg_alpha=0.0 will be ignored. Current value: lambda_l1=0.011237718717386226\n",
      "[LightGBM] [Warning] lambda_l2 is set=6.819651207718413, reg_lambda=0.0 will be ignored. Current value: lambda_l2=6.819651207718413\n",
      "[LightGBM] [Warning] lambda_l1 is set=0.018398995125023573, reg_alpha=0.0 will be ignored. Current value: lambda_l1=0.018398995125023573\n",
      "[LightGBM] [Warning] lambda_l2 is set=9.937728135494377, reg_lambda=0.0 will be ignored. Current value: lambda_l2=9.937728135494377\n",
      "[LightGBM] [Warning] lambda_l1 is set=0.023196925069571835, reg_alpha=0.0 will be ignored. Current value: lambda_l1=0.023196925069571835\n",
      "[LightGBM] [Warning] lambda_l2 is set=3.3605469514143187, reg_lambda=0.0 will be ignored. Current value: lambda_l2=3.3605469514143187\n",
      "[LightGBM] [Warning] lambda_l1 is set=0.08588817539789456, reg_alpha=0.0 will be ignored. Current value: lambda_l1=0.08588817539789456\n",
      "[LightGBM] [Warning] lambda_l2 is set=6.487451391242944, reg_lambda=0.0 will be ignored. Current value: lambda_l2=6.487451391242944\n",
      "[LightGBM] [Warning] lambda_l1 is set=0.015798473324205812, reg_alpha=0.0 will be ignored. Current value: lambda_l1=0.015798473324205812\n",
      "[LightGBM] [Warning] lambda_l2 is set=9.879290517152901, reg_lambda=0.0 will be ignored. Current value: lambda_l2=9.879290517152901\n",
      "[LightGBM] [Warning] lambda_l1 is set=0.038102268351471784, reg_alpha=0.0 will be ignored. Current value: lambda_l1=0.038102268351471784\n",
      "[LightGBM] [Warning] lambda_l2 is set=0.8916885184221585, reg_lambda=0.0 will be ignored. Current value: lambda_l2=0.8916885184221585\n",
      "[LightGBM] [Warning] lambda_l1 is set=0.010056693648108342, reg_alpha=0.0 will be ignored. Current value: lambda_l1=0.010056693648108342\n",
      "[LightGBM] [Warning] lambda_l2 is set=2.7550359131797024, reg_lambda=0.0 will be ignored. Current value: lambda_l2=2.7550359131797024\n",
      "[LightGBM] [Warning] lambda_l1 is set=0.1469243573978354, reg_alpha=0.0 will be ignored. Current value: lambda_l1=0.1469243573978354\n",
      "[LightGBM] [Warning] lambda_l2 is set=4.8735137315932135, reg_lambda=0.0 will be ignored. Current value: lambda_l2=4.8735137315932135\n",
      "[LightGBM] [Warning] lambda_l1 is set=0.027507283810403686, reg_alpha=0.0 will be ignored. Current value: lambda_l1=0.027507283810403686\n",
      "[LightGBM] [Warning] lambda_l2 is set=1.094117434551722, reg_lambda=0.0 will be ignored. Current value: lambda_l2=1.094117434551722\n",
      "[LightGBM] [Warning] lambda_l1 is set=0.06403263984968294, reg_alpha=0.0 will be ignored. Current value: lambda_l1=0.06403263984968294\n",
      "[LightGBM] [Warning] lambda_l2 is set=0.32132543502350774, reg_lambda=0.0 will be ignored. Current value: lambda_l2=0.32132543502350774\n",
      "[LightGBM] [Warning] lambda_l1 is set=0.37520814184854534, reg_alpha=0.0 will be ignored. Current value: lambda_l1=0.37520814184854534\n",
      "[LightGBM] [Warning] lambda_l2 is set=9.700741301364742, reg_lambda=0.0 will be ignored. Current value: lambda_l2=9.700741301364742\n",
      "[LightGBM] [Warning] lambda_l1 is set=0.018039546542428366, reg_alpha=0.0 will be ignored. Current value: lambda_l1=0.018039546542428366\n",
      "[LightGBM] [Warning] lambda_l2 is set=6.671754706712619, reg_lambda=0.0 will be ignored. Current value: lambda_l2=6.671754706712619\n",
      "[LightGBM] [Warning] lambda_l1 is set=0.01346249406958045, reg_alpha=0.0 will be ignored. Current value: lambda_l1=0.01346249406958045\n",
      "[LightGBM] [Warning] lambda_l2 is set=2.171579986521729, reg_lambda=0.0 will be ignored. Current value: lambda_l2=2.171579986521729\n",
      "[LightGBM] [Warning] lambda_l1 is set=0.01964454956252565, reg_alpha=0.0 will be ignored. Current value: lambda_l1=0.01964454956252565\n",
      "[LightGBM] [Warning] lambda_l2 is set=2.0310726823281064, reg_lambda=0.0 will be ignored. Current value: lambda_l2=2.0310726823281064\n",
      "[LightGBM] [Warning] lambda_l1 is set=0.05726088091901818, reg_alpha=0.0 will be ignored. Current value: lambda_l1=0.05726088091901818\n",
      "[LightGBM] [Warning] lambda_l2 is set=2.4175675249281103, reg_lambda=0.0 will be ignored. Current value: lambda_l2=2.4175675249281103\n",
      "[LightGBM] [Warning] lambda_l1 is set=0.029402861192366528, reg_alpha=0.0 will be ignored. Current value: lambda_l1=0.029402861192366528\n",
      "[LightGBM] [Warning] lambda_l2 is set=5.793929106601446, reg_lambda=0.0 will be ignored. Current value: lambda_l2=5.793929106601446\n",
      "[LightGBM] [Warning] lambda_l1 is set=0.019231376266999344, reg_alpha=0.0 will be ignored. Current value: lambda_l1=0.019231376266999344\n",
      "[LightGBM] [Warning] lambda_l2 is set=3.9139854643668244, reg_lambda=0.0 will be ignored. Current value: lambda_l2=3.9139854643668244\n",
      "[LightGBM] [Warning] lambda_l1 is set=0.5310684904721216, reg_alpha=0.0 will be ignored. Current value: lambda_l1=0.5310684904721216\n",
      "[LightGBM] [Warning] lambda_l2 is set=1.1646261645140448, reg_lambda=0.0 will be ignored. Current value: lambda_l2=1.1646261645140448\n",
      "[LightGBM] [Warning] lambda_l1 is set=1.7095434884398835, reg_alpha=0.0 will be ignored. Current value: lambda_l1=1.7095434884398835\n",
      "[LightGBM] [Warning] lambda_l2 is set=0.1786307767981292, reg_lambda=0.0 will be ignored. Current value: lambda_l2=0.1786307767981292\n",
      "[LightGBM] [Warning] lambda_l1 is set=9.769782525841663, reg_alpha=0.0 will be ignored. Current value: lambda_l1=9.769782525841663\n",
      "[LightGBM] [Warning] lambda_l2 is set=0.2700490400162404, reg_lambda=0.0 will be ignored. Current value: lambda_l2=0.2700490400162404\n",
      "[LightGBM] [Warning] lambda_l1 is set=9.892635315684164, reg_alpha=0.0 will be ignored. Current value: lambda_l1=9.892635315684164\n",
      "[LightGBM] [Warning] lambda_l2 is set=0.1772473068521687, reg_lambda=0.0 will be ignored. Current value: lambda_l2=0.1772473068521687\n",
      "[LightGBM] [Warning] lambda_l1 is set=1.1635707932656933, reg_alpha=0.0 will be ignored. Current value: lambda_l1=1.1635707932656933\n",
      "[LightGBM] [Warning] lambda_l2 is set=0.05890349444805202, reg_lambda=0.0 will be ignored. Current value: lambda_l2=0.05890349444805202\n",
      "[LightGBM] [Warning] lambda_l1 is set=0.18340929716805618, reg_alpha=0.0 will be ignored. Current value: lambda_l1=0.18340929716805618\n",
      "[LightGBM] [Warning] lambda_l2 is set=0.06985723954028553, reg_lambda=0.0 will be ignored. Current value: lambda_l2=0.06985723954028553\n",
      "[LightGBM] [Warning] lambda_l1 is set=0.02995328981787149, reg_alpha=0.0 will be ignored. Current value: lambda_l1=0.02995328981787149\n",
      "[LightGBM] [Warning] lambda_l2 is set=0.17914552935402162, reg_lambda=0.0 will be ignored. Current value: lambda_l2=0.17914552935402162\n",
      "[LightGBM] [Warning] lambda_l1 is set=0.0145777415535327, reg_alpha=0.0 will be ignored. Current value: lambda_l1=0.0145777415535327\n",
      "[LightGBM] [Warning] lambda_l2 is set=0.01003595156143019, reg_lambda=0.0 will be ignored. Current value: lambda_l2=0.01003595156143019\n",
      "[LightGBM] [Warning] lambda_l1 is set=0.49658103351872596, reg_alpha=0.0 will be ignored. Current value: lambda_l1=0.49658103351872596\n",
      "[LightGBM] [Warning] lambda_l2 is set=0.37096761447328014, reg_lambda=0.0 will be ignored. Current value: lambda_l2=0.37096761447328014\n",
      "[LightGBM] [Warning] lambda_l1 is set=4.265056818132141, reg_alpha=0.0 will be ignored. Current value: lambda_l1=4.265056818132141\n",
      "[LightGBM] [Warning] lambda_l2 is set=7.7851832669483745, reg_lambda=0.0 will be ignored. Current value: lambda_l2=7.7851832669483745\n",
      "[LightGBM] [Warning] lambda_l1 is set=0.04017583707722779, reg_alpha=0.0 will be ignored. Current value: lambda_l1=0.04017583707722779\n",
      "[LightGBM] [Warning] lambda_l2 is set=0.03664764200487226, reg_lambda=0.0 will be ignored. Current value: lambda_l2=0.03664764200487226\n",
      "[LightGBM] [Warning] lambda_l1 is set=0.022685223498064493, reg_alpha=0.0 will be ignored. Current value: lambda_l1=0.022685223498064493\n",
      "[LightGBM] [Warning] lambda_l2 is set=4.6138616877573195, reg_lambda=0.0 will be ignored. Current value: lambda_l2=4.6138616877573195\n",
      "[LightGBM] [Warning] lambda_l1 is set=0.062272171194419294, reg_alpha=0.0 will be ignored. Current value: lambda_l1=0.062272171194419294\n",
      "[LightGBM] [Warning] lambda_l2 is set=3.0025378933775535, reg_lambda=0.0 will be ignored. Current value: lambda_l2=3.0025378933775535\n",
      "[LightGBM] [Warning] lambda_l1 is set=0.95359728477387, reg_alpha=0.0 will be ignored. Current value: lambda_l1=0.95359728477387\n",
      "[LightGBM] [Warning] lambda_l2 is set=8.05437896122364, reg_lambda=0.0 will be ignored. Current value: lambda_l2=8.05437896122364\n",
      "[LightGBM] [Warning] lambda_l1 is set=0.01344869125475006, reg_alpha=0.0 will be ignored. Current value: lambda_l1=0.01344869125475006\n",
      "[LightGBM] [Warning] lambda_l2 is set=5.483869479712183, reg_lambda=0.0 will be ignored. Current value: lambda_l2=5.483869479712183\n",
      "[LightGBM] [Warning] lambda_l1 is set=0.019356042779255643, reg_alpha=0.0 will be ignored. Current value: lambda_l1=0.019356042779255643\n",
      "[LightGBM] [Warning] lambda_l2 is set=8.141380096471801, reg_lambda=0.0 will be ignored. Current value: lambda_l2=8.141380096471801\n",
      "[LightGBM] [Warning] lambda_l1 is set=0.010137668919136828, reg_alpha=0.0 will be ignored. Current value: lambda_l1=0.010137668919136828\n",
      "[LightGBM] [Warning] lambda_l2 is set=4.323827425098242, reg_lambda=0.0 will be ignored. Current value: lambda_l2=4.323827425098242\n",
      "[LightGBM] [Warning] lambda_l1 is set=0.015947317489995057, reg_alpha=0.0 will be ignored. Current value: lambda_l1=0.015947317489995057\n",
      "[LightGBM] [Warning] lambda_l2 is set=0.5868977554070745, reg_lambda=0.0 will be ignored. Current value: lambda_l2=0.5868977554070745\n",
      "[LightGBM] [Warning] lambda_l1 is set=0.025653398935466743, reg_alpha=0.0 will be ignored. Current value: lambda_l1=0.025653398935466743\n",
      "[LightGBM] [Warning] lambda_l2 is set=0.5228973361495399, reg_lambda=0.0 will be ignored. Current value: lambda_l2=0.5228973361495399\n",
      "[LightGBM] [Warning] lambda_l1 is set=0.025987373890600095, reg_alpha=0.0 will be ignored. Current value: lambda_l1=0.025987373890600095\n",
      "[LightGBM] [Warning] lambda_l2 is set=0.08090713701979343, reg_lambda=0.0 will be ignored. Current value: lambda_l2=0.08090713701979343\n",
      "[LightGBM] [Warning] lambda_l1 is set=0.05174583957878261, reg_alpha=0.0 will be ignored. Current value: lambda_l1=0.05174583957878261\n",
      "[LightGBM] [Warning] lambda_l2 is set=0.14410289531914944, reg_lambda=0.0 will be ignored. Current value: lambda_l2=0.14410289531914944\n",
      "[LightGBM] [Warning] lambda_l1 is set=0.03434140138880478, reg_alpha=0.0 will be ignored. Current value: lambda_l1=0.03434140138880478\n",
      "[LightGBM] [Warning] lambda_l2 is set=0.4442927800594414, reg_lambda=0.0 will be ignored. Current value: lambda_l2=0.4442927800594414\n",
      "[LightGBM] [Warning] lambda_l1 is set=0.11418082073707572, reg_alpha=0.0 will be ignored. Current value: lambda_l1=0.11418082073707572\n",
      "[LightGBM] [Warning] lambda_l2 is set=2.2302739523665513, reg_lambda=0.0 will be ignored. Current value: lambda_l2=2.2302739523665513\n",
      "[LightGBM] [Warning] lambda_l1 is set=2.500029681427153, reg_alpha=0.0 will be ignored. Current value: lambda_l1=2.500029681427153\n",
      "[LightGBM] [Warning] lambda_l2 is set=0.10039707924025564, reg_lambda=0.0 will be ignored. Current value: lambda_l2=0.10039707924025564\n",
      "[LightGBM] [Warning] lambda_l1 is set=0.03707011071245262, reg_alpha=0.0 will be ignored. Current value: lambda_l1=0.03707011071245262\n",
      "[LightGBM] [Warning] lambda_l2 is set=0.037193016479080195, reg_lambda=0.0 will be ignored. Current value: lambda_l2=0.037193016479080195\n",
      "[LightGBM] [Warning] lambda_l1 is set=0.04544651186083006, reg_alpha=0.0 will be ignored. Current value: lambda_l1=0.04544651186083006\n",
      "[LightGBM] [Warning] lambda_l2 is set=0.10092474300772297, reg_lambda=0.0 will be ignored. Current value: lambda_l2=0.10092474300772297\n",
      "[LightGBM] [Warning] lambda_l1 is set=0.02063052948188452, reg_alpha=0.0 will be ignored. Current value: lambda_l1=0.02063052948188452\n",
      "[LightGBM] [Warning] lambda_l2 is set=1.5938754825071206, reg_lambda=0.0 will be ignored. Current value: lambda_l2=1.5938754825071206\n",
      "[LightGBM] [Warning] lambda_l1 is set=0.07509864290116981, reg_alpha=0.0 will be ignored. Current value: lambda_l1=0.07509864290116981\n",
      "[LightGBM] [Warning] lambda_l2 is set=0.2399915680457685, reg_lambda=0.0 will be ignored. Current value: lambda_l2=0.2399915680457685\n",
      "[LightGBM] [Warning] lambda_l1 is set=0.012217312383012746, reg_alpha=0.0 will be ignored. Current value: lambda_l1=0.012217312383012746\n",
      "[LightGBM] [Warning] lambda_l2 is set=0.13507073553261514, reg_lambda=0.0 will be ignored. Current value: lambda_l2=0.13507073553261514\n",
      "[LightGBM] [Warning] lambda_l1 is set=0.030775195433824006, reg_alpha=0.0 will be ignored. Current value: lambda_l1=0.030775195433824006\n",
      "[LightGBM] [Warning] lambda_l2 is set=0.09322912399682173, reg_lambda=0.0 will be ignored. Current value: lambda_l2=0.09322912399682173\n",
      "[LightGBM] [Warning] lambda_l1 is set=0.025459305145225118, reg_alpha=0.0 will be ignored. Current value: lambda_l1=0.025459305145225118\n",
      "[LightGBM] [Warning] lambda_l2 is set=0.024692617359416184, reg_lambda=0.0 will be ignored. Current value: lambda_l2=0.024692617359416184\n",
      "[LightGBM] [Warning] lambda_l1 is set=0.01733232150215995, reg_alpha=0.0 will be ignored. Current value: lambda_l1=0.01733232150215995\n",
      "[LightGBM] [Warning] lambda_l2 is set=0.02667748655212114, reg_lambda=0.0 will be ignored. Current value: lambda_l2=0.02667748655212114\n",
      "[LightGBM] [Warning] lambda_l1 is set=0.01661892784519055, reg_alpha=0.0 will be ignored. Current value: lambda_l1=0.01661892784519055\n",
      "[LightGBM] [Warning] lambda_l2 is set=0.015641708749066955, reg_lambda=0.0 will be ignored. Current value: lambda_l2=0.015641708749066955\n",
      "[LightGBM] [Warning] lambda_l1 is set=6.243477997963173, reg_alpha=0.0 will be ignored. Current value: lambda_l1=6.243477997963173\n",
      "[LightGBM] [Warning] lambda_l2 is set=0.013308619679773254, reg_lambda=0.0 will be ignored. Current value: lambda_l2=0.013308619679773254\n",
      "[LightGBM] [Warning] lambda_l1 is set=0.03695943373023358, reg_alpha=0.0 will be ignored. Current value: lambda_l1=0.03695943373023358\n",
      "[LightGBM] [Warning] lambda_l2 is set=0.7076930827416676, reg_lambda=0.0 will be ignored. Current value: lambda_l2=0.7076930827416676\n",
      "[LightGBM] [Warning] lambda_l1 is set=0.0185702385208777, reg_alpha=0.0 will be ignored. Current value: lambda_l1=0.0185702385208777\n",
      "[LightGBM] [Warning] lambda_l2 is set=0.18383560836771695, reg_lambda=0.0 will be ignored. Current value: lambda_l2=0.18383560836771695\n",
      "[LightGBM] [Warning] lambda_l1 is set=0.2626207367218289, reg_alpha=0.0 will be ignored. Current value: lambda_l1=0.2626207367218289\n",
      "[LightGBM] [Warning] lambda_l2 is set=0.026653934016018725, reg_lambda=0.0 will be ignored. Current value: lambda_l2=0.026653934016018725\n",
      "[LightGBM] [Warning] lambda_l1 is set=0.011999044265318969, reg_alpha=0.0 will be ignored. Current value: lambda_l1=0.011999044265318969\n",
      "[LightGBM] [Warning] lambda_l2 is set=0.04938805440615478, reg_lambda=0.0 will be ignored. Current value: lambda_l2=0.04938805440615478\n",
      "[LightGBM] [Warning] lambda_l1 is set=0.02357487656643583, reg_alpha=0.0 will be ignored. Current value: lambda_l1=0.02357487656643583\n",
      "[LightGBM] [Warning] lambda_l2 is set=1.125898496815248, reg_lambda=0.0 will be ignored. Current value: lambda_l2=1.125898496815248\n",
      "[LightGBM] [Warning] lambda_l1 is set=0.01563988742116198, reg_alpha=0.0 will be ignored. Current value: lambda_l1=0.01563988742116198\n",
      "[LightGBM] [Warning] lambda_l2 is set=3.4673845629809006, reg_lambda=0.0 will be ignored. Current value: lambda_l2=3.4673845629809006\n",
      "[LightGBM] [Warning] lambda_l1 is set=0.012887491509932767, reg_alpha=0.0 will be ignored. Current value: lambda_l1=0.012887491509932767\n",
      "[LightGBM] [Warning] lambda_l2 is set=6.397312377057032, reg_lambda=0.0 will be ignored. Current value: lambda_l2=6.397312377057032\n",
      "[LightGBM] [Warning] lambda_l1 is set=0.047536926063655026, reg_alpha=0.0 will be ignored. Current value: lambda_l1=0.047536926063655026\n",
      "[LightGBM] [Warning] lambda_l2 is set=8.851141928238107, reg_lambda=0.0 will be ignored. Current value: lambda_l2=8.851141928238107\n",
      "[LightGBM] [Warning] lambda_l1 is set=0.030206496926504636, reg_alpha=0.0 will be ignored. Current value: lambda_l1=0.030206496926504636\n",
      "[LightGBM] [Warning] lambda_l2 is set=0.29536048284007344, reg_lambda=0.0 will be ignored. Current value: lambda_l2=0.29536048284007344\n",
      "[LightGBM] [Warning] lambda_l1 is set=0.021434007886577736, reg_alpha=0.0 will be ignored. Current value: lambda_l1=0.021434007886577736\n",
      "[LightGBM] [Warning] lambda_l2 is set=0.9377905622458405, reg_lambda=0.0 will be ignored. Current value: lambda_l2=0.9377905622458405\n",
      "[LightGBM] [Warning] lambda_l1 is set=0.016672722532950237, reg_alpha=0.0 will be ignored. Current value: lambda_l1=0.016672722532950237\n",
      "[LightGBM] [Warning] lambda_l2 is set=0.6022180138512991, reg_lambda=0.0 will be ignored. Current value: lambda_l2=0.6022180138512991\n",
      "[LightGBM] [Warning] lambda_l1 is set=0.018619907670934063, reg_alpha=0.0 will be ignored. Current value: lambda_l1=0.018619907670934063\n",
      "[LightGBM] [Warning] lambda_l2 is set=0.41983018753454737, reg_lambda=0.0 will be ignored. Current value: lambda_l2=0.41983018753454737\n",
      "[LightGBM] [Warning] lambda_l1 is set=0.026128242384809548, reg_alpha=0.0 will be ignored. Current value: lambda_l1=0.026128242384809548\n",
      "[LightGBM] [Warning] lambda_l2 is set=1.006268638486312, reg_lambda=0.0 will be ignored. Current value: lambda_l2=1.006268638486312\n",
      "[LightGBM] [Warning] lambda_l1 is set=1.6360917776845165, reg_alpha=0.0 will be ignored. Current value: lambda_l1=1.6360917776845165\n",
      "[LightGBM] [Warning] lambda_l2 is set=1.435665076854059, reg_lambda=0.0 will be ignored. Current value: lambda_l2=1.435665076854059\n",
      "[LightGBM] [Warning] lambda_l1 is set=0.014703710054759591, reg_alpha=0.0 will be ignored. Current value: lambda_l1=0.014703710054759591\n",
      "[LightGBM] [Warning] lambda_l2 is set=0.34794291989893067, reg_lambda=0.0 will be ignored. Current value: lambda_l2=0.34794291989893067\n",
      "[LightGBM] [Warning] lambda_l1 is set=0.011096335685729604, reg_alpha=0.0 will be ignored. Current value: lambda_l1=0.011096335685729604\n",
      "[LightGBM] [Warning] lambda_l2 is set=7.118436189338737, reg_lambda=0.0 will be ignored. Current value: lambda_l2=7.118436189338737\n",
      "[LightGBM] [Warning] lambda_l1 is set=0.03384484879692437, reg_alpha=0.0 will be ignored. Current value: lambda_l1=0.03384484879692437\n",
      "[LightGBM] [Warning] lambda_l2 is set=0.020277253661962633, reg_lambda=0.0 will be ignored. Current value: lambda_l2=0.020277253661962633\n",
      "[LightGBM] [Warning] lambda_l1 is set=0.0224502070665947, reg_alpha=0.0 will be ignored. Current value: lambda_l1=0.0224502070665947\n",
      "[LightGBM] [Warning] lambda_l2 is set=0.8120066173304777, reg_lambda=0.0 will be ignored. Current value: lambda_l2=0.8120066173304777\n",
      "[LightGBM] [Warning] lambda_l1 is set=0.01677895137815263, reg_alpha=0.0 will be ignored. Current value: lambda_l1=0.01677895137815263\n",
      "[LightGBM] [Warning] lambda_l2 is set=0.5003692549968229, reg_lambda=0.0 will be ignored. Current value: lambda_l2=0.5003692549968229\n",
      "[LightGBM] [Warning] lambda_l1 is set=0.013602857548171586, reg_alpha=0.0 will be ignored. Current value: lambda_l1=0.013602857548171586\n",
      "[LightGBM] [Warning] lambda_l2 is set=1.2194167732625825, reg_lambda=0.0 will be ignored. Current value: lambda_l2=1.2194167732625825\n",
      "[LightGBM] [Warning] lambda_l1 is set=0.016677586022846053, reg_alpha=0.0 will be ignored. Current value: lambda_l1=0.016677586022846053\n",
      "[LightGBM] [Warning] lambda_l2 is set=0.9266890873718088, reg_lambda=0.0 will be ignored. Current value: lambda_l2=0.9266890873718088\n",
      "[LightGBM] [Warning] lambda_l1 is set=0.015125729395700126, reg_alpha=0.0 will be ignored. Current value: lambda_l1=0.015125729395700126\n",
      "[LightGBM] [Warning] lambda_l2 is set=2.740151052141948, reg_lambda=0.0 will be ignored. Current value: lambda_l2=2.740151052141948\n",
      "[LightGBM] [Warning] lambda_l1 is set=0.010363371825192058, reg_alpha=0.0 will be ignored. Current value: lambda_l1=0.010363371825192058\n",
      "[LightGBM] [Warning] lambda_l2 is set=1.8674401275950052, reg_lambda=0.0 will be ignored. Current value: lambda_l2=1.8674401275950052\n",
      "[LightGBM] [Warning] lambda_l1 is set=0.02676796571784669, reg_alpha=0.0 will be ignored. Current value: lambda_l1=0.02676796571784669\n",
      "[LightGBM] [Warning] lambda_l2 is set=4.983080231028004, reg_lambda=0.0 will be ignored. Current value: lambda_l2=4.983080231028004\n",
      "[LightGBM] [Warning] lambda_l1 is set=0.020014947420386293, reg_alpha=0.0 will be ignored. Current value: lambda_l1=0.020014947420386293\n",
      "[LightGBM] [Warning] lambda_l2 is set=0.5390950231939058, reg_lambda=0.0 will be ignored. Current value: lambda_l2=0.5390950231939058\n",
      "[LightGBM] [Warning] lambda_l1 is set=0.04303210153736238, reg_alpha=0.0 will be ignored. Current value: lambda_l1=0.04303210153736238\n",
      "[LightGBM] [Warning] lambda_l2 is set=1.4290472541877297, reg_lambda=0.0 will be ignored. Current value: lambda_l2=1.4290472541877297\n",
      "[LightGBM] [Warning] lambda_l1 is set=0.033580759174675644, reg_alpha=0.0 will be ignored. Current value: lambda_l1=0.033580759174675644\n",
      "[LightGBM] [Warning] lambda_l2 is set=0.20793603095984645, reg_lambda=0.0 will be ignored. Current value: lambda_l2=0.20793603095984645\n",
      "[LightGBM] [Warning] lambda_l1 is set=0.01232229945595845, reg_alpha=0.0 will be ignored. Current value: lambda_l1=0.01232229945595845\n",
      "[LightGBM] [Warning] lambda_l2 is set=0.7686638126852451, reg_lambda=0.0 will be ignored. Current value: lambda_l2=0.7686638126852451\n",
      "[LightGBM] [Warning] lambda_l1 is set=0.5901206942009521, reg_alpha=0.0 will be ignored. Current value: lambda_l1=0.5901206942009521\n"
     ]
    }
   ],
   "source": [
    "optuna.logging.set_verbosity(optuna.logging.WARNING)\n",
    "study = optuna.create_study(direction='maximize')\n",
    "study.optimize(objective, n_trials=100)"
   ]
  },
  {
   "cell_type": "code",
   "execution_count": 16,
   "id": "1ed5b385",
   "metadata": {
    "execution": {
     "iopub.execute_input": "2024-03-20T19:42:00.564838Z",
     "iopub.status.busy": "2024-03-20T19:42:00.564384Z",
     "iopub.status.idle": "2024-03-20T19:42:00.569976Z",
     "shell.execute_reply": "2024-03-20T19:42:00.568796Z"
    },
    "papermill": {
     "duration": 0.022932,
     "end_time": "2024-03-20T19:42:00.572484",
     "exception": false,
     "start_time": "2024-03-20T19:42:00.549552",
     "status": "completed"
    },
    "tags": []
   },
   "outputs": [],
   "source": [
    "best_params = study.best_params"
   ]
  },
  {
   "cell_type": "code",
   "execution_count": 17,
   "id": "89230b9c",
   "metadata": {
    "execution": {
     "iopub.execute_input": "2024-03-20T19:42:00.601762Z",
     "iopub.status.busy": "2024-03-20T19:42:00.601066Z",
     "iopub.status.idle": "2024-03-20T19:42:00.608410Z",
     "shell.execute_reply": "2024-03-20T19:42:00.607309Z"
    },
    "papermill": {
     "duration": 0.024605,
     "end_time": "2024-03-20T19:42:00.610774",
     "exception": false,
     "start_time": "2024-03-20T19:42:00.586169",
     "status": "completed"
    },
    "tags": []
   },
   "outputs": [
    {
     "data": {
      "text/plain": [
       "{'learning_rate': 0.4936275860667031,\n",
       " 'boosting_type': 'gbdt',\n",
       " 'lambda_l1': 9.769782525841663,\n",
       " 'lambda_l2': 0.1786307767981292,\n",
       " 'num_leaves': 55}"
      ]
     },
     "execution_count": 17,
     "metadata": {},
     "output_type": "execute_result"
    }
   ],
   "source": [
    "best_params"
   ]
  },
  {
   "cell_type": "code",
   "execution_count": 18,
   "id": "f85bd8dc",
   "metadata": {
    "execution": {
     "iopub.execute_input": "2024-03-20T19:42:00.639809Z",
     "iopub.status.busy": "2024-03-20T19:42:00.639420Z",
     "iopub.status.idle": "2024-03-20T19:42:00.646428Z",
     "shell.execute_reply": "2024-03-20T19:42:00.645257Z"
    },
    "papermill": {
     "duration": 0.024754,
     "end_time": "2024-03-20T19:42:00.649072",
     "exception": false,
     "start_time": "2024-03-20T19:42:00.624318",
     "status": "completed"
    },
    "tags": []
   },
   "outputs": [
    {
     "data": {
      "text/plain": [
       "0.049171299247656286"
      ]
     },
     "execution_count": 18,
     "metadata": {},
     "output_type": "execute_result"
    }
   ],
   "source": [
    "study.best_value"
   ]
  },
  {
   "cell_type": "code",
   "execution_count": 19,
   "id": "f3b47212",
   "metadata": {
    "execution": {
     "iopub.execute_input": "2024-03-20T19:42:00.679227Z",
     "iopub.status.busy": "2024-03-20T19:42:00.678770Z",
     "iopub.status.idle": "2024-03-20T19:42:00.813216Z",
     "shell.execute_reply": "2024-03-20T19:42:00.811608Z"
    },
    "papermill": {
     "duration": 0.153121,
     "end_time": "2024-03-20T19:42:00.816385",
     "exception": false,
     "start_time": "2024-03-20T19:42:00.663264",
     "status": "completed"
    },
    "scrolled": true,
    "tags": []
   },
   "outputs": [
    {
     "name": "stdout",
     "output_type": "stream",
     "text": [
      "[LightGBM] [Warning] lambda_l1 is set=9.769782525841663, reg_alpha=0.0 will be ignored. Current value: lambda_l1=9.769782525841663\n",
      "[LightGBM] [Warning] lambda_l2 is set=0.1786307767981292, reg_lambda=0.0 will be ignored. Current value: lambda_l2=0.1786307767981292\n",
      "[1]\ttraining's l1: 1.23194e+06\ttraining's l2: 2.62125e+12\tvalid_0's l1: 2.01768e+06\tvalid_0's l2: 1.2056e+13\n",
      "[2]\ttraining's l1: 1.21421e+06\ttraining's l2: 2.53739e+12\tvalid_0's l1: 2.02375e+06\tvalid_0's l2: 1.18565e+13\n",
      "[3]\ttraining's l1: 1.18835e+06\ttraining's l2: 2.41956e+12\tvalid_0's l1: 2.04396e+06\tvalid_0's l2: 1.16309e+13\n",
      "[4]\ttraining's l1: 1.17071e+06\ttraining's l2: 2.29294e+12\tvalid_0's l1: 2.04511e+06\tvalid_0's l2: 1.20474e+13\n",
      "[5]\ttraining's l1: 1.15001e+06\ttraining's l2: 2.25744e+12\tvalid_0's l1: 2.07142e+06\tvalid_0's l2: 1.22537e+13\n",
      "[6]\ttraining's l1: 1.13928e+06\ttraining's l2: 2.19709e+12\tvalid_0's l1: 2.12196e+06\tvalid_0's l2: 1.25398e+13\n",
      "[7]\ttraining's l1: 1.12519e+06\ttraining's l2: 2.13922e+12\tvalid_0's l1: 2.09754e+06\tvalid_0's l2: 1.22059e+13\n",
      "[8]\ttraining's l1: 1.11165e+06\ttraining's l2: 2.08599e+12\tvalid_0's l1: 2.10475e+06\tvalid_0's l2: 1.21346e+13\n",
      "[9]\ttraining's l1: 1.06633e+06\ttraining's l2: 1.98891e+12\tvalid_0's l1: 2.09334e+06\tvalid_0's l2: 1.22804e+13\n",
      "[10]\ttraining's l1: 1.05205e+06\ttraining's l2: 1.93432e+12\tvalid_0's l1: 2.11901e+06\tvalid_0's l2: 1.23681e+13\n",
      "[11]\ttraining's l1: 1.03031e+06\ttraining's l2: 1.88413e+12\tvalid_0's l1: 2.15431e+06\tvalid_0's l2: 1.25598e+13\n",
      "[12]\ttraining's l1: 1.01504e+06\ttraining's l2: 1.84114e+12\tvalid_0's l1: 2.14611e+06\tvalid_0's l2: 1.27816e+13\n",
      "[13]\ttraining's l1: 1.00375e+06\ttraining's l2: 1.78908e+12\tvalid_0's l1: 2.12938e+06\tvalid_0's l2: 1.25983e+13\n",
      "[14]\ttraining's l1: 993366\ttraining's l2: 1.75555e+12\tvalid_0's l1: 2.13053e+06\tvalid_0's l2: 1.24609e+13\n",
      "[15]\ttraining's l1: 976230\ttraining's l2: 1.71614e+12\tvalid_0's l1: 2.16773e+06\tvalid_0's l2: 1.27061e+13\n",
      "[16]\ttraining's l1: 966905\ttraining's l2: 1.68488e+12\tvalid_0's l1: 2.16738e+06\tvalid_0's l2: 1.28056e+13\n",
      "[17]\ttraining's l1: 960021\ttraining's l2: 1.65958e+12\tvalid_0's l1: 2.15669e+06\tvalid_0's l2: 1.2619e+13\n",
      "[18]\ttraining's l1: 958406\ttraining's l2: 1.63565e+12\tvalid_0's l1: 2.16722e+06\tvalid_0's l2: 1.28431e+13\n",
      "[19]\ttraining's l1: 945843\ttraining's l2: 1.57903e+12\tvalid_0's l1: 2.16018e+06\tvalid_0's l2: 1.26295e+13\n",
      "[20]\ttraining's l1: 939628\ttraining's l2: 1.54588e+12\tvalid_0's l1: 2.14492e+06\tvalid_0's l2: 1.26861e+13\n",
      "[21]\ttraining's l1: 932412\ttraining's l2: 1.49903e+12\tvalid_0's l1: 2.14077e+06\tvalid_0's l2: 1.26064e+13\n",
      "[22]\ttraining's l1: 921861\ttraining's l2: 1.48675e+12\tvalid_0's l1: 2.13e+06\tvalid_0's l2: 1.24954e+13\n",
      "[23]\ttraining's l1: 924170\ttraining's l2: 1.46846e+12\tvalid_0's l1: 2.13545e+06\tvalid_0's l2: 1.26895e+13\n",
      "[24]\ttraining's l1: 911859\ttraining's l2: 1.44712e+12\tvalid_0's l1: 2.13957e+06\tvalid_0's l2: 1.268e+13\n",
      "[25]\ttraining's l1: 907405\ttraining's l2: 1.42999e+12\tvalid_0's l1: 2.14375e+06\tvalid_0's l2: 1.26367e+13\n",
      "[26]\ttraining's l1: 896470\ttraining's l2: 1.41414e+12\tvalid_0's l1: 2.14137e+06\tvalid_0's l2: 1.26494e+13\n",
      "[27]\ttraining's l1: 882793\ttraining's l2: 1.38813e+12\tvalid_0's l1: 2.13688e+06\tvalid_0's l2: 1.25951e+13\n",
      "[28]\ttraining's l1: 881597\ttraining's l2: 1.37771e+12\tvalid_0's l1: 2.14073e+06\tvalid_0's l2: 1.25852e+13\n",
      "[29]\ttraining's l1: 870692\ttraining's l2: 1.35044e+12\tvalid_0's l1: 2.15235e+06\tvalid_0's l2: 1.26107e+13\n",
      "[30]\ttraining's l1: 865154\ttraining's l2: 1.33751e+12\tvalid_0's l1: 2.14368e+06\tvalid_0's l2: 1.25832e+13\n",
      "[31]\ttraining's l1: 863577\ttraining's l2: 1.32991e+12\tvalid_0's l1: 2.13926e+06\tvalid_0's l2: 1.25115e+13\n",
      "[32]\ttraining's l1: 860364\ttraining's l2: 1.31533e+12\tvalid_0's l1: 2.12963e+06\tvalid_0's l2: 1.25581e+13\n",
      "[33]\ttraining's l1: 852708\ttraining's l2: 1.2947e+12\tvalid_0's l1: 2.1571e+06\tvalid_0's l2: 1.27162e+13\n",
      "[34]\ttraining's l1: 844867\ttraining's l2: 1.27617e+12\tvalid_0's l1: 2.15089e+06\tvalid_0's l2: 1.27947e+13\n",
      "[35]\ttraining's l1: 838371\ttraining's l2: 1.26581e+12\tvalid_0's l1: 2.15071e+06\tvalid_0's l2: 1.27901e+13\n",
      "[36]\ttraining's l1: 829866\ttraining's l2: 1.25586e+12\tvalid_0's l1: 2.1589e+06\tvalid_0's l2: 1.29156e+13\n",
      "[37]\ttraining's l1: 828990\ttraining's l2: 1.23684e+12\tvalid_0's l1: 2.16844e+06\tvalid_0's l2: 1.28491e+13\n",
      "[38]\ttraining's l1: 828341\ttraining's l2: 1.22539e+12\tvalid_0's l1: 2.17292e+06\tvalid_0's l2: 1.27702e+13\n",
      "[39]\ttraining's l1: 819312\ttraining's l2: 1.21218e+12\tvalid_0's l1: 2.16721e+06\tvalid_0's l2: 1.27297e+13\n",
      "[40]\ttraining's l1: 809851\ttraining's l2: 1.20146e+12\tvalid_0's l1: 2.17291e+06\tvalid_0's l2: 1.27664e+13\n",
      "[41]\ttraining's l1: 805328\ttraining's l2: 1.19485e+12\tvalid_0's l1: 2.17142e+06\tvalid_0's l2: 1.2778e+13\n",
      "[42]\ttraining's l1: 804652\ttraining's l2: 1.18736e+12\tvalid_0's l1: 2.17419e+06\tvalid_0's l2: 1.29019e+13\n",
      "[43]\ttraining's l1: 805403\ttraining's l2: 1.17397e+12\tvalid_0's l1: 2.17397e+06\tvalid_0's l2: 1.28787e+13\n",
      "[44]\ttraining's l1: 803686\ttraining's l2: 1.16435e+12\tvalid_0's l1: 2.17134e+06\tvalid_0's l2: 1.27625e+13\n",
      "[45]\ttraining's l1: 801105\ttraining's l2: 1.15672e+12\tvalid_0's l1: 2.17879e+06\tvalid_0's l2: 1.27776e+13\n",
      "[46]\ttraining's l1: 787797\ttraining's l2: 1.14221e+12\tvalid_0's l1: 2.18444e+06\tvalid_0's l2: 1.26346e+13\n",
      "[47]\ttraining's l1: 782857\ttraining's l2: 1.12623e+12\tvalid_0's l1: 2.18919e+06\tvalid_0's l2: 1.2593e+13\n",
      "[48]\ttraining's l1: 779668\ttraining's l2: 1.11948e+12\tvalid_0's l1: 2.18498e+06\tvalid_0's l2: 1.2651e+13\n",
      "[49]\ttraining's l1: 778601\ttraining's l2: 1.11228e+12\tvalid_0's l1: 2.17957e+06\tvalid_0's l2: 1.2701e+13\n",
      "[50]\ttraining's l1: 772087\ttraining's l2: 1.10301e+12\tvalid_0's l1: 2.18159e+06\tvalid_0's l2: 1.26383e+13\n",
      "[51]\ttraining's l1: 767916\ttraining's l2: 1.09776e+12\tvalid_0's l1: 2.18194e+06\tvalid_0's l2: 1.26987e+13\n",
      "[52]\ttraining's l1: 762842\ttraining's l2: 1.08738e+12\tvalid_0's l1: 2.19366e+06\tvalid_0's l2: 1.27947e+13\n",
      "[53]\ttraining's l1: 759791\ttraining's l2: 1.07723e+12\tvalid_0's l1: 2.1973e+06\tvalid_0's l2: 1.27674e+13\n",
      "[54]\ttraining's l1: 758898\ttraining's l2: 1.07156e+12\tvalid_0's l1: 2.196e+06\tvalid_0's l2: 1.28344e+13\n",
      "[55]\ttraining's l1: 754605\ttraining's l2: 1.05517e+12\tvalid_0's l1: 2.20666e+06\tvalid_0's l2: 1.27788e+13\n",
      "[56]\ttraining's l1: 753737\ttraining's l2: 1.04556e+12\tvalid_0's l1: 2.20116e+06\tvalid_0's l2: 1.26981e+13\n",
      "[57]\ttraining's l1: 750209\ttraining's l2: 1.0337e+12\tvalid_0's l1: 2.19707e+06\tvalid_0's l2: 1.2755e+13\n",
      "[58]\ttraining's l1: 745387\ttraining's l2: 1.02441e+12\tvalid_0's l1: 2.20233e+06\tvalid_0's l2: 1.28712e+13\n",
      "[59]\ttraining's l1: 738143\ttraining's l2: 1.01037e+12\tvalid_0's l1: 2.20648e+06\tvalid_0's l2: 1.28942e+13\n",
      "[60]\ttraining's l1: 736897\ttraining's l2: 1.0044e+12\tvalid_0's l1: 2.19966e+06\tvalid_0's l2: 1.28377e+13\n",
      "[61]\ttraining's l1: 730803\ttraining's l2: 9.97699e+11\tvalid_0's l1: 2.20702e+06\tvalid_0's l2: 1.28572e+13\n",
      "[62]\ttraining's l1: 726130\ttraining's l2: 9.92052e+11\tvalid_0's l1: 2.2134e+06\tvalid_0's l2: 1.29512e+13\n",
      "[63]\ttraining's l1: 729043\ttraining's l2: 9.87074e+11\tvalid_0's l1: 2.21836e+06\tvalid_0's l2: 1.30436e+13\n",
      "[64]\ttraining's l1: 728999\ttraining's l2: 9.83578e+11\tvalid_0's l1: 2.21616e+06\tvalid_0's l2: 1.30763e+13\n",
      "[65]\ttraining's l1: 723084\ttraining's l2: 9.77108e+11\tvalid_0's l1: 2.2126e+06\tvalid_0's l2: 1.30262e+13\n",
      "[66]\ttraining's l1: 723819\ttraining's l2: 9.73283e+11\tvalid_0's l1: 2.21973e+06\tvalid_0's l2: 1.31337e+13\n",
      "[67]\ttraining's l1: 719523\ttraining's l2: 9.6721e+11\tvalid_0's l1: 2.23404e+06\tvalid_0's l2: 1.32478e+13\n",
      "[68]\ttraining's l1: 718525\ttraining's l2: 9.64453e+11\tvalid_0's l1: 2.23207e+06\tvalid_0's l2: 1.31975e+13\n",
      "[69]\ttraining's l1: 714028\ttraining's l2: 9.59254e+11\tvalid_0's l1: 2.23554e+06\tvalid_0's l2: 1.32519e+13\n",
      "[70]\ttraining's l1: 710917\ttraining's l2: 9.56198e+11\tvalid_0's l1: 2.24034e+06\tvalid_0's l2: 1.33273e+13\n",
      "[71]\ttraining's l1: 709090\ttraining's l2: 9.47896e+11\tvalid_0's l1: 2.24992e+06\tvalid_0's l2: 1.3416e+13\n",
      "[72]\ttraining's l1: 704946\ttraining's l2: 9.43786e+11\tvalid_0's l1: 2.24967e+06\tvalid_0's l2: 1.33711e+13\n",
      "[73]\ttraining's l1: 703442\ttraining's l2: 9.39263e+11\tvalid_0's l1: 2.24951e+06\tvalid_0's l2: 1.3466e+13\n",
      "[74]\ttraining's l1: 701444\ttraining's l2: 9.35372e+11\tvalid_0's l1: 2.24852e+06\tvalid_0's l2: 1.35029e+13\n",
      "[75]\ttraining's l1: 699822\ttraining's l2: 9.31102e+11\tvalid_0's l1: 2.24596e+06\tvalid_0's l2: 1.34076e+13\n",
      "[76]\ttraining's l1: 697704\ttraining's l2: 9.26549e+11\tvalid_0's l1: 2.24452e+06\tvalid_0's l2: 1.33944e+13\n",
      "[77]\ttraining's l1: 693067\ttraining's l2: 9.23315e+11\tvalid_0's l1: 2.24795e+06\tvalid_0's l2: 1.34081e+13\n",
      "[78]\ttraining's l1: 696639\ttraining's l2: 9.1905e+11\tvalid_0's l1: 2.25147e+06\tvalid_0's l2: 1.3507e+13\n",
      "[79]\ttraining's l1: 694856\ttraining's l2: 9.16426e+11\tvalid_0's l1: 2.26061e+06\tvalid_0's l2: 1.35746e+13\n",
      "[80]\ttraining's l1: 692988\ttraining's l2: 9.11537e+11\tvalid_0's l1: 2.26498e+06\tvalid_0's l2: 1.36732e+13\n",
      "[81]\ttraining's l1: 692364\ttraining's l2: 9.08768e+11\tvalid_0's l1: 2.26516e+06\tvalid_0's l2: 1.36752e+13\n",
      "[82]\ttraining's l1: 688192\ttraining's l2: 9.03945e+11\tvalid_0's l1: 2.26179e+06\tvalid_0's l2: 1.36099e+13\n",
      "[83]\ttraining's l1: 684392\ttraining's l2: 8.96773e+11\tvalid_0's l1: 2.25763e+06\tvalid_0's l2: 1.3634e+13\n",
      "[84]\ttraining's l1: 682075\ttraining's l2: 8.94109e+11\tvalid_0's l1: 2.25763e+06\tvalid_0's l2: 1.36664e+13\n",
      "[85]\ttraining's l1: 679203\ttraining's l2: 8.89753e+11\tvalid_0's l1: 2.26229e+06\tvalid_0's l2: 1.36568e+13\n",
      "[86]\ttraining's l1: 678402\ttraining's l2: 8.86875e+11\tvalid_0's l1: 2.26002e+06\tvalid_0's l2: 1.36727e+13\n",
      "[87]\ttraining's l1: 679788\ttraining's l2: 8.83315e+11\tvalid_0's l1: 2.25934e+06\tvalid_0's l2: 1.37185e+13\n",
      "[88]\ttraining's l1: 680604\ttraining's l2: 8.73523e+11\tvalid_0's l1: 2.26681e+06\tvalid_0's l2: 1.36433e+13\n",
      "[89]\ttraining's l1: 677861\ttraining's l2: 8.71253e+11\tvalid_0's l1: 2.26805e+06\tvalid_0's l2: 1.35842e+13\n",
      "[90]\ttraining's l1: 676297\ttraining's l2: 8.61695e+11\tvalid_0's l1: 2.26682e+06\tvalid_0's l2: 1.36156e+13\n",
      "[91]\ttraining's l1: 673668\ttraining's l2: 8.57392e+11\tvalid_0's l1: 2.27276e+06\tvalid_0's l2: 1.36955e+13\n",
      "[92]\ttraining's l1: 672667\ttraining's l2: 8.54512e+11\tvalid_0's l1: 2.27422e+06\tvalid_0's l2: 1.365e+13\n",
      "[93]\ttraining's l1: 669189\ttraining's l2: 8.51501e+11\tvalid_0's l1: 2.2714e+06\tvalid_0's l2: 1.3685e+13\n",
      "[94]\ttraining's l1: 667771\ttraining's l2: 8.38649e+11\tvalid_0's l1: 2.28371e+06\tvalid_0's l2: 1.36928e+13\n",
      "[95]\ttraining's l1: 660907\ttraining's l2: 8.33169e+11\tvalid_0's l1: 2.27287e+06\tvalid_0's l2: 1.36673e+13\n",
      "[96]\ttraining's l1: 660948\ttraining's l2: 8.31506e+11\tvalid_0's l1: 2.27394e+06\tvalid_0's l2: 1.3618e+13\n",
      "[97]\ttraining's l1: 659580\ttraining's l2: 8.29114e+11\tvalid_0's l1: 2.27588e+06\tvalid_0's l2: 1.36756e+13\n",
      "[98]\ttraining's l1: 657683\ttraining's l2: 8.24454e+11\tvalid_0's l1: 2.28896e+06\tvalid_0's l2: 1.37163e+13\n",
      "[99]\ttraining's l1: 659226\ttraining's l2: 8.19098e+11\tvalid_0's l1: 2.28824e+06\tvalid_0's l2: 1.37547e+13\n",
      "[100]\ttraining's l1: 651196\ttraining's l2: 8.14245e+11\tvalid_0's l1: 2.29446e+06\tvalid_0's l2: 1.38388e+13\n"
     ]
    },
    {
     "data": {
      "text/html": [
       "<style>#sk-container-id-2 {color: black;background-color: white;}#sk-container-id-2 pre{padding: 0;}#sk-container-id-2 div.sk-toggleable {background-color: white;}#sk-container-id-2 label.sk-toggleable__label {cursor: pointer;display: block;width: 100%;margin-bottom: 0;padding: 0.3em;box-sizing: border-box;text-align: center;}#sk-container-id-2 label.sk-toggleable__label-arrow:before {content: \"▸\";float: left;margin-right: 0.25em;color: #696969;}#sk-container-id-2 label.sk-toggleable__label-arrow:hover:before {color: black;}#sk-container-id-2 div.sk-estimator:hover label.sk-toggleable__label-arrow:before {color: black;}#sk-container-id-2 div.sk-toggleable__content {max-height: 0;max-width: 0;overflow: hidden;text-align: left;background-color: #f0f8ff;}#sk-container-id-2 div.sk-toggleable__content pre {margin: 0.2em;color: black;border-radius: 0.25em;background-color: #f0f8ff;}#sk-container-id-2 input.sk-toggleable__control:checked~div.sk-toggleable__content {max-height: 200px;max-width: 100%;overflow: auto;}#sk-container-id-2 input.sk-toggleable__control:checked~label.sk-toggleable__label-arrow:before {content: \"▾\";}#sk-container-id-2 div.sk-estimator input.sk-toggleable__control:checked~label.sk-toggleable__label {background-color: #d4ebff;}#sk-container-id-2 div.sk-label input.sk-toggleable__control:checked~label.sk-toggleable__label {background-color: #d4ebff;}#sk-container-id-2 input.sk-hidden--visually {border: 0;clip: rect(1px 1px 1px 1px);clip: rect(1px, 1px, 1px, 1px);height: 1px;margin: -1px;overflow: hidden;padding: 0;position: absolute;width: 1px;}#sk-container-id-2 div.sk-estimator {font-family: monospace;background-color: #f0f8ff;border: 1px dotted black;border-radius: 0.25em;box-sizing: border-box;margin-bottom: 0.5em;}#sk-container-id-2 div.sk-estimator:hover {background-color: #d4ebff;}#sk-container-id-2 div.sk-parallel-item::after {content: \"\";width: 100%;border-bottom: 1px solid gray;flex-grow: 1;}#sk-container-id-2 div.sk-label:hover label.sk-toggleable__label {background-color: #d4ebff;}#sk-container-id-2 div.sk-serial::before {content: \"\";position: absolute;border-left: 1px solid gray;box-sizing: border-box;top: 0;bottom: 0;left: 50%;z-index: 0;}#sk-container-id-2 div.sk-serial {display: flex;flex-direction: column;align-items: center;background-color: white;padding-right: 0.2em;padding-left: 0.2em;position: relative;}#sk-container-id-2 div.sk-item {position: relative;z-index: 1;}#sk-container-id-2 div.sk-parallel {display: flex;align-items: stretch;justify-content: center;background-color: white;position: relative;}#sk-container-id-2 div.sk-item::before, #sk-container-id-2 div.sk-parallel-item::before {content: \"\";position: absolute;border-left: 1px solid gray;box-sizing: border-box;top: 0;bottom: 0;left: 50%;z-index: -1;}#sk-container-id-2 div.sk-parallel-item {display: flex;flex-direction: column;z-index: 1;position: relative;background-color: white;}#sk-container-id-2 div.sk-parallel-item:first-child::after {align-self: flex-end;width: 50%;}#sk-container-id-2 div.sk-parallel-item:last-child::after {align-self: flex-start;width: 50%;}#sk-container-id-2 div.sk-parallel-item:only-child::after {width: 0;}#sk-container-id-2 div.sk-dashed-wrapped {border: 1px dashed gray;margin: 0 0.4em 0.5em 0.4em;box-sizing: border-box;padding-bottom: 0.4em;background-color: white;}#sk-container-id-2 div.sk-label label {font-family: monospace;font-weight: bold;display: inline-block;line-height: 1.2em;}#sk-container-id-2 div.sk-label-container {text-align: center;}#sk-container-id-2 div.sk-container {/* jupyter's `normalize.less` sets `[hidden] { display: none; }` but bootstrap.min.css set `[hidden] { display: none !important; }` so we also need the `!important` here to be able to override the default hidden behavior on the sphinx rendered scikit-learn.org. See: https://github.com/scikit-learn/scikit-learn/issues/21755 */display: inline-block !important;position: relative;}#sk-container-id-2 div.sk-text-repr-fallback {display: none;}</style><div id=\"sk-container-id-2\" class=\"sk-top-container\"><div class=\"sk-text-repr-fallback\"><pre>LGBMRegressor(lambda_l1=9.769782525841663, lambda_l2=0.1786307767981292,\n",
       "              learning_rate=0.4936275860667031, num_leaves=55, verbose=-1)</pre><b>In a Jupyter environment, please rerun this cell to show the HTML representation or trust the notebook. <br />On GitHub, the HTML representation is unable to render, please try loading this page with nbviewer.org.</b></div><div class=\"sk-container\" hidden><div class=\"sk-item\"><div class=\"sk-estimator sk-toggleable\"><input class=\"sk-toggleable__control sk-hidden--visually\" id=\"sk-estimator-id-7\" type=\"checkbox\" checked><label for=\"sk-estimator-id-7\" class=\"sk-toggleable__label sk-toggleable__label-arrow\">LGBMRegressor</label><div class=\"sk-toggleable__content\"><pre>LGBMRegressor(lambda_l1=9.769782525841663, lambda_l2=0.1786307767981292,\n",
       "              learning_rate=0.4936275860667031, num_leaves=55, verbose=-1)</pre></div></div></div></div></div>"
      ],
      "text/plain": [
       "LGBMRegressor(lambda_l1=9.769782525841663, lambda_l2=0.1786307767981292,\n",
       "              learning_rate=0.4936275860667031, num_leaves=55, verbose=-1)"
      ]
     },
     "execution_count": 19,
     "metadata": {},
     "output_type": "execute_result"
    }
   ],
   "source": [
    "model = lgb.LGBMRegressor(**best_params,\n",
    "                          verbose=-1)\n",
    "\n",
    "model.fit(X_train, y_train,\n",
    "          eval_set=[(X_test, y_test), (X_train, y_train)],\n",
    "          eval_metric='mae')"
   ]
  },
  {
   "cell_type": "code",
   "execution_count": 20,
   "id": "e871daa6",
   "metadata": {
    "execution": {
     "iopub.execute_input": "2024-03-20T19:42:00.848014Z",
     "iopub.status.busy": "2024-03-20T19:42:00.847594Z",
     "iopub.status.idle": "2024-03-20T19:42:00.854389Z",
     "shell.execute_reply": "2024-03-20T19:42:00.853207Z"
    },
    "papermill": {
     "duration": 0.02559,
     "end_time": "2024-03-20T19:42:00.856752",
     "exception": false,
     "start_time": "2024-03-20T19:42:00.831162",
     "status": "completed"
    },
    "tags": []
   },
   "outputs": [],
   "source": [
    "def get_metrics(y_true, y_pred, name=\"model\"):\n",
    "  df = pd.DataFrame()\n",
    "\n",
    "  df.loc[\"MAE\", name] = metrics.mean_absolute_error(y_true, y_pred)\n",
    "  df.loc[\"RMSE\", name] = metrics.mean_squared_error(y_true, y_pred) ** 0.5\n",
    "  df.loc[\"R2\", name] = metrics.r2_score(y_true, y_pred)\n",
    "\n",
    "  return df.round(2)"
   ]
  },
  {
   "cell_type": "code",
   "execution_count": 21,
   "id": "da3f55c4",
   "metadata": {
    "execution": {
     "iopub.execute_input": "2024-03-20T19:42:00.887918Z",
     "iopub.status.busy": "2024-03-20T19:42:00.887490Z",
     "iopub.status.idle": "2024-03-20T19:42:00.916432Z",
     "shell.execute_reply": "2024-03-20T19:42:00.915269Z"
    },
    "papermill": {
     "duration": 0.047196,
     "end_time": "2024-03-20T19:42:00.918814",
     "exception": false,
     "start_time": "2024-03-20T19:42:00.871618",
     "status": "completed"
    },
    "tags": []
   },
   "outputs": [
    {
     "data": {
      "text/html": [
       "<div>\n",
       "<style scoped>\n",
       "    .dataframe tbody tr th:only-of-type {\n",
       "        vertical-align: middle;\n",
       "    }\n",
       "\n",
       "    .dataframe tbody tr th {\n",
       "        vertical-align: top;\n",
       "    }\n",
       "\n",
       "    .dataframe thead th {\n",
       "        text-align: right;\n",
       "    }\n",
       "</style>\n",
       "<table border=\"1\" class=\"dataframe\">\n",
       "  <thead>\n",
       "    <tr style=\"text-align: right;\">\n",
       "      <th></th>\n",
       "      <th>train</th>\n",
       "      <th>test</th>\n",
       "    </tr>\n",
       "  </thead>\n",
       "  <tbody>\n",
       "    <tr>\n",
       "      <th>MAE</th>\n",
       "      <td>651196.43</td>\n",
       "      <td>2294462.36</td>\n",
       "    </tr>\n",
       "    <tr>\n",
       "      <th>RMSE</th>\n",
       "      <td>902355.41</td>\n",
       "      <td>3720049.44</td>\n",
       "    </tr>\n",
       "    <tr>\n",
       "      <th>R2</th>\n",
       "      <td>0.72</td>\n",
       "      <td>-0.13</td>\n",
       "    </tr>\n",
       "  </tbody>\n",
       "</table>\n",
       "</div>"
      ],
      "text/plain": [
       "          train        test\n",
       "MAE   651196.43  2294462.36\n",
       "RMSE  902355.41  3720049.44\n",
       "R2         0.72       -0.13"
      ]
     },
     "execution_count": 21,
     "metadata": {},
     "output_type": "execute_result"
    }
   ],
   "source": [
    "all_metrics = pd.DataFrame()\n",
    "\n",
    "all_metrics[\"train\"] = get_metrics(y_train, model.predict(X_train))\n",
    "all_metrics[\"test\"] = get_metrics(y_test, model.predict(X_test))\n",
    "\n",
    "all_metrics"
   ]
  },
  {
   "cell_type": "code",
   "execution_count": 22,
   "id": "a5546a8f",
   "metadata": {
    "execution": {
     "iopub.execute_input": "2024-03-20T19:42:00.951590Z",
     "iopub.status.busy": "2024-03-20T19:42:00.951170Z",
     "iopub.status.idle": "2024-03-20T19:42:03.883721Z",
     "shell.execute_reply": "2024-03-20T19:42:03.882508Z"
    },
    "papermill": {
     "duration": 2.952191,
     "end_time": "2024-03-20T19:42:03.886372",
     "exception": false,
     "start_time": "2024-03-20T19:42:00.934181",
     "status": "completed"
    },
    "tags": []
   },
   "outputs": [
    {
     "data": {
      "text/html": [
       "        <script type=\"text/javascript\">\n",
       "        window.PlotlyConfig = {MathJaxConfig: 'local'};\n",
       "        if (window.MathJax && window.MathJax.Hub && window.MathJax.Hub.Config) {window.MathJax.Hub.Config({SVG: {font: \"STIX-Web\"}});}\n",
       "        if (typeof require !== 'undefined') {\n",
       "        require.undef(\"plotly\");\n",
       "        requirejs.config({\n",
       "            paths: {\n",
       "                'plotly': ['https://cdn.plot.ly/plotly-2.25.2.min']\n",
       "            }\n",
       "        });\n",
       "        require(['plotly'], function(Plotly) {\n",
       "            window._Plotly = Plotly;\n",
       "        });\n",
       "        }\n",
       "        </script>\n",
       "        "
      ]
     },
     "metadata": {},
     "output_type": "display_data"
    },
    {
     "data": {
      "text/html": [
       "<div>                            <div id=\"6aeb785c-787d-4073-8b9d-cb7be941006d\" class=\"plotly-graph-div\" style=\"height:525px; width:100%;\"></div>            <script type=\"text/javascript\">                require([\"plotly\"], function(Plotly) {                    window.PLOTLYENV=window.PLOTLYENV || {};                                    if (document.getElementById(\"6aeb785c-787d-4073-8b9d-cb7be941006d\")) {                    Plotly.newPlot(                        \"6aeb785c-787d-4073-8b9d-cb7be941006d\",                        [{\"cliponaxis\":false,\"hovertemplate\":[\"boosting_type (CategoricalDistribution): 0.011384992028786475\\u003cextra\\u003e\\u003c\\u002fextra\\u003e\",\"lambda_l2 (FloatDistribution): 0.035821672074864704\\u003cextra\\u003e\\u003c\\u002fextra\\u003e\",\"lambda_l1 (FloatDistribution): 0.05613824870736767\\u003cextra\\u003e\\u003c\\u002fextra\\u003e\",\"num_leaves (IntDistribution): 0.07593569373405146\\u003cextra\\u003e\\u003c\\u002fextra\\u003e\",\"learning_rate (FloatDistribution): 0.8207193934549297\\u003cextra\\u003e\\u003c\\u002fextra\\u003e\"],\"name\":\"Objective Value\",\"orientation\":\"h\",\"text\":[\"0.01\",\"0.04\",\"0.06\",\"0.08\",\"0.82\"],\"textposition\":\"outside\",\"x\":[0.011384992028786475,0.035821672074864704,0.05613824870736767,0.07593569373405146,0.8207193934549297],\"y\":[\"boosting_type\",\"lambda_l2\",\"lambda_l1\",\"num_leaves\",\"learning_rate\"],\"type\":\"bar\"}],                        {\"title\":{\"text\":\"Hyperparameter Importances\"},\"xaxis\":{\"title\":{\"text\":\"Hyperparameter Importance\"}},\"yaxis\":{\"title\":{\"text\":\"Hyperparameter\"}},\"template\":{\"data\":{\"histogram2dcontour\":[{\"type\":\"histogram2dcontour\",\"colorbar\":{\"outlinewidth\":0,\"ticks\":\"\"},\"colorscale\":[[0.0,\"#0d0887\"],[0.1111111111111111,\"#46039f\"],[0.2222222222222222,\"#7201a8\"],[0.3333333333333333,\"#9c179e\"],[0.4444444444444444,\"#bd3786\"],[0.5555555555555556,\"#d8576b\"],[0.6666666666666666,\"#ed7953\"],[0.7777777777777778,\"#fb9f3a\"],[0.8888888888888888,\"#fdca26\"],[1.0,\"#f0f921\"]]}],\"choropleth\":[{\"type\":\"choropleth\",\"colorbar\":{\"outlinewidth\":0,\"ticks\":\"\"}}],\"histogram2d\":[{\"type\":\"histogram2d\",\"colorbar\":{\"outlinewidth\":0,\"ticks\":\"\"},\"colorscale\":[[0.0,\"#0d0887\"],[0.1111111111111111,\"#46039f\"],[0.2222222222222222,\"#7201a8\"],[0.3333333333333333,\"#9c179e\"],[0.4444444444444444,\"#bd3786\"],[0.5555555555555556,\"#d8576b\"],[0.6666666666666666,\"#ed7953\"],[0.7777777777777778,\"#fb9f3a\"],[0.8888888888888888,\"#fdca26\"],[1.0,\"#f0f921\"]]}],\"heatmap\":[{\"type\":\"heatmap\",\"colorbar\":{\"outlinewidth\":0,\"ticks\":\"\"},\"colorscale\":[[0.0,\"#0d0887\"],[0.1111111111111111,\"#46039f\"],[0.2222222222222222,\"#7201a8\"],[0.3333333333333333,\"#9c179e\"],[0.4444444444444444,\"#bd3786\"],[0.5555555555555556,\"#d8576b\"],[0.6666666666666666,\"#ed7953\"],[0.7777777777777778,\"#fb9f3a\"],[0.8888888888888888,\"#fdca26\"],[1.0,\"#f0f921\"]]}],\"heatmapgl\":[{\"type\":\"heatmapgl\",\"colorbar\":{\"outlinewidth\":0,\"ticks\":\"\"},\"colorscale\":[[0.0,\"#0d0887\"],[0.1111111111111111,\"#46039f\"],[0.2222222222222222,\"#7201a8\"],[0.3333333333333333,\"#9c179e\"],[0.4444444444444444,\"#bd3786\"],[0.5555555555555556,\"#d8576b\"],[0.6666666666666666,\"#ed7953\"],[0.7777777777777778,\"#fb9f3a\"],[0.8888888888888888,\"#fdca26\"],[1.0,\"#f0f921\"]]}],\"contourcarpet\":[{\"type\":\"contourcarpet\",\"colorbar\":{\"outlinewidth\":0,\"ticks\":\"\"}}],\"contour\":[{\"type\":\"contour\",\"colorbar\":{\"outlinewidth\":0,\"ticks\":\"\"},\"colorscale\":[[0.0,\"#0d0887\"],[0.1111111111111111,\"#46039f\"],[0.2222222222222222,\"#7201a8\"],[0.3333333333333333,\"#9c179e\"],[0.4444444444444444,\"#bd3786\"],[0.5555555555555556,\"#d8576b\"],[0.6666666666666666,\"#ed7953\"],[0.7777777777777778,\"#fb9f3a\"],[0.8888888888888888,\"#fdca26\"],[1.0,\"#f0f921\"]]}],\"surface\":[{\"type\":\"surface\",\"colorbar\":{\"outlinewidth\":0,\"ticks\":\"\"},\"colorscale\":[[0.0,\"#0d0887\"],[0.1111111111111111,\"#46039f\"],[0.2222222222222222,\"#7201a8\"],[0.3333333333333333,\"#9c179e\"],[0.4444444444444444,\"#bd3786\"],[0.5555555555555556,\"#d8576b\"],[0.6666666666666666,\"#ed7953\"],[0.7777777777777778,\"#fb9f3a\"],[0.8888888888888888,\"#fdca26\"],[1.0,\"#f0f921\"]]}],\"mesh3d\":[{\"type\":\"mesh3d\",\"colorbar\":{\"outlinewidth\":0,\"ticks\":\"\"}}],\"scatter\":[{\"fillpattern\":{\"fillmode\":\"overlay\",\"size\":10,\"solidity\":0.2},\"type\":\"scatter\"}],\"parcoords\":[{\"type\":\"parcoords\",\"line\":{\"colorbar\":{\"outlinewidth\":0,\"ticks\":\"\"}}}],\"scatterpolargl\":[{\"type\":\"scatterpolargl\",\"marker\":{\"colorbar\":{\"outlinewidth\":0,\"ticks\":\"\"}}}],\"bar\":[{\"error_x\":{\"color\":\"#2a3f5f\"},\"error_y\":{\"color\":\"#2a3f5f\"},\"marker\":{\"line\":{\"color\":\"#E5ECF6\",\"width\":0.5},\"pattern\":{\"fillmode\":\"overlay\",\"size\":10,\"solidity\":0.2}},\"type\":\"bar\"}],\"scattergeo\":[{\"type\":\"scattergeo\",\"marker\":{\"colorbar\":{\"outlinewidth\":0,\"ticks\":\"\"}}}],\"scatterpolar\":[{\"type\":\"scatterpolar\",\"marker\":{\"colorbar\":{\"outlinewidth\":0,\"ticks\":\"\"}}}],\"histogram\":[{\"marker\":{\"pattern\":{\"fillmode\":\"overlay\",\"size\":10,\"solidity\":0.2}},\"type\":\"histogram\"}],\"scattergl\":[{\"type\":\"scattergl\",\"marker\":{\"colorbar\":{\"outlinewidth\":0,\"ticks\":\"\"}}}],\"scatter3d\":[{\"type\":\"scatter3d\",\"line\":{\"colorbar\":{\"outlinewidth\":0,\"ticks\":\"\"}},\"marker\":{\"colorbar\":{\"outlinewidth\":0,\"ticks\":\"\"}}}],\"scattermapbox\":[{\"type\":\"scattermapbox\",\"marker\":{\"colorbar\":{\"outlinewidth\":0,\"ticks\":\"\"}}}],\"scatterternary\":[{\"type\":\"scatterternary\",\"marker\":{\"colorbar\":{\"outlinewidth\":0,\"ticks\":\"\"}}}],\"scattercarpet\":[{\"type\":\"scattercarpet\",\"marker\":{\"colorbar\":{\"outlinewidth\":0,\"ticks\":\"\"}}}],\"carpet\":[{\"aaxis\":{\"endlinecolor\":\"#2a3f5f\",\"gridcolor\":\"white\",\"linecolor\":\"white\",\"minorgridcolor\":\"white\",\"startlinecolor\":\"#2a3f5f\"},\"baxis\":{\"endlinecolor\":\"#2a3f5f\",\"gridcolor\":\"white\",\"linecolor\":\"white\",\"minorgridcolor\":\"white\",\"startlinecolor\":\"#2a3f5f\"},\"type\":\"carpet\"}],\"table\":[{\"cells\":{\"fill\":{\"color\":\"#EBF0F8\"},\"line\":{\"color\":\"white\"}},\"header\":{\"fill\":{\"color\":\"#C8D4E3\"},\"line\":{\"color\":\"white\"}},\"type\":\"table\"}],\"barpolar\":[{\"marker\":{\"line\":{\"color\":\"#E5ECF6\",\"width\":0.5},\"pattern\":{\"fillmode\":\"overlay\",\"size\":10,\"solidity\":0.2}},\"type\":\"barpolar\"}],\"pie\":[{\"automargin\":true,\"type\":\"pie\"}]},\"layout\":{\"autotypenumbers\":\"strict\",\"colorway\":[\"#636efa\",\"#EF553B\",\"#00cc96\",\"#ab63fa\",\"#FFA15A\",\"#19d3f3\",\"#FF6692\",\"#B6E880\",\"#FF97FF\",\"#FECB52\"],\"font\":{\"color\":\"#2a3f5f\"},\"hovermode\":\"closest\",\"hoverlabel\":{\"align\":\"left\"},\"paper_bgcolor\":\"white\",\"plot_bgcolor\":\"#E5ECF6\",\"polar\":{\"bgcolor\":\"#E5ECF6\",\"angularaxis\":{\"gridcolor\":\"white\",\"linecolor\":\"white\",\"ticks\":\"\"},\"radialaxis\":{\"gridcolor\":\"white\",\"linecolor\":\"white\",\"ticks\":\"\"}},\"ternary\":{\"bgcolor\":\"#E5ECF6\",\"aaxis\":{\"gridcolor\":\"white\",\"linecolor\":\"white\",\"ticks\":\"\"},\"baxis\":{\"gridcolor\":\"white\",\"linecolor\":\"white\",\"ticks\":\"\"},\"caxis\":{\"gridcolor\":\"white\",\"linecolor\":\"white\",\"ticks\":\"\"}},\"coloraxis\":{\"colorbar\":{\"outlinewidth\":0,\"ticks\":\"\"}},\"colorscale\":{\"sequential\":[[0.0,\"#0d0887\"],[0.1111111111111111,\"#46039f\"],[0.2222222222222222,\"#7201a8\"],[0.3333333333333333,\"#9c179e\"],[0.4444444444444444,\"#bd3786\"],[0.5555555555555556,\"#d8576b\"],[0.6666666666666666,\"#ed7953\"],[0.7777777777777778,\"#fb9f3a\"],[0.8888888888888888,\"#fdca26\"],[1.0,\"#f0f921\"]],\"sequentialminus\":[[0.0,\"#0d0887\"],[0.1111111111111111,\"#46039f\"],[0.2222222222222222,\"#7201a8\"],[0.3333333333333333,\"#9c179e\"],[0.4444444444444444,\"#bd3786\"],[0.5555555555555556,\"#d8576b\"],[0.6666666666666666,\"#ed7953\"],[0.7777777777777778,\"#fb9f3a\"],[0.8888888888888888,\"#fdca26\"],[1.0,\"#f0f921\"]],\"diverging\":[[0,\"#8e0152\"],[0.1,\"#c51b7d\"],[0.2,\"#de77ae\"],[0.3,\"#f1b6da\"],[0.4,\"#fde0ef\"],[0.5,\"#f7f7f7\"],[0.6,\"#e6f5d0\"],[0.7,\"#b8e186\"],[0.8,\"#7fbc41\"],[0.9,\"#4d9221\"],[1,\"#276419\"]]},\"xaxis\":{\"gridcolor\":\"white\",\"linecolor\":\"white\",\"ticks\":\"\",\"title\":{\"standoff\":15},\"zerolinecolor\":\"white\",\"automargin\":true,\"zerolinewidth\":2},\"yaxis\":{\"gridcolor\":\"white\",\"linecolor\":\"white\",\"ticks\":\"\",\"title\":{\"standoff\":15},\"zerolinecolor\":\"white\",\"automargin\":true,\"zerolinewidth\":2},\"scene\":{\"xaxis\":{\"backgroundcolor\":\"#E5ECF6\",\"gridcolor\":\"white\",\"linecolor\":\"white\",\"showbackground\":true,\"ticks\":\"\",\"zerolinecolor\":\"white\",\"gridwidth\":2},\"yaxis\":{\"backgroundcolor\":\"#E5ECF6\",\"gridcolor\":\"white\",\"linecolor\":\"white\",\"showbackground\":true,\"ticks\":\"\",\"zerolinecolor\":\"white\",\"gridwidth\":2},\"zaxis\":{\"backgroundcolor\":\"#E5ECF6\",\"gridcolor\":\"white\",\"linecolor\":\"white\",\"showbackground\":true,\"ticks\":\"\",\"zerolinecolor\":\"white\",\"gridwidth\":2}},\"shapedefaults\":{\"line\":{\"color\":\"#2a3f5f\"}},\"annotationdefaults\":{\"arrowcolor\":\"#2a3f5f\",\"arrowhead\":0,\"arrowwidth\":1},\"geo\":{\"bgcolor\":\"white\",\"landcolor\":\"#E5ECF6\",\"subunitcolor\":\"white\",\"showland\":true,\"showlakes\":true,\"lakecolor\":\"white\"},\"title\":{\"x\":0.05},\"mapbox\":{\"style\":\"light\"}}}},                        {\"responsive\": true}                    ).then(function(){\n",
       "                            \n",
       "var gd = document.getElementById('6aeb785c-787d-4073-8b9d-cb7be941006d');\n",
       "var x = new MutationObserver(function (mutations, observer) {{\n",
       "        var display = window.getComputedStyle(gd).display;\n",
       "        if (!display || display === 'none') {{\n",
       "            console.log([gd, 'removed!']);\n",
       "            Plotly.purge(gd);\n",
       "            observer.disconnect();\n",
       "        }}\n",
       "}});\n",
       "\n",
       "// Listen for the removal of the full notebook cells\n",
       "var notebookContainer = gd.closest('#notebook-container');\n",
       "if (notebookContainer) {{\n",
       "    x.observe(notebookContainer, {childList: true});\n",
       "}}\n",
       "\n",
       "// Listen for the clearing of the current output cell\n",
       "var outputEl = gd.closest('.output');\n",
       "if (outputEl) {{\n",
       "    x.observe(outputEl, {childList: true});\n",
       "}}\n",
       "\n",
       "                        })                };                });            </script>        </div>"
      ]
     },
     "metadata": {},
     "output_type": "display_data"
    }
   ],
   "source": [
    "optuna.visualization.plot_param_importances(study)"
   ]
  },
  {
   "cell_type": "code",
   "execution_count": 23,
   "id": "ba0cb7a4",
   "metadata": {
    "execution": {
     "iopub.execute_input": "2024-03-20T19:42:03.919102Z",
     "iopub.status.busy": "2024-03-20T19:42:03.918683Z",
     "iopub.status.idle": "2024-03-20T19:42:04.632373Z",
     "shell.execute_reply": "2024-03-20T19:42:04.631132Z"
    },
    "papermill": {
     "duration": 0.733074,
     "end_time": "2024-03-20T19:42:04.634753",
     "exception": false,
     "start_time": "2024-03-20T19:42:03.901679",
     "status": "completed"
    },
    "tags": []
   },
   "outputs": [
    {
     "data": {
      "text/plain": [
       "<Axes: title={'center': 'Feature importance'}, xlabel='Feature importance', ylabel='Features'>"
      ]
     },
     "execution_count": 23,
     "metadata": {},
     "output_type": "execute_result"
    },
    {
     "data": {
      "image/png": "[encoded data removed]",
      "text/plain": [
       "<Figure size 640x480 with 1 Axes>"
      ]
     },
     "metadata": {},
     "output_type": "display_data"
    }
   ],
   "source": [
    "lgb.plot_importance(model)"
   ]
  },
  {
   "cell_type": "code",
   "execution_count": 24,
   "id": "7813c236",
   "metadata": {
    "execution": {
     "iopub.execute_input": "2024-03-20T19:42:04.669421Z",
     "iopub.status.busy": "2024-03-20T19:42:04.669000Z",
     "iopub.status.idle": "2024-03-20T19:42:05.061368Z",
     "shell.execute_reply": "2024-03-20T19:42:05.060018Z"
    },
    "papermill": {
     "duration": 0.412947,
     "end_time": "2024-03-20T19:42:05.064088",
     "exception": false,
     "start_time": "2024-03-20T19:42:04.651141",
     "status": "completed"
    },
    "tags": []
   },
   "outputs": [
    {
     "data": {
      "text/plain": [
       "<Axes: title={'center': 'Metric during training'}, xlabel='Iterations', ylabel='l1'>"
      ]
     },
     "execution_count": 24,
     "metadata": {},
     "output_type": "execute_result"
    },
    {
     "data": {
      "image/png": "[encoded data removed]",
      "text/plain": [
       "<Figure size 640x480 with 1 Axes>"
      ]
     },
     "metadata": {},
     "output_type": "display_data"
    }
   ],
   "source": [
    "lgb.plot_metric(model,\n",
    "                metric='l1')"
   ]
  }
 ],
 "metadata": {
  "kaggle": {
   "accelerator": "none",
   "dataSources": [
    {
     "databundleVersionId": 33759,
     "sourceId": 4272,
     "sourceType": "competition"
    }
   ],
   "dockerImageVersionId": 30626,
   "isGpuEnabled": false,
   "isInternetEnabled": true,
   "language": "python",
   "sourceType": "notebook"
  },
  "kernelspec": {
   "display_name": "Python 3",
   "language": "python",
   "name": "python3"
  },
  "language_info": {
   "codemirror_mode": {
    "name": "ipython",
    "version": 3
   },
   "file_extension": ".py",
   "mimetype": "text/x-python",
   "name": "python",
   "nbconvert_exporter": "python",
   "pygments_lexer": "ipython3",
   "version": "3.10.12"
  },
  "papermill": {
   "default_parameters": {},
   "duration": 40.06982,
   "end_time": "2024-03-20T19:42:06.208934",
   "environment_variables": {},
   "exception": null,
   "input_path": "__notebook__.ipynb",
   "output_path": "__notebook__.ipynb",
   "parameters": {},
   "start_time": "2024-03-20T19:41:26.139114",
   "version": "2.4.0"
  }
 },
 "nbformat": 4,
 "nbformat_minor": 5
}
