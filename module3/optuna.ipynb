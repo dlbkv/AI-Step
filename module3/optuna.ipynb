{
  "nbformat": 4,
  "nbformat_minor": 0,
  "metadata": {
    "colab": {
      "provenance": [],
      "toc_visible": true,
      "include_colab_link": true
    },
    "kernelspec": {
      "name": "python3",
      "display_name": "Python 3"
    },
    "language_info": {
      "name": "python"
    }
  },
  "cells": [
    {
      "cell_type": "markdown",
      "metadata": {
        "id": "view-in-github",
        "colab_type": "text"
      },
      "source": [
        "<a href=\"https://colab.research.google.com/github/dlbkv/AI-Step/blob/lectures/module3/optuna.ipynb\" target=\"_parent\"><img src=\"https://colab.research.google.com/assets/colab-badge.svg\" alt=\"Open In Colab\"/></a>"
      ]
    },
    {
      "cell_type": "markdown",
      "source": [
        "# Підбір гіперпараметрів\n",
        "\n",
        "Підбір гіперпараметрів - це **необхідний крок** в машинному навчанні, який може **істотно вплинути** на продуктивність вашої моделі. Цей гайд допоможе вам\n",
        "зрозуміти основи підбору гіперпараметрів, а також дасть **більш детальну інформацію**\n",
        "про ключові аспекти цього процесу:\n",
        "\n"
      ],
      "metadata": {
        "id": "GJTjqp-sV0VM"
      }
    },
    {
      "cell_type": "markdown",
      "source": [
        "# Недонавчання та перенавчання"
      ],
      "metadata": {
        "id": "wpEjSoMab2-G"
      }
    },
    {
      "cell_type": "markdown",
      "source": [
        "## Недонавчання\n",
        "\n",
        "* Виникає, коли модель **не може вивчити базові закономірності** в даних.\n",
        "* В результаті модель **погано генерує прогнози** на нових даних.\n",
        "* **Ознаки недонавчання:**\n",
        "    * Низька точність на тренувальному та тестовому наборах даних\n",
        "    * Велика різниця в продуктивності на тренувальному та тестовому наборах\n",
        "* **Як виправити недонавчання:**\n",
        "    * Збільшити складність моделі (наприклад, збільшити глибину дерева)\n",
        "    * Збільшити обсяг даних для навчання\n",
        "    * Зменшити регуляризацію\n",
        "\n"
      ],
      "metadata": {
        "id": "qCt7ya9kbxHt"
      }
    },
    {
      "cell_type": "markdown",
      "source": [
        "## Перенавчання\n",
        "\n",
        "* Виникає, коли модель **занадто добре запам'ятовує тренувальні дані**,\n",
        "    включаючи шум, і **не може добре працювати** з новими даними.\n",
        "* **Ознаки перенавчання:**\n",
        "    * Висока точність на тренувальному наборі даних, але низька на тестовому\n",
        "    * Збільшення продуктивності при зменшенні складності моделі\n",
        "* **Як виправити перенавчання:**\n",
        "    * Зменшити складність моделі (наприклад, зменшити глибину дерева)\n",
        "    * Збільшити регуляризацію\n",
        "    * Використовувати dropout\n",
        "    * Застосувати ранню зупинку\n",
        "\n",
        "![](https://www.googleapis.com/download/storage/v1/b/kaggle-user-content/o/inbox%2F4533747%2F61b58caa4e9b00ead191242796e86e27%2Ffitting.JPG?generation=1594728310000042&alt=media)"
      ],
      "metadata": {
        "id": "Mkix1yCycBrW"
      }
    },
    {
      "cell_type": "markdown",
      "source": [
        "# Гіперпараметри vs параметри"
      ],
      "metadata": {
        "id": "o4l5gY-Ic25m"
      }
    },
    {
      "cell_type": "markdown",
      "source": [
        "## Гіперпараметри\n",
        "\n",
        "* **Конфігурують модель навчання**,\n",
        "    наприклад, швидкість навчання, кількість дерев, розмір пакету.\n",
        "* **Їх не навчають з даних.**\n",
        "* **Впливають на процес навчання та загальну продуктивність моделі.**\n",
        "* **Приклад:** глибина дерева, Кількість листків, тощо\n",
        "\n"
      ],
      "metadata": {
        "id": "6WTTp1YZc1Hu"
      }
    },
    {
      "cell_type": "markdown",
      "source": [
        "## Параметри\n",
        "\n",
        "* **Навчаються з даних**,\n",
        "    наприклад, вузли дерева\n",
        "* **Оновлюються під час тренування моделі.**\n",
        "* **Впливають на прогнози, які робить модель.**\n",
        "\n",
        "![](https://miro.medium.com/v2/resize:fit:3076/1*FIIGhzbuTo2vI62mFcbMTg.png)"
      ],
      "metadata": {
        "id": "CzQ5Lgg3c75d"
      }
    },
    {
      "cell_type": "markdown",
      "source": [
        "# Як обрати найкращі гіперпараметри?"
      ],
      "metadata": {
        "id": "wwoCT-wMdAO9"
      }
    },
    {
      "cell_type": "markdown",
      "source": [
        "## Ручний підбір\n",
        "\n",
        "* **Виберіть набір гіперпараметрів**,\n",
        "    навчіть модель і оцініть її продуктивність.\n",
        "* **Повторіть процес** з іншими наборами гіперпараметрів,\n",
        "    поки не знайдете найкращий.\n",
        "* **Переваги:**\n",
        "    * Не потребує додаткових інструментів\n",
        "    * Дає розуміння впливу кожного гіперпараметра\n",
        "* **Недоліки:**\n",
        "    * Може бути трудомістким\n",
        "    * Не гарантує знаходження оптимальних значень\n",
        "\n"
      ],
      "metadata": {
        "id": "Om45ZFLdc-re"
      }
    },
    {
      "cell_type": "markdown",
      "source": [
        "## Пошук сітки\n",
        "\n",
        "* **Систематично перевірте всі можливі комбінації значень гіперпараметрів.**\n",
        "* **Переваги:**\n",
        "    * Гарантує знаходження кращих гіперпараметрів\n",
        "* **Недоліки:**\n",
        "    * Може бути дуже обчислювально витратним\n",
        "    * Не гнучкий\n",
        "\n",
        "![](https://miro.medium.com/v2/resize:fit:612/0*QKZG5I3autl1HvlY.png)"
      ],
      "metadata": {
        "id": "xDGLCbCtdEq-"
      }
    },
    {
      "cell_type": "markdown",
      "source": [
        "## Методи байєсійської оптимізації\n",
        "\n",
        "* **Використовуйте метод, такий як Optuna,\n",
        "    для ефективного пошуку оптимальних значень гіперпараметрів.**\n",
        "* **Переваги:**\n",
        "    * Ефективно шукає оптимальні гіперпараметри\n",
        "    * Автоматично зупиняє пошук, коли знаходить хороші результати\n",
        "    * Може використовуватися з різними моделями машинного навчання\n",
        "* **Недоліки:**\n",
        "    * Може бути складним для початківців\n",
        "    * Потребує базових знань статистики"
      ],
      "metadata": {
        "id": "vtNA12sRdGzt"
      }
    },
    {
      "cell_type": "markdown",
      "source": [
        "# Інсталяція модуля"
      ],
      "metadata": {
        "id": "Nq4P6gPqqdZS"
      }
    },
    {
      "cell_type": "code",
      "source": [
        "!pip install -q optuna"
      ],
      "metadata": {
        "id": "BEhkD2Poqhik"
      },
      "execution_count": null,
      "outputs": []
    },
    {
      "cell_type": "markdown",
      "source": [
        "# Дані\n",
        "Ціни на діаманти"
      ],
      "metadata": {
        "id": "NX5GNF2KxmeE"
      }
    },
    {
      "cell_type": "code",
      "source": [
        "import pandas as pd\n",
        "import numpy as np\n",
        "import matplotlib.pyplot as plt\n",
        "from sklearn import model_selection, metrics\n",
        "import lightgbm as lgb\n",
        "import optuna"
      ],
      "metadata": {
        "id": "hwyrjhdgSNDC"
      },
      "execution_count": null,
      "outputs": []
    },
    {
      "cell_type": "code",
      "source": [
        "df = pd.read_csv(\"https://raw.githubusercontent.com/HalyshAnton/IT-Step-Pyton-AI/main/module3/data/diamonds2.csv\",\n",
        "                 index_col=0\n",
        "                 )"
      ],
      "metadata": {
        "id": "yn8ospWKFKeD"
      },
      "execution_count": null,
      "outputs": []
    },
    {
      "cell_type": "code",
      "source": [
        "df.head()"
      ],
      "metadata": {
        "colab": {
          "base_uri": "https://localhost:8080/",
          "height": 206
        },
        "id": "dNitdALNFONK",
        "outputId": "bd742129-4fd9-4c7a-fb43-830e0f155342"
      },
      "execution_count": null,
      "outputs": [
        {
          "output_type": "execute_result",
          "data": {
            "text/plain": [
              "   carat      cut color clarity  depth  table  price     x     y     z\n",
              "1   0.23    Ideal     E     SI2   61.5   55.0    326  3.95  3.98  2.43\n",
              "2   0.21  Premium     E     SI1   59.8   61.0    326  3.89  3.84  2.31\n",
              "3   0.23     Good     E     VS1   56.9   65.0    327  4.05  4.07  2.31\n",
              "4   0.29  Premium     I     VS2   62.4   58.0    334  4.20  4.23  2.63\n",
              "5   0.31     Good     J     SI2   63.3   58.0    335  4.34  4.35  2.75"
            ],
            "text/html": [
              "\n",
              "  <div id=\"df-9cc39ea7-99dd-44ae-93ef-0e6403caa19c\" class=\"colab-df-container\">\n",
              "    <div>\n",
              "<style scoped>\n",
              "    .dataframe tbody tr th:only-of-type {\n",
              "        vertical-align: middle;\n",
              "    }\n",
              "\n",
              "    .dataframe tbody tr th {\n",
              "        vertical-align: top;\n",
              "    }\n",
              "\n",
              "    .dataframe thead th {\n",
              "        text-align: right;\n",
              "    }\n",
              "</style>\n",
              "<table border=\"1\" class=\"dataframe\">\n",
              "  <thead>\n",
              "    <tr style=\"text-align: right;\">\n",
              "      <th></th>\n",
              "      <th>carat</th>\n",
              "      <th>cut</th>\n",
              "      <th>color</th>\n",
              "      <th>clarity</th>\n",
              "      <th>depth</th>\n",
              "      <th>table</th>\n",
              "      <th>price</th>\n",
              "      <th>x</th>\n",
              "      <th>y</th>\n",
              "      <th>z</th>\n",
              "    </tr>\n",
              "  </thead>\n",
              "  <tbody>\n",
              "    <tr>\n",
              "      <th>1</th>\n",
              "      <td>0.23</td>\n",
              "      <td>Ideal</td>\n",
              "      <td>E</td>\n",
              "      <td>SI2</td>\n",
              "      <td>61.5</td>\n",
              "      <td>55.0</td>\n",
              "      <td>326</td>\n",
              "      <td>3.95</td>\n",
              "      <td>3.98</td>\n",
              "      <td>2.43</td>\n",
              "    </tr>\n",
              "    <tr>\n",
              "      <th>2</th>\n",
              "      <td>0.21</td>\n",
              "      <td>Premium</td>\n",
              "      <td>E</td>\n",
              "      <td>SI1</td>\n",
              "      <td>59.8</td>\n",
              "      <td>61.0</td>\n",
              "      <td>326</td>\n",
              "      <td>3.89</td>\n",
              "      <td>3.84</td>\n",
              "      <td>2.31</td>\n",
              "    </tr>\n",
              "    <tr>\n",
              "      <th>3</th>\n",
              "      <td>0.23</td>\n",
              "      <td>Good</td>\n",
              "      <td>E</td>\n",
              "      <td>VS1</td>\n",
              "      <td>56.9</td>\n",
              "      <td>65.0</td>\n",
              "      <td>327</td>\n",
              "      <td>4.05</td>\n",
              "      <td>4.07</td>\n",
              "      <td>2.31</td>\n",
              "    </tr>\n",
              "    <tr>\n",
              "      <th>4</th>\n",
              "      <td>0.29</td>\n",
              "      <td>Premium</td>\n",
              "      <td>I</td>\n",
              "      <td>VS2</td>\n",
              "      <td>62.4</td>\n",
              "      <td>58.0</td>\n",
              "      <td>334</td>\n",
              "      <td>4.20</td>\n",
              "      <td>4.23</td>\n",
              "      <td>2.63</td>\n",
              "    </tr>\n",
              "    <tr>\n",
              "      <th>5</th>\n",
              "      <td>0.31</td>\n",
              "      <td>Good</td>\n",
              "      <td>J</td>\n",
              "      <td>SI2</td>\n",
              "      <td>63.3</td>\n",
              "      <td>58.0</td>\n",
              "      <td>335</td>\n",
              "      <td>4.34</td>\n",
              "      <td>4.35</td>\n",
              "      <td>2.75</td>\n",
              "    </tr>\n",
              "  </tbody>\n",
              "</table>\n",
              "</div>\n",
              "    <div class=\"colab-df-buttons\">\n",
              "\n",
              "  <div class=\"colab-df-container\">\n",
              "    <button class=\"colab-df-convert\" onclick=\"convertToInteractive('df-9cc39ea7-99dd-44ae-93ef-0e6403caa19c')\"\n",
              "            title=\"Convert this dataframe to an interactive table.\"\n",
              "            style=\"display:none;\">\n",
              "\n",
              "  <svg xmlns=\"http://www.w3.org/2000/svg\" height=\"24px\" viewBox=\"0 -960 960 960\">\n",
              "    <path d=\"M120-120v-720h720v720H120Zm60-500h600v-160H180v160Zm220 220h160v-160H400v160Zm0 220h160v-160H400v160ZM180-400h160v-160H180v160Zm440 0h160v-160H620v160ZM180-180h160v-160H180v160Zm440 0h160v-160H620v160Z\"/>\n",
              "  </svg>\n",
              "    </button>\n",
              "\n",
              "  <style>\n",
              "    .colab-df-container {\n",
              "      display:flex;\n",
              "      gap: 12px;\n",
              "    }\n",
              "\n",
              "    .colab-df-convert {\n",
              "      background-color: #E8F0FE;\n",
              "      border: none;\n",
              "      border-radius: 50%;\n",
              "      cursor: pointer;\n",
              "      display: none;\n",
              "      fill: #1967D2;\n",
              "      height: 32px;\n",
              "      padding: 0 0 0 0;\n",
              "      width: 32px;\n",
              "    }\n",
              "\n",
              "    .colab-df-convert:hover {\n",
              "      background-color: #E2EBFA;\n",
              "      box-shadow: 0px 1px 2px rgba(60, 64, 67, 0.3), 0px 1px 3px 1px rgba(60, 64, 67, 0.15);\n",
              "      fill: #174EA6;\n",
              "    }\n",
              "\n",
              "    .colab-df-buttons div {\n",
              "      margin-bottom: 4px;\n",
              "    }\n",
              "\n",
              "    [theme=dark] .colab-df-convert {\n",
              "      background-color: #3B4455;\n",
              "      fill: #D2E3FC;\n",
              "    }\n",
              "\n",
              "    [theme=dark] .colab-df-convert:hover {\n",
              "      background-color: #434B5C;\n",
              "      box-shadow: 0px 1px 3px 1px rgba(0, 0, 0, 0.15);\n",
              "      filter: drop-shadow(0px 1px 2px rgba(0, 0, 0, 0.3));\n",
              "      fill: #FFFFFF;\n",
              "    }\n",
              "  </style>\n",
              "\n",
              "    <script>\n",
              "      const buttonEl =\n",
              "        document.querySelector('#df-9cc39ea7-99dd-44ae-93ef-0e6403caa19c button.colab-df-convert');\n",
              "      buttonEl.style.display =\n",
              "        google.colab.kernel.accessAllowed ? 'block' : 'none';\n",
              "\n",
              "      async function convertToInteractive(key) {\n",
              "        const element = document.querySelector('#df-9cc39ea7-99dd-44ae-93ef-0e6403caa19c');\n",
              "        const dataTable =\n",
              "          await google.colab.kernel.invokeFunction('convertToInteractive',\n",
              "                                                    [key], {});\n",
              "        if (!dataTable) return;\n",
              "\n",
              "        const docLinkHtml = 'Like what you see? Visit the ' +\n",
              "          '<a target=\"_blank\" href=https://colab.research.google.com/notebooks/data_table.ipynb>data table notebook</a>'\n",
              "          + ' to learn more about interactive tables.';\n",
              "        element.innerHTML = '';\n",
              "        dataTable['output_type'] = 'display_data';\n",
              "        await google.colab.output.renderOutput(dataTable, element);\n",
              "        const docLink = document.createElement('div');\n",
              "        docLink.innerHTML = docLinkHtml;\n",
              "        element.appendChild(docLink);\n",
              "      }\n",
              "    </script>\n",
              "  </div>\n",
              "\n",
              "\n",
              "<div id=\"df-7d93dd6a-915e-4ae8-b5f7-84af813c38df\">\n",
              "  <button class=\"colab-df-quickchart\" onclick=\"quickchart('df-7d93dd6a-915e-4ae8-b5f7-84af813c38df')\"\n",
              "            title=\"Suggest charts\"\n",
              "            style=\"display:none;\">\n",
              "\n",
              "<svg xmlns=\"http://www.w3.org/2000/svg\" height=\"24px\"viewBox=\"0 0 24 24\"\n",
              "     width=\"24px\">\n",
              "    <g>\n",
              "        <path d=\"M19 3H5c-1.1 0-2 .9-2 2v14c0 1.1.9 2 2 2h14c1.1 0 2-.9 2-2V5c0-1.1-.9-2-2-2zM9 17H7v-7h2v7zm4 0h-2V7h2v10zm4 0h-2v-4h2v4z\"/>\n",
              "    </g>\n",
              "</svg>\n",
              "  </button>\n",
              "\n",
              "<style>\n",
              "  .colab-df-quickchart {\n",
              "      --bg-color: #E8F0FE;\n",
              "      --fill-color: #1967D2;\n",
              "      --hover-bg-color: #E2EBFA;\n",
              "      --hover-fill-color: #174EA6;\n",
              "      --disabled-fill-color: #AAA;\n",
              "      --disabled-bg-color: #DDD;\n",
              "  }\n",
              "\n",
              "  [theme=dark] .colab-df-quickchart {\n",
              "      --bg-color: #3B4455;\n",
              "      --fill-color: #D2E3FC;\n",
              "      --hover-bg-color: #434B5C;\n",
              "      --hover-fill-color: #FFFFFF;\n",
              "      --disabled-bg-color: #3B4455;\n",
              "      --disabled-fill-color: #666;\n",
              "  }\n",
              "\n",
              "  .colab-df-quickchart {\n",
              "    background-color: var(--bg-color);\n",
              "    border: none;\n",
              "    border-radius: 50%;\n",
              "    cursor: pointer;\n",
              "    display: none;\n",
              "    fill: var(--fill-color);\n",
              "    height: 32px;\n",
              "    padding: 0;\n",
              "    width: 32px;\n",
              "  }\n",
              "\n",
              "  .colab-df-quickchart:hover {\n",
              "    background-color: var(--hover-bg-color);\n",
              "    box-shadow: 0 1px 2px rgba(60, 64, 67, 0.3), 0 1px 3px 1px rgba(60, 64, 67, 0.15);\n",
              "    fill: var(--button-hover-fill-color);\n",
              "  }\n",
              "\n",
              "  .colab-df-quickchart-complete:disabled,\n",
              "  .colab-df-quickchart-complete:disabled:hover {\n",
              "    background-color: var(--disabled-bg-color);\n",
              "    fill: var(--disabled-fill-color);\n",
              "    box-shadow: none;\n",
              "  }\n",
              "\n",
              "  .colab-df-spinner {\n",
              "    border: 2px solid var(--fill-color);\n",
              "    border-color: transparent;\n",
              "    border-bottom-color: var(--fill-color);\n",
              "    animation:\n",
              "      spin 1s steps(1) infinite;\n",
              "  }\n",
              "\n",
              "  @keyframes spin {\n",
              "    0% {\n",
              "      border-color: transparent;\n",
              "      border-bottom-color: var(--fill-color);\n",
              "      border-left-color: var(--fill-color);\n",
              "    }\n",
              "    20% {\n",
              "      border-color: transparent;\n",
              "      border-left-color: var(--fill-color);\n",
              "      border-top-color: var(--fill-color);\n",
              "    }\n",
              "    30% {\n",
              "      border-color: transparent;\n",
              "      border-left-color: var(--fill-color);\n",
              "      border-top-color: var(--fill-color);\n",
              "      border-right-color: var(--fill-color);\n",
              "    }\n",
              "    40% {\n",
              "      border-color: transparent;\n",
              "      border-right-color: var(--fill-color);\n",
              "      border-top-color: var(--fill-color);\n",
              "    }\n",
              "    60% {\n",
              "      border-color: transparent;\n",
              "      border-right-color: var(--fill-color);\n",
              "    }\n",
              "    80% {\n",
              "      border-color: transparent;\n",
              "      border-right-color: var(--fill-color);\n",
              "      border-bottom-color: var(--fill-color);\n",
              "    }\n",
              "    90% {\n",
              "      border-color: transparent;\n",
              "      border-bottom-color: var(--fill-color);\n",
              "    }\n",
              "  }\n",
              "</style>\n",
              "\n",
              "  <script>\n",
              "    async function quickchart(key) {\n",
              "      const quickchartButtonEl =\n",
              "        document.querySelector('#' + key + ' button');\n",
              "      quickchartButtonEl.disabled = true;  // To prevent multiple clicks.\n",
              "      quickchartButtonEl.classList.add('colab-df-spinner');\n",
              "      try {\n",
              "        const charts = await google.colab.kernel.invokeFunction(\n",
              "            'suggestCharts', [key], {});\n",
              "      } catch (error) {\n",
              "        console.error('Error during call to suggestCharts:', error);\n",
              "      }\n",
              "      quickchartButtonEl.classList.remove('colab-df-spinner');\n",
              "      quickchartButtonEl.classList.add('colab-df-quickchart-complete');\n",
              "    }\n",
              "    (() => {\n",
              "      let quickchartButtonEl =\n",
              "        document.querySelector('#df-7d93dd6a-915e-4ae8-b5f7-84af813c38df button');\n",
              "      quickchartButtonEl.style.display =\n",
              "        google.colab.kernel.accessAllowed ? 'block' : 'none';\n",
              "    })();\n",
              "  </script>\n",
              "</div>\n",
              "    </div>\n",
              "  </div>\n"
            ],
            "application/vnd.google.colaboratory.intrinsic+json": {
              "type": "dataframe",
              "variable_name": "df",
              "summary": "{\n  \"name\": \"df\",\n  \"rows\": 53943,\n  \"fields\": [\n    {\n      \"column\": \"carat\",\n      \"properties\": {\n        \"dtype\": \"number\",\n        \"std\": 0.4739985530964582,\n        \"min\": 0.2,\n        \"max\": 5.01,\n        \"num_unique_values\": 273,\n        \"samples\": [\n          0.77,\n          1.58,\n          0.65\n        ],\n        \"semantic_type\": \"\",\n        \"description\": \"\"\n      }\n    },\n    {\n      \"column\": \"cut\",\n      \"properties\": {\n        \"dtype\": \"category\",\n        \"num_unique_values\": 5,\n        \"samples\": [\n          \"Premium\",\n          \"Fair\",\n          \"Good\"\n        ],\n        \"semantic_type\": \"\",\n        \"description\": \"\"\n      }\n    },\n    {\n      \"column\": \"color\",\n      \"properties\": {\n        \"dtype\": \"category\",\n        \"num_unique_values\": 7,\n        \"samples\": [\n          \"E\",\n          \"I\",\n          \"G\"\n        ],\n        \"semantic_type\": \"\",\n        \"description\": \"\"\n      }\n    },\n    {\n      \"column\": \"clarity\",\n      \"properties\": {\n        \"dtype\": \"category\",\n        \"num_unique_values\": 8,\n        \"samples\": [\n          \"SI1\",\n          \"VVS1\",\n          \"SI2\"\n        ],\n        \"semantic_type\": \"\",\n        \"description\": \"\"\n      }\n    },\n    {\n      \"column\": \"depth\",\n      \"properties\": {\n        \"dtype\": \"number\",\n        \"std\": 1.4326262660399998,\n        \"min\": 43.0,\n        \"max\": 79.0,\n        \"num_unique_values\": 184,\n        \"samples\": [\n          61.0,\n          62.9,\n          70.2\n        ],\n        \"semantic_type\": \"\",\n        \"description\": \"\"\n      }\n    },\n    {\n      \"column\": \"table\",\n      \"properties\": {\n        \"dtype\": \"number\",\n        \"std\": 2.234548953274335,\n        \"min\": 43.0,\n        \"max\": 95.0,\n        \"num_unique_values\": 127,\n        \"samples\": [\n          54.8,\n          61.5,\n          57.6\n        ],\n        \"semantic_type\": \"\",\n        \"description\": \"\"\n      }\n    },\n    {\n      \"column\": \"price\",\n      \"properties\": {\n        \"dtype\": \"number\",\n        \"std\": 3989,\n        \"min\": 326,\n        \"max\": 18823,\n        \"num_unique_values\": 11602,\n        \"samples\": [\n          16368,\n          895,\n          748\n        ],\n        \"semantic_type\": \"\",\n        \"description\": \"\"\n      }\n    },\n    {\n      \"column\": \"x\",\n      \"properties\": {\n        \"dtype\": \"number\",\n        \"std\": 1.1217295857901242,\n        \"min\": 0.0,\n        \"max\": 10.74,\n        \"num_unique_values\": 554,\n        \"samples\": [\n          5.88,\n          5.69,\n          4.61\n        ],\n        \"semantic_type\": \"\",\n        \"description\": \"\"\n      }\n    },\n    {\n      \"column\": \"y\",\n      \"properties\": {\n        \"dtype\": \"number\",\n        \"std\": 1.14210291928209,\n        \"min\": 0.0,\n        \"max\": 58.9,\n        \"num_unique_values\": 552,\n        \"samples\": [\n          5.33,\n          5.61,\n          5.25\n        ],\n        \"semantic_type\": \"\",\n        \"description\": \"\"\n      }\n    },\n    {\n      \"column\": \"z\",\n      \"properties\": {\n        \"dtype\": \"number\",\n        \"std\": 0.7056794713896667,\n        \"min\": 0.0,\n        \"max\": 31.8,\n        \"num_unique_values\": 375,\n        \"samples\": [\n          3.36,\n          2.45,\n          2.7\n        ],\n        \"semantic_type\": \"\",\n        \"description\": \"\"\n      }\n    }\n  ]\n}"
            }
          },
          "metadata": {},
          "execution_count": 50
        }
      ]
    },
    {
      "cell_type": "code",
      "source": [
        "df['price'].describe()"
      ],
      "metadata": {
        "colab": {
          "base_uri": "https://localhost:8080/"
        },
        "id": "yURhgHo0dbS0",
        "outputId": "16063d6f-1d21-459c-ca7b-00d0064bce4f"
      },
      "execution_count": null,
      "outputs": [
        {
          "output_type": "execute_result",
          "data": {
            "text/plain": [
              "count    53943.000000\n",
              "mean      3932.734294\n",
              "std       3989.338447\n",
              "min        326.000000\n",
              "25%        950.000000\n",
              "50%       2401.000000\n",
              "75%       5324.000000\n",
              "max      18823.000000\n",
              "Name: price, dtype: float64"
            ]
          },
          "metadata": {},
          "execution_count": 51
        }
      ]
    },
    {
      "cell_type": "markdown",
      "source": [
        "# Побудова моделі"
      ],
      "metadata": {
        "id": "NB6BuXSexmeI"
      }
    },
    {
      "cell_type": "markdown",
      "source": [
        "## Поділ даних"
      ],
      "metadata": {
        "id": "e01-farcJt8H"
      }
    },
    {
      "cell_type": "code",
      "source": [
        "y = df['price']\n",
        "X = df.drop(columns='price')"
      ],
      "metadata": {
        "id": "wvxyXPkQFdKy"
      },
      "execution_count": null,
      "outputs": []
    },
    {
      "cell_type": "markdown",
      "source": [
        "## train, val та test data\n",
        "\n",
        "Під час пошуку гіперпараметрів за допомогою Optuna використання трьох наборів даних - train, val та test -\n",
        "є **необхідною умовою** для отримання **точних та надійних результатів**. Ось чому:\n",
        "\n",
        "**1. Train data:**\n",
        "\n",
        "* Використовується для **навчання моделі**.\n",
        "* Містить дані, на яких модель буде **вивчати закономірності**.\n",
        "* **Не повинне використовуватися** для оцінки продуктивності моделі\n",
        "    під час пошуку гіперпараметрів, адже модель\n",
        "    може просто запам'ятати\n",
        "    ці дані,\n",
        "    що призведе до перенавчання.\n",
        "\n",
        "**2. Val data:**\n",
        "\n",
        "* Використовується для **оцінки продуктивності моделі**\n",
        "    під час пошуку гіперпараметрів.\n",
        "* **Не повинне використовуватися** для\n",
        "    навчання моделі.\n",
        "* Дозволяє **моделювати процес**\n",
        "    узагальнення на нові дані.\n",
        "* Забезпечує **більш об'єктивну оцінку**\n",
        "    продуктивності моделі,\n",
        "    ніж оцінка на тренувальному наборі.\n",
        "\n",
        "**3. Test data:**\n",
        "\n",
        "* Використовується для **оцінки остаточної продуктивності моделі**\n",
        "    після вибору найкращих гіперпараметрів.\n",
        "* **Не використовується** ні для навчання, ні\n",
        "    для налаштування гіперпараметрів.\n",
        "* Забезпечує **найточнішу оцінку**\n",
        "    продуктивності моделі\n",
        "    на **незалежних** даних.\n",
        "\n",
        "**Важливо:**\n",
        "\n",
        "* Розмір та розподіл даних\n",
        "    в **train, val та test**\n",
        "    наборах\n",
        "    **повинні бути подібними**.\n",
        "* **Val data**\n",
        "    **не повинне**\n",
        "    **перетинатися**\n",
        "    з **test data**.\n",
        "\n",
        "**Використання трьох наборів даних**\n",
        "дозволяє Optuna:\n",
        "\n",
        "* **Уникнути перенавчання**\n",
        "    та отримати\n",
        "    **точні оцінки**\n",
        "    продуктивності моделі.\n",
        "* **Об'єктивно порівняти**\n",
        "    різні набори гіперпараметрів.\n",
        "* **Вибрати найкращі гіперпараметри**,\n",
        "    які\n",
        "    **узагальнюються**\n",
        "    на нові дані.\n",
        "\n",
        "\n",
        "\n"
      ],
      "metadata": {
        "id": "z-YAdiz0nUvv"
      }
    },
    {
      "cell_type": "code",
      "source": [
        "from sklearn.model_selection import train_test_split\n",
        "\n",
        "X_train, X_test, y_train, y_test = train_test_split(X, y,\n",
        "                                                    train_size=0.8,\n",
        "                                                    random_state=42)\n",
        "\n",
        "X_train, X_val, y_train, y_val = train_test_split(X_train, y_train,\n",
        "                                                  train_size=0.75,\n",
        "                                                  random_state=42)\n",
        "\n",
        "print(f'Train: {X_train.shape[0]} samples \\t {round(X_train.shape[0] / X.shape[0] * 100)}%')\n",
        "print(f'Test:  {X_test.shape[0]} samples \\t {round(X_test.shape[0] / X.shape[0] * 100)}%')\n",
        "print(f'Val:   {X_val.shape[0]} samples \\t {round(X_val.shape[0] / X.shape[0] * 100)}%')"
      ],
      "metadata": {
        "id": "f9-U-77kFlcE",
        "colab": {
          "base_uri": "https://localhost:8080/"
        },
        "outputId": "da3e5589-c288-467d-e367-b9b60b26d4b5"
      },
      "execution_count": null,
      "outputs": [
        {
          "output_type": "stream",
          "name": "stdout",
          "text": [
            "Train: 32365 samples \t 60%\n",
            "Test:  10789 samples \t 20%\n",
            "Val:   10789 samples \t 20%\n"
          ]
        }
      ]
    },
    {
      "cell_type": "markdown",
      "source": [
        "## Створення Pipeline"
      ],
      "metadata": {
        "id": "ZJJNqVJNJwcr"
      }
    },
    {
      "cell_type": "code",
      "source": [
        "from sklearn.compose import ColumnTransformer\n",
        "from sklearn.pipeline import Pipeline\n",
        "from sklearn.impute import SimpleImputer\n",
        "from sklearn.preprocessing import OneHotEncoder"
      ],
      "metadata": {
        "id": "rRVms94DF8rK"
      },
      "execution_count": null,
      "outputs": []
    },
    {
      "cell_type": "code",
      "source": [
        "num_columns = X.select_dtypes(include=\"number\").columns\n",
        "cat_columns = X.select_dtypes(include=\"object\").columns\n",
        "\n",
        "# числові ознаки\n",
        "num_transformer = Pipeline(\n",
        "    steps=[(\"imputer\", SimpleImputer(strategy=\"median\"))]\n",
        "    )\n",
        "\n",
        "# категоріальні ознаки\n",
        "cat_transformer = Pipeline(\n",
        "    steps=[(\"imputer\", SimpleImputer(strategy=\"most_frequent\")),\n",
        "           (\"encoder\", OneHotEncoder(sparse_output=False))])\n",
        "\n",
        "# об'єднання двох pipeline\n",
        "preprocessor = ColumnTransformer(\n",
        "    transformers=[\n",
        "        (\"num\", num_transformer, num_columns),\n",
        "        (\"cat\", cat_transformer, cat_columns),\n",
        "    ]\n",
        ")\n",
        "\n",
        "preprocessor.set_output(transform='pandas')\n",
        "preprocessor"
      ],
      "metadata": {
        "colab": {
          "base_uri": "https://localhost:8080/",
          "height": 151
        },
        "id": "b7evHR4DFoTb",
        "outputId": "448d9a0f-897e-492d-c796-90f12f524603"
      },
      "execution_count": null,
      "outputs": [
        {
          "output_type": "execute_result",
          "data": {
            "text/plain": [
              "ColumnTransformer(transformers=[('num',\n",
              "                                 Pipeline(steps=[('imputer',\n",
              "                                                  SimpleImputer(strategy='median'))]),\n",
              "                                 Index(['carat', 'depth', 'table', 'x', 'y', 'z'], dtype='object')),\n",
              "                                ('cat',\n",
              "                                 Pipeline(steps=[('imputer',\n",
              "                                                  SimpleImputer(strategy='most_frequent')),\n",
              "                                                 ('encoder',\n",
              "                                                  OneHotEncoder(sparse_output=False))]),\n",
              "                                 Index(['cut', 'color', 'clarity'], dtype='object'))])"
            ],
            "text/html": [
              "<style>#sk-container-id-6 {color: black;background-color: white;}#sk-container-id-6 pre{padding: 0;}#sk-container-id-6 div.sk-toggleable {background-color: white;}#sk-container-id-6 label.sk-toggleable__label {cursor: pointer;display: block;width: 100%;margin-bottom: 0;padding: 0.3em;box-sizing: border-box;text-align: center;}#sk-container-id-6 label.sk-toggleable__label-arrow:before {content: \"▸\";float: left;margin-right: 0.25em;color: #696969;}#sk-container-id-6 label.sk-toggleable__label-arrow:hover:before {color: black;}#sk-container-id-6 div.sk-estimator:hover label.sk-toggleable__label-arrow:before {color: black;}#sk-container-id-6 div.sk-toggleable__content {max-height: 0;max-width: 0;overflow: hidden;text-align: left;background-color: #f0f8ff;}#sk-container-id-6 div.sk-toggleable__content pre {margin: 0.2em;color: black;border-radius: 0.25em;background-color: #f0f8ff;}#sk-container-id-6 input.sk-toggleable__control:checked~div.sk-toggleable__content {max-height: 200px;max-width: 100%;overflow: auto;}#sk-container-id-6 input.sk-toggleable__control:checked~label.sk-toggleable__label-arrow:before {content: \"▾\";}#sk-container-id-6 div.sk-estimator input.sk-toggleable__control:checked~label.sk-toggleable__label {background-color: #d4ebff;}#sk-container-id-6 div.sk-label input.sk-toggleable__control:checked~label.sk-toggleable__label {background-color: #d4ebff;}#sk-container-id-6 input.sk-hidden--visually {border: 0;clip: rect(1px 1px 1px 1px);clip: rect(1px, 1px, 1px, 1px);height: 1px;margin: -1px;overflow: hidden;padding: 0;position: absolute;width: 1px;}#sk-container-id-6 div.sk-estimator {font-family: monospace;background-color: #f0f8ff;border: 1px dotted black;border-radius: 0.25em;box-sizing: border-box;margin-bottom: 0.5em;}#sk-container-id-6 div.sk-estimator:hover {background-color: #d4ebff;}#sk-container-id-6 div.sk-parallel-item::after {content: \"\";width: 100%;border-bottom: 1px solid gray;flex-grow: 1;}#sk-container-id-6 div.sk-label:hover label.sk-toggleable__label {background-color: #d4ebff;}#sk-container-id-6 div.sk-serial::before {content: \"\";position: absolute;border-left: 1px solid gray;box-sizing: border-box;top: 0;bottom: 0;left: 50%;z-index: 0;}#sk-container-id-6 div.sk-serial {display: flex;flex-direction: column;align-items: center;background-color: white;padding-right: 0.2em;padding-left: 0.2em;position: relative;}#sk-container-id-6 div.sk-item {position: relative;z-index: 1;}#sk-container-id-6 div.sk-parallel {display: flex;align-items: stretch;justify-content: center;background-color: white;position: relative;}#sk-container-id-6 div.sk-item::before, #sk-container-id-6 div.sk-parallel-item::before {content: \"\";position: absolute;border-left: 1px solid gray;box-sizing: border-box;top: 0;bottom: 0;left: 50%;z-index: -1;}#sk-container-id-6 div.sk-parallel-item {display: flex;flex-direction: column;z-index: 1;position: relative;background-color: white;}#sk-container-id-6 div.sk-parallel-item:first-child::after {align-self: flex-end;width: 50%;}#sk-container-id-6 div.sk-parallel-item:last-child::after {align-self: flex-start;width: 50%;}#sk-container-id-6 div.sk-parallel-item:only-child::after {width: 0;}#sk-container-id-6 div.sk-dashed-wrapped {border: 1px dashed gray;margin: 0 0.4em 0.5em 0.4em;box-sizing: border-box;padding-bottom: 0.4em;background-color: white;}#sk-container-id-6 div.sk-label label {font-family: monospace;font-weight: bold;display: inline-block;line-height: 1.2em;}#sk-container-id-6 div.sk-label-container {text-align: center;}#sk-container-id-6 div.sk-container {/* jupyter's `normalize.less` sets `[hidden] { display: none; }` but bootstrap.min.css set `[hidden] { display: none !important; }` so we also need the `!important` here to be able to override the default hidden behavior on the sphinx rendered scikit-learn.org. See: https://github.com/scikit-learn/scikit-learn/issues/21755 */display: inline-block !important;position: relative;}#sk-container-id-6 div.sk-text-repr-fallback {display: none;}</style><div id=\"sk-container-id-6\" class=\"sk-top-container\"><div class=\"sk-text-repr-fallback\"><pre>ColumnTransformer(transformers=[(&#x27;num&#x27;,\n",
              "                                 Pipeline(steps=[(&#x27;imputer&#x27;,\n",
              "                                                  SimpleImputer(strategy=&#x27;median&#x27;))]),\n",
              "                                 Index([&#x27;carat&#x27;, &#x27;depth&#x27;, &#x27;table&#x27;, &#x27;x&#x27;, &#x27;y&#x27;, &#x27;z&#x27;], dtype=&#x27;object&#x27;)),\n",
              "                                (&#x27;cat&#x27;,\n",
              "                                 Pipeline(steps=[(&#x27;imputer&#x27;,\n",
              "                                                  SimpleImputer(strategy=&#x27;most_frequent&#x27;)),\n",
              "                                                 (&#x27;encoder&#x27;,\n",
              "                                                  OneHotEncoder(sparse_output=False))]),\n",
              "                                 Index([&#x27;cut&#x27;, &#x27;color&#x27;, &#x27;clarity&#x27;], dtype=&#x27;object&#x27;))])</pre><b>In a Jupyter environment, please rerun this cell to show the HTML representation or trust the notebook. <br />On GitHub, the HTML representation is unable to render, please try loading this page with nbviewer.org.</b></div><div class=\"sk-container\" hidden><div class=\"sk-item sk-dashed-wrapped\"><div class=\"sk-label-container\"><div class=\"sk-label sk-toggleable\"><input class=\"sk-toggleable__control sk-hidden--visually\" id=\"sk-estimator-id-23\" type=\"checkbox\" ><label for=\"sk-estimator-id-23\" class=\"sk-toggleable__label sk-toggleable__label-arrow\">ColumnTransformer</label><div class=\"sk-toggleable__content\"><pre>ColumnTransformer(transformers=[(&#x27;num&#x27;,\n",
              "                                 Pipeline(steps=[(&#x27;imputer&#x27;,\n",
              "                                                  SimpleImputer(strategy=&#x27;median&#x27;))]),\n",
              "                                 Index([&#x27;carat&#x27;, &#x27;depth&#x27;, &#x27;table&#x27;, &#x27;x&#x27;, &#x27;y&#x27;, &#x27;z&#x27;], dtype=&#x27;object&#x27;)),\n",
              "                                (&#x27;cat&#x27;,\n",
              "                                 Pipeline(steps=[(&#x27;imputer&#x27;,\n",
              "                                                  SimpleImputer(strategy=&#x27;most_frequent&#x27;)),\n",
              "                                                 (&#x27;encoder&#x27;,\n",
              "                                                  OneHotEncoder(sparse_output=False))]),\n",
              "                                 Index([&#x27;cut&#x27;, &#x27;color&#x27;, &#x27;clarity&#x27;], dtype=&#x27;object&#x27;))])</pre></div></div></div><div class=\"sk-parallel\"><div class=\"sk-parallel-item\"><div class=\"sk-item\"><div class=\"sk-label-container\"><div class=\"sk-label sk-toggleable\"><input class=\"sk-toggleable__control sk-hidden--visually\" id=\"sk-estimator-id-24\" type=\"checkbox\" ><label for=\"sk-estimator-id-24\" class=\"sk-toggleable__label sk-toggleable__label-arrow\">num</label><div class=\"sk-toggleable__content\"><pre>Index([&#x27;carat&#x27;, &#x27;depth&#x27;, &#x27;table&#x27;, &#x27;x&#x27;, &#x27;y&#x27;, &#x27;z&#x27;], dtype=&#x27;object&#x27;)</pre></div></div></div><div class=\"sk-serial\"><div class=\"sk-item\"><div class=\"sk-serial\"><div class=\"sk-item\"><div class=\"sk-estimator sk-toggleable\"><input class=\"sk-toggleable__control sk-hidden--visually\" id=\"sk-estimator-id-25\" type=\"checkbox\" ><label for=\"sk-estimator-id-25\" class=\"sk-toggleable__label sk-toggleable__label-arrow\">SimpleImputer</label><div class=\"sk-toggleable__content\"><pre>SimpleImputer(strategy=&#x27;median&#x27;)</pre></div></div></div></div></div></div></div></div><div class=\"sk-parallel-item\"><div class=\"sk-item\"><div class=\"sk-label-container\"><div class=\"sk-label sk-toggleable\"><input class=\"sk-toggleable__control sk-hidden--visually\" id=\"sk-estimator-id-26\" type=\"checkbox\" ><label for=\"sk-estimator-id-26\" class=\"sk-toggleable__label sk-toggleable__label-arrow\">cat</label><div class=\"sk-toggleable__content\"><pre>Index([&#x27;cut&#x27;, &#x27;color&#x27;, &#x27;clarity&#x27;], dtype=&#x27;object&#x27;)</pre></div></div></div><div class=\"sk-serial\"><div class=\"sk-item\"><div class=\"sk-serial\"><div class=\"sk-item\"><div class=\"sk-estimator sk-toggleable\"><input class=\"sk-toggleable__control sk-hidden--visually\" id=\"sk-estimator-id-27\" type=\"checkbox\" ><label for=\"sk-estimator-id-27\" class=\"sk-toggleable__label sk-toggleable__label-arrow\">SimpleImputer</label><div class=\"sk-toggleable__content\"><pre>SimpleImputer(strategy=&#x27;most_frequent&#x27;)</pre></div></div></div><div class=\"sk-item\"><div class=\"sk-estimator sk-toggleable\"><input class=\"sk-toggleable__control sk-hidden--visually\" id=\"sk-estimator-id-28\" type=\"checkbox\" ><label for=\"sk-estimator-id-28\" class=\"sk-toggleable__label sk-toggleable__label-arrow\">OneHotEncoder</label><div class=\"sk-toggleable__content\"><pre>OneHotEncoder(sparse_output=False)</pre></div></div></div></div></div></div></div></div></div></div></div></div>"
            ]
          },
          "metadata": {},
          "execution_count": 55
        }
      ]
    },
    {
      "cell_type": "markdown",
      "source": [
        "# Попередня обробка даних"
      ],
      "metadata": {
        "id": "9xbH4kIHA-WF"
      }
    },
    {
      "cell_type": "markdown",
      "source": [
        "Оскільки ми користуємось новою бібліотекою, то нам потрібно поередньо натренувати `preprocessor` та обробити дані"
      ],
      "metadata": {
        "id": "wiG5K20dNNnz"
      }
    },
    {
      "cell_type": "code",
      "source": [
        "# навчання препроцесора\n",
        "X_train = preprocessor.fit_transform(X_train)\n",
        "\n",
        "# обробка даних\n",
        "X_val = preprocessor.transform(X_val)\n",
        "X_test = preprocessor.transform(X_test)"
      ],
      "metadata": {
        "id": "vjESfdDEBC4t"
      },
      "execution_count": null,
      "outputs": []
    },
    {
      "cell_type": "markdown",
      "source": [
        "# Optuna"
      ],
      "metadata": {
        "id": "SKWYeerpkRke"
      }
    },
    {
      "cell_type": "markdown",
      "source": [
        "## Функція objective\n",
        "\n",
        "Функція `objective` - це ключовий компонент вашого коду, де ви:\n",
        "\n",
        "1. **Визначаєте модель LightGBMRegressor:**\n",
        "    - Створюєте екземпляр `LightGBMRegressor` з бажаними параметрами.\n",
        "2. **Навчаєте модель на тренувальному наборі даних:**\n",
        "    - Використовуєте метод `fit` для навчання моделі на ваших тренувальних даних.\n",
        "3. **Оцінюєте модель на тестовому наборі даних:**\n",
        "    - Використовуєте метод `predict` для отримання прогнозів на тестовому наборі.\n",
        "    - Рахуєте метрику оцінки,\n",
        "        наприклад, RMSE (Root Mean Squared Error) або MAE (Mean Absolute Error),\n",
        "        щоб оцінити точність моделі.\n",
        "4. **Повертаєте значення метрики:**\n",
        "    - Функція `objective` повинна повернути значення метрики\n",
        "        (чим менше, тим краще).\n",
        "\n",
        "\n"
      ],
      "metadata": {
        "id": "m7N5u-unjwvo"
      }
    },
    {
      "cell_type": "code",
      "source": [
        "from sklearn import metrics\n",
        "\n",
        "\n",
        "def objective(trial):\n",
        "  \"\"\"\n",
        "  Функція objective для Optuna, яка навчає модель LightGBMRegressor\n",
        "  на тренувальному наборі даних та оцінює її на тестовому наборі.\n",
        "\n",
        "  Args:\n",
        "      trial (optuna.Trial): Об'єкт Optuna, що представляє один набір гіперпараметрів.\n",
        "\n",
        "  Returns:\n",
        "      float: Значення метрики оцінки (R2).\n",
        "  \"\"\"\n",
        "\n",
        "  # 1. Визначення гіперпараметрів:\n",
        "\n",
        "  params = {\n",
        "        'objective': 'mse',\n",
        "        'n_estimator': 30,\n",
        "        'verbose': -1,\n",
        "        'boosting_type': trial.suggest_categorical('boosting_type', ['gbdt', 'dart']),\n",
        "        'lambda_l1': trial.suggest_float('lambda_l1', 1e-8, 10.0, log=True),\n",
        "        'lambda_l2': trial.suggest_float('lambda_l2', 1e-8, 10.0, log=True),\n",
        "        'num_leaves': trial.suggest_int('num_leaves', 2, 256),\n",
        "        'feature_fraction': trial.suggest_float('feature_fraction', 0.4, 1.0),\n",
        "        'bagging_fraction': trial.suggest_float('bagging_fraction', 0.4, 1.0),\n",
        "        'bagging_freq': trial.suggest_int('bagging_freq', 1, 7),\n",
        "        'min_child_samples': trial.suggest_int('min_child_samples', 5, 100),\n",
        "    }\n",
        "\n",
        "  # 2. Створення моделі LightGBMRegressor:\n",
        "\n",
        "  model = lgb.LGBMRegressor(**params)\n",
        "\n",
        "  # 3. Навчання моделі на тренувальному наборі даних:\n",
        "\n",
        "  model.fit(X_train, y_train)\n",
        "\n",
        "  # 4. Оцінка моделі на тестовому наборі даних:\n",
        "\n",
        "  y_pred = model.predict(X_val)\n",
        "  r2 = metrics.r2_score(y_val, y_pred)\n",
        "\n",
        "  # 5. Повернення значення метрики:\n",
        "  return r2"
      ],
      "metadata": {
        "id": "W5DFw1l0kh8T"
      },
      "execution_count": null,
      "outputs": []
    },
    {
      "cell_type": "markdown",
      "source": [
        "## Об'єкт trial\n",
        "\n",
        "**Trial** - це об'єкт, що використовується Optuna для представлення\n",
        "одного набору гіперпараметрів. Він надає доступ до методів для\n",
        "пропозиції значень гіперпараметрів:\n",
        "\n",
        "* **suggest_float(name, low, high):**\n",
        "    Випадково генерує значення float в діапазоні `[low, high]` для гіперпараметра `name`.\n",
        "* **suggest_int(name, low, high):**\n",
        "    Випадково генерує значення integer в діапазоні `[low, high]` для гіперпараметра `name`.\n",
        "* **suggest_categorical(name, categories):**\n",
        "    Випадково вибирає категорію з списку `categories` для гіперпараметра `name`.\n",
        "\n",
        "\n",
        "\n"
      ],
      "metadata": {
        "id": "I7CPKMCVkaQf"
      }
    },
    {
      "cell_type": "markdown",
      "source": [
        "### Параметр log:\n",
        "\n",
        "* `log` - це параметр, який використовується\n",
        "    з `suggest_float` для\n",
        "    визначення того, чи використовувати логарифмічну шкалу\n",
        "    при генеруванні значень.\n",
        "* **True:**\n",
        "    * Значення генеруються в логарифмічній шкалі\n",
        "      в діапазоні `[math.exp(low), math.exp(high)]`.\n",
        "    * Це може бути корисно для\n",
        "      гіперпараметрів, які мають\n",
        "      великий діапазон значень\n",
        "      або експоненційну залежність.\n",
        "* **False:**\n",
        "    * Значення генеруються\n",
        "      рівномірно в діапазоні `[low, high]`."
      ],
      "metadata": {
        "id": "3_WKhIefm4Jm"
      }
    },
    {
      "cell_type": "markdown",
      "source": [
        "## Запуск оптимізації\n",
        "\n",
        "Після визначення функції `objective` ви можете запустити оптимізацію\n",
        "за допомогою `study`:\n",
        "\n",
        "\n",
        "* `study` - це об'єкт, який зберігає інформацію про\n",
        "    проведені випробування та знайдені гіперпараметри.\n",
        "* `create_study(direction)` створює нове дослідження\n",
        "    з заданим напрямком оптимізації (`minimize` або `maximize`).\n",
        "* `optimize(objective, n_trials)` запускає оптимізацію\n",
        "    за допомогою функції `objective` протягом `n_trials`\n",
        "    випробувань."
      ],
      "metadata": {
        "id": "CUmNhi8YkcP-"
      }
    },
    {
      "cell_type": "code",
      "source": [
        "#optuna.logging.set_verbosity(optuna.logging.WARNING) # щоб не виводило інформацію про trial\n",
        "\n",
        "study = optuna.create_study(direction='maximize')\n",
        "study.optimize(objective, n_trials=10)"
      ],
      "metadata": {
        "id": "cLN92HKVkQjc",
        "outputId": "3ba5fb42-505b-474b-e0a5-2ad246136686",
        "colab": {
          "base_uri": "https://localhost:8080/"
        }
      },
      "execution_count": null,
      "outputs": [
        {
          "output_type": "stream",
          "name": "stderr",
          "text": [
            "[I 2024-03-20 18:44:37,551] A new study created in memory with name: no-name-b871edd1-9640-4de0-9e01-4380ed2b3dbc\n",
            "[I 2024-03-20 18:44:38,386] Trial 0 finished with value: 0.9798676791638552 and parameters: {'boosting_type': 'gbdt', 'lambda_l1': 2.5177453377912843e-06, 'lambda_l2': 4.611128214414041e-08, 'num_leaves': 42, 'feature_fraction': 0.5867680853444437, 'bagging_fraction': 0.7166343505521353, 'bagging_freq': 2, 'min_child_samples': 20}. Best is trial 0 with value: 0.9798676791638552.\n",
            "[I 2024-03-20 18:44:39,168] Trial 1 finished with value: 0.9805600735253641 and parameters: {'boosting_type': 'gbdt', 'lambda_l1': 7.8024669642264355, 'lambda_l2': 0.01490445994418236, 'num_leaves': 35, 'feature_fraction': 0.8837491131044027, 'bagging_fraction': 0.7273164551370693, 'bagging_freq': 3, 'min_child_samples': 32}. Best is trial 1 with value: 0.9805600735253641.\n",
            "[I 2024-03-20 18:44:41,017] Trial 2 finished with value: 0.978202445299559 and parameters: {'boosting_type': 'gbdt', 'lambda_l1': 1.0067760062943138e-07, 'lambda_l2': 0.0025254504334894863, 'num_leaves': 240, 'feature_fraction': 0.5973743911662776, 'bagging_fraction': 0.6087462032362064, 'bagging_freq': 5, 'min_child_samples': 96}. Best is trial 1 with value: 0.9805600735253641.\n",
            "[I 2024-03-20 18:44:45,705] Trial 3 finished with value: 0.9567816991804305 and parameters: {'boosting_type': 'dart', 'lambda_l1': 5.954752379278258e-07, 'lambda_l2': 2.0402765154870425e-07, 'num_leaves': 163, 'feature_fraction': 0.7697418783867597, 'bagging_fraction': 0.9045834942076856, 'bagging_freq': 3, 'min_child_samples': 91}. Best is trial 1 with value: 0.9805600735253641.\n",
            "[I 2024-03-20 18:44:48,389] Trial 4 finished with value: 0.977681291850532 and parameters: {'boosting_type': 'gbdt', 'lambda_l1': 6.81412381794415e-05, 'lambda_l2': 1.3850841477663932e-06, 'num_leaves': 169, 'feature_fraction': 0.44647785564659537, 'bagging_fraction': 0.8880908956347457, 'bagging_freq': 5, 'min_child_samples': 92}. Best is trial 1 with value: 0.9805600735253641.\n",
            "[I 2024-03-20 18:44:53,402] Trial 5 finished with value: 0.9563917715079646 and parameters: {'boosting_type': 'dart', 'lambda_l1': 1.827278932840624e-07, 'lambda_l2': 2.2978936249797646e-08, 'num_leaves': 87, 'feature_fraction': 0.7906574914710758, 'bagging_fraction': 0.881150058210334, 'bagging_freq': 5, 'min_child_samples': 92}. Best is trial 1 with value: 0.9805600735253641.\n",
            "[I 2024-03-20 18:44:59,500] Trial 6 finished with value: 0.9595442237542889 and parameters: {'boosting_type': 'dart', 'lambda_l1': 8.490253644643334e-06, 'lambda_l2': 1.0409812080281055e-05, 'num_leaves': 124, 'feature_fraction': 0.9695160396636449, 'bagging_fraction': 0.6175504388566384, 'bagging_freq': 3, 'min_child_samples': 37}. Best is trial 1 with value: 0.9805600735253641.\n",
            "[I 2024-03-20 18:45:04,336] Trial 7 finished with value: 0.9481511284836954 and parameters: {'boosting_type': 'dart', 'lambda_l1': 4.631700429366046, 'lambda_l2': 3.6528055490140296e-08, 'num_leaves': 219, 'feature_fraction': 0.4546392822214514, 'bagging_fraction': 0.9079021926016235, 'bagging_freq': 1, 'min_child_samples': 78}. Best is trial 1 with value: 0.9805600735253641.\n",
            "[I 2024-03-20 18:45:06,972] Trial 8 finished with value: 0.9570850079755863 and parameters: {'boosting_type': 'dart', 'lambda_l1': 0.00023270926436713812, 'lambda_l2': 0.018328274016632833, 'num_leaves': 81, 'feature_fraction': 0.8813357912948029, 'bagging_fraction': 0.6789550445122656, 'bagging_freq': 5, 'min_child_samples': 65}. Best is trial 1 with value: 0.9805600735253641.\n",
            "[I 2024-03-20 18:45:08,315] Trial 9 finished with value: 0.9785893641770624 and parameters: {'boosting_type': 'gbdt', 'lambda_l1': 1.1605300269364641e-05, 'lambda_l2': 1.1763598485429088e-07, 'num_leaves': 125, 'feature_fraction': 0.6496286738350818, 'bagging_fraction': 0.6157574475604812, 'bagging_freq': 6, 'min_child_samples': 61}. Best is trial 1 with value: 0.9805600735253641.\n"
          ]
        }
      ]
    },
    {
      "cell_type": "markdown",
      "source": [
        "## Результат"
      ],
      "metadata": {
        "id": "Y1Z45bpKr-HL"
      }
    },
    {
      "cell_type": "code",
      "source": [
        "print(f\"найкраща метрика: {study.best_value}\")"
      ],
      "metadata": {
        "colab": {
          "base_uri": "https://localhost:8080/"
        },
        "id": "XvW7R-fUsB4T",
        "outputId": "19dc9a7a-1006-479f-ee93-321812a4e767"
      },
      "execution_count": null,
      "outputs": [
        {
          "output_type": "stream",
          "name": "stdout",
          "text": [
            "найкраща метрика: 0.9805600735253641\n"
          ]
        }
      ]
    },
    {
      "cell_type": "code",
      "source": [
        "best_params = study.best_params\n",
        "\n",
        "model = lgb.LGBMRegressor(**best_params,\n",
        "                          n_estimator = 100,\n",
        "                          verbose=-1)\n",
        "\n",
        "model.fit(X_train, y_train,\n",
        "          eval_set=[(X_test, y_test), (X_train, y_train)],\n",
        "          eval_metric='mae')"
      ],
      "metadata": {
        "colab": {
          "base_uri": "https://localhost:8080/",
          "height": 126
        },
        "id": "tuVAraI_sgxT",
        "outputId": "22833c85-0147-476c-89fe-a8ed666a0a5b"
      },
      "execution_count": null,
      "outputs": [
        {
          "output_type": "execute_result",
          "data": {
            "text/plain": [
              "LGBMRegressor(bagging_fraction=0.7273164551370693, bagging_freq=3,\n",
              "              feature_fraction=0.8837491131044027, lambda_l1=7.8024669642264355,\n",
              "              lambda_l2=0.01490445994418236, min_child_samples=32,\n",
              "              n_estimator=100, num_leaves=35, verbose=-1)"
            ],
            "text/html": [
              "<style>#sk-container-id-7 {color: black;background-color: white;}#sk-container-id-7 pre{padding: 0;}#sk-container-id-7 div.sk-toggleable {background-color: white;}#sk-container-id-7 label.sk-toggleable__label {cursor: pointer;display: block;width: 100%;margin-bottom: 0;padding: 0.3em;box-sizing: border-box;text-align: center;}#sk-container-id-7 label.sk-toggleable__label-arrow:before {content: \"▸\";float: left;margin-right: 0.25em;color: #696969;}#sk-container-id-7 label.sk-toggleable__label-arrow:hover:before {color: black;}#sk-container-id-7 div.sk-estimator:hover label.sk-toggleable__label-arrow:before {color: black;}#sk-container-id-7 div.sk-toggleable__content {max-height: 0;max-width: 0;overflow: hidden;text-align: left;background-color: #f0f8ff;}#sk-container-id-7 div.sk-toggleable__content pre {margin: 0.2em;color: black;border-radius: 0.25em;background-color: #f0f8ff;}#sk-container-id-7 input.sk-toggleable__control:checked~div.sk-toggleable__content {max-height: 200px;max-width: 100%;overflow: auto;}#sk-container-id-7 input.sk-toggleable__control:checked~label.sk-toggleable__label-arrow:before {content: \"▾\";}#sk-container-id-7 div.sk-estimator input.sk-toggleable__control:checked~label.sk-toggleable__label {background-color: #d4ebff;}#sk-container-id-7 div.sk-label input.sk-toggleable__control:checked~label.sk-toggleable__label {background-color: #d4ebff;}#sk-container-id-7 input.sk-hidden--visually {border: 0;clip: rect(1px 1px 1px 1px);clip: rect(1px, 1px, 1px, 1px);height: 1px;margin: -1px;overflow: hidden;padding: 0;position: absolute;width: 1px;}#sk-container-id-7 div.sk-estimator {font-family: monospace;background-color: #f0f8ff;border: 1px dotted black;border-radius: 0.25em;box-sizing: border-box;margin-bottom: 0.5em;}#sk-container-id-7 div.sk-estimator:hover {background-color: #d4ebff;}#sk-container-id-7 div.sk-parallel-item::after {content: \"\";width: 100%;border-bottom: 1px solid gray;flex-grow: 1;}#sk-container-id-7 div.sk-label:hover label.sk-toggleable__label {background-color: #d4ebff;}#sk-container-id-7 div.sk-serial::before {content: \"\";position: absolute;border-left: 1px solid gray;box-sizing: border-box;top: 0;bottom: 0;left: 50%;z-index: 0;}#sk-container-id-7 div.sk-serial {display: flex;flex-direction: column;align-items: center;background-color: white;padding-right: 0.2em;padding-left: 0.2em;position: relative;}#sk-container-id-7 div.sk-item {position: relative;z-index: 1;}#sk-container-id-7 div.sk-parallel {display: flex;align-items: stretch;justify-content: center;background-color: white;position: relative;}#sk-container-id-7 div.sk-item::before, #sk-container-id-7 div.sk-parallel-item::before {content: \"\";position: absolute;border-left: 1px solid gray;box-sizing: border-box;top: 0;bottom: 0;left: 50%;z-index: -1;}#sk-container-id-7 div.sk-parallel-item {display: flex;flex-direction: column;z-index: 1;position: relative;background-color: white;}#sk-container-id-7 div.sk-parallel-item:first-child::after {align-self: flex-end;width: 50%;}#sk-container-id-7 div.sk-parallel-item:last-child::after {align-self: flex-start;width: 50%;}#sk-container-id-7 div.sk-parallel-item:only-child::after {width: 0;}#sk-container-id-7 div.sk-dashed-wrapped {border: 1px dashed gray;margin: 0 0.4em 0.5em 0.4em;box-sizing: border-box;padding-bottom: 0.4em;background-color: white;}#sk-container-id-7 div.sk-label label {font-family: monospace;font-weight: bold;display: inline-block;line-height: 1.2em;}#sk-container-id-7 div.sk-label-container {text-align: center;}#sk-container-id-7 div.sk-container {/* jupyter's `normalize.less` sets `[hidden] { display: none; }` but bootstrap.min.css set `[hidden] { display: none !important; }` so we also need the `!important` here to be able to override the default hidden behavior on the sphinx rendered scikit-learn.org. See: https://github.com/scikit-learn/scikit-learn/issues/21755 */display: inline-block !important;position: relative;}#sk-container-id-7 div.sk-text-repr-fallback {display: none;}</style><div id=\"sk-container-id-7\" class=\"sk-top-container\"><div class=\"sk-text-repr-fallback\"><pre>LGBMRegressor(bagging_fraction=0.7273164551370693, bagging_freq=3,\n",
              "              feature_fraction=0.8837491131044027, lambda_l1=7.8024669642264355,\n",
              "              lambda_l2=0.01490445994418236, min_child_samples=32,\n",
              "              n_estimator=100, num_leaves=35, verbose=-1)</pre><b>In a Jupyter environment, please rerun this cell to show the HTML representation or trust the notebook. <br />On GitHub, the HTML representation is unable to render, please try loading this page with nbviewer.org.</b></div><div class=\"sk-container\" hidden><div class=\"sk-item\"><div class=\"sk-estimator sk-toggleable\"><input class=\"sk-toggleable__control sk-hidden--visually\" id=\"sk-estimator-id-29\" type=\"checkbox\" checked><label for=\"sk-estimator-id-29\" class=\"sk-toggleable__label sk-toggleable__label-arrow\">LGBMRegressor</label><div class=\"sk-toggleable__content\"><pre>LGBMRegressor(bagging_fraction=0.7273164551370693, bagging_freq=3,\n",
              "              feature_fraction=0.8837491131044027, lambda_l1=7.8024669642264355,\n",
              "              lambda_l2=0.01490445994418236, min_child_samples=32,\n",
              "              n_estimator=100, num_leaves=35, verbose=-1)</pre></div></div></div></div></div>"
            ]
          },
          "metadata": {},
          "execution_count": 60
        }
      ]
    },
    {
      "cell_type": "markdown",
      "source": [
        "# Метрики"
      ],
      "metadata": {
        "id": "Ff-K9rMdM1bv"
      }
    },
    {
      "cell_type": "code",
      "source": [
        "def get_metrics(y_true, y_pred, name=\"model\"):\n",
        "  df = pd.DataFrame()\n",
        "\n",
        "  df.loc[\"MAE\", name] = metrics.mean_absolute_error(y_true, y_pred)\n",
        "  df.loc[\"RMSE\", name] = metrics.mean_squared_error(y_true, y_pred) ** 0.5\n",
        "  df.loc[\"R2\", name] = metrics.r2_score(y_true, y_pred)\n",
        "\n",
        "  return df.round(2)"
      ],
      "metadata": {
        "id": "lm4F2Sl2M4rD"
      },
      "execution_count": null,
      "outputs": []
    },
    {
      "cell_type": "code",
      "source": [
        "all_metrics = pd.DataFrame()\n",
        "\n",
        "all_metrics[\"train\"] = get_metrics(y_train, model.predict(X_train))\n",
        "all_metrics[\"test\"] = get_metrics(y_test, model.predict(X_test))\n",
        "\n",
        "all_metrics"
      ],
      "metadata": {
        "colab": {
          "base_uri": "https://localhost:8080/",
          "height": 143
        },
        "id": "c_GHL5dZM-Gs",
        "outputId": "27cf71a4-5730-4d44-82b3-6e96413804bf"
      },
      "execution_count": null,
      "outputs": [
        {
          "output_type": "execute_result",
          "data": {
            "text/plain": [
              "       train    test\n",
              "MAE   271.57  288.57\n",
              "RMSE  493.78  550.42\n",
              "R2      0.98    0.98"
            ],
            "text/html": [
              "\n",
              "  <div id=\"df-e7452e83-5481-4ab8-88f1-7106e246ce92\" class=\"colab-df-container\">\n",
              "    <div>\n",
              "<style scoped>\n",
              "    .dataframe tbody tr th:only-of-type {\n",
              "        vertical-align: middle;\n",
              "    }\n",
              "\n",
              "    .dataframe tbody tr th {\n",
              "        vertical-align: top;\n",
              "    }\n",
              "\n",
              "    .dataframe thead th {\n",
              "        text-align: right;\n",
              "    }\n",
              "</style>\n",
              "<table border=\"1\" class=\"dataframe\">\n",
              "  <thead>\n",
              "    <tr style=\"text-align: right;\">\n",
              "      <th></th>\n",
              "      <th>train</th>\n",
              "      <th>test</th>\n",
              "    </tr>\n",
              "  </thead>\n",
              "  <tbody>\n",
              "    <tr>\n",
              "      <th>MAE</th>\n",
              "      <td>271.57</td>\n",
              "      <td>288.57</td>\n",
              "    </tr>\n",
              "    <tr>\n",
              "      <th>RMSE</th>\n",
              "      <td>493.78</td>\n",
              "      <td>550.42</td>\n",
              "    </tr>\n",
              "    <tr>\n",
              "      <th>R2</th>\n",
              "      <td>0.98</td>\n",
              "      <td>0.98</td>\n",
              "    </tr>\n",
              "  </tbody>\n",
              "</table>\n",
              "</div>\n",
              "    <div class=\"colab-df-buttons\">\n",
              "\n",
              "  <div class=\"colab-df-container\">\n",
              "    <button class=\"colab-df-convert\" onclick=\"convertToInteractive('df-e7452e83-5481-4ab8-88f1-7106e246ce92')\"\n",
              "            title=\"Convert this dataframe to an interactive table.\"\n",
              "            style=\"display:none;\">\n",
              "\n",
              "  <svg xmlns=\"http://www.w3.org/2000/svg\" height=\"24px\" viewBox=\"0 -960 960 960\">\n",
              "    <path d=\"M120-120v-720h720v720H120Zm60-500h600v-160H180v160Zm220 220h160v-160H400v160Zm0 220h160v-160H400v160ZM180-400h160v-160H180v160Zm440 0h160v-160H620v160ZM180-180h160v-160H180v160Zm440 0h160v-160H620v160Z\"/>\n",
              "  </svg>\n",
              "    </button>\n",
              "\n",
              "  <style>\n",
              "    .colab-df-container {\n",
              "      display:flex;\n",
              "      gap: 12px;\n",
              "    }\n",
              "\n",
              "    .colab-df-convert {\n",
              "      background-color: #E8F0FE;\n",
              "      border: none;\n",
              "      border-radius: 50%;\n",
              "      cursor: pointer;\n",
              "      display: none;\n",
              "      fill: #1967D2;\n",
              "      height: 32px;\n",
              "      padding: 0 0 0 0;\n",
              "      width: 32px;\n",
              "    }\n",
              "\n",
              "    .colab-df-convert:hover {\n",
              "      background-color: #E2EBFA;\n",
              "      box-shadow: 0px 1px 2px rgba(60, 64, 67, 0.3), 0px 1px 3px 1px rgba(60, 64, 67, 0.15);\n",
              "      fill: #174EA6;\n",
              "    }\n",
              "\n",
              "    .colab-df-buttons div {\n",
              "      margin-bottom: 4px;\n",
              "    }\n",
              "\n",
              "    [theme=dark] .colab-df-convert {\n",
              "      background-color: #3B4455;\n",
              "      fill: #D2E3FC;\n",
              "    }\n",
              "\n",
              "    [theme=dark] .colab-df-convert:hover {\n",
              "      background-color: #434B5C;\n",
              "      box-shadow: 0px 1px 3px 1px rgba(0, 0, 0, 0.15);\n",
              "      filter: drop-shadow(0px 1px 2px rgba(0, 0, 0, 0.3));\n",
              "      fill: #FFFFFF;\n",
              "    }\n",
              "  </style>\n",
              "\n",
              "    <script>\n",
              "      const buttonEl =\n",
              "        document.querySelector('#df-e7452e83-5481-4ab8-88f1-7106e246ce92 button.colab-df-convert');\n",
              "      buttonEl.style.display =\n",
              "        google.colab.kernel.accessAllowed ? 'block' : 'none';\n",
              "\n",
              "      async function convertToInteractive(key) {\n",
              "        const element = document.querySelector('#df-e7452e83-5481-4ab8-88f1-7106e246ce92');\n",
              "        const dataTable =\n",
              "          await google.colab.kernel.invokeFunction('convertToInteractive',\n",
              "                                                    [key], {});\n",
              "        if (!dataTable) return;\n",
              "\n",
              "        const docLinkHtml = 'Like what you see? Visit the ' +\n",
              "          '<a target=\"_blank\" href=https://colab.research.google.com/notebooks/data_table.ipynb>data table notebook</a>'\n",
              "          + ' to learn more about interactive tables.';\n",
              "        element.innerHTML = '';\n",
              "        dataTable['output_type'] = 'display_data';\n",
              "        await google.colab.output.renderOutput(dataTable, element);\n",
              "        const docLink = document.createElement('div');\n",
              "        docLink.innerHTML = docLinkHtml;\n",
              "        element.appendChild(docLink);\n",
              "      }\n",
              "    </script>\n",
              "  </div>\n",
              "\n",
              "\n",
              "<div id=\"df-1c77688b-a1a6-4077-8de6-ae9482f5de43\">\n",
              "  <button class=\"colab-df-quickchart\" onclick=\"quickchart('df-1c77688b-a1a6-4077-8de6-ae9482f5de43')\"\n",
              "            title=\"Suggest charts\"\n",
              "            style=\"display:none;\">\n",
              "\n",
              "<svg xmlns=\"http://www.w3.org/2000/svg\" height=\"24px\"viewBox=\"0 0 24 24\"\n",
              "     width=\"24px\">\n",
              "    <g>\n",
              "        <path d=\"M19 3H5c-1.1 0-2 .9-2 2v14c0 1.1.9 2 2 2h14c1.1 0 2-.9 2-2V5c0-1.1-.9-2-2-2zM9 17H7v-7h2v7zm4 0h-2V7h2v10zm4 0h-2v-4h2v4z\"/>\n",
              "    </g>\n",
              "</svg>\n",
              "  </button>\n",
              "\n",
              "<style>\n",
              "  .colab-df-quickchart {\n",
              "      --bg-color: #E8F0FE;\n",
              "      --fill-color: #1967D2;\n",
              "      --hover-bg-color: #E2EBFA;\n",
              "      --hover-fill-color: #174EA6;\n",
              "      --disabled-fill-color: #AAA;\n",
              "      --disabled-bg-color: #DDD;\n",
              "  }\n",
              "\n",
              "  [theme=dark] .colab-df-quickchart {\n",
              "      --bg-color: #3B4455;\n",
              "      --fill-color: #D2E3FC;\n",
              "      --hover-bg-color: #434B5C;\n",
              "      --hover-fill-color: #FFFFFF;\n",
              "      --disabled-bg-color: #3B4455;\n",
              "      --disabled-fill-color: #666;\n",
              "  }\n",
              "\n",
              "  .colab-df-quickchart {\n",
              "    background-color: var(--bg-color);\n",
              "    border: none;\n",
              "    border-radius: 50%;\n",
              "    cursor: pointer;\n",
              "    display: none;\n",
              "    fill: var(--fill-color);\n",
              "    height: 32px;\n",
              "    padding: 0;\n",
              "    width: 32px;\n",
              "  }\n",
              "\n",
              "  .colab-df-quickchart:hover {\n",
              "    background-color: var(--hover-bg-color);\n",
              "    box-shadow: 0 1px 2px rgba(60, 64, 67, 0.3), 0 1px 3px 1px rgba(60, 64, 67, 0.15);\n",
              "    fill: var(--button-hover-fill-color);\n",
              "  }\n",
              "\n",
              "  .colab-df-quickchart-complete:disabled,\n",
              "  .colab-df-quickchart-complete:disabled:hover {\n",
              "    background-color: var(--disabled-bg-color);\n",
              "    fill: var(--disabled-fill-color);\n",
              "    box-shadow: none;\n",
              "  }\n",
              "\n",
              "  .colab-df-spinner {\n",
              "    border: 2px solid var(--fill-color);\n",
              "    border-color: transparent;\n",
              "    border-bottom-color: var(--fill-color);\n",
              "    animation:\n",
              "      spin 1s steps(1) infinite;\n",
              "  }\n",
              "\n",
              "  @keyframes spin {\n",
              "    0% {\n",
              "      border-color: transparent;\n",
              "      border-bottom-color: var(--fill-color);\n",
              "      border-left-color: var(--fill-color);\n",
              "    }\n",
              "    20% {\n",
              "      border-color: transparent;\n",
              "      border-left-color: var(--fill-color);\n",
              "      border-top-color: var(--fill-color);\n",
              "    }\n",
              "    30% {\n",
              "      border-color: transparent;\n",
              "      border-left-color: var(--fill-color);\n",
              "      border-top-color: var(--fill-color);\n",
              "      border-right-color: var(--fill-color);\n",
              "    }\n",
              "    40% {\n",
              "      border-color: transparent;\n",
              "      border-right-color: var(--fill-color);\n",
              "      border-top-color: var(--fill-color);\n",
              "    }\n",
              "    60% {\n",
              "      border-color: transparent;\n",
              "      border-right-color: var(--fill-color);\n",
              "    }\n",
              "    80% {\n",
              "      border-color: transparent;\n",
              "      border-right-color: var(--fill-color);\n",
              "      border-bottom-color: var(--fill-color);\n",
              "    }\n",
              "    90% {\n",
              "      border-color: transparent;\n",
              "      border-bottom-color: var(--fill-color);\n",
              "    }\n",
              "  }\n",
              "</style>\n",
              "\n",
              "  <script>\n",
              "    async function quickchart(key) {\n",
              "      const quickchartButtonEl =\n",
              "        document.querySelector('#' + key + ' button');\n",
              "      quickchartButtonEl.disabled = true;  // To prevent multiple clicks.\n",
              "      quickchartButtonEl.classList.add('colab-df-spinner');\n",
              "      try {\n",
              "        const charts = await google.colab.kernel.invokeFunction(\n",
              "            'suggestCharts', [key], {});\n",
              "      } catch (error) {\n",
              "        console.error('Error during call to suggestCharts:', error);\n",
              "      }\n",
              "      quickchartButtonEl.classList.remove('colab-df-spinner');\n",
              "      quickchartButtonEl.classList.add('colab-df-quickchart-complete');\n",
              "    }\n",
              "    (() => {\n",
              "      let quickchartButtonEl =\n",
              "        document.querySelector('#df-1c77688b-a1a6-4077-8de6-ae9482f5de43 button');\n",
              "      quickchartButtonEl.style.display =\n",
              "        google.colab.kernel.accessAllowed ? 'block' : 'none';\n",
              "    })();\n",
              "  </script>\n",
              "</div>\n",
              "    </div>\n",
              "  </div>\n"
            ],
            "application/vnd.google.colaboratory.intrinsic+json": {
              "type": "dataframe",
              "variable_name": "all_metrics",
              "summary": "{\n  \"name\": \"all_metrics\",\n  \"rows\": 3,\n  \"fields\": [\n    {\n      \"column\": \"train\",\n      \"properties\": {\n        \"dtype\": \"number\",\n        \"std\": 246.79548624991773,\n        \"min\": 0.98,\n        \"max\": 493.78,\n        \"num_unique_values\": 3,\n        \"samples\": [\n          271.57,\n          493.78,\n          0.98\n        ],\n        \"semantic_type\": \"\",\n        \"description\": \"\"\n      }\n    },\n    {\n      \"column\": \"test\",\n      \"properties\": {\n        \"dtype\": \"number\",\n        \"std\": 274.8204699435615,\n        \"min\": 0.98,\n        \"max\": 550.42,\n        \"num_unique_values\": 3,\n        \"samples\": [\n          288.57,\n          550.42,\n          0.98\n        ],\n        \"semantic_type\": \"\",\n        \"description\": \"\"\n      }\n    }\n  ]\n}"
            }
          },
          "metadata": {},
          "execution_count": 62
        }
      ]
    },
    {
      "cell_type": "markdown",
      "source": [
        "## Важливість гіперпараметрів"
      ],
      "metadata": {
        "id": "_91nGDuHt06-"
      }
    },
    {
      "cell_type": "code",
      "source": [
        "optuna.visualization.plot_param_importances(study)"
      ],
      "metadata": {
        "colab": {
          "base_uri": "https://localhost:8080/",
          "height": 542
        },
        "id": "tMACQMUFt5ML",
        "outputId": "52dfee63-f1ec-4310-c696-188277d15e2f"
      },
      "execution_count": null,
      "outputs": [
        {
          "output_type": "display_data",
          "data": {
            "text/html": [
              "<html>\n",
              "<head><meta charset=\"utf-8\" /></head>\n",
              "<body>\n",
              "    <div>            <script src=\"https://cdnjs.cloudflare.com/ajax/libs/mathjax/2.7.5/MathJax.js?config=TeX-AMS-MML_SVG\"></script><script type=\"text/javascript\">if (window.MathJax && window.MathJax.Hub && window.MathJax.Hub.Config) {window.MathJax.Hub.Config({SVG: {font: \"STIX-Web\"}});}</script>                <script type=\"text/javascript\">window.PlotlyConfig = {MathJaxConfig: 'local'};</script>\n",
              "        <script charset=\"utf-8\" src=\"https://cdn.plot.ly/plotly-2.24.1.min.js\"></script>                <div id=\"91203839-8aa4-4221-9c48-f7b6adff8a30\" class=\"plotly-graph-div\" style=\"height:525px; width:100%;\"></div>            <script type=\"text/javascript\">                                    window.PLOTLYENV=window.PLOTLYENV || {};                                    if (document.getElementById(\"91203839-8aa4-4221-9c48-f7b6adff8a30\")) {                    Plotly.newPlot(                        \"91203839-8aa4-4221-9c48-f7b6adff8a30\",                        [{\"cliponaxis\":false,\"hovertemplate\":[\"min_child_samples (IntDistribution): 0.0010341658697982747\\u003cextra\\u003e\\u003c\\u002fextra\\u003e\",\"bagging_fraction (FloatDistribution): 0.0030198632762887655\\u003cextra\\u003e\\u003c\\u002fextra\\u003e\",\"lambda_l1 (FloatDistribution): 0.00377954789004108\\u003cextra\\u003e\\u003c\\u002fextra\\u003e\",\"lambda_l2 (FloatDistribution): 0.0158470434656656\\u003cextra\\u003e\\u003c\\u002fextra\\u003e\",\"bagging_freq (IntDistribution): 0.017497197804253087\\u003cextra\\u003e\\u003c\\u002fextra\\u003e\",\"num_leaves (IntDistribution): 0.01944119971440805\\u003cextra\\u003e\\u003c\\u002fextra\\u003e\",\"feature_fraction (FloatDistribution): 0.020313230282380846\\u003cextra\\u003e\\u003c\\u002fextra\\u003e\",\"boosting_type (CategoricalDistribution): 0.9190677516971643\\u003cextra\\u003e\\u003c\\u002fextra\\u003e\"],\"name\":\"Objective Value\",\"orientation\":\"h\",\"text\":[\"\\u003c0.01\",\"\\u003c0.01\",\"\\u003c0.01\",\"0.02\",\"0.02\",\"0.02\",\"0.02\",\"0.92\"],\"textposition\":\"outside\",\"x\":[0.0010341658697982747,0.0030198632762887655,0.00377954789004108,0.0158470434656656,0.017497197804253087,0.01944119971440805,0.020313230282380846,0.9190677516971643],\"y\":[\"min_child_samples\",\"bagging_fraction\",\"lambda_l1\",\"lambda_l2\",\"bagging_freq\",\"num_leaves\",\"feature_fraction\",\"boosting_type\"],\"type\":\"bar\"}],                        {\"title\":{\"text\":\"Hyperparameter Importances\"},\"xaxis\":{\"title\":{\"text\":\"Hyperparameter Importance\"}},\"yaxis\":{\"title\":{\"text\":\"Hyperparameter\"}},\"template\":{\"data\":{\"histogram2dcontour\":[{\"type\":\"histogram2dcontour\",\"colorbar\":{\"outlinewidth\":0,\"ticks\":\"\"},\"colorscale\":[[0.0,\"#0d0887\"],[0.1111111111111111,\"#46039f\"],[0.2222222222222222,\"#7201a8\"],[0.3333333333333333,\"#9c179e\"],[0.4444444444444444,\"#bd3786\"],[0.5555555555555556,\"#d8576b\"],[0.6666666666666666,\"#ed7953\"],[0.7777777777777778,\"#fb9f3a\"],[0.8888888888888888,\"#fdca26\"],[1.0,\"#f0f921\"]]}],\"choropleth\":[{\"type\":\"choropleth\",\"colorbar\":{\"outlinewidth\":0,\"ticks\":\"\"}}],\"histogram2d\":[{\"type\":\"histogram2d\",\"colorbar\":{\"outlinewidth\":0,\"ticks\":\"\"},\"colorscale\":[[0.0,\"#0d0887\"],[0.1111111111111111,\"#46039f\"],[0.2222222222222222,\"#7201a8\"],[0.3333333333333333,\"#9c179e\"],[0.4444444444444444,\"#bd3786\"],[0.5555555555555556,\"#d8576b\"],[0.6666666666666666,\"#ed7953\"],[0.7777777777777778,\"#fb9f3a\"],[0.8888888888888888,\"#fdca26\"],[1.0,\"#f0f921\"]]}],\"heatmap\":[{\"type\":\"heatmap\",\"colorbar\":{\"outlinewidth\":0,\"ticks\":\"\"},\"colorscale\":[[0.0,\"#0d0887\"],[0.1111111111111111,\"#46039f\"],[0.2222222222222222,\"#7201a8\"],[0.3333333333333333,\"#9c179e\"],[0.4444444444444444,\"#bd3786\"],[0.5555555555555556,\"#d8576b\"],[0.6666666666666666,\"#ed7953\"],[0.7777777777777778,\"#fb9f3a\"],[0.8888888888888888,\"#fdca26\"],[1.0,\"#f0f921\"]]}],\"heatmapgl\":[{\"type\":\"heatmapgl\",\"colorbar\":{\"outlinewidth\":0,\"ticks\":\"\"},\"colorscale\":[[0.0,\"#0d0887\"],[0.1111111111111111,\"#46039f\"],[0.2222222222222222,\"#7201a8\"],[0.3333333333333333,\"#9c179e\"],[0.4444444444444444,\"#bd3786\"],[0.5555555555555556,\"#d8576b\"],[0.6666666666666666,\"#ed7953\"],[0.7777777777777778,\"#fb9f3a\"],[0.8888888888888888,\"#fdca26\"],[1.0,\"#f0f921\"]]}],\"contourcarpet\":[{\"type\":\"contourcarpet\",\"colorbar\":{\"outlinewidth\":0,\"ticks\":\"\"}}],\"contour\":[{\"type\":\"contour\",\"colorbar\":{\"outlinewidth\":0,\"ticks\":\"\"},\"colorscale\":[[0.0,\"#0d0887\"],[0.1111111111111111,\"#46039f\"],[0.2222222222222222,\"#7201a8\"],[0.3333333333333333,\"#9c179e\"],[0.4444444444444444,\"#bd3786\"],[0.5555555555555556,\"#d8576b\"],[0.6666666666666666,\"#ed7953\"],[0.7777777777777778,\"#fb9f3a\"],[0.8888888888888888,\"#fdca26\"],[1.0,\"#f0f921\"]]}],\"surface\":[{\"type\":\"surface\",\"colorbar\":{\"outlinewidth\":0,\"ticks\":\"\"},\"colorscale\":[[0.0,\"#0d0887\"],[0.1111111111111111,\"#46039f\"],[0.2222222222222222,\"#7201a8\"],[0.3333333333333333,\"#9c179e\"],[0.4444444444444444,\"#bd3786\"],[0.5555555555555556,\"#d8576b\"],[0.6666666666666666,\"#ed7953\"],[0.7777777777777778,\"#fb9f3a\"],[0.8888888888888888,\"#fdca26\"],[1.0,\"#f0f921\"]]}],\"mesh3d\":[{\"type\":\"mesh3d\",\"colorbar\":{\"outlinewidth\":0,\"ticks\":\"\"}}],\"scatter\":[{\"fillpattern\":{\"fillmode\":\"overlay\",\"size\":10,\"solidity\":0.2},\"type\":\"scatter\"}],\"parcoords\":[{\"type\":\"parcoords\",\"line\":{\"colorbar\":{\"outlinewidth\":0,\"ticks\":\"\"}}}],\"scatterpolargl\":[{\"type\":\"scatterpolargl\",\"marker\":{\"colorbar\":{\"outlinewidth\":0,\"ticks\":\"\"}}}],\"bar\":[{\"error_x\":{\"color\":\"#2a3f5f\"},\"error_y\":{\"color\":\"#2a3f5f\"},\"marker\":{\"line\":{\"color\":\"#E5ECF6\",\"width\":0.5},\"pattern\":{\"fillmode\":\"overlay\",\"size\":10,\"solidity\":0.2}},\"type\":\"bar\"}],\"scattergeo\":[{\"type\":\"scattergeo\",\"marker\":{\"colorbar\":{\"outlinewidth\":0,\"ticks\":\"\"}}}],\"scatterpolar\":[{\"type\":\"scatterpolar\",\"marker\":{\"colorbar\":{\"outlinewidth\":0,\"ticks\":\"\"}}}],\"histogram\":[{\"marker\":{\"pattern\":{\"fillmode\":\"overlay\",\"size\":10,\"solidity\":0.2}},\"type\":\"histogram\"}],\"scattergl\":[{\"type\":\"scattergl\",\"marker\":{\"colorbar\":{\"outlinewidth\":0,\"ticks\":\"\"}}}],\"scatter3d\":[{\"type\":\"scatter3d\",\"line\":{\"colorbar\":{\"outlinewidth\":0,\"ticks\":\"\"}},\"marker\":{\"colorbar\":{\"outlinewidth\":0,\"ticks\":\"\"}}}],\"scattermapbox\":[{\"type\":\"scattermapbox\",\"marker\":{\"colorbar\":{\"outlinewidth\":0,\"ticks\":\"\"}}}],\"scatterternary\":[{\"type\":\"scatterternary\",\"marker\":{\"colorbar\":{\"outlinewidth\":0,\"ticks\":\"\"}}}],\"scattercarpet\":[{\"type\":\"scattercarpet\",\"marker\":{\"colorbar\":{\"outlinewidth\":0,\"ticks\":\"\"}}}],\"carpet\":[{\"aaxis\":{\"endlinecolor\":\"#2a3f5f\",\"gridcolor\":\"white\",\"linecolor\":\"white\",\"minorgridcolor\":\"white\",\"startlinecolor\":\"#2a3f5f\"},\"baxis\":{\"endlinecolor\":\"#2a3f5f\",\"gridcolor\":\"white\",\"linecolor\":\"white\",\"minorgridcolor\":\"white\",\"startlinecolor\":\"#2a3f5f\"},\"type\":\"carpet\"}],\"table\":[{\"cells\":{\"fill\":{\"color\":\"#EBF0F8\"},\"line\":{\"color\":\"white\"}},\"header\":{\"fill\":{\"color\":\"#C8D4E3\"},\"line\":{\"color\":\"white\"}},\"type\":\"table\"}],\"barpolar\":[{\"marker\":{\"line\":{\"color\":\"#E5ECF6\",\"width\":0.5},\"pattern\":{\"fillmode\":\"overlay\",\"size\":10,\"solidity\":0.2}},\"type\":\"barpolar\"}],\"pie\":[{\"automargin\":true,\"type\":\"pie\"}]},\"layout\":{\"autotypenumbers\":\"strict\",\"colorway\":[\"#636efa\",\"#EF553B\",\"#00cc96\",\"#ab63fa\",\"#FFA15A\",\"#19d3f3\",\"#FF6692\",\"#B6E880\",\"#FF97FF\",\"#FECB52\"],\"font\":{\"color\":\"#2a3f5f\"},\"hovermode\":\"closest\",\"hoverlabel\":{\"align\":\"left\"},\"paper_bgcolor\":\"white\",\"plot_bgcolor\":\"#E5ECF6\",\"polar\":{\"bgcolor\":\"#E5ECF6\",\"angularaxis\":{\"gridcolor\":\"white\",\"linecolor\":\"white\",\"ticks\":\"\"},\"radialaxis\":{\"gridcolor\":\"white\",\"linecolor\":\"white\",\"ticks\":\"\"}},\"ternary\":{\"bgcolor\":\"#E5ECF6\",\"aaxis\":{\"gridcolor\":\"white\",\"linecolor\":\"white\",\"ticks\":\"\"},\"baxis\":{\"gridcolor\":\"white\",\"linecolor\":\"white\",\"ticks\":\"\"},\"caxis\":{\"gridcolor\":\"white\",\"linecolor\":\"white\",\"ticks\":\"\"}},\"coloraxis\":{\"colorbar\":{\"outlinewidth\":0,\"ticks\":\"\"}},\"colorscale\":{\"sequential\":[[0.0,\"#0d0887\"],[0.1111111111111111,\"#46039f\"],[0.2222222222222222,\"#7201a8\"],[0.3333333333333333,\"#9c179e\"],[0.4444444444444444,\"#bd3786\"],[0.5555555555555556,\"#d8576b\"],[0.6666666666666666,\"#ed7953\"],[0.7777777777777778,\"#fb9f3a\"],[0.8888888888888888,\"#fdca26\"],[1.0,\"#f0f921\"]],\"sequentialminus\":[[0.0,\"#0d0887\"],[0.1111111111111111,\"#46039f\"],[0.2222222222222222,\"#7201a8\"],[0.3333333333333333,\"#9c179e\"],[0.4444444444444444,\"#bd3786\"],[0.5555555555555556,\"#d8576b\"],[0.6666666666666666,\"#ed7953\"],[0.7777777777777778,\"#fb9f3a\"],[0.8888888888888888,\"#fdca26\"],[1.0,\"#f0f921\"]],\"diverging\":[[0,\"#8e0152\"],[0.1,\"#c51b7d\"],[0.2,\"#de77ae\"],[0.3,\"#f1b6da\"],[0.4,\"#fde0ef\"],[0.5,\"#f7f7f7\"],[0.6,\"#e6f5d0\"],[0.7,\"#b8e186\"],[0.8,\"#7fbc41\"],[0.9,\"#4d9221\"],[1,\"#276419\"]]},\"xaxis\":{\"gridcolor\":\"white\",\"linecolor\":\"white\",\"ticks\":\"\",\"title\":{\"standoff\":15},\"zerolinecolor\":\"white\",\"automargin\":true,\"zerolinewidth\":2},\"yaxis\":{\"gridcolor\":\"white\",\"linecolor\":\"white\",\"ticks\":\"\",\"title\":{\"standoff\":15},\"zerolinecolor\":\"white\",\"automargin\":true,\"zerolinewidth\":2},\"scene\":{\"xaxis\":{\"backgroundcolor\":\"#E5ECF6\",\"gridcolor\":\"white\",\"linecolor\":\"white\",\"showbackground\":true,\"ticks\":\"\",\"zerolinecolor\":\"white\",\"gridwidth\":2},\"yaxis\":{\"backgroundcolor\":\"#E5ECF6\",\"gridcolor\":\"white\",\"linecolor\":\"white\",\"showbackground\":true,\"ticks\":\"\",\"zerolinecolor\":\"white\",\"gridwidth\":2},\"zaxis\":{\"backgroundcolor\":\"#E5ECF6\",\"gridcolor\":\"white\",\"linecolor\":\"white\",\"showbackground\":true,\"ticks\":\"\",\"zerolinecolor\":\"white\",\"gridwidth\":2}},\"shapedefaults\":{\"line\":{\"color\":\"#2a3f5f\"}},\"annotationdefaults\":{\"arrowcolor\":\"#2a3f5f\",\"arrowhead\":0,\"arrowwidth\":1},\"geo\":{\"bgcolor\":\"white\",\"landcolor\":\"#E5ECF6\",\"subunitcolor\":\"white\",\"showland\":true,\"showlakes\":true,\"lakecolor\":\"white\"},\"title\":{\"x\":0.05},\"mapbox\":{\"style\":\"light\"}}}},                        {\"responsive\": true}                    ).then(function(){\n",
              "                            \n",
              "var gd = document.getElementById('91203839-8aa4-4221-9c48-f7b6adff8a30');\n",
              "var x = new MutationObserver(function (mutations, observer) {{\n",
              "        var display = window.getComputedStyle(gd).display;\n",
              "        if (!display || display === 'none') {{\n",
              "            console.log([gd, 'removed!']);\n",
              "            Plotly.purge(gd);\n",
              "            observer.disconnect();\n",
              "        }}\n",
              "}});\n",
              "\n",
              "// Listen for the removal of the full notebook cells\n",
              "var notebookContainer = gd.closest('#notebook-container');\n",
              "if (notebookContainer) {{\n",
              "    x.observe(notebookContainer, {childList: true});\n",
              "}}\n",
              "\n",
              "// Listen for the clearing of the current output cell\n",
              "var outputEl = gd.closest('.output');\n",
              "if (outputEl) {{\n",
              "    x.observe(outputEl, {childList: true});\n",
              "}}\n",
              "\n",
              "                        })                };                            </script>        </div>\n",
              "</body>\n",
              "</html>"
            ]
          },
          "metadata": {}
        }
      ]
    },
    {
      "cell_type": "markdown",
      "source": [
        "## Важливість ознак"
      ],
      "metadata": {
        "id": "NE3vAqMKEF11"
      }
    },
    {
      "cell_type": "code",
      "source": [
        "lgb.plot_importance(model)"
      ],
      "metadata": {
        "colab": {
          "base_uri": "https://localhost:8080/",
          "height": 489
        },
        "id": "ewf1-p_mQ_vq",
        "outputId": "cbb54c78-eefc-43c2-9c0b-1822efcbd81a"
      },
      "execution_count": null,
      "outputs": [
        {
          "output_type": "execute_result",
          "data": {
            "text/plain": [
              "<Axes: title={'center': 'Feature importance'}, xlabel='Feature importance', ylabel='Features'>"
            ]
          },
          "metadata": {},
          "execution_count": 64
        },
        {
          "output_type": "display_data",
          "data": {
            "text/plain": [
              "<Figure size 640x480 with 1 Axes>"
            ],
            "image/png": "[encoded data removed]"
          },
          "metadata": {}
        }
      ]
    },
    {
      "cell_type": "markdown",
      "source": [
        "## Train vs Тест"
      ],
      "metadata": {
        "id": "xh7JFCpPEKKk"
      }
    },
    {
      "cell_type": "code",
      "source": [
        "lgb.plot_metric(model,\n",
        "                metric='l1')"
      ],
      "metadata": {
        "colab": {
          "base_uri": "https://localhost:8080/",
          "height": 489
        },
        "id": "m52CBRiLQnzT",
        "outputId": "a576abb3-a30e-4b30-bc7a-144cd8cd4578"
      },
      "execution_count": null,
      "outputs": [
        {
          "output_type": "execute_result",
          "data": {
            "text/plain": [
              "<Axes: title={'center': 'Metric during training'}, xlabel='Iterations', ylabel='l1'>"
            ]
          },
          "metadata": {},
          "execution_count": 65
        },
        {
          "output_type": "display_data",
          "data": {
            "text/plain": [
              "<Figure size 640x480 with 1 Axes>"
            ],
            "image/png": "[encoded data removed]"
          },
          "metadata": {}
        }
      ]
    },
    {
      "cell_type": "markdown",
      "source": [
        "# Збереження моделі"
      ],
      "metadata": {
        "id": "-edJSbMzDcee"
      }
    },
    {
      "cell_type": "code",
      "source": [
        "model = Pipeline(\n",
        "    [(\"prep\", preprocessor),\n",
        "     (\"model\", model)\n",
        "     ]\n",
        ")\n",
        "\n",
        "model"
      ],
      "metadata": {
        "colab": {
          "base_uri": "https://localhost:8080/",
          "height": 225
        },
        "id": "RNijPkEqF-iU",
        "outputId": "503c8f36-5024-41d2-9efa-f89fc6c2000e"
      },
      "execution_count": null,
      "outputs": [
        {
          "output_type": "execute_result",
          "data": {
            "text/plain": [
              "Pipeline(steps=[('prep',\n",
              "                 ColumnTransformer(transformers=[('num',\n",
              "                                                  Pipeline(steps=[('imputer',\n",
              "                                                                   SimpleImputer(strategy='median'))]),\n",
              "                                                  Index(['carat', 'depth', 'table', 'x', 'y', 'z'], dtype='object')),\n",
              "                                                 ('cat',\n",
              "                                                  Pipeline(steps=[('imputer',\n",
              "                                                                   SimpleImputer(strategy='most_frequent')),\n",
              "                                                                  ('encoder',\n",
              "                                                                   OneHotEncoder(sparse_output=False))]),\n",
              "                                                  Index(['cut', 'color', 'clarity'], dtype='object'))])),\n",
              "                ('model',\n",
              "                 LGBMRegressor(bagging_fraction=0.7273164551370693,\n",
              "                               bagging_freq=3,\n",
              "                               feature_fraction=0.8837491131044027,\n",
              "                               lambda_l1=7.8024669642264355,\n",
              "                               lambda_l2=0.01490445994418236,\n",
              "                               min_child_samples=32, n_estimator=100,\n",
              "                               num_leaves=35, verbose=-1))])"
            ],
            "text/html": [
              "<style>#sk-container-id-8 {color: black;background-color: white;}#sk-container-id-8 pre{padding: 0;}#sk-container-id-8 div.sk-toggleable {background-color: white;}#sk-container-id-8 label.sk-toggleable__label {cursor: pointer;display: block;width: 100%;margin-bottom: 0;padding: 0.3em;box-sizing: border-box;text-align: center;}#sk-container-id-8 label.sk-toggleable__label-arrow:before {content: \"▸\";float: left;margin-right: 0.25em;color: #696969;}#sk-container-id-8 label.sk-toggleable__label-arrow:hover:before {color: black;}#sk-container-id-8 div.sk-estimator:hover label.sk-toggleable__label-arrow:before {color: black;}#sk-container-id-8 div.sk-toggleable__content {max-height: 0;max-width: 0;overflow: hidden;text-align: left;background-color: #f0f8ff;}#sk-container-id-8 div.sk-toggleable__content pre {margin: 0.2em;color: black;border-radius: 0.25em;background-color: #f0f8ff;}#sk-container-id-8 input.sk-toggleable__control:checked~div.sk-toggleable__content {max-height: 200px;max-width: 100%;overflow: auto;}#sk-container-id-8 input.sk-toggleable__control:checked~label.sk-toggleable__label-arrow:before {content: \"▾\";}#sk-container-id-8 div.sk-estimator input.sk-toggleable__control:checked~label.sk-toggleable__label {background-color: #d4ebff;}#sk-container-id-8 div.sk-label input.sk-toggleable__control:checked~label.sk-toggleable__label {background-color: #d4ebff;}#sk-container-id-8 input.sk-hidden--visually {border: 0;clip: rect(1px 1px 1px 1px);clip: rect(1px, 1px, 1px, 1px);height: 1px;margin: -1px;overflow: hidden;padding: 0;position: absolute;width: 1px;}#sk-container-id-8 div.sk-estimator {font-family: monospace;background-color: #f0f8ff;border: 1px dotted black;border-radius: 0.25em;box-sizing: border-box;margin-bottom: 0.5em;}#sk-container-id-8 div.sk-estimator:hover {background-color: #d4ebff;}#sk-container-id-8 div.sk-parallel-item::after {content: \"\";width: 100%;border-bottom: 1px solid gray;flex-grow: 1;}#sk-container-id-8 div.sk-label:hover label.sk-toggleable__label {background-color: #d4ebff;}#sk-container-id-8 div.sk-serial::before {content: \"\";position: absolute;border-left: 1px solid gray;box-sizing: border-box;top: 0;bottom: 0;left: 50%;z-index: 0;}#sk-container-id-8 div.sk-serial {display: flex;flex-direction: column;align-items: center;background-color: white;padding-right: 0.2em;padding-left: 0.2em;position: relative;}#sk-container-id-8 div.sk-item {position: relative;z-index: 1;}#sk-container-id-8 div.sk-parallel {display: flex;align-items: stretch;justify-content: center;background-color: white;position: relative;}#sk-container-id-8 div.sk-item::before, #sk-container-id-8 div.sk-parallel-item::before {content: \"\";position: absolute;border-left: 1px solid gray;box-sizing: border-box;top: 0;bottom: 0;left: 50%;z-index: -1;}#sk-container-id-8 div.sk-parallel-item {display: flex;flex-direction: column;z-index: 1;position: relative;background-color: white;}#sk-container-id-8 div.sk-parallel-item:first-child::after {align-self: flex-end;width: 50%;}#sk-container-id-8 div.sk-parallel-item:last-child::after {align-self: flex-start;width: 50%;}#sk-container-id-8 div.sk-parallel-item:only-child::after {width: 0;}#sk-container-id-8 div.sk-dashed-wrapped {border: 1px dashed gray;margin: 0 0.4em 0.5em 0.4em;box-sizing: border-box;padding-bottom: 0.4em;background-color: white;}#sk-container-id-8 div.sk-label label {font-family: monospace;font-weight: bold;display: inline-block;line-height: 1.2em;}#sk-container-id-8 div.sk-label-container {text-align: center;}#sk-container-id-8 div.sk-container {/* jupyter's `normalize.less` sets `[hidden] { display: none; }` but bootstrap.min.css set `[hidden] { display: none !important; }` so we also need the `!important` here to be able to override the default hidden behavior on the sphinx rendered scikit-learn.org. See: https://github.com/scikit-learn/scikit-learn/issues/21755 */display: inline-block !important;position: relative;}#sk-container-id-8 div.sk-text-repr-fallback {display: none;}</style><div id=\"sk-container-id-8\" class=\"sk-top-container\"><div class=\"sk-text-repr-fallback\"><pre>Pipeline(steps=[(&#x27;prep&#x27;,\n",
              "                 ColumnTransformer(transformers=[(&#x27;num&#x27;,\n",
              "                                                  Pipeline(steps=[(&#x27;imputer&#x27;,\n",
              "                                                                   SimpleImputer(strategy=&#x27;median&#x27;))]),\n",
              "                                                  Index([&#x27;carat&#x27;, &#x27;depth&#x27;, &#x27;table&#x27;, &#x27;x&#x27;, &#x27;y&#x27;, &#x27;z&#x27;], dtype=&#x27;object&#x27;)),\n",
              "                                                 (&#x27;cat&#x27;,\n",
              "                                                  Pipeline(steps=[(&#x27;imputer&#x27;,\n",
              "                                                                   SimpleImputer(strategy=&#x27;most_frequent&#x27;)),\n",
              "                                                                  (&#x27;encoder&#x27;,\n",
              "                                                                   OneHotEncoder(sparse_output=False))]),\n",
              "                                                  Index([&#x27;cut&#x27;, &#x27;color&#x27;, &#x27;clarity&#x27;], dtype=&#x27;object&#x27;))])),\n",
              "                (&#x27;model&#x27;,\n",
              "                 LGBMRegressor(bagging_fraction=0.7273164551370693,\n",
              "                               bagging_freq=3,\n",
              "                               feature_fraction=0.8837491131044027,\n",
              "                               lambda_l1=7.8024669642264355,\n",
              "                               lambda_l2=0.01490445994418236,\n",
              "                               min_child_samples=32, n_estimator=100,\n",
              "                               num_leaves=35, verbose=-1))])</pre><b>In a Jupyter environment, please rerun this cell to show the HTML representation or trust the notebook. <br />On GitHub, the HTML representation is unable to render, please try loading this page with nbviewer.org.</b></div><div class=\"sk-container\" hidden><div class=\"sk-item sk-dashed-wrapped\"><div class=\"sk-label-container\"><div class=\"sk-label sk-toggleable\"><input class=\"sk-toggleable__control sk-hidden--visually\" id=\"sk-estimator-id-30\" type=\"checkbox\" ><label for=\"sk-estimator-id-30\" class=\"sk-toggleable__label sk-toggleable__label-arrow\">Pipeline</label><div class=\"sk-toggleable__content\"><pre>Pipeline(steps=[(&#x27;prep&#x27;,\n",
              "                 ColumnTransformer(transformers=[(&#x27;num&#x27;,\n",
              "                                                  Pipeline(steps=[(&#x27;imputer&#x27;,\n",
              "                                                                   SimpleImputer(strategy=&#x27;median&#x27;))]),\n",
              "                                                  Index([&#x27;carat&#x27;, &#x27;depth&#x27;, &#x27;table&#x27;, &#x27;x&#x27;, &#x27;y&#x27;, &#x27;z&#x27;], dtype=&#x27;object&#x27;)),\n",
              "                                                 (&#x27;cat&#x27;,\n",
              "                                                  Pipeline(steps=[(&#x27;imputer&#x27;,\n",
              "                                                                   SimpleImputer(strategy=&#x27;most_frequent&#x27;)),\n",
              "                                                                  (&#x27;encoder&#x27;,\n",
              "                                                                   OneHotEncoder(sparse_output=False))]),\n",
              "                                                  Index([&#x27;cut&#x27;, &#x27;color&#x27;, &#x27;clarity&#x27;], dtype=&#x27;object&#x27;))])),\n",
              "                (&#x27;model&#x27;,\n",
              "                 LGBMRegressor(bagging_fraction=0.7273164551370693,\n",
              "                               bagging_freq=3,\n",
              "                               feature_fraction=0.8837491131044027,\n",
              "                               lambda_l1=7.8024669642264355,\n",
              "                               lambda_l2=0.01490445994418236,\n",
              "                               min_child_samples=32, n_estimator=100,\n",
              "                               num_leaves=35, verbose=-1))])</pre></div></div></div><div class=\"sk-serial\"><div class=\"sk-item sk-dashed-wrapped\"><div class=\"sk-label-container\"><div class=\"sk-label sk-toggleable\"><input class=\"sk-toggleable__control sk-hidden--visually\" id=\"sk-estimator-id-31\" type=\"checkbox\" ><label for=\"sk-estimator-id-31\" class=\"sk-toggleable__label sk-toggleable__label-arrow\">prep: ColumnTransformer</label><div class=\"sk-toggleable__content\"><pre>ColumnTransformer(transformers=[(&#x27;num&#x27;,\n",
              "                                 Pipeline(steps=[(&#x27;imputer&#x27;,\n",
              "                                                  SimpleImputer(strategy=&#x27;median&#x27;))]),\n",
              "                                 Index([&#x27;carat&#x27;, &#x27;depth&#x27;, &#x27;table&#x27;, &#x27;x&#x27;, &#x27;y&#x27;, &#x27;z&#x27;], dtype=&#x27;object&#x27;)),\n",
              "                                (&#x27;cat&#x27;,\n",
              "                                 Pipeline(steps=[(&#x27;imputer&#x27;,\n",
              "                                                  SimpleImputer(strategy=&#x27;most_frequent&#x27;)),\n",
              "                                                 (&#x27;encoder&#x27;,\n",
              "                                                  OneHotEncoder(sparse_output=False))]),\n",
              "                                 Index([&#x27;cut&#x27;, &#x27;color&#x27;, &#x27;clarity&#x27;], dtype=&#x27;object&#x27;))])</pre></div></div></div><div class=\"sk-parallel\"><div class=\"sk-parallel-item\"><div class=\"sk-item\"><div class=\"sk-label-container\"><div class=\"sk-label sk-toggleable\"><input class=\"sk-toggleable__control sk-hidden--visually\" id=\"sk-estimator-id-32\" type=\"checkbox\" ><label for=\"sk-estimator-id-32\" class=\"sk-toggleable__label sk-toggleable__label-arrow\">num</label><div class=\"sk-toggleable__content\"><pre>Index([&#x27;carat&#x27;, &#x27;depth&#x27;, &#x27;table&#x27;, &#x27;x&#x27;, &#x27;y&#x27;, &#x27;z&#x27;], dtype=&#x27;object&#x27;)</pre></div></div></div><div class=\"sk-serial\"><div class=\"sk-item\"><div class=\"sk-serial\"><div class=\"sk-item\"><div class=\"sk-estimator sk-toggleable\"><input class=\"sk-toggleable__control sk-hidden--visually\" id=\"sk-estimator-id-33\" type=\"checkbox\" ><label for=\"sk-estimator-id-33\" class=\"sk-toggleable__label sk-toggleable__label-arrow\">SimpleImputer</label><div class=\"sk-toggleable__content\"><pre>SimpleImputer(strategy=&#x27;median&#x27;)</pre></div></div></div></div></div></div></div></div><div class=\"sk-parallel-item\"><div class=\"sk-item\"><div class=\"sk-label-container\"><div class=\"sk-label sk-toggleable\"><input class=\"sk-toggleable__control sk-hidden--visually\" id=\"sk-estimator-id-34\" type=\"checkbox\" ><label for=\"sk-estimator-id-34\" class=\"sk-toggleable__label sk-toggleable__label-arrow\">cat</label><div class=\"sk-toggleable__content\"><pre>Index([&#x27;cut&#x27;, &#x27;color&#x27;, &#x27;clarity&#x27;], dtype=&#x27;object&#x27;)</pre></div></div></div><div class=\"sk-serial\"><div class=\"sk-item\"><div class=\"sk-serial\"><div class=\"sk-item\"><div class=\"sk-estimator sk-toggleable\"><input class=\"sk-toggleable__control sk-hidden--visually\" id=\"sk-estimator-id-35\" type=\"checkbox\" ><label for=\"sk-estimator-id-35\" class=\"sk-toggleable__label sk-toggleable__label-arrow\">SimpleImputer</label><div class=\"sk-toggleable__content\"><pre>SimpleImputer(strategy=&#x27;most_frequent&#x27;)</pre></div></div></div><div class=\"sk-item\"><div class=\"sk-estimator sk-toggleable\"><input class=\"sk-toggleable__control sk-hidden--visually\" id=\"sk-estimator-id-36\" type=\"checkbox\" ><label for=\"sk-estimator-id-36\" class=\"sk-toggleable__label sk-toggleable__label-arrow\">OneHotEncoder</label><div class=\"sk-toggleable__content\"><pre>OneHotEncoder(sparse_output=False)</pre></div></div></div></div></div></div></div></div></div></div><div class=\"sk-item\"><div class=\"sk-estimator sk-toggleable\"><input class=\"sk-toggleable__control sk-hidden--visually\" id=\"sk-estimator-id-37\" type=\"checkbox\" ><label for=\"sk-estimator-id-37\" class=\"sk-toggleable__label sk-toggleable__label-arrow\">LGBMRegressor</label><div class=\"sk-toggleable__content\"><pre>LGBMRegressor(bagging_fraction=0.7273164551370693, bagging_freq=3,\n",
              "              feature_fraction=0.8837491131044027, lambda_l1=7.8024669642264355,\n",
              "              lambda_l2=0.01490445994418236, min_child_samples=32,\n",
              "              n_estimator=100, num_leaves=35, verbose=-1)</pre></div></div></div></div></div></div></div>"
            ]
          },
          "metadata": {},
          "execution_count": 66
        }
      ]
    },
    {
      "cell_type": "markdown",
      "source": [
        "# Декілька моделей"
      ],
      "metadata": {
        "id": "PGCwWZ0cZqGQ"
      }
    },
    {
      "cell_type": "code",
      "source": [
        "from sklearn.linear_model import LinearRegression\n",
        "from sklearn.tree import DecisionTreeRegressor\n",
        "\n",
        "\n",
        "def objective(trial):\n",
        "  \"\"\"\n",
        "  Функція objective для Optuna, яка навчає модель LightGBMRegressor\n",
        "  на тренувальному наборі даних та оцінює її на тестовому наборі.\n",
        "\n",
        "  Args:\n",
        "      trial (optuna.Trial): Об'єкт Optuna, що представляє один набір гіперпараметрів.\n",
        "\n",
        "  Returns:\n",
        "      float: Значення метрики оцінки (R2).\n",
        "  \"\"\"\n",
        "\n",
        "  model_type = trial.suggest_categorical(\"model_type\", ['LinReg', 'DT', 'LGBM'])\n",
        "\n",
        "  if model_type == 'LinReg':\n",
        "    model = LinearRegression()\n",
        "\n",
        "  elif model_type == 'DT':\n",
        "    model = DecisionTreeRegressor(\n",
        "        max_depth = trial.suggest_int('max_depth', 2, 12),\n",
        "        min_samples_leaf = trial.suggest_int('min_samples_leaf', 5, 100)\n",
        "    )\n",
        "\n",
        "  elif model_type == 'LGBM':\n",
        "    model = lgb.LGBMRegressor(\n",
        "        objective = 'mse',\n",
        "        verbose=-1,\n",
        "        boosting_type=trial.suggest_categorical('boosting_type', ['gbdt', 'dart']),\n",
        "        lambda_l1 = trial.suggest_float('lambda_l1', 1e-8, 10.0, log=True),\n",
        "        lambda_l2 = trial.suggest_float('lambda_l2', 1e-8, 10.0, log=True),\n",
        "        num_leaves = trial.suggest_int('num_leaves', 2, 256),\n",
        "        feature_fraction = trial.suggest_float('feature_fraction', 0.4, 1.0),\n",
        "        bagging_fraction = trial.suggest_float('bagging_fraction', 0.4, 1.0),\n",
        "        bagging_freq = trial.suggest_int('bagging_freq', 1, 7),\n",
        "        min_child_samples = trial.suggest_int('min_child_samples', 5, 100),\n",
        "\n",
        "\n",
        "    )\n",
        "\n",
        "  # Навчання моделі на тренувальному наборі даних:\n",
        "\n",
        "  model.fit(X_train, y_train)\n",
        "\n",
        "  # Оцінка моделі на тестовому наборі даних:\n",
        "\n",
        "  y_pred = model.predict(X_val)\n",
        "  r2 = metrics.r2_score(y_val, y_pred)\n",
        "\n",
        "  # Повернення значення метрики:\n",
        "  return r2"
      ],
      "metadata": {
        "id": "AamlugkNKMzl"
      },
      "execution_count": null,
      "outputs": []
    },
    {
      "cell_type": "code",
      "source": [
        "study = optuna.create_study(direction='maximize')\n",
        "study.optimize(objective, n_trials=100)"
      ],
      "metadata": {
        "id": "1FTVz6w0RlYW",
        "outputId": "8596a4d9-8acb-4033-bbb5-56f51095adb7",
        "colab": {
          "base_uri": "https://localhost:8080/"
        }
      },
      "execution_count": null,
      "outputs": [
        {
          "output_type": "stream",
          "name": "stderr",
          "text": [
            "[I 2024-03-20 19:13:26,908] A new study created in memory with name: no-name-d98eb5d2-eaf9-46b0-8acb-2655ca314623\n",
            "[I 2024-03-20 19:13:27,079] Trial 0 finished with value: 0.9377142338857968 and parameters: {'model_type': 'DT', 'max_depth': 7, 'min_samples_leaf': 71}. Best is trial 0 with value: 0.9377142338857968.\n",
            "[I 2024-03-20 19:13:27,188] Trial 1 finished with value: 0.9209761589713307 and parameters: {'model_type': 'LinReg'}. Best is trial 0 with value: 0.9377142338857968.\n",
            "[I 2024-03-20 19:13:27,315] Trial 2 finished with value: 0.9209761589713307 and parameters: {'model_type': 'LinReg'}. Best is trial 0 with value: 0.9377142338857968.\n",
            "[I 2024-03-20 19:13:27,578] Trial 3 finished with value: 0.96121494049965 and parameters: {'model_type': 'DT', 'max_depth': 11, 'min_samples_leaf': 61}. Best is trial 3 with value: 0.96121494049965.\n",
            "[I 2024-03-20 19:13:29,314] Trial 4 finished with value: 0.9801969171958171 and parameters: {'model_type': 'LGBM', 'boosting_type': 'gbdt', 'lambda_l1': 0.6535690439322172, 'lambda_l2': 9.48961287855889e-06, 'num_leaves': 163, 'feature_fraction': 0.6304254422541403, 'bagging_fraction': 0.7000335997821981, 'bagging_freq': 7, 'min_child_samples': 16}. Best is trial 4 with value: 0.9801969171958171.\n",
            "[I 2024-03-20 19:13:29,469] Trial 5 finished with value: 0.9395738612532942 and parameters: {'model_type': 'DT', 'max_depth': 7, 'min_samples_leaf': 66}. Best is trial 4 with value: 0.9801969171958171.\n",
            "[I 2024-03-20 19:13:29,648] Trial 6 finished with value: 0.9501001071425283 and parameters: {'model_type': 'DT', 'max_depth': 8, 'min_samples_leaf': 36}. Best is trial 4 with value: 0.9801969171958171.\n",
            "[I 2024-03-20 19:13:29,721] Trial 7 finished with value: 0.9209761589713307 and parameters: {'model_type': 'LinReg'}. Best is trial 4 with value: 0.9801969171958171.\n",
            "[I 2024-03-20 19:13:29,970] Trial 8 finished with value: 0.9503943040925341 and parameters: {'model_type': 'DT', 'max_depth': 8, 'min_samples_leaf': 28}. Best is trial 4 with value: 0.9801969171958171.\n",
            "[I 2024-03-20 19:13:30,147] Trial 9 finished with value: 0.9500687481055233 and parameters: {'model_type': 'DT', 'max_depth': 8, 'min_samples_leaf': 8}. Best is trial 4 with value: 0.9801969171958171.\n",
            "[I 2024-03-20 19:13:31,611] Trial 10 finished with value: 0.9805234066702475 and parameters: {'model_type': 'LGBM', 'boosting_type': 'gbdt', 'lambda_l1': 2.766753696660241, 'lambda_l2': 4.7874022088458535e-06, 'num_leaves': 175, 'feature_fraction': 0.621861627356615, 'bagging_fraction': 0.6966975720851937, 'bagging_freq': 7, 'min_child_samples': 8}. Best is trial 10 with value: 0.9805234066702475.\n",
            "[I 2024-03-20 19:13:32,612] Trial 11 finished with value: 0.9804727684680682 and parameters: {'model_type': 'LGBM', 'boosting_type': 'gbdt', 'lambda_l1': 4.6284294289871815, 'lambda_l2': 2.831999966154204e-06, 'num_leaves': 177, 'feature_fraction': 0.5943243114995554, 'bagging_fraction': 0.6900975731717102, 'bagging_freq': 7, 'min_child_samples': 6}. Best is trial 10 with value: 0.9805234066702475.\n",
            "[I 2024-03-20 19:13:33,635] Trial 12 finished with value: 0.980440591554945 and parameters: {'model_type': 'LGBM', 'boosting_type': 'gbdt', 'lambda_l1': 5.015858976570704, 'lambda_l2': 7.941361440132478e-07, 'num_leaves': 188, 'feature_fraction': 0.5875087826529817, 'bagging_fraction': 0.7017796085166841, 'bagging_freq': 7, 'min_child_samples': 5}. Best is trial 10 with value: 0.9805234066702475.\n",
            "[I 2024-03-20 19:13:34,744] Trial 13 finished with value: 0.9767413557176851 and parameters: {'model_type': 'LGBM', 'boosting_type': 'gbdt', 'lambda_l1': 1.873791617628789e-07, 'lambda_l2': 0.0007318589716775093, 'num_leaves': 177, 'feature_fraction': 0.5722501568603963, 'bagging_fraction': 0.45039857013621953, 'bagging_freq': 6, 'min_child_samples': 88}. Best is trial 10 with value: 0.9805234066702475.\n",
            "[I 2024-03-20 19:13:35,787] Trial 14 finished with value: 0.9456851798685236 and parameters: {'model_type': 'LGBM', 'boosting_type': 'dart', 'lambda_l1': 0.059501985108010795, 'lambda_l2': 7.445615676955109, 'num_leaves': 15, 'feature_fraction': 0.9058470288552033, 'bagging_fraction': 0.8391080630338186, 'bagging_freq': 2, 'min_child_samples': 32}. Best is trial 10 with value: 0.9805234066702475.\n",
            "[I 2024-03-20 19:13:36,664] Trial 15 finished with value: 0.9770905198758311 and parameters: {'model_type': 'LGBM', 'boosting_type': 'gbdt', 'lambda_l1': 0.0010338308484343275, 'lambda_l2': 1.0230156868821503e-08, 'num_leaves': 94, 'feature_fraction': 0.44012535942976644, 'bagging_fraction': 0.5444377683332816, 'bagging_freq': 4, 'min_child_samples': 53}. Best is trial 10 with value: 0.9805234066702475.\n",
            "[I 2024-03-20 19:13:38,604] Trial 16 finished with value: 0.9806547586790642 and parameters: {'model_type': 'LGBM', 'boosting_type': 'gbdt', 'lambda_l1': 0.01985077960188393, 'lambda_l2': 0.0004815750503358479, 'num_leaves': 247, 'feature_fraction': 0.7955080397946046, 'bagging_fraction': 0.9907999520479989, 'bagging_freq': 5, 'min_child_samples': 36}. Best is trial 16 with value: 0.9806547586790642.\n",
            "[I 2024-03-20 19:13:42,398] Trial 17 finished with value: 0.9603187978840925 and parameters: {'model_type': 'LGBM', 'boosting_type': 'dart', 'lambda_l1': 0.0036806517524054496, 'lambda_l2': 0.004283458637589496, 'num_leaves': 252, 'feature_fraction': 0.845529342738931, 'bagging_fraction': 0.9987624158209565, 'bagging_freq': 5, 'min_child_samples': 45}. Best is trial 16 with value: 0.9806547586790642.\n",
            "[I 2024-03-20 19:13:44,730] Trial 18 finished with value: 0.9800406779768139 and parameters: {'model_type': 'LGBM', 'boosting_type': 'gbdt', 'lambda_l1': 7.190860562884462e-07, 'lambda_l2': 0.03379581664318061, 'num_leaves': 240, 'feature_fraction': 0.7573975792255825, 'bagging_fraction': 0.9729386813604464, 'bagging_freq': 4, 'min_child_samples': 68}. Best is trial 16 with value: 0.9806547586790642.\n",
            "[I 2024-03-20 19:13:45,650] Trial 19 finished with value: 0.9804023192647605 and parameters: {'model_type': 'LGBM', 'boosting_type': 'gbdt', 'lambda_l1': 1.6586916547884908e-05, 'lambda_l2': 8.08255235059364e-05, 'num_leaves': 83, 'feature_fraction': 0.7409699801340249, 'bagging_fraction': 0.7943909152442383, 'bagging_freq': 2, 'min_child_samples': 27}. Best is trial 16 with value: 0.9806547586790642.\n",
            "[I 2024-03-20 19:13:48,830] Trial 20 finished with value: 0.9584624801939748 and parameters: {'model_type': 'LGBM', 'boosting_type': 'dart', 'lambda_l1': 0.029025977229787094, 'lambda_l2': 0.07281866655396535, 'num_leaves': 223, 'feature_fraction': 0.8187907889737263, 'bagging_fraction': 0.5919835133183825, 'bagging_freq': 5, 'min_child_samples': 37}. Best is trial 16 with value: 0.9806547586790642.\n",
            "[I 2024-03-20 19:13:49,746] Trial 21 finished with value: 0.9807598470906762 and parameters: {'model_type': 'LGBM', 'boosting_type': 'gbdt', 'lambda_l1': 7.812072213122915, 'lambda_l2': 1.0363935521205549e-06, 'num_leaves': 134, 'feature_fraction': 0.494308085176434, 'bagging_fraction': 0.8379888161682849, 'bagging_freq': 7, 'min_child_samples': 5}. Best is trial 21 with value: 0.9807598470906762.\n",
            "[I 2024-03-20 19:13:50,723] Trial 22 finished with value: 0.9792707493096129 and parameters: {'model_type': 'LGBM', 'boosting_type': 'gbdt', 'lambda_l1': 0.19379537096976637, 'lambda_l2': 8.746234260749533e-08, 'num_leaves': 127, 'feature_fraction': 0.4223473823760098, 'bagging_fraction': 0.8795007680512625, 'bagging_freq': 6, 'min_child_samples': 20}. Best is trial 21 with value: 0.9807598470906762.\n",
            "[I 2024-03-20 19:13:51,632] Trial 23 finished with value: 0.9804130588185181 and parameters: {'model_type': 'LGBM', 'boosting_type': 'gbdt', 'lambda_l1': 5.822488765636787, 'lambda_l2': 3.104072213156778e-05, 'num_leaves': 105, 'feature_fraction': 0.5012284703671233, 'bagging_fraction': 0.9252768855161997, 'bagging_freq': 6, 'min_child_samples': 15}. Best is trial 21 with value: 0.9807598470906762.\n",
            "[I 2024-03-20 19:13:52,860] Trial 24 finished with value: 0.9795644342773563 and parameters: {'model_type': 'LGBM', 'boosting_type': 'gbdt', 'lambda_l1': 0.011303458726682487, 'lambda_l2': 4.07003642208465e-07, 'num_leaves': 133, 'feature_fraction': 0.677883711334891, 'bagging_fraction': 0.7648997375131258, 'bagging_freq': 5, 'min_child_samples': 59}. Best is trial 21 with value: 0.9807598470906762.\n",
            "[I 2024-03-20 19:13:52,904] Trial 25 finished with value: 0.9209761589713307 and parameters: {'model_type': 'LinReg'}. Best is trial 21 with value: 0.9807598470906762.\n",
            "[I 2024-03-20 19:13:54,545] Trial 26 finished with value: 0.9812723684251999 and parameters: {'model_type': 'LGBM', 'boosting_type': 'gbdt', 'lambda_l1': 6.326151159676754e-05, 'lambda_l2': 0.00036001788704667864, 'num_leaves': 206, 'feature_fraction': 0.9852358941019002, 'bagging_fraction': 0.897150642112035, 'bagging_freq': 3, 'min_child_samples': 5}. Best is trial 26 with value: 0.9812723684251999.\n",
            "[I 2024-03-20 19:13:56,822] Trial 27 finished with value: 0.9810287229006941 and parameters: {'model_type': 'LGBM', 'boosting_type': 'gbdt', 'lambda_l1': 6.157311951047019e-05, 'lambda_l2': 0.0006002358626001494, 'num_leaves': 206, 'feature_fraction': 0.9942902483577707, 'bagging_fraction': 0.8995160349254556, 'bagging_freq': 3, 'min_child_samples': 24}. Best is trial 26 with value: 0.9812723684251999.\n",
            "[I 2024-03-20 19:13:59,786] Trial 28 finished with value: 0.9617315790014307 and parameters: {'model_type': 'LGBM', 'boosting_type': 'dart', 'lambda_l1': 5.651874542237309e-05, 'lambda_l2': 0.0069202947678691585, 'num_leaves': 215, 'feature_fraction': 0.9820393109097189, 'bagging_fraction': 0.8991100634664397, 'bagging_freq': 3, 'min_child_samples': 24}. Best is trial 26 with value: 0.9812723684251999.\n",
            "[I 2024-03-20 19:13:59,836] Trial 29 finished with value: 0.9209761589713307 and parameters: {'model_type': 'LinReg'}. Best is trial 26 with value: 0.9812723684251999.\n",
            "[I 2024-03-20 19:14:01,040] Trial 30 finished with value: 0.9811135352692938 and parameters: {'model_type': 'LGBM', 'boosting_type': 'gbdt', 'lambda_l1': 5.279603939765622e-06, 'lambda_l2': 0.00019249993299757422, 'num_leaves': 209, 'feature_fraction': 0.9782690519425319, 'bagging_fraction': 0.8231858515414129, 'bagging_freq': 1, 'min_child_samples': 17}. Best is trial 26 with value: 0.9812723684251999.\n",
            "[I 2024-03-20 19:14:02,221] Trial 31 finished with value: 0.981399717103069 and parameters: {'model_type': 'LGBM', 'boosting_type': 'gbdt', 'lambda_l1': 6.496326285729945e-06, 'lambda_l2': 0.00021932202141408672, 'num_leaves': 204, 'feature_fraction': 0.9681145617085508, 'bagging_fraction': 0.8278666193876227, 'bagging_freq': 1, 'min_child_samples': 15}. Best is trial 31 with value: 0.981399717103069.\n",
            "[I 2024-03-20 19:14:03,394] Trial 32 finished with value: 0.981300644253444 and parameters: {'model_type': 'LGBM', 'boosting_type': 'gbdt', 'lambda_l1': 4.2565587532601855e-06, 'lambda_l2': 0.00015709328769266076, 'num_leaves': 207, 'feature_fraction': 0.9997811436778229, 'bagging_fraction': 0.78864780326389, 'bagging_freq': 1, 'min_child_samples': 17}. Best is trial 31 with value: 0.981399717103069.\n",
            "[I 2024-03-20 19:14:04,497] Trial 33 finished with value: 0.9810023329907749 and parameters: {'model_type': 'LGBM', 'boosting_type': 'gbdt', 'lambda_l1': 2.9241007729638726e-06, 'lambda_l2': 8.276685944347898e-05, 'num_leaves': 203, 'feature_fraction': 0.9233062317665469, 'bagging_fraction': 0.8073744595240497, 'bagging_freq': 1, 'min_child_samples': 15}. Best is trial 31 with value: 0.981399717103069.\n",
            "[I 2024-03-20 19:14:04,542] Trial 34 finished with value: 0.9209761589713307 and parameters: {'model_type': 'LinReg'}. Best is trial 31 with value: 0.981399717103069.\n",
            "[I 2024-03-20 19:14:05,742] Trial 35 finished with value: 0.9810899294643933 and parameters: {'model_type': 'LGBM', 'boosting_type': 'gbdt', 'lambda_l1': 1.3049381663196704e-08, 'lambda_l2': 0.00219664255886158, 'num_leaves': 225, 'feature_fraction': 0.9254227152067007, 'bagging_fraction': 0.7527934397197492, 'bagging_freq': 1, 'min_child_samples': 15}. Best is trial 31 with value: 0.981399717103069.\n",
            "[I 2024-03-20 19:14:06,984] Trial 36 finished with value: 0.9812321507052448 and parameters: {'model_type': 'LGBM', 'boosting_type': 'gbdt', 'lambda_l1': 4.188859415004468e-06, 'lambda_l2': 0.00011539069878648014, 'num_leaves': 159, 'feature_fraction': 0.9562648454869072, 'bagging_fraction': 0.8532892455297175, 'bagging_freq': 1, 'min_child_samples': 29}. Best is trial 31 with value: 0.981399717103069.\n",
            "[I 2024-03-20 19:14:07,063] Trial 37 finished with value: 0.8334625545362131 and parameters: {'model_type': 'DT', 'max_depth': 2, 'min_samples_leaf': 96}. Best is trial 31 with value: 0.981399717103069.\n",
            "[I 2024-03-20 19:14:08,964] Trial 38 finished with value: 0.980938358635957 and parameters: {'model_type': 'LGBM', 'boosting_type': 'gbdt', 'lambda_l1': 0.00024294095400840328, 'lambda_l2': 2.1668698505731988e-05, 'num_leaves': 157, 'feature_fraction': 0.8995861028910096, 'bagging_fraction': 0.9223031111651403, 'bagging_freq': 2, 'min_child_samples': 28}. Best is trial 31 with value: 0.981399717103069.\n",
            "[I 2024-03-20 19:14:09,006] Trial 39 finished with value: 0.9209761589713307 and parameters: {'model_type': 'LinReg'}. Best is trial 31 with value: 0.981399717103069.\n",
            "[I 2024-03-20 19:14:09,073] Trial 40 finished with value: 0.8334625545362131 and parameters: {'model_type': 'DT', 'max_depth': 2, 'min_samples_leaf': 100}. Best is trial 31 with value: 0.981399717103069.\n",
            "[I 2024-03-20 19:14:10,187] Trial 41 finished with value: 0.9809088328528777 and parameters: {'model_type': 'LGBM', 'boosting_type': 'gbdt', 'lambda_l1': 4.78559070966175e-06, 'lambda_l2': 0.00014299106233686757, 'num_leaves': 194, 'feature_fraction': 0.9674985704345962, 'bagging_fraction': 0.8486414538174513, 'bagging_freq': 1, 'min_child_samples': 13}. Best is trial 31 with value: 0.981399717103069.\n",
            "[I 2024-03-20 19:14:11,493] Trial 42 finished with value: 0.9809188051419121 and parameters: {'model_type': 'LGBM', 'boosting_type': 'gbdt', 'lambda_l1': 5.829071166021407e-07, 'lambda_l2': 0.0001615573460028717, 'num_leaves': 229, 'feature_fraction': 0.9496503369910587, 'bagging_fraction': 0.7673205344886227, 'bagging_freq': 1, 'min_child_samples': 20}. Best is trial 31 with value: 0.981399717103069.\n",
            "[I 2024-03-20 19:14:12,895] Trial 43 finished with value: 0.9810820414184165 and parameters: {'model_type': 'LGBM', 'boosting_type': 'gbdt', 'lambda_l1': 7.027934246168396e-06, 'lambda_l2': 0.0014494604570336697, 'num_leaves': 203, 'feature_fraction': 0.8637621797304607, 'bagging_fraction': 0.8562620069417067, 'bagging_freq': 2, 'min_child_samples': 10}. Best is trial 31 with value: 0.981399717103069.\n",
            "[I 2024-03-20 19:14:13,924] Trial 44 finished with value: 0.98130830915872 and parameters: {'model_type': 'LGBM', 'boosting_type': 'gbdt', 'lambda_l1': 3.9247917800722824e-05, 'lambda_l2': 0.0166357366013182, 'num_leaves': 149, 'feature_fraction': 0.9938522685206772, 'bagging_fraction': 0.8098371900562166, 'bagging_freq': 1, 'min_child_samples': 21}. Best is trial 31 with value: 0.981399717103069.\n",
            "[I 2024-03-20 19:14:15,458] Trial 45 finished with value: 0.9813499919928105 and parameters: {'model_type': 'LGBM', 'boosting_type': 'gbdt', 'lambda_l1': 5.087637308148142e-05, 'lambda_l2': 0.027699342139316754, 'num_leaves': 140, 'feature_fraction': 0.9962328591200766, 'bagging_fraction': 0.9362235530397103, 'bagging_freq': 2, 'min_child_samples': 43}. Best is trial 31 with value: 0.981399717103069.\n",
            "[I 2024-03-20 19:14:15,630] Trial 46 finished with value: 0.9643203411736389 and parameters: {'model_type': 'DT', 'max_depth': 11, 'min_samples_leaf': 42}. Best is trial 31 with value: 0.981399717103069.\n",
            "[I 2024-03-20 19:14:16,620] Trial 47 finished with value: 0.9812106822829647 and parameters: {'model_type': 'LGBM', 'boosting_type': 'gbdt', 'lambda_l1': 0.00010256675455694498, 'lambda_l2': 0.15922327898585514, 'num_leaves': 63, 'feature_fraction': 0.99642021759965, 'bagging_fraction': 0.9421009398720355, 'bagging_freq': 3, 'min_child_samples': 44}. Best is trial 31 with value: 0.981399717103069.\n",
            "[I 2024-03-20 19:14:18,050] Trial 48 finished with value: 0.9799197552251376 and parameters: {'model_type': 'LGBM', 'boosting_type': 'gbdt', 'lambda_l1': 2.43186397274937e-05, 'lambda_l2': 0.5245526611315774, 'num_leaves': 159, 'feature_fraction': 0.8826002096261277, 'bagging_fraction': 0.7290328890859952, 'bagging_freq': 2, 'min_child_samples': 76}. Best is trial 31 with value: 0.981399717103069.\n",
            "[I 2024-03-20 19:14:21,531] Trial 49 finished with value: 0.9602446838945307 and parameters: {'model_type': 'LGBM', 'boosting_type': 'dart', 'lambda_l1': 0.00026486346152241756, 'lambda_l2': 0.008719076168132792, 'num_leaves': 142, 'feature_fraction': 0.9385196509498156, 'bagging_fraction': 0.9560541898493146, 'bagging_freq': 2, 'min_child_samples': 41}. Best is trial 31 with value: 0.981399717103069.\n",
            "[I 2024-03-20 19:14:23,036] Trial 50 finished with value: 0.979307252615147 and parameters: {'model_type': 'LGBM', 'boosting_type': 'gbdt', 'lambda_l1': 0.0009431371968344935, 'lambda_l2': 0.027231330384110755, 'num_leaves': 185, 'feature_fraction': 0.9988627341012603, 'bagging_fraction': 0.6490038614225987, 'bagging_freq': 3, 'min_child_samples': 100}. Best is trial 31 with value: 0.981399717103069.\n",
            "[I 2024-03-20 19:14:23,998] Trial 51 finished with value: 0.9809728732655868 and parameters: {'model_type': 'LGBM', 'boosting_type': 'gbdt', 'lambda_l1': 1.2189905302606478e-06, 'lambda_l2': 2.8744738441898986e-05, 'num_leaves': 153, 'feature_fraction': 0.9553295356670902, 'bagging_fraction': 0.8736778728290251, 'bagging_freq': 1, 'min_child_samples': 30}. Best is trial 31 with value: 0.981399717103069.\n",
            "[I 2024-03-20 19:14:24,900] Trial 52 finished with value: 0.9815815358389064 and parameters: {'model_type': 'LGBM', 'boosting_type': 'gbdt', 'lambda_l1': 1.6688625500235002e-05, 'lambda_l2': 8.257619647020254e-06, 'num_leaves': 116, 'feature_fraction': 0.9447149663483236, 'bagging_fraction': 0.7932792933016113, 'bagging_freq': 1, 'min_child_samples': 10}. Best is trial 52 with value: 0.9815815358389064.\n",
            "[I 2024-03-20 19:14:25,708] Trial 53 finished with value: 0.9814609586134784 and parameters: {'model_type': 'LGBM', 'boosting_type': 'gbdt', 'lambda_l1': 1.942046773356329e-05, 'lambda_l2': 8.16450390614757e-06, 'num_leaves': 108, 'feature_fraction': 0.9249587565233651, 'bagging_fraction': 0.7861720799369003, 'bagging_freq': 1, 'min_child_samples': 10}. Best is trial 52 with value: 0.9815815358389064.\n",
            "[I 2024-03-20 19:14:26,528] Trial 54 finished with value: 0.9812592794668697 and parameters: {'model_type': 'LGBM', 'boosting_type': 'gbdt', 'lambda_l1': 1.7646673064755877e-05, 'lambda_l2': 6.820324320703226e-06, 'num_leaves': 111, 'feature_fraction': 0.9217895907072655, 'bagging_fraction': 0.7851684113670568, 'bagging_freq': 1, 'min_child_samples': 11}. Best is trial 52 with value: 0.9815815358389064.\n",
            "[I 2024-03-20 19:14:27,261] Trial 55 finished with value: 0.98112396620425 and parameters: {'model_type': 'LGBM', 'boosting_type': 'gbdt', 'lambda_l1': 2.0662301592240986e-07, 'lambda_l2': 1.2777704684005931e-05, 'num_leaves': 76, 'feature_fraction': 0.8969570447815988, 'bagging_fraction': 0.7268979645806957, 'bagging_freq': 1, 'min_child_samples': 19}. Best is trial 52 with value: 0.9815815358389064.\n",
            "[I 2024-03-20 19:14:28,239] Trial 56 finished with value: 0.980914433595249 and parameters: {'model_type': 'LGBM', 'boosting_type': 'gbdt', 'lambda_l1': 1.8561267586856716e-05, 'lambda_l2': 2.777703256521726e-06, 'num_leaves': 112, 'feature_fraction': 0.9403810584923871, 'bagging_fraction': 0.6623550744601845, 'bagging_freq': 2, 'min_child_samples': 11}. Best is trial 52 with value: 0.9815815358389064.\n",
            "[I 2024-03-20 19:14:28,326] Trial 57 finished with value: 0.8997911189066929 and parameters: {'model_type': 'DT', 'max_depth': 4, 'min_samples_leaf': 6}. Best is trial 52 with value: 0.9815815358389064.\n",
            "[I 2024-03-20 19:14:28,368] Trial 58 finished with value: 0.9209761589713307 and parameters: {'model_type': 'LinReg'}. Best is trial 52 with value: 0.9815815358389064.\n",
            "[I 2024-03-20 19:14:29,426] Trial 59 finished with value: 0.9803488137833776 and parameters: {'model_type': 'LGBM', 'boosting_type': 'gbdt', 'lambda_l1': 0.0008154476014578175, 'lambda_l2': 2.838442488358915e-06, 'num_leaves': 174, 'feature_fraction': 0.8628918578039043, 'bagging_fraction': 0.808490422521101, 'bagging_freq': 1, 'min_child_samples': 23}. Best is trial 52 with value: 0.9815815358389064.\n",
            "[I 2024-03-20 19:14:30,161] Trial 60 finished with value: 0.9813283293916155 and parameters: {'model_type': 'LGBM', 'boosting_type': 'gbdt', 'lambda_l1': 1.5991062596736332e-06, 'lambda_l2': 1.1189847830775692, 'num_leaves': 54, 'feature_fraction': 0.9588016992344248, 'bagging_fraction': 0.7279281492787091, 'bagging_freq': 2, 'min_child_samples': 8}. Best is trial 52 with value: 0.9815815358389064.\n",
            "[I 2024-03-20 19:14:30,786] Trial 61 finished with value: 0.9804239393401545 and parameters: {'model_type': 'LGBM', 'boosting_type': 'gbdt', 'lambda_l1': 9.492045781627551e-07, 'lambda_l2': 2.463592698716956, 'num_leaves': 23, 'feature_fraction': 0.9618580591021895, 'bagging_fraction': 0.7293096281229087, 'bagging_freq': 2, 'min_child_samples': 9}. Best is trial 52 with value: 0.9815815358389064.\n",
            "[I 2024-03-20 19:14:31,463] Trial 62 finished with value: 0.9812621334347152 and parameters: {'model_type': 'LGBM', 'boosting_type': 'gbdt', 'lambda_l1': 9.970553556301128e-06, 'lambda_l2': 0.5629213933996383, 'num_leaves': 46, 'feature_fraction': 0.9639503953204108, 'bagging_fraction': 0.6907049312285415, 'bagging_freq': 1, 'min_child_samples': 9}. Best is trial 52 with value: 0.9815815358389064.\n",
            "[I 2024-03-20 19:14:32,752] Trial 63 finished with value: 0.9803451682759072 and parameters: {'model_type': 'LGBM', 'boosting_type': 'gbdt', 'lambda_l1': 1.7663235405151917e-07, 'lambda_l2': 0.7623630183539556, 'num_leaves': 51, 'feature_fraction': 0.9257731047087882, 'bagging_fraction': 0.7785433474140305, 'bagging_freq': 2, 'min_child_samples': 51}. Best is trial 52 with value: 0.9815815358389064.\n",
            "[I 2024-03-20 19:14:35,233] Trial 64 finished with value: 0.9545276267788717 and parameters: {'model_type': 'LGBM', 'boosting_type': 'dart', 'lambda_l1': 3.0680619449261936e-05, 'lambda_l2': 7.724515072697295, 'num_leaves': 121, 'feature_fraction': 0.9974748420001273, 'bagging_fraction': 0.7469487901718688, 'bagging_freq': 1, 'min_child_samples': 5}. Best is trial 52 with value: 0.9815815358389064.\n",
            "[I 2024-03-20 19:14:36,015] Trial 65 finished with value: 0.9810283975776558 and parameters: {'model_type': 'LGBM', 'boosting_type': 'gbdt', 'lambda_l1': 2.4333341200592904e-06, 'lambda_l2': 0.019370719120626986, 'num_leaves': 92, 'feature_fraction': 0.8925686182572499, 'bagging_fraction': 0.8181927921443627, 'bagging_freq': 1, 'min_child_samples': 19}. Best is trial 52 with value: 0.9815815358389064.\n",
            "[I 2024-03-20 19:14:37,332] Trial 66 finished with value: 0.9801134176205923 and parameters: {'model_type': 'LGBM', 'boosting_type': 'gbdt', 'lambda_l1': 0.00013000908640706474, 'lambda_l2': 0.0012401355083826663, 'num_leaves': 146, 'feature_fraction': 0.9469248185229417, 'bagging_fraction': 0.41576403043368176, 'bagging_freq': 2, 'min_child_samples': 36}. Best is trial 52 with value: 0.9815815358389064.\n",
            "[I 2024-03-20 19:14:38,146] Trial 67 finished with value: 0.9807491891401421 and parameters: {'model_type': 'LGBM', 'boosting_type': 'gbdt', 'lambda_l1': 2.8841278936025347e-07, 'lambda_l2': 0.09941407264737781, 'num_leaves': 96, 'feature_fraction': 0.827358811952268, 'bagging_fraction': 0.6615228002377145, 'bagging_freq': 1, 'min_child_samples': 15}. Best is trial 52 with value: 0.9815815358389064.\n",
            "[I 2024-03-20 19:14:39,605] Trial 68 finished with value: 0.9809050577733809 and parameters: {'model_type': 'LGBM', 'boosting_type': 'gbdt', 'lambda_l1': 1.750234537215663e-06, 'lambda_l2': 5.398418727106614e-05, 'num_leaves': 171, 'feature_fraction': 0.9105422287095984, 'bagging_fraction': 0.7876142235378225, 'bagging_freq': 2, 'min_child_samples': 23}. Best is trial 52 with value: 0.9815815358389064.\n",
            "[I 2024-03-20 19:14:40,463] Trial 69 finished with value: 0.9801384165769657 and parameters: {'model_type': 'LGBM', 'boosting_type': 'gbdt', 'lambda_l1': 1.0678156869322413e-05, 'lambda_l2': 2.0286276545062454, 'num_leaves': 118, 'feature_fraction': 0.6607986071150301, 'bagging_fraction': 0.7068268150187639, 'bagging_freq': 1, 'min_child_samples': 33}. Best is trial 52 with value: 0.9815815358389064.\n",
            "[I 2024-03-20 19:14:40,518] Trial 70 finished with value: 0.9209761589713307 and parameters: {'model_type': 'LinReg'}. Best is trial 52 with value: 0.9815815358389064.\n",
            "[I 2024-03-20 19:14:41,958] Trial 71 finished with value: 0.9810078678471476 and parameters: {'model_type': 'LGBM', 'boosting_type': 'gbdt', 'lambda_l1': 4.765572320074992e-05, 'lambda_l2': 0.003506919766957779, 'num_leaves': 185, 'feature_fraction': 0.9784446220137639, 'bagging_fraction': 0.8936925580923925, 'bagging_freq': 3, 'min_child_samples': 5}. Best is trial 52 with value: 0.9815815358389064.\n",
            "[I 2024-03-20 19:14:42,271] Trial 72 finished with value: 0.9363667660571019 and parameters: {'model_type': 'LGBM', 'boosting_type': 'gbdt', 'lambda_l1': 0.00010990621344017066, 'lambda_l2': 0.00030276166385982185, 'num_leaves': 3, 'feature_fraction': 0.9708588050238932, 'bagging_fraction': 0.8259636220746689, 'bagging_freq': 4, 'min_child_samples': 7}. Best is trial 52 with value: 0.9815815358389064.\n",
            "[I 2024-03-20 19:14:43,481] Trial 73 finished with value: 0.9811117950214963 and parameters: {'model_type': 'LGBM', 'boosting_type': 'gbdt', 'lambda_l1': 3.732087902636725e-05, 'lambda_l2': 7.896973873298943e-07, 'num_leaves': 139, 'feature_fraction': 0.9772398245231708, 'bagging_fraction': 0.8677784834168429, 'bagging_freq': 3, 'min_child_samples': 12}. Best is trial 52 with value: 0.9815815358389064.\n",
            "[I 2024-03-20 19:14:47,338] Trial 74 finished with value: 0.9618870706138151 and parameters: {'model_type': 'LGBM', 'boosting_type': 'dart', 'lambda_l1': 0.0005251268417294457, 'lambda_l2': 0.0003201426207117479, 'num_leaves': 239, 'feature_fraction': 0.9969459283234269, 'bagging_fraction': 0.7955486104835946, 'bagging_freq': 2, 'min_child_samples': 8}. Best is trial 52 with value: 0.9815815358389064.\n",
            "[I 2024-03-20 19:14:48,467] Trial 75 finished with value: 0.9808642259841005 and parameters: {'model_type': 'LGBM', 'boosting_type': 'gbdt', 'lambda_l1': 0.0022434017398965714, 'lambda_l2': 1.0992647345311049e-07, 'num_leaves': 127, 'feature_fraction': 0.9324582634192566, 'bagging_fraction': 0.831556638358903, 'bagging_freq': 4, 'min_child_samples': 17}. Best is trial 52 with value: 0.9815815358389064.\n",
            "[I 2024-03-20 19:14:49,604] Trial 76 finished with value: 0.9804239164752669 and parameters: {'model_type': 'LGBM', 'boosting_type': 'gbdt', 'lambda_l1': 6.339188068719176e-08, 'lambda_l2': 1.0594461829086393e-05, 'num_leaves': 193, 'feature_fraction': 0.7890881548184813, 'bagging_fraction': 0.9230288218422739, 'bagging_freq': 1, 'min_child_samples': 64}. Best is trial 52 with value: 0.9815815358389064.\n",
            "[I 2024-03-20 19:14:49,704] Trial 77 finished with value: 0.9147086580025543 and parameters: {'model_type': 'DT', 'max_depth': 5, 'min_samples_leaf': 80}. Best is trial 52 with value: 0.9815815358389064.\n",
            "[I 2024-03-20 19:14:50,731] Trial 78 finished with value: 0.9812111843826065 and parameters: {'model_type': 'LGBM', 'boosting_type': 'gbdt', 'lambda_l1': 1.4598023339804993, 'lambda_l2': 0.012634877377475894, 'num_leaves': 100, 'feature_fraction': 0.9745058713007584, 'bagging_fraction': 0.7536821048356761, 'bagging_freq': 2, 'min_child_samples': 14}. Best is trial 52 with value: 0.9815815358389064.\n",
            "[I 2024-03-20 19:14:52,019] Trial 79 finished with value: 0.9811119683274488 and parameters: {'model_type': 'LGBM', 'boosting_type': 'gbdt', 'lambda_l1': 1.0276872058378127e-05, 'lambda_l2': 0.0006024038198237822, 'num_leaves': 219, 'feature_fraction': 0.8765468355015646, 'bagging_fraction': 0.8856145322560716, 'bagging_freq': 1, 'min_child_samples': 25}. Best is trial 52 with value: 0.9815815358389064.\n",
            "[I 2024-03-20 19:14:52,744] Trial 80 finished with value: 0.9813790450256588 and parameters: {'model_type': 'LGBM', 'boosting_type': 'gbdt', 'lambda_l1': 3.4113475831331495e-06, 'lambda_l2': 0.19282680909588204, 'num_leaves': 80, 'feature_fraction': 0.9498914096147785, 'bagging_fraction': 0.9792708800681301, 'bagging_freq': 1, 'min_child_samples': 21}. Best is trial 52 with value: 0.9815815358389064.\n",
            "[I 2024-03-20 19:14:53,446] Trial 81 finished with value: 0.9810425235569223 and parameters: {'model_type': 'LGBM', 'boosting_type': 'gbdt', 'lambda_l1': 3.794031306241194e-06, 'lambda_l2': 0.17765118428424073, 'num_leaves': 76, 'feature_fraction': 0.7277721413969589, 'bagging_fraction': 0.9891071306247875, 'bagging_freq': 1, 'min_child_samples': 19}. Best is trial 52 with value: 0.9815815358389064.\n",
            "[I 2024-03-20 19:14:53,976] Trial 82 finished with value: 0.981515336696447 and parameters: {'model_type': 'LGBM', 'boosting_type': 'gbdt', 'lambda_l1': 7.065811085196233e-05, 'lambda_l2': 0.04265674847295526, 'num_leaves': 35, 'feature_fraction': 0.9469283711672962, 'bagging_fraction': 0.9601434092459833, 'bagging_freq': 1, 'min_child_samples': 12}. Best is trial 52 with value: 0.9815815358389064.\n",
            "[I 2024-03-20 19:14:54,544] Trial 83 finished with value: 0.980778473850265 and parameters: {'model_type': 'LGBM', 'boosting_type': 'gbdt', 'lambda_l1': 2.212959488616717e-06, 'lambda_l2': 0.2845574009414456, 'num_leaves': 39, 'feature_fraction': 0.910201201168384, 'bagging_fraction': 0.9511545247284919, 'bagging_freq': 1, 'min_child_samples': 22}. Best is trial 52 with value: 0.9815815358389064.\n",
            "[I 2024-03-20 19:14:55,088] Trial 84 finished with value: 0.9812027863057158 and parameters: {'model_type': 'LGBM', 'boosting_type': 'gbdt', 'lambda_l1': 7.947972998132055e-06, 'lambda_l2': 0.07041996732906118, 'num_leaves': 31, 'feature_fraction': 0.9476688990703211, 'bagging_fraction': 0.9756749105845058, 'bagging_freq': 1, 'min_child_samples': 12}. Best is trial 52 with value: 0.9815815358389064.\n",
            "[I 2024-03-20 19:14:55,769] Trial 85 finished with value: 0.9817601442565571 and parameters: {'model_type': 'LGBM', 'boosting_type': 'gbdt', 'lambda_l1': 4.862487094686425e-07, 'lambda_l2': 0.044184692830187465, 'num_leaves': 64, 'feature_fraction': 0.9575409235439124, 'bagging_fraction': 0.9953277533091963, 'bagging_freq': 1, 'min_child_samples': 17}. Best is trial 85 with value: 0.9817601442565571.\n",
            "[I 2024-03-20 19:14:56,550] Trial 86 finished with value: 0.9813582952185 and parameters: {'model_type': 'LGBM', 'boosting_type': 'gbdt', 'lambda_l1': 4.583017130092361e-07, 'lambda_l2': 0.05770304354219208, 'num_leaves': 57, 'feature_fraction': 0.9146561453762211, 'bagging_fraction': 0.9986597005036404, 'bagging_freq': 1, 'min_child_samples': 26}. Best is trial 85 with value: 0.9817601442565571.\n",
            "[I 2024-03-20 19:14:57,532] Trial 87 finished with value: 0.9812033607720388 and parameters: {'model_type': 'LGBM', 'boosting_type': 'gbdt', 'lambda_l1': 4.471264522357324e-07, 'lambda_l2': 0.04897671418504321, 'num_leaves': 61, 'feature_fraction': 0.9136308198519354, 'bagging_fraction': 0.9993250130728515, 'bagging_freq': 1, 'min_child_samples': 27}. Best is trial 85 with value: 0.9817601442565571.\n",
            "[I 2024-03-20 19:14:57,618] Trial 88 finished with value: 0.9209761589713307 and parameters: {'model_type': 'LinReg'}. Best is trial 85 with value: 0.9817601442565571.\n",
            "[I 2024-03-20 19:14:59,748] Trial 89 finished with value: 0.959318450942766 and parameters: {'model_type': 'LGBM', 'boosting_type': 'dart', 'lambda_l1': 4.3865745282206475e-08, 'lambda_l2': 0.035938031078303324, 'num_leaves': 58, 'feature_fraction': 0.9350644446277774, 'bagging_fraction': 0.9802953747164329, 'bagging_freq': 1, 'min_child_samples': 17}. Best is trial 85 with value: 0.9817601442565571.\n",
            "[I 2024-03-20 19:15:00,751] Trial 90 finished with value: 0.9795217692625854 and parameters: {'model_type': 'LGBM', 'boosting_type': 'gbdt', 'lambda_l1': 1.1027544862346625e-07, 'lambda_l2': 1.3006310613733247, 'num_leaves': 75, 'feature_fraction': 0.5316636235600243, 'bagging_fraction': 0.9631908789961071, 'bagging_freq': 2, 'min_child_samples': 49}. Best is trial 85 with value: 0.9817601442565571.\n",
            "[I 2024-03-20 19:15:01,398] Trial 91 finished with value: 0.9815696130785312 and parameters: {'model_type': 'LGBM', 'boosting_type': 'gbdt', 'lambda_l1': 1.1406949168438847e-06, 'lambda_l2': 0.2021102023137373, 'num_leaves': 84, 'feature_fraction': 0.9560940614054154, 'bagging_fraction': 0.9369862739853383, 'bagging_freq': 1, 'min_child_samples': 13}. Best is trial 85 with value: 0.9817601442565571.\n",
            "[I 2024-03-20 19:15:02,125] Trial 92 finished with value: 0.9815666143666284 and parameters: {'model_type': 'LGBM', 'boosting_type': 'gbdt', 'lambda_l1': 1.2108843813842077e-06, 'lambda_l2': 0.1930161355852275, 'num_leaves': 88, 'feature_fraction': 0.9561943335479695, 'bagging_fraction': 0.9355469887196474, 'bagging_freq': 1, 'min_child_samples': 14}. Best is trial 85 with value: 0.9817601442565571.\n",
            "[I 2024-03-20 19:15:02,786] Trial 93 finished with value: 0.9811189365892561 and parameters: {'model_type': 'LGBM', 'boosting_type': 'gbdt', 'lambda_l1': 8.578105866896518e-07, 'lambda_l2': 0.1589583782731336, 'num_leaves': 84, 'feature_fraction': 0.9361263525101882, 'bagging_fraction': 0.9130997018013411, 'bagging_freq': 1, 'min_child_samples': 13}. Best is trial 85 with value: 0.9817601442565571.\n",
            "[I 2024-03-20 19:15:03,611] Trial 94 finished with value: 0.9809365236906125 and parameters: {'model_type': 'LGBM', 'boosting_type': 'gbdt', 'lambda_l1': 7.154982280915514e-07, 'lambda_l2': 0.08666659038661807, 'num_leaves': 85, 'feature_fraction': 0.8815428906328382, 'bagging_fraction': 0.9361092002287232, 'bagging_freq': 1, 'min_child_samples': 56}. Best is trial 85 with value: 0.9817601442565571.\n",
            "[I 2024-03-20 19:15:04,356] Trial 95 finished with value: 0.9812550795050397 and parameters: {'model_type': 'LGBM', 'boosting_type': 'gbdt', 'lambda_l1': 3.488217875987958e-07, 'lambda_l2': 0.2987740260650738, 'num_leaves': 105, 'feature_fraction': 0.9497022531673933, 'bagging_fraction': 0.9665018088060833, 'bagging_freq': 1, 'min_child_samples': 16}. Best is trial 85 with value: 0.9817601442565571.\n",
            "[I 2024-03-20 19:15:04,998] Trial 96 finished with value: 0.9809480163975378 and parameters: {'model_type': 'LGBM', 'boosting_type': 'gbdt', 'lambda_l1': 5.1381169332467e-06, 'lambda_l2': 0.05178738654219651, 'num_leaves': 69, 'feature_fraction': 0.9090140930856341, 'bagging_fraction': 0.9383524403267485, 'bagging_freq': 1, 'min_child_samples': 26}. Best is trial 85 with value: 0.9817601442565571.\n",
            "[I 2024-03-20 19:15:05,157] Trial 97 finished with value: 0.9710555292316105 and parameters: {'model_type': 'DT', 'max_depth': 12, 'min_samples_leaf': 18}. Best is trial 85 with value: 0.9817601442565571.\n",
            "[I 2024-03-20 19:15:05,694] Trial 98 finished with value: 0.9816541889675625 and parameters: {'model_type': 'LGBM', 'boosting_type': 'gbdt', 'lambda_l1': 1.4392143321409679e-05, 'lambda_l2': 0.005179885221239107, 'num_leaves': 43, 'feature_fraction': 0.9676046681957308, 'bagging_fraction': 0.9134288753319441, 'bagging_freq': 1, 'min_child_samples': 11}. Best is trial 85 with value: 0.9817601442565571.\n",
            "[I 2024-03-20 19:15:06,338] Trial 99 finished with value: 0.9816851162681871 and parameters: {'model_type': 'LGBM', 'boosting_type': 'gbdt', 'lambda_l1': 1.7026021827066317e-05, 'lambda_l2': 0.24067238798257157, 'num_leaves': 69, 'feature_fraction': 0.8558644353905509, 'bagging_fraction': 0.9101218608094577, 'bagging_freq': 1, 'min_child_samples': 11}. Best is trial 85 with value: 0.9817601442565571.\n"
          ]
        }
      ]
    },
    {
      "cell_type": "code",
      "source": [
        "study.best_value"
      ],
      "metadata": {
        "id": "PxeLyZhZUz9e",
        "outputId": "58705f71-5ab9-4281-dfaf-d78cdd5a4124",
        "colab": {
          "base_uri": "https://localhost:8080/"
        }
      },
      "execution_count": null,
      "outputs": [
        {
          "output_type": "execute_result",
          "data": {
            "text/plain": [
              "0.9817601442565571"
            ]
          },
          "metadata": {},
          "execution_count": 76
        }
      ]
    },
    {
      "cell_type": "code",
      "source": [
        "study.best_params"
      ],
      "metadata": {
        "id": "UssPVBQ_R9Jf",
        "outputId": "2b2c0078-82f4-49e8-af4c-4bfb6446847a",
        "colab": {
          "base_uri": "https://localhost:8080/"
        }
      },
      "execution_count": null,
      "outputs": [
        {
          "output_type": "execute_result",
          "data": {
            "text/plain": [
              "{'model_type': 'LGBM',\n",
              " 'boosting_type': 'gbdt',\n",
              " 'lambda_l1': 4.862487094686425e-07,\n",
              " 'lambda_l2': 0.044184692830187465,\n",
              " 'num_leaves': 64,\n",
              " 'feature_fraction': 0.9575409235439124,\n",
              " 'bagging_fraction': 0.9953277533091963,\n",
              " 'bagging_freq': 1,\n",
              " 'min_child_samples': 17}"
            ]
          },
          "metadata": {},
          "execution_count": 75
        }
      ]
    },
    {
      "cell_type": "markdown",
      "source": [
        "# Додатково(оптимізація по декільком метрикам)\n",
        "\n",
        "Optuna дозволяє шукати гіперпараметри, які оптимізують не одну, а одразу декілька метрик.\n",
        "\n",
        "Для цього потрібно внести дві зміни:\n",
        "* objective повинна повертати список значень\n",
        "* optuna.create_study потрібно вказати параметр directions зі списком напрямків для кожної метрики"
      ],
      "metadata": {
        "id": "z5k5GjR6wei9"
      }
    },
    {
      "cell_type": "code",
      "source": [
        "def objective(trial):\n",
        "  \"\"\"\n",
        "  Функція objective для Optuna, яка навчає модель LightGBMRegressor\n",
        "  на тренувальному наборі даних та оцінює її на тестовому наборі.\n",
        "\n",
        "  Args:\n",
        "      trial (optuna.Trial): Об'єкт Optuna, що представляє один набір гіперпараметрів.\n",
        "\n",
        "  Returns:\n",
        "      float: Значення метрики оцінки (R2).\n",
        "  \"\"\"\n",
        "\n",
        "  # 1. Визначення гіперпараметрів:\n",
        "\n",
        "  params = {\n",
        "        \"objective\": \"mse\",\n",
        "        \"verbosity\": -1,\n",
        "        \"n_estimators\": 30,\n",
        "        \"boosting_type\": trial.suggest_categorical(\"boosting_type\", [\"gbdt\", \"dart\"]),\n",
        "        'learning_rate': trial.suggest_float('learning_rate', 1e-8, 1.0, log=True),\n",
        "        \"lambda_l1\": trial.suggest_float(\"lambda_l1\", 1e-8, 10.0, log=True),\n",
        "        \"lambda_l2\": trial.suggest_float(\"lambda_l2\", 1e-8, 10.0, log=True),\n",
        "        \"num_leaves\": trial.suggest_int(\"num_leaves\", 2, 256),\n",
        "        \"feature_fraction\": trial.suggest_float(\"feature_fraction\", 0.4, 1.0),\n",
        "        \"bagging_fraction\": trial.suggest_float(\"bagging_fraction\", 0.4, 1.0),\n",
        "        \"bagging_freq\": trial.suggest_int(\"bagging_freq\", 1, 7),\n",
        "        \"min_child_samples\": trial.suggest_int(\"min_child_samples\", 5, 100),\n",
        "  }\n",
        "\n",
        "  # 2. Створення моделі LightGBMRegressor:\n",
        "\n",
        "  model = lgb.LGBMRegressor(**params)\n",
        "\n",
        "  # 3. Навчання моделі на тренувальному наборі даних:\n",
        "\n",
        "  model.fit(X_train, y_train)\n",
        "\n",
        "  # 4. Оцінка моделі на тестовому наборі даних:\n",
        "\n",
        "  y_pred = model.predict(X_val)\n",
        "\n",
        "  r2 = metrics.r2_score(y_val, y_pred)\n",
        "  mae = metrics.mean_absolute_error(y_val, y_pred)\n",
        "  rmse = metrics.mean_squared_error(y_val, y_pred) ** 0.5\n",
        "\n",
        "\n",
        "  # 5. Повернення значення метрики:\n",
        "  return r2, mae, rmse"
      ],
      "metadata": {
        "id": "j4vZncPMwyf-"
      },
      "execution_count": null,
      "outputs": []
    },
    {
      "cell_type": "code",
      "source": [
        "study = optuna.create_study(directions=['maximize', 'minimize', 'minimize'])\n",
        "study.optimize(objective, n_trials=100)"
      ],
      "metadata": {
        "id": "FDEWsYA7y07u"
      },
      "execution_count": null,
      "outputs": []
    },
    {
      "cell_type": "markdown",
      "source": [
        "Після оптимізації замість параметру `best_params` буде `best_trials` зі списком найкращих наборів гіперпараметрів"
      ],
      "metadata": {
        "id": "Jl4ot-Y6zXMw"
      }
    },
    {
      "cell_type": "code",
      "source": [
        "len(study.best_trials)"
      ],
      "metadata": {
        "id": "KuIaTARPzF3Y"
      },
      "execution_count": null,
      "outputs": []
    },
    {
      "cell_type": "code",
      "source": [
        "data = pd.DataFrame([trial.values for trial in study.best_trials],\n",
        "                    columns=['r2', 'mae', 'rmse'])\n",
        "\n",
        "data"
      ],
      "metadata": {
        "id": "-6nw8bGO0Uw2"
      },
      "execution_count": null,
      "outputs": []
    },
    {
      "cell_type": "code",
      "source": [
        "best_params = study.best_trials[0].params"
      ],
      "metadata": {
        "id": "xv3xqV3bzQjo"
      },
      "execution_count": null,
      "outputs": []
    },
    {
      "cell_type": "code",
      "source": [
        "best_params"
      ],
      "metadata": {
        "id": "n6ZIuAP2z2HL"
      },
      "execution_count": null,
      "outputs": []
    },
    {
      "cell_type": "markdown",
      "source": [
        "# Додатково(крос-валідація)"
      ],
      "metadata": {
        "id": "Bu5xnB0_5RmZ"
      }
    },
    {
      "cell_type": "markdown",
      "source": [
        "## Що таке крос-валідація\n",
        "\n",
        "Крос-валідація - це **статистичний метод**, який використовується для оцінки\n",
        "**продуктивності моделі машинного навчання**. Вона ґрунтується на\n",
        "**повторному розділенні набору даних** на кілька **підмножин** (**фолдів**)\n",
        "та **оцінці моделі на кожному з них**.\n",
        "\n",
        "Цей метод дозволяє отримати більш **точну та надійну** оцінку\n",
        "**узагальнення** моделі, тобто її здатності\n",
        "**робити правильні прогнози на нових, не бачених раніше даних**.\n",
        "\n",
        "![](https://miro.medium.com/v2/resize:fit:1200/1*AAwIlHM8TpAVe4l2FihNUQ.png)\n",
        "\n",
        "### Як працює крос-валідація?\n",
        "\n",
        "1. **Розділення даних:** Набір даних розділяється на **k**\n",
        "    **рівномірних** підмножин (**фолдів**).\n",
        "\n",
        "2. **Повторне навчання та оцінка:**\n",
        "    * Для **кожного з k фолдів**:\n",
        "        * **Навчання моделі:** Модель навчається на **об'єднанні**\n",
        "          **k-1 фолдів** (**навчальний набір**).\n",
        "        * **Оцінка моделі:** Прогнози моделі\n",
        "          робляться на **залишковому**\n",
        "          **фолді** (**тестовий набір**).\n",
        "        * **Обчислення метрики:**\n",
        "          Обчислюється метрика\n",
        "          продуктивності моделі (наприклад,\n",
        "          mse).\n",
        "\n",
        "3. **Агрегування результатів:**\n",
        "    * Обчислюється **середнє** значення\n",
        "      метрики продуктивності\n",
        "      **по всіх k фолдах**.\n",
        "\n",
        "### Переваги крос-валідації:\n",
        "\n",
        "* **Більш точна оцінка узагальнення:**\n",
        "    Крос-валідація дає більш\n",
        "    точну оцінку продуктивності\n",
        "    моделі на нових даних,\n",
        "    ніж оцінка на одному\n",
        "    тестовому наборі.\n",
        "* **Зменшення перенавчання:**\n",
        "    Допомагає виявити та\n",
        "    уникнути перенавчання\n",
        "    моделі на навчальних\n",
        "    даних.\n",
        "* **Об'єктивне порівняння моделей:**\n",
        "    Дозволяє\n",
        "    об'єктивно порівнювати\n",
        "    різні моделі машинного\n",
        "    навчання.\n",
        "\n",
        "### Варіації крос-валідації:\n",
        "\n",
        "* **Простий k-fold:** Найпростіший\n",
        "    варіант, де набір даних\n",
        "    ділиться на k однакових\n",
        "    фолдів.\n",
        "* **Stratified k-fold:** Фолди\n",
        "    формуються з урахуванням\n",
        "    розподілу цільової\n",
        "    змінної в наборі даних.\n",
        "* **Leave-one-out:** Спеціальний\n",
        "    випадок, де k = n (кількість\n",
        "    об'єктів у наборі даних),\n",
        "    і модель навчається на\n",
        "    n-1 об'єктах, а\n",
        "    оцінюється на\n",
        "    залишковому 1."
      ],
      "metadata": {
        "id": "MmX16KTs5915"
      }
    },
    {
      "cell_type": "code",
      "source": [
        "X_train, X_test, y_train, y_test = train_test_split(X, y,\n",
        "                                                    train_size=0.8,\n",
        "                                                    random_state=42)"
      ],
      "metadata": {
        "id": "UmzHCqVS3gwP"
      },
      "execution_count": null,
      "outputs": []
    },
    {
      "cell_type": "code",
      "source": [
        "X_train = preprocessor.fit_transform(X_train)\n",
        "X_test = preprocessor.transform(X_test)"
      ],
      "metadata": {
        "id": "uZSnIbSwqsDB"
      },
      "execution_count": null,
      "outputs": []
    },
    {
      "cell_type": "code",
      "source": [
        "from sklearn.model_selection import KFold\n",
        "\n",
        "\n",
        "def objective(trial):\n",
        "  \"\"\"\n",
        "  Функція objective для Optuna, яка навчає модель LightGBMRegressor\n",
        "  на тренувальному наборі даних та оцінює її на тестовому наборі.\n",
        "\n",
        "  Args:\n",
        "      trial (optuna.Trial): Об'єкт Optuna, що представляє один набір гіперпараметрів.\n",
        "\n",
        "  Returns:\n",
        "      float: Значення метрики оцінки (R2).\n",
        "  \"\"\"\n",
        "\n",
        "  # 1. Визначення гіперпараметрів:\n",
        "\n",
        "  params = {\n",
        "        \"objective\": \"mse\",\n",
        "        \"verbosity\": -1,\n",
        "        \"n_estimators\": 30,\n",
        "        \"boosting_type\": trial.suggest_categorical(\"boosting_type\", [\"gbdt\", \"dart\"]),\n",
        "        'learning_rate': trial.suggest_float('learning_rate', 1e-8, 1.0, log=True),\n",
        "        \"lambda_l1\": trial.suggest_float(\"lambda_l1\", 1e-8, 10.0, log=True),\n",
        "        \"lambda_l2\": trial.suggest_float(\"lambda_l2\", 1e-8, 10.0, log=True),\n",
        "        \"num_leaves\": trial.suggest_int(\"num_leaves\", 2, 256),\n",
        "        \"feature_fraction\": trial.suggest_float(\"feature_fraction\", 0.4, 1.0),\n",
        "        \"bagging_fraction\": trial.suggest_float(\"bagging_fraction\", 0.4, 1.0),\n",
        "        \"bagging_freq\": trial.suggest_int(\"bagging_freq\", 1, 7),\n",
        "        \"min_child_samples\": trial.suggest_int(\"min_child_samples\", 5, 100),\n",
        "  }\n",
        "\n",
        "  # 2. Створення моделі LightGBMRegressor:\n",
        "\n",
        "  model = lgb.LGBMRegressor(**params)\n",
        "\n",
        "  # 3. Навчання моделі за допомогою крос-валідації:\n",
        "\n",
        "  kf = KFold(n_splits=5, shuffle=True, random_state=42)\n",
        "\n",
        "  r2 = []\n",
        "\n",
        "  for train_index, test_index in kf.split(X_train):\n",
        "    X_train_fold, X_test_fold = X_train.iloc[train_index], X_train.iloc[test_index]\n",
        "    y_train_fold, y_test_fold = y_train.iloc[train_index], y_train.iloc[test_index]\n",
        "\n",
        "    model.fit(X_train_fold, y_train_fold)\n",
        "\n",
        "    # 4. Оцінка моделі на тестовому наборі даних:\n",
        "\n",
        "    y_pred = model.predict(X_test_fold)\n",
        "\n",
        "    r2.append(metrics.r2_score(y_test_fold, y_pred))\n",
        "\n",
        "\n",
        "  # 5. Повернення усередненої метрики:\n",
        "  return np.mean(r2)"
      ],
      "metadata": {
        "id": "xrhmOMfW6h9h"
      },
      "execution_count": null,
      "outputs": []
    },
    {
      "cell_type": "code",
      "source": [
        "study = optuna.create_study(direction='maximize')\n",
        "study.optimize(objective, n_trials=10)"
      ],
      "metadata": {
        "id": "Jmxl1j5X7T_q"
      },
      "execution_count": null,
      "outputs": []
    },
    {
      "cell_type": "code",
      "source": [
        "study.best_value"
      ],
      "metadata": {
        "id": "-mdolxCp7bPA"
      },
      "execution_count": null,
      "outputs": []
    }
  ]
}