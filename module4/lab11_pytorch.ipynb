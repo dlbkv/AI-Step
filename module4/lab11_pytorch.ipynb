{
  "nbformat": 4,
  "nbformat_minor": 0,
  "metadata": {
    "colab": {
      "provenance": [],
      "include_colab_link": true
    },
    "kernelspec": {
      "name": "python3",
      "display_name": "Python 3"
    },
    "language_info": {
      "name": "python"
    }
  },
  "cells": [
    {
      "cell_type": "markdown",
      "metadata": {
        "id": "view-in-github",
        "colab_type": "text"
      },
      "source": [
        "<a href=\"https://colab.research.google.com/github/dlbkv/AI-Step/blob/master/module4/lab11_pytorch.ipynb\" target=\"_parent\"><img src=\"https://colab.research.google.com/assets/colab-badge.svg\" alt=\"Open In Colab\"/></a>"
      ]
    },
    {
      "cell_type": "markdown",
      "source": [
        "Імпорт модулів"
      ],
      "metadata": {
        "id": "ZnHVsAJ_5Py3"
      }
    },
    {
      "cell_type": "code",
      "execution_count": null,
      "metadata": {
        "id": "yJf_g69N5LP6"
      },
      "outputs": [],
      "source": [
        "import torch\n",
        "import numpy as np"
      ]
    },
    {
      "cell_type": "markdown",
      "source": [
        "# Завдання 1\n",
        "\n",
        "Перегляньте інформацію про доступні процесори, та виведіть про них інформацію"
      ],
      "metadata": {
        "id": "pRkcTmfh6jCX"
      }
    },
    {
      "cell_type": "code",
      "source": [
        "print(torch.cuda.is_available())\n",
        "if torch.cuda.is_available():\n",
        "   print(torch.cuda.device_count())\n",
        "   print(torch.cuda.get_device_name(0))\n",
        "\n",
        "tensor = torch.tensor([12, 8, 13])\n",
        "print(tensor.device)"
      ],
      "metadata": {
        "id": "W5yEGTcV6zHy",
        "outputId": "6f3c95e2-e2db-4268-e6d6-1f6be9c4d293",
        "colab": {
          "base_uri": "https://localhost:8080/"
        }
      },
      "execution_count": null,
      "outputs": [
        {
          "output_type": "stream",
          "name": "stdout",
          "text": [
            "False\n",
            "cpu\n"
          ]
        }
      ]
    },
    {
      "cell_type": "markdown",
      "source": [
        "# Завдання 2\n",
        "Підключіть colab до процесора GPU, та знову виведіть інформацію про доступні процесори"
      ],
      "metadata": {
        "id": "xTLIVYQg6z5G"
      }
    },
    {
      "cell_type": "code",
      "source": [
        "print(torch.cuda.is_available())\n",
        "if torch.cuda.is_available():\n",
        "   print(torch.cuda.device_count())\n",
        "   print(torch.cuda.get_device_name(0))\n",
        "\n",
        "tensor = torch.tensor([12, 8, 13])\n",
        "print(tensor.device)"
      ],
      "metadata": {
        "id": "iVPWDF2D8dAM",
        "outputId": "7470f149-0cdd-4b96-f80b-a4c340f03c87",
        "colab": {
          "base_uri": "https://localhost:8080/"
        }
      },
      "execution_count": null,
      "outputs": [
        {
          "output_type": "stream",
          "name": "stdout",
          "text": [
            "False\n",
            "cpu\n"
          ]
        }
      ]
    },
    {
      "cell_type": "markdown",
      "source": [
        "# Завдання 3\n",
        "Створіть випадковий тензор розміру (2, 3). Виведіть інформацію про його:\n",
        "\n",
        "* розмір\n",
        "* тип даних\n",
        "* процесор\n",
        "* наявність градієнта"
      ],
      "metadata": {
        "id": "OkMil6fb7AiX"
      }
    },
    {
      "cell_type": "code",
      "source": [
        "tensor1 = torch.randn(2,3)\n",
        "tensor1"
      ],
      "metadata": {
        "id": "ih3MeOto8yrO",
        "outputId": "89cfce57-227a-490e-82d7-8e77eaff08e5",
        "colab": {
          "base_uri": "https://localhost:8080/"
        }
      },
      "execution_count": null,
      "outputs": [
        {
          "output_type": "execute_result",
          "data": {
            "text/plain": [
              "tensor([[-1.3072, -1.0149, -0.5336],\n",
              "        [-0.8789,  1.4308, -0.2932]])"
            ]
          },
          "metadata": {},
          "execution_count": 4
        }
      ]
    },
    {
      "cell_type": "code",
      "source": [
        "tensor1.shape"
      ],
      "metadata": {
        "id": "fli9Qysr279Z",
        "outputId": "ba54eb96-1383-42f7-c3c2-b9238d66997f",
        "colab": {
          "base_uri": "https://localhost:8080/"
        }
      },
      "execution_count": null,
      "outputs": [
        {
          "output_type": "execute_result",
          "data": {
            "text/plain": [
              "torch.Size([2, 3])"
            ]
          },
          "metadata": {},
          "execution_count": 5
        }
      ]
    },
    {
      "cell_type": "code",
      "source": [
        "tensor1.dtype"
      ],
      "metadata": {
        "id": "-03iS-223FaU",
        "outputId": "25790546-7be8-44e0-e212-a54ed6e749a2",
        "colab": {
          "base_uri": "https://localhost:8080/"
        }
      },
      "execution_count": null,
      "outputs": [
        {
          "output_type": "execute_result",
          "data": {
            "text/plain": [
              "torch.float32"
            ]
          },
          "metadata": {},
          "execution_count": 6
        }
      ]
    },
    {
      "cell_type": "code",
      "source": [
        "tensor1.device"
      ],
      "metadata": {
        "id": "cvvbZe5a3dWn",
        "outputId": "9f4f8b89-fc99-4d63-b1bc-f77e7234899a",
        "colab": {
          "base_uri": "https://localhost:8080/"
        }
      },
      "execution_count": null,
      "outputs": [
        {
          "output_type": "execute_result",
          "data": {
            "text/plain": [
              "device(type='cpu')"
            ]
          },
          "metadata": {},
          "execution_count": 7
        }
      ]
    },
    {
      "cell_type": "code",
      "source": [
        "tensor1.requires_grad"
      ],
      "metadata": {
        "id": "qnz8hJq54VpX",
        "outputId": "90b28314-c4cb-4395-a8e9-acd7c5a4f8fd",
        "colab": {
          "base_uri": "https://localhost:8080/"
        }
      },
      "execution_count": null,
      "outputs": [
        {
          "output_type": "execute_result",
          "data": {
            "text/plain": [
              "False"
            ]
          },
          "metadata": {},
          "execution_count": 10
        }
      ]
    },
    {
      "cell_type": "markdown",
      "source": [
        "# Завдання 4\n",
        "\n",
        "Створіть 2 тензора розміру 100. Використовуючи лише модуль `torch` обрахуйте середьню абсолютну похибку(mae) між ними. Виведіть результат як число"
      ],
      "metadata": {
        "id": "nNrrplv_9Vha"
      }
    },
    {
      "cell_type": "code",
      "source": [
        "tensor2 = torch.rand(100)\n",
        "tensor3 = torch.rand(100)"
      ],
      "metadata": {
        "id": "HybhfrBT9wT5"
      },
      "execution_count": null,
      "outputs": []
    },
    {
      "cell_type": "code",
      "source": [
        "mae = torch.mean(torch.abs(tensor2 - tensor3))"
      ],
      "metadata": {
        "id": "T1aNWq8C5_En"
      },
      "execution_count": null,
      "outputs": []
    },
    {
      "cell_type": "code",
      "source": [
        "mae.item()"
      ],
      "metadata": {
        "id": "_iWpiEnQ6sXL",
        "outputId": "4e3f3a90-c5df-4c60-ac88-49a4fd0a91cc",
        "colab": {
          "base_uri": "https://localhost:8080/"
        }
      },
      "execution_count": null,
      "outputs": [
        {
          "output_type": "execute_result",
          "data": {
            "text/plain": [
              "0.31613922119140625"
            ]
          },
          "metadata": {},
          "execution_count": 17
        }
      ]
    },
    {
      "cell_type": "markdown",
      "source": [
        "# Завдання 5\n",
        "\n",
        "Створіть 3 випадкових тензора з розмірами:\n",
        "* 32х28х28\n",
        "* 16х28х28\n",
        "* 64х28х28\n",
        "\n",
        "Об'єднайте їх по першій розмірності. Результат має мати розмір 128х28х28"
      ],
      "metadata": {
        "id": "JoU54G199w5-"
      }
    },
    {
      "cell_type": "code",
      "source": [
        "tensor4 = torch.rand((32,28,28))\n",
        "tensor5 = torch.rand((16,28,28))\n",
        "tensor6 = torch.rand((64,28,28))"
      ],
      "metadata": {
        "id": "Ar7NOowB-NBn"
      },
      "execution_count": null,
      "outputs": []
    },
    {
      "cell_type": "code",
      "source": [
        "torch_cat = torch.cat((tensor4, tensor5, tensor6), dim=0)"
      ],
      "metadata": {
        "id": "wHz2G7y_7Hvf"
      },
      "execution_count": null,
      "outputs": []
    },
    {
      "cell_type": "markdown",
      "source": [
        "# Завдання 6\n",
        "Застосуйте метод градієнтного спуску для функції"
      ],
      "metadata": {
        "id": "8v4erUf8-Tnn"
      }
    },
    {
      "cell_type": "code",
      "source": [
        "def f(x):\n",
        "  return x**2/3 + torch.sin(torch.pi*x)"
      ],
      "metadata": {
        "id": "c89FE7vc-aWy"
      },
      "execution_count": null,
      "outputs": []
    },
    {
      "cell_type": "code",
      "source": [
        "device = \"cuda\" if torch.cuda.is_available() else \"cpu\"\n",
        "torch.set_default_device(device)\n",
        "\n",
        "x = torch.tensor(1., requires_grad=True)\n",
        "learning_rate = 1e-2\n",
        "\n",
        "for n in range(1000):\n",
        "  loss = f(x)\n",
        "  loss.backward()\n",
        "\n",
        "  if n % 100 == 0:\n",
        "      print(f'loss={loss.item()}')\n",
        "\n",
        "  with torch.no_grad():\n",
        "    x -= learning_rate * x.grad\n",
        "    x.grad = None\n",
        "\n",
        "#loss меньше, но на графике он рисуется выше чем с начальным значением 0 с графиком приведенном ниже"
      ],
      "metadata": {
        "id": "NjwcrDze7fyQ",
        "outputId": "f8a2ed76-8c66-4f5a-d30c-c367a3e008e6",
        "colab": {
          "base_uri": "https://localhost:8080/"
        }
      },
      "execution_count": null,
      "outputs": [
        {
          "output_type": "stream",
          "name": "stdout",
          "text": [
            "loss=0.33333325386047363\n",
            "loss=-0.2977929711341858\n",
            "loss=-0.297792911529541\n",
            "loss=-0.297792911529541\n",
            "loss=-0.297792911529541\n",
            "loss=-0.297792911529541\n",
            "loss=-0.297792911529541\n",
            "loss=-0.297792911529541\n",
            "loss=-0.297792911529541\n",
            "loss=-0.297792911529541\n"
          ]
        }
      ]
    },
    {
      "cell_type": "code",
      "source": [
        "import matplotlib.pyplot as plt\n",
        "\n",
        "xs = torch.linspace(-3, 5, 100)\n",
        "plt.plot(xs.cpu(), f(xs).cpu(), label='f(x)')\n",
        "plt.scatter(x.item(), f(x).item(), c='red', label='min')\n",
        "plt.legend()"
      ],
      "metadata": {
        "id": "dxFB3RgL8oyH",
        "outputId": "0967ebc8-ecaa-4f88-e4f6-c7ea09cf2d96",
        "colab": {
          "base_uri": "https://localhost:8080/",
          "height": 447
        }
      },
      "execution_count": null,
      "outputs": [
        {
          "output_type": "execute_result",
          "data": {
            "text/plain": [
              "<matplotlib.legend.Legend at 0x7c2202e60c10>"
            ]
          },
          "metadata": {},
          "execution_count": 42
        },
        {
          "output_type": "display_data",
          "data": {
            "text/plain": [
              "<Figure size 640x480 with 1 Axes>"
            ],
            "image/png": "[encoded data removed]"
          },
          "metadata": {}
        }
      ]
    },
    {
      "cell_type": "code",
      "source": [
        "x = torch.tensor(0., requires_grad=True)\n",
        "learning_rate = 1e-2\n",
        "\n",
        "for n in range(1000):\n",
        "  loss = f(x)\n",
        "  loss.backward()\n",
        "\n",
        "  if n % 100 == 0:\n",
        "      print(f'loss={loss.item()}')\n",
        "\n",
        "  with torch.no_grad():\n",
        "    x -= learning_rate * x.grad\n",
        "    x.grad = None"
      ],
      "metadata": {
        "id": "q1iw4sno_M5p",
        "outputId": "a08b085a-3bc5-42c5-cbd0-cc25f329f5db",
        "colab": {
          "base_uri": "https://localhost:8080/"
        }
      },
      "execution_count": null,
      "outputs": [
        {
          "output_type": "stream",
          "name": "stdout",
          "text": [
            "loss=0.0\n",
            "loss=-0.9219435453414917\n",
            "loss=-0.9219435453414917\n",
            "loss=-0.9219435453414917\n",
            "loss=-0.9219435453414917\n",
            "loss=-0.9219435453414917\n",
            "loss=-0.9219435453414917\n",
            "loss=-0.9219435453414917\n",
            "loss=-0.9219435453414917\n",
            "loss=-0.9219435453414917\n"
          ]
        }
      ]
    },
    {
      "cell_type": "code",
      "source": [
        "import matplotlib.pyplot as plt\n",
        "\n",
        "xs = torch.linspace(-3, 5, 100)\n",
        "plt.plot(xs.cpu(), f(xs).cpu(), label='f(x)')\n",
        "plt.scatter(x.item(), f(x).item(), c='red', label='min')\n",
        "plt.legend()"
      ],
      "metadata": {
        "id": "3azgiJyD_QEI",
        "outputId": "d4c7189b-2800-4fc0-b2f3-2ddc0f44776d",
        "colab": {
          "base_uri": "https://localhost:8080/",
          "height": 447
        }
      },
      "execution_count": null,
      "outputs": [
        {
          "output_type": "execute_result",
          "data": {
            "text/plain": [
              "<matplotlib.legend.Legend at 0x7c2205174070>"
            ]
          },
          "metadata": {},
          "execution_count": 40
        },
        {
          "output_type": "display_data",
          "data": {
            "text/plain": [
              "<Figure size 640x480 with 1 Axes>"
            ],
            "image/png": "[encoded data removed]"
          },
          "metadata": {}
        }
      ]
    },
    {
      "cell_type": "markdown",
      "source": [
        "# Завдання 7\n",
        "Застосуйте метод градієнтного спуску для функції. Мінімум функції рівний 0"
      ],
      "metadata": {
        "id": "UjHK74ES-iuO"
      }
    },
    {
      "cell_type": "code",
      "source": [
        "def f1(x, y):\n",
        "  # функція Швефеля\n",
        "  return  418.9829*2 - x*torch.sin(x.abs().sqrt()) - y*torch.sin(y.abs().sqrt())\n",
        "\n",
        "def f2(x, y):\n",
        "  # трьохгорбна функція\n",
        "  return 2*x**2  - 1.05*x**4 + 1/6*x**6 + x*y  + y**2\n",
        "\n",
        "def f3(x, y):\n",
        "  # функція птах\n",
        "  return 106.7645 + torch.sin(x)*torch.exp((1-torch.cos(y))**2) + torch.cos(y)*torch.exp((1-torch.sin(x))**2) + (x-y)**2"
      ],
      "metadata": {
        "id": "vRD515Ik_xM-"
      },
      "execution_count": null,
      "outputs": []
    },
    {
      "cell_type": "code",
      "source": [
        "x = torch.tensor(0., requires_grad=True)\n",
        "y = torch.tensor(1., requires_grad=True)\n",
        "learning_rate = 1e-3\n",
        "\n",
        "for n in range(1000):\n",
        "  loss = f2(x, y)\n",
        "  loss.backward()\n",
        "\n",
        "  if n % 100 == 0:\n",
        "      print(f'loss={loss.item()}')\n",
        "\n",
        "  with torch.no_grad():\n",
        "    x -= learning_rate * x.grad\n",
        "    y -= learning_rate * y.grad\n",
        "    x.grad = None\n",
        "    y.grad = None"
      ],
      "metadata": {
        "id": "j2RaZh9E-oyK",
        "outputId": "6e394350-00d8-4bb9-a247-44c5210edb90",
        "colab": {
          "base_uri": "https://localhost:8080/"
        }
      },
      "execution_count": null,
      "outputs": [
        {
          "output_type": "stream",
          "name": "stdout",
          "text": [
            "loss=1.0\n",
            "loss=0.6260854601860046\n",
            "loss=0.41356462240219116\n",
            "loss=0.2836360037326813\n",
            "loss=0.19940337538719177\n",
            "loss=0.14237144589424133\n",
            "loss=0.10258953273296356\n",
            "loss=0.07430898398160934\n",
            "loss=0.05397564172744751\n",
            "loss=0.039262574166059494\n"
          ]
        }
      ]
    }
  ]
}