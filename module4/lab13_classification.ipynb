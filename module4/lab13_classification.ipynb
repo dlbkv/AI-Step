{
  "nbformat": 4,
  "nbformat_minor": 0,
  "metadata": {
    "colab": {
      "provenance": [],
      "include_colab_link": true
    },
    "kernelspec": {
      "name": "python3",
      "display_name": "Python 3"
    },
    "language_info": {
      "name": "python"
    }
  },
  "cells": [
    {
      "cell_type": "markdown",
      "metadata": {
        "id": "view-in-github",
        "colab_type": "text"
      },
      "source": [
        "<a href=\"https://colab.research.google.com/github/dlbkv/AI-Step/blob/master/module4/lab13_classyfication.ipynb\" target=\"_parent\"><img src=\"https://colab.research.google.com/assets/colab-badge.svg\" alt=\"Open In Colab\"/></a>"
      ]
    },
    {
      "cell_type": "markdown",
      "source": [
        "Імпорт модулів"
      ],
      "metadata": {
        "id": "w1r0k1UheNCz"
      }
    },
    {
      "cell_type": "code",
      "execution_count": null,
      "metadata": {
        "id": "4XxgJqCDoExm"
      },
      "outputs": [],
      "source": [
        "import pandas as pd"
      ]
    },
    {
      "cell_type": "markdown",
      "source": [
        "Дані про діабет"
      ],
      "metadata": {
        "id": "Kpk2KycTeQEE"
      }
    },
    {
      "cell_type": "code",
      "source": [
        "# трохи обробки даних\n",
        "df = pd.read_csv('https://raw.githubusercontent.com/HalyshAnton/IT-Step-Pyton-AI/main/module3/data/Healthcare-Diabetes.csv',\n",
        "                 index_col='Id')\n",
        "\n",
        "columns = df.columns.delete(-1)\n",
        "data = df[columns]\n",
        "df[columns] = (data - data.min()) / (data.max() - data.min())"
      ],
      "metadata": {
        "id": "926S2f5pdnH6"
      },
      "execution_count": null,
      "outputs": []
    },
    {
      "cell_type": "code",
      "source": [
        "df.head()"
      ],
      "metadata": {
        "colab": {
          "base_uri": "https://localhost:8080/",
          "height": 237
        },
        "id": "eG6_dawddqwd",
        "outputId": "8594693a-2cb4-4c81-8ebc-4826047249ba"
      },
      "execution_count": null,
      "outputs": [
        {
          "output_type": "execute_result",
          "data": {
            "text/plain": [
              "    Pregnancies   Glucose  BloodPressure  SkinThickness   Insulin       BMI  \\\n",
              "Id                                                                            \n",
              "1      0.352941  0.743719       0.590164       0.318182  0.000000  0.416873   \n",
              "2      0.058824  0.427136       0.540984       0.263636  0.000000  0.330025   \n",
              "3      0.470588  0.919598       0.524590       0.000000  0.000000  0.289082   \n",
              "4      0.058824  0.447236       0.540984       0.209091  0.111111  0.348635   \n",
              "5      0.000000  0.688442       0.327869       0.318182  0.198582  0.534739   \n",
              "\n",
              "    DiabetesPedigreeFunction       Age  Outcome  \n",
              "Id                                               \n",
              "1                   0.234415  0.483333        1  \n",
              "2                   0.116567  0.166667        0  \n",
              "3                   0.253629  0.183333        1  \n",
              "4                   0.038002  0.000000        0  \n",
              "5                   0.943638  0.200000        1  "
            ],
            "text/html": [
              "\n",
              "  <div id=\"df-ec4bc66b-77a8-4764-9db7-32c6848085cf\" class=\"colab-df-container\">\n",
              "    <div>\n",
              "<style scoped>\n",
              "    .dataframe tbody tr th:only-of-type {\n",
              "        vertical-align: middle;\n",
              "    }\n",
              "\n",
              "    .dataframe tbody tr th {\n",
              "        vertical-align: top;\n",
              "    }\n",
              "\n",
              "    .dataframe thead th {\n",
              "        text-align: right;\n",
              "    }\n",
              "</style>\n",
              "<table border=\"1\" class=\"dataframe\">\n",
              "  <thead>\n",
              "    <tr style=\"text-align: right;\">\n",
              "      <th></th>\n",
              "      <th>Pregnancies</th>\n",
              "      <th>Glucose</th>\n",
              "      <th>BloodPressure</th>\n",
              "      <th>SkinThickness</th>\n",
              "      <th>Insulin</th>\n",
              "      <th>BMI</th>\n",
              "      <th>DiabetesPedigreeFunction</th>\n",
              "      <th>Age</th>\n",
              "      <th>Outcome</th>\n",
              "    </tr>\n",
              "    <tr>\n",
              "      <th>Id</th>\n",
              "      <th></th>\n",
              "      <th></th>\n",
              "      <th></th>\n",
              "      <th></th>\n",
              "      <th></th>\n",
              "      <th></th>\n",
              "      <th></th>\n",
              "      <th></th>\n",
              "      <th></th>\n",
              "    </tr>\n",
              "  </thead>\n",
              "  <tbody>\n",
              "    <tr>\n",
              "      <th>1</th>\n",
              "      <td>0.352941</td>\n",
              "      <td>0.743719</td>\n",
              "      <td>0.590164</td>\n",
              "      <td>0.318182</td>\n",
              "      <td>0.000000</td>\n",
              "      <td>0.416873</td>\n",
              "      <td>0.234415</td>\n",
              "      <td>0.483333</td>\n",
              "      <td>1</td>\n",
              "    </tr>\n",
              "    <tr>\n",
              "      <th>2</th>\n",
              "      <td>0.058824</td>\n",
              "      <td>0.427136</td>\n",
              "      <td>0.540984</td>\n",
              "      <td>0.263636</td>\n",
              "      <td>0.000000</td>\n",
              "      <td>0.330025</td>\n",
              "      <td>0.116567</td>\n",
              "      <td>0.166667</td>\n",
              "      <td>0</td>\n",
              "    </tr>\n",
              "    <tr>\n",
              "      <th>3</th>\n",
              "      <td>0.470588</td>\n",
              "      <td>0.919598</td>\n",
              "      <td>0.524590</td>\n",
              "      <td>0.000000</td>\n",
              "      <td>0.000000</td>\n",
              "      <td>0.289082</td>\n",
              "      <td>0.253629</td>\n",
              "      <td>0.183333</td>\n",
              "      <td>1</td>\n",
              "    </tr>\n",
              "    <tr>\n",
              "      <th>4</th>\n",
              "      <td>0.058824</td>\n",
              "      <td>0.447236</td>\n",
              "      <td>0.540984</td>\n",
              "      <td>0.209091</td>\n",
              "      <td>0.111111</td>\n",
              "      <td>0.348635</td>\n",
              "      <td>0.038002</td>\n",
              "      <td>0.000000</td>\n",
              "      <td>0</td>\n",
              "    </tr>\n",
              "    <tr>\n",
              "      <th>5</th>\n",
              "      <td>0.000000</td>\n",
              "      <td>0.688442</td>\n",
              "      <td>0.327869</td>\n",
              "      <td>0.318182</td>\n",
              "      <td>0.198582</td>\n",
              "      <td>0.534739</td>\n",
              "      <td>0.943638</td>\n",
              "      <td>0.200000</td>\n",
              "      <td>1</td>\n",
              "    </tr>\n",
              "  </tbody>\n",
              "</table>\n",
              "</div>\n",
              "    <div class=\"colab-df-buttons\">\n",
              "\n",
              "  <div class=\"colab-df-container\">\n",
              "    <button class=\"colab-df-convert\" onclick=\"convertToInteractive('df-ec4bc66b-77a8-4764-9db7-32c6848085cf')\"\n",
              "            title=\"Convert this dataframe to an interactive table.\"\n",
              "            style=\"display:none;\">\n",
              "\n",
              "  <svg xmlns=\"http://www.w3.org/2000/svg\" height=\"24px\" viewBox=\"0 -960 960 960\">\n",
              "    <path d=\"M120-120v-720h720v720H120Zm60-500h600v-160H180v160Zm220 220h160v-160H400v160Zm0 220h160v-160H400v160ZM180-400h160v-160H180v160Zm440 0h160v-160H620v160ZM180-180h160v-160H180v160Zm440 0h160v-160H620v160Z\"/>\n",
              "  </svg>\n",
              "    </button>\n",
              "\n",
              "  <style>\n",
              "    .colab-df-container {\n",
              "      display:flex;\n",
              "      gap: 12px;\n",
              "    }\n",
              "\n",
              "    .colab-df-convert {\n",
              "      background-color: #E8F0FE;\n",
              "      border: none;\n",
              "      border-radius: 50%;\n",
              "      cursor: pointer;\n",
              "      display: none;\n",
              "      fill: #1967D2;\n",
              "      height: 32px;\n",
              "      padding: 0 0 0 0;\n",
              "      width: 32px;\n",
              "    }\n",
              "\n",
              "    .colab-df-convert:hover {\n",
              "      background-color: #E2EBFA;\n",
              "      box-shadow: 0px 1px 2px rgba(60, 64, 67, 0.3), 0px 1px 3px 1px rgba(60, 64, 67, 0.15);\n",
              "      fill: #174EA6;\n",
              "    }\n",
              "\n",
              "    .colab-df-buttons div {\n",
              "      margin-bottom: 4px;\n",
              "    }\n",
              "\n",
              "    [theme=dark] .colab-df-convert {\n",
              "      background-color: #3B4455;\n",
              "      fill: #D2E3FC;\n",
              "    }\n",
              "\n",
              "    [theme=dark] .colab-df-convert:hover {\n",
              "      background-color: #434B5C;\n",
              "      box-shadow: 0px 1px 3px 1px rgba(0, 0, 0, 0.15);\n",
              "      filter: drop-shadow(0px 1px 2px rgba(0, 0, 0, 0.3));\n",
              "      fill: #FFFFFF;\n",
              "    }\n",
              "  </style>\n",
              "\n",
              "    <script>\n",
              "      const buttonEl =\n",
              "        document.querySelector('#df-ec4bc66b-77a8-4764-9db7-32c6848085cf button.colab-df-convert');\n",
              "      buttonEl.style.display =\n",
              "        google.colab.kernel.accessAllowed ? 'block' : 'none';\n",
              "\n",
              "      async function convertToInteractive(key) {\n",
              "        const element = document.querySelector('#df-ec4bc66b-77a8-4764-9db7-32c6848085cf');\n",
              "        const dataTable =\n",
              "          await google.colab.kernel.invokeFunction('convertToInteractive',\n",
              "                                                    [key], {});\n",
              "        if (!dataTable) return;\n",
              "\n",
              "        const docLinkHtml = 'Like what you see? Visit the ' +\n",
              "          '<a target=\"_blank\" href=https://colab.research.google.com/notebooks/data_table.ipynb>data table notebook</a>'\n",
              "          + ' to learn more about interactive tables.';\n",
              "        element.innerHTML = '';\n",
              "        dataTable['output_type'] = 'display_data';\n",
              "        await google.colab.output.renderOutput(dataTable, element);\n",
              "        const docLink = document.createElement('div');\n",
              "        docLink.innerHTML = docLinkHtml;\n",
              "        element.appendChild(docLink);\n",
              "      }\n",
              "    </script>\n",
              "  </div>\n",
              "\n",
              "\n",
              "<div id=\"df-3bddf626-246b-43cc-ab3e-b1882d922950\">\n",
              "  <button class=\"colab-df-quickchart\" onclick=\"quickchart('df-3bddf626-246b-43cc-ab3e-b1882d922950')\"\n",
              "            title=\"Suggest charts\"\n",
              "            style=\"display:none;\">\n",
              "\n",
              "<svg xmlns=\"http://www.w3.org/2000/svg\" height=\"24px\"viewBox=\"0 0 24 24\"\n",
              "     width=\"24px\">\n",
              "    <g>\n",
              "        <path d=\"M19 3H5c-1.1 0-2 .9-2 2v14c0 1.1.9 2 2 2h14c1.1 0 2-.9 2-2V5c0-1.1-.9-2-2-2zM9 17H7v-7h2v7zm4 0h-2V7h2v10zm4 0h-2v-4h2v4z\"/>\n",
              "    </g>\n",
              "</svg>\n",
              "  </button>\n",
              "\n",
              "<style>\n",
              "  .colab-df-quickchart {\n",
              "      --bg-color: #E8F0FE;\n",
              "      --fill-color: #1967D2;\n",
              "      --hover-bg-color: #E2EBFA;\n",
              "      --hover-fill-color: #174EA6;\n",
              "      --disabled-fill-color: #AAA;\n",
              "      --disabled-bg-color: #DDD;\n",
              "  }\n",
              "\n",
              "  [theme=dark] .colab-df-quickchart {\n",
              "      --bg-color: #3B4455;\n",
              "      --fill-color: #D2E3FC;\n",
              "      --hover-bg-color: #434B5C;\n",
              "      --hover-fill-color: #FFFFFF;\n",
              "      --disabled-bg-color: #3B4455;\n",
              "      --disabled-fill-color: #666;\n",
              "  }\n",
              "\n",
              "  .colab-df-quickchart {\n",
              "    background-color: var(--bg-color);\n",
              "    border: none;\n",
              "    border-radius: 50%;\n",
              "    cursor: pointer;\n",
              "    display: none;\n",
              "    fill: var(--fill-color);\n",
              "    height: 32px;\n",
              "    padding: 0;\n",
              "    width: 32px;\n",
              "  }\n",
              "\n",
              "  .colab-df-quickchart:hover {\n",
              "    background-color: var(--hover-bg-color);\n",
              "    box-shadow: 0 1px 2px rgba(60, 64, 67, 0.3), 0 1px 3px 1px rgba(60, 64, 67, 0.15);\n",
              "    fill: var(--button-hover-fill-color);\n",
              "  }\n",
              "\n",
              "  .colab-df-quickchart-complete:disabled,\n",
              "  .colab-df-quickchart-complete:disabled:hover {\n",
              "    background-color: var(--disabled-bg-color);\n",
              "    fill: var(--disabled-fill-color);\n",
              "    box-shadow: none;\n",
              "  }\n",
              "\n",
              "  .colab-df-spinner {\n",
              "    border: 2px solid var(--fill-color);\n",
              "    border-color: transparent;\n",
              "    border-bottom-color: var(--fill-color);\n",
              "    animation:\n",
              "      spin 1s steps(1) infinite;\n",
              "  }\n",
              "\n",
              "  @keyframes spin {\n",
              "    0% {\n",
              "      border-color: transparent;\n",
              "      border-bottom-color: var(--fill-color);\n",
              "      border-left-color: var(--fill-color);\n",
              "    }\n",
              "    20% {\n",
              "      border-color: transparent;\n",
              "      border-left-color: var(--fill-color);\n",
              "      border-top-color: var(--fill-color);\n",
              "    }\n",
              "    30% {\n",
              "      border-color: transparent;\n",
              "      border-left-color: var(--fill-color);\n",
              "      border-top-color: var(--fill-color);\n",
              "      border-right-color: var(--fill-color);\n",
              "    }\n",
              "    40% {\n",
              "      border-color: transparent;\n",
              "      border-right-color: var(--fill-color);\n",
              "      border-top-color: var(--fill-color);\n",
              "    }\n",
              "    60% {\n",
              "      border-color: transparent;\n",
              "      border-right-color: var(--fill-color);\n",
              "    }\n",
              "    80% {\n",
              "      border-color: transparent;\n",
              "      border-right-color: var(--fill-color);\n",
              "      border-bottom-color: var(--fill-color);\n",
              "    }\n",
              "    90% {\n",
              "      border-color: transparent;\n",
              "      border-bottom-color: var(--fill-color);\n",
              "    }\n",
              "  }\n",
              "</style>\n",
              "\n",
              "  <script>\n",
              "    async function quickchart(key) {\n",
              "      const quickchartButtonEl =\n",
              "        document.querySelector('#' + key + ' button');\n",
              "      quickchartButtonEl.disabled = true;  // To prevent multiple clicks.\n",
              "      quickchartButtonEl.classList.add('colab-df-spinner');\n",
              "      try {\n",
              "        const charts = await google.colab.kernel.invokeFunction(\n",
              "            'suggestCharts', [key], {});\n",
              "      } catch (error) {\n",
              "        console.error('Error during call to suggestCharts:', error);\n",
              "      }\n",
              "      quickchartButtonEl.classList.remove('colab-df-spinner');\n",
              "      quickchartButtonEl.classList.add('colab-df-quickchart-complete');\n",
              "    }\n",
              "    (() => {\n",
              "      let quickchartButtonEl =\n",
              "        document.querySelector('#df-3bddf626-246b-43cc-ab3e-b1882d922950 button');\n",
              "      quickchartButtonEl.style.display =\n",
              "        google.colab.kernel.accessAllowed ? 'block' : 'none';\n",
              "    })();\n",
              "  </script>\n",
              "</div>\n",
              "    </div>\n",
              "  </div>\n"
            ],
            "application/vnd.google.colaboratory.intrinsic+json": {
              "type": "dataframe",
              "variable_name": "df",
              "summary": "{\n  \"name\": \"df\",\n  \"rows\": 2768,\n  \"fields\": [\n    {\n      \"column\": \"Id\",\n      \"properties\": {\n        \"dtype\": \"number\",\n        \"std\": 799,\n        \"min\": 1,\n        \"max\": 2768,\n        \"num_unique_values\": 2768,\n        \"samples\": [\n          1379,\n          840,\n          2165\n        ],\n        \"semantic_type\": \"\",\n        \"description\": \"\"\n      }\n    },\n    {\n      \"column\": \"Pregnancies\",\n      \"properties\": {\n        \"dtype\": \"number\",\n        \"std\": 0.195517703956964,\n        \"min\": 0.0,\n        \"max\": 1.0,\n        \"num_unique_values\": 17,\n        \"samples\": [\n          0.35294117647058826,\n          0.058823529411764705,\n          0.17647058823529413\n        ],\n        \"semantic_type\": \"\",\n        \"description\": \"\"\n      }\n    },\n    {\n      \"column\": \"Glucose\",\n      \"properties\": {\n        \"dtype\": \"number\",\n        \"std\": 0.16098747865152976,\n        \"min\": 0.0,\n        \"max\": 1.0,\n        \"num_unique_values\": 136,\n        \"samples\": [\n          0.7587939698492462,\n          0.507537688442211,\n          0.5628140703517588\n        ],\n        \"semantic_type\": \"\",\n        \"description\": \"\"\n      }\n    },\n    {\n      \"column\": \"BloodPressure\",\n      \"properties\": {\n        \"dtype\": \"number\",\n        \"std\": 0.15763473889833937,\n        \"min\": 0.0,\n        \"max\": 1.0,\n        \"num_unique_values\": 47,\n        \"samples\": [\n          0.7049180327868853,\n          0.3770491803278688,\n          0.6967213114754098\n        ],\n        \"semantic_type\": \"\",\n        \"description\": \"\"\n      }\n    },\n    {\n      \"column\": \"SkinThickness\",\n      \"properties\": {\n        \"dtype\": \"number\",\n        \"std\": 0.14599632454605058,\n        \"min\": 0.0,\n        \"max\": 1.0,\n        \"num_unique_values\": 53,\n        \"samples\": [\n          0.22727272727272727,\n          0.41818181818181815,\n          0.07272727272727272\n        ],\n        \"semantic_type\": \"\",\n        \"description\": \"\"\n      }\n    },\n    {\n      \"column\": \"Insulin\",\n      \"properties\": {\n        \"dtype\": \"number\",\n        \"std\": 0.13274460163299112,\n        \"min\": 0.0,\n        \"max\": 1.0,\n        \"num_unique_values\": 187,\n        \"samples\": [\n          0.13238770685579196,\n          0.1524822695035461,\n          0.07446808510638298\n        ],\n        \"semantic_type\": \"\",\n        \"description\": \"\"\n      }\n    },\n    {\n      \"column\": \"BMI\",\n      \"properties\": {\n        \"dtype\": \"number\",\n        \"std\": 0.10020008956155356,\n        \"min\": 0.0,\n        \"max\": 1.0,\n        \"num_unique_values\": 253,\n        \"samples\": [\n          0.5620347394540943,\n          0.38461538461538464,\n          0.3287841191066998\n        ],\n        \"semantic_type\": \"\",\n        \"description\": \"\"\n      }\n    },\n    {\n      \"column\": \"DiabetesPedigreeFunction\",\n      \"properties\": {\n        \"dtype\": \"number\",\n        \"std\": 0.13905586378960583,\n        \"min\": 0.0,\n        \"max\": 1.0,\n        \"num_unique_values\": 523,\n        \"samples\": [\n          0.10418445772843722,\n          0.040990606319385135,\n          0.07258753202391117\n        ],\n        \"semantic_type\": \"\",\n        \"description\": \"\"\n      }\n    },\n    {\n      \"column\": \"Age\",\n      \"properties\": {\n        \"dtype\": \"number\",\n        \"std\": 0.1962871664622983,\n        \"min\": 0.0,\n        \"max\": 1.0,\n        \"num_unique_values\": 52,\n        \"samples\": [\n          0.65,\n          0.43333333333333335,\n          0.85\n        ],\n        \"semantic_type\": \"\",\n        \"description\": \"\"\n      }\n    },\n    {\n      \"column\": \"Outcome\",\n      \"properties\": {\n        \"dtype\": \"number\",\n        \"std\": 0,\n        \"min\": 0,\n        \"max\": 1,\n        \"num_unique_values\": 2,\n        \"samples\": [\n          0,\n          1\n        ],\n        \"semantic_type\": \"\",\n        \"description\": \"\"\n      }\n    }\n  ]\n}"
            }
          },
          "metadata": {},
          "execution_count": 34
        }
      ]
    },
    {
      "cell_type": "markdown",
      "source": [
        "Потрібно на основі інформації пацієнта виявити наявність діабету `Outcome`"
      ],
      "metadata": {
        "id": "KAmkR_CFejgQ"
      }
    },
    {
      "cell_type": "code",
      "source": [
        "df_z = df[df['Outcome'] == 0]\n",
        "df_o = df[df['Outcome'] == 1]"
      ],
      "metadata": {
        "id": "6vJ-55Ov2qmt"
      },
      "execution_count": null,
      "outputs": []
    },
    {
      "cell_type": "code",
      "source": [
        "print(df_z.shape)\n",
        "print(df_o.shape)"
      ],
      "metadata": {
        "id": "hvXZFYu53IKq",
        "outputId": "cd010eae-59e8-4a72-c34e-b1a9a8a82f3d",
        "colab": {
          "base_uri": "https://localhost:8080/"
        }
      },
      "execution_count": null,
      "outputs": [
        {
          "output_type": "stream",
          "name": "stdout",
          "text": [
            "(1816, 9)\n",
            "(952, 9)\n"
          ]
        }
      ]
    },
    {
      "cell_type": "code",
      "source": [
        "df_balanced = pd.concat([df[df['Outcome'] == 0].head(952),\n",
        "                         df[df['Outcome'] == 1].head(952)])"
      ],
      "metadata": {
        "id": "TskSXRbc3_Dr"
      },
      "execution_count": null,
      "outputs": []
    },
    {
      "cell_type": "markdown",
      "source": [
        "# Завдання 1\n",
        "Створіть клас Dataset для тренувальних та тестових даних"
      ],
      "metadata": {
        "id": "dBt0E5BJe6OK"
      }
    },
    {
      "cell_type": "code",
      "source": [
        "import torch\n",
        "from torch.utils.data import Dataset\n",
        "from sklearn.model_selection import train_test_split"
      ],
      "metadata": {
        "id": "13O219KPvJJz"
      },
      "execution_count": null,
      "outputs": []
    },
    {
      "cell_type": "code",
      "source": [
        "class MyDataset(Dataset):\n",
        "    def __init__(self, X, y):\n",
        "      self.X = torch.FloatTensor(X.values)\n",
        "      self.y = torch.FloatTensor(y.values)\n",
        "      self.y = self.y.reshape(-1, 1)\n",
        "\n",
        "    def __len__(self):\n",
        "      return len(self.X)\n",
        "\n",
        "    def __getitem__(self, idx):\n",
        "      return self.X[idx], self.y[idx]\n",
        "\n",
        "\n",
        "X = df_balanced.drop(columns='Outcome')\n",
        "y = df_balanced['Outcome']\n",
        "\n",
        "dataset = MyDataset(X,y)"
      ],
      "metadata": {
        "id": "vFtu1Wd1drwJ"
      },
      "execution_count": null,
      "outputs": []
    },
    {
      "cell_type": "code",
      "source": [
        "X_train, X_test, y_train, y_test = train_test_split(X, y,\n",
        "                                                    train_size=0.8,\n",
        "                                                    random_state=42,\n",
        "                                                    stratify=y)\n",
        "\n",
        "dataset_train = MyDataset(X_train, y_train)\n",
        "dataset_test = MyDataset(X_test, y_test)"
      ],
      "metadata": {
        "id": "oWwPHe_1v2Oi"
      },
      "execution_count": null,
      "outputs": []
    },
    {
      "cell_type": "code",
      "source": [],
      "metadata": {
        "id": "0z9FBVitwc2S"
      },
      "execution_count": null,
      "outputs": []
    },
    {
      "cell_type": "markdown",
      "source": [
        "# Завдання 2\n",
        "Створіть DataLoader"
      ],
      "metadata": {
        "id": "zQlB_6WzfB8n"
      }
    },
    {
      "cell_type": "code",
      "source": [
        "from torch.utils.data import DataLoader\n",
        "\n",
        "batch_size = 128\n",
        "train_dl = DataLoader(dataset_train, batch_size=batch_size, shuffle=True)\n",
        "test_dl = DataLoader(dataset_test, batch_size=batch_size, shuffle=True)"
      ],
      "metadata": {
        "id": "-6-po4H4fZQy"
      },
      "execution_count": null,
      "outputs": []
    },
    {
      "cell_type": "markdown",
      "source": [
        "# Завдання 3\n",
        "Створіть нейромережу"
      ],
      "metadata": {
        "id": "2W93LiDxfZrx"
      }
    },
    {
      "cell_type": "code",
      "source": [
        "import numpy as np\n",
        "from torch import nn\n",
        "import torch.nn.functional as F\n",
        "\n",
        "\n",
        "class BinaryClassifier(nn.Module):\n",
        "    def __init__(self, input_dim, hidden_dim, output_dim):\n",
        "        super().__init__()\n",
        "\n",
        "        self.linear1 = nn.Linear(input_dim, hidden_dim)\n",
        "        self.linear2 = nn.Linear(hidden_dim, hidden_dim // 2)\n",
        "        self.linear3 = nn.Linear(hidden_dim // 2, output_dim)\n",
        "\n",
        "    def forward(self, x):\n",
        "        out = self.linear1(x)\n",
        "        out = F.relu(out)\n",
        "\n",
        "        out = self.linear2(out)\n",
        "        out = F.relu(out)\n",
        "\n",
        "        out = self.linear3(out)\n",
        "        out = F.sigmoid(out)\n",
        "\n",
        "        return out\n",
        "\n",
        "    def predict(self, X, device='cpu'):\n",
        "        X = torch.FloatTensor(np.array(X)).to(device)\n",
        "\n",
        "        with torch.no_grad():\n",
        "          y_pred = self.forward(X)\n",
        "\n",
        "        return y_pred.numpy()\n",
        "\n",
        "\n",
        "model = BinaryClassifier(8, 100, 1)\n",
        "model"
      ],
      "metadata": {
        "id": "p9DHog7Xf7xE",
        "outputId": "8e6c5af2-271b-46f6-f0bc-4a6acbbe84ad",
        "colab": {
          "base_uri": "https://localhost:8080/"
        }
      },
      "execution_count": null,
      "outputs": [
        {
          "output_type": "execute_result",
          "data": {
            "text/plain": [
              "BinaryClassifier(\n",
              "  (linear1): Linear(in_features=8, out_features=100, bias=True)\n",
              "  (linear2): Linear(in_features=100, out_features=50, bias=True)\n",
              "  (linear3): Linear(in_features=50, out_features=1, bias=True)\n",
              ")"
            ]
          },
          "metadata": {},
          "execution_count": 42
        }
      ]
    },
    {
      "cell_type": "code",
      "source": [
        "from torchsummary import summary\n",
        "\n",
        "summary(model, input_size=(8,))"
      ],
      "metadata": {
        "id": "_Clt3FgKy2Oc",
        "outputId": "deb4b355-b34f-4a0e-d96d-1c4fc756067f",
        "colab": {
          "base_uri": "https://localhost:8080/"
        }
      },
      "execution_count": null,
      "outputs": [
        {
          "output_type": "stream",
          "name": "stdout",
          "text": [
            "----------------------------------------------------------------\n",
            "        Layer (type)               Output Shape         Param #\n",
            "================================================================\n",
            "            Linear-1                  [-1, 100]             900\n",
            "            Linear-2                   [-1, 50]           5,050\n",
            "            Linear-3                    [-1, 1]              51\n",
            "================================================================\n",
            "Total params: 6,001\n",
            "Trainable params: 6,001\n",
            "Non-trainable params: 0\n",
            "----------------------------------------------------------------\n",
            "Input size (MB): 0.00\n",
            "Forward/backward pass size (MB): 0.00\n",
            "Params size (MB): 0.02\n",
            "Estimated Total Size (MB): 0.02\n",
            "----------------------------------------------------------------\n"
          ]
        }
      ]
    },
    {
      "cell_type": "markdown",
      "source": [
        "# Завдання 4\n",
        "Визначте функцію втрат та оптимізатор"
      ],
      "metadata": {
        "id": "VmNUVkkUf8gB"
      }
    },
    {
      "cell_type": "code",
      "source": [
        "loss_fn = nn.BCELoss()\n",
        "\n",
        "optimizer = torch.optim.Adam(model.parameters(), lr=0.001)"
      ],
      "metadata": {
        "id": "e1sw9oRBgDXR"
      },
      "execution_count": null,
      "outputs": []
    },
    {
      "cell_type": "markdown",
      "source": [
        "# Завдання 5\n",
        "Натренуйте нейромережу. Візміть невелику кількість епох"
      ],
      "metadata": {
        "id": "qTOFCl_egEFZ"
      }
    },
    {
      "cell_type": "code",
      "source": [
        "# @title Функція для тренування\n",
        "import time\n",
        "\n",
        "def train(model, optimizer, loss_fn, train_dl, val_dl,\n",
        "          metrics=None, metrics_name=None, epochs=20, device='cpu', task='regression'):\n",
        "    '''\n",
        "    Runs training loop for classification problems. Returns Keras-style\n",
        "    per-epoch history of loss and accuracy over training and validation data.\n",
        "\n",
        "    Parameters\n",
        "    ----------\n",
        "    model : nn.Module\n",
        "        Neural network model\n",
        "    optimizer : torch.optim.Optimizer\n",
        "        Search space optimizer (e.g. Adam)\n",
        "    loss_fn :\n",
        "        Loss function (e.g. nn.CrossEntropyLoss())\n",
        "    train_dl :\n",
        "        Iterable dataloader for training data.\n",
        "    val_dl :\n",
        "        Iterable dataloader for validation data.\n",
        "    metrics: list\n",
        "        List of sklearn metrics functions to be calculated\n",
        "    metrics_name: list\n",
        "        List of matrics names\n",
        "    epochs : int\n",
        "        Number of epochs to run\n",
        "    device : string\n",
        "        Specifies 'cuda' or 'cpu'\n",
        "    task : string\n",
        "        type of problem. It can be regression, binary or multiclass\n",
        "\n",
        "    Returns\n",
        "    -------\n",
        "    Dictionary\n",
        "        Similar to Keras' fit(), the output dictionary contains per-epoch\n",
        "        history of training loss, training accuracy, validation loss, and\n",
        "        validation accuracy.\n",
        "    '''\n",
        "\n",
        "    print('train() called: model=%s, opt=%s(lr=%f), epochs=%d, device=%s\\n' % \\\n",
        "          (type(model).__name__, type(optimizer).__name__,\n",
        "           optimizer.param_groups[0]['lr'], epochs, device))\n",
        "\n",
        "    metrics = metrics if metrics else []\n",
        "    metrics_name = metrics_name if metrics_name else [metric.__name__ for metric in metrics]\n",
        "\n",
        "    history = {} # Collects per-epoch loss and metrics like Keras' fit().\n",
        "    history['loss'] = []\n",
        "    history['val_loss'] = []\n",
        "    for name in metrics_name:\n",
        "        history[name] = []\n",
        "        history[f'val_{name}'] = []\n",
        "\n",
        "    start_time_train = time.time()\n",
        "\n",
        "    for epoch in range(epochs):\n",
        "\n",
        "        # --- TRAIN AND EVALUATE ON TRAINING SET -----------------------------\n",
        "        start_time_epoch = time.time()\n",
        "\n",
        "        model.train()\n",
        "        history_train = {name: 0 for name in ['loss']+metrics_name}\n",
        "\n",
        "        for batch in train_dl:\n",
        "            x    = batch[0].to(device)\n",
        "            y    = batch[1].to(device)\n",
        "            y_pred = model(x)\n",
        "            loss = loss_fn(y_pred, y)\n",
        "\n",
        "            optimizer.zero_grad()\n",
        "            loss.backward()\n",
        "            optimizer.step()\n",
        "\n",
        "            y_pred = y_pred.detach().numpy()\n",
        "            y = y.detach().numpy()\n",
        "\n",
        "\n",
        "            history_train['loss'] += loss.item() * x.size(0)\n",
        "            for name, func in zip(metrics_name, metrics):\n",
        "              try:\n",
        "                  history_train[name] += func(y, y_pred) * x.size(0)\n",
        "              except:\n",
        "                  if task == 'binary': y_pred_ = y_pred.round()\n",
        "                  elif task == 'multiclass': y_pred_ = y_pred.argmax(axis=-1)\n",
        "                  history_train[name] += func(y, y_pred_) * x.size(0)\n",
        "\n",
        "        for name in history_train:\n",
        "            history_train[name] /= len(train_dl.dataset)\n",
        "\n",
        "\n",
        "        # --- EVALUATE ON VALIDATION SET -------------------------------------\n",
        "        model.eval()\n",
        "        history_val = {'val_' + name: 0 for name in metrics_name+['loss']}\n",
        "\n",
        "        with torch.no_grad():\n",
        "            for batch in val_dl:\n",
        "                x    = batch[0].to(device)\n",
        "                y    = batch[1].to(device)\n",
        "                y_pred = model(x)\n",
        "                loss = loss_fn(y_pred, y)\n",
        "\n",
        "                y_pred = y_pred.detach().numpy()\n",
        "                y = y.detach().numpy()\n",
        "\n",
        "                history_val['val_loss'] += loss.item() * x.size(0)\n",
        "                for name, func in zip(metrics_name, metrics):\n",
        "                    try:\n",
        "                        history_val['val_'+name] += func(y, y_pred) * x.size(0)\n",
        "                    except:\n",
        "                        if task == 'binary': y_pred_ = y_pred.round()\n",
        "                        elif task == 'multiclass': y_pred_ = y_pred.argmax(axis=-1)\n",
        "\n",
        "                        history_val['val_'+name] += func(y, y_pred_) * x.size(0)\n",
        "\n",
        "        for name in history_val:\n",
        "            history_val[name] /= len(val_dl.dataset)\n",
        "\n",
        "        # PRINTING RESULTS\n",
        "\n",
        "        end_time_epoch = time.time()\n",
        "\n",
        "        for name in history_train:\n",
        "            history[name].append(history_train[name])\n",
        "            history['val_'+name].append(history_val['val_'+name])\n",
        "\n",
        "        total_time_epoch = end_time_epoch - start_time_epoch\n",
        "\n",
        "        print(f'Epoch {epoch+1:4d} {total_time_epoch:4.0f}sec', end='\\t')\n",
        "        for name in history_train:\n",
        "            print(f'{name}: {history[name][-1]:10.3g}', end='\\t')\n",
        "            print(f\"val_{name}: {history['val_'+name][-1]:10.3g}\", end='\\t')\n",
        "        print()\n",
        "\n",
        "    # END OF TRAINING LOOP\n",
        "\n",
        "    end_time_train       = time.time()\n",
        "    total_time_train     = end_time_train - start_time_train\n",
        "    print()\n",
        "    print('Time total:     %5.2f sec' % (total_time_train))\n",
        "\n",
        "    return history"
      ],
      "metadata": {
        "id": "Nxo4p3IUgOx5",
        "cellView": "form"
      },
      "execution_count": null,
      "outputs": []
    },
    {
      "cell_type": "code",
      "source": [
        "from sklearn.metrics import accuracy_score, roc_auc_score\n",
        "\n",
        "history = train(model, optimizer, loss_fn, train_dl, test_dl,\n",
        "                epochs=50,\n",
        "                metrics=[accuracy_score, roc_auc_score],\n",
        "                task='binary')"
      ],
      "metadata": {
        "id": "GMFW9BzazwUi",
        "outputId": "61ea5177-5d87-4caf-988a-6906e310f58a",
        "colab": {
          "base_uri": "https://localhost:8080/"
        }
      },
      "execution_count": null,
      "outputs": [
        {
          "output_type": "stream",
          "name": "stdout",
          "text": [
            "train() called: model=BinaryClassifier, opt=Adam(lr=0.001000), epochs=50, device=cpu\n",
            "\n",
            "Epoch    1    0sec\tloss:       0.69\tval_loss:      0.685\taccuracy_score:        0.5\tval_accuracy_score:      0.509\troc_auc_score:      0.747\tval_roc_auc_score:      0.764\t\n",
            "Epoch    2    0sec\tloss:       0.68\tval_loss:      0.676\taccuracy_score:      0.536\tval_accuracy_score:      0.651\troc_auc_score:      0.791\tval_roc_auc_score:      0.768\t\n",
            "Epoch    3    0sec\tloss:      0.669\tval_loss:      0.663\taccuracy_score:      0.726\tval_accuracy_score:      0.719\troc_auc_score:      0.793\tval_roc_auc_score:      0.776\t\n",
            "Epoch    4    0sec\tloss:      0.651\tval_loss:      0.644\taccuracy_score:      0.733\tval_accuracy_score:      0.732\troc_auc_score:      0.802\tval_roc_auc_score:      0.787\t\n",
            "Epoch    5    0sec\tloss:      0.626\tval_loss:      0.619\taccuracy_score:      0.736\tval_accuracy_score:      0.714\troc_auc_score:      0.804\tval_roc_auc_score:      0.787\t\n",
            "Epoch    6    0sec\tloss:      0.597\tval_loss:      0.596\taccuracy_score:      0.755\tval_accuracy_score:      0.706\troc_auc_score:      0.809\tval_roc_auc_score:      0.785\t\n",
            "Epoch    7    0sec\tloss:      0.572\tval_loss:      0.578\taccuracy_score:      0.745\tval_accuracy_score:      0.711\troc_auc_score:      0.815\tval_roc_auc_score:      0.788\t\n",
            "Epoch    8    0sec\tloss:      0.551\tval_loss:      0.566\taccuracy_score:      0.754\tval_accuracy_score:       0.73\troc_auc_score:      0.818\tval_roc_auc_score:      0.792\t\n",
            "Epoch    9    0sec\tloss:      0.534\tval_loss:      0.557\taccuracy_score:      0.744\tval_accuracy_score:      0.706\troc_auc_score:      0.825\tval_roc_auc_score:      0.797\t\n",
            "Epoch   10    0sec\tloss:      0.522\tval_loss:      0.549\taccuracy_score:      0.754\tval_accuracy_score:       0.73\troc_auc_score:      0.831\tval_roc_auc_score:        0.8\t\n",
            "Epoch   11    0sec\tloss:      0.511\tval_loss:      0.545\taccuracy_score:      0.768\tval_accuracy_score:      0.717\troc_auc_score:      0.837\tval_roc_auc_score:      0.804\t\n",
            "Epoch   12    0sec\tloss:      0.504\tval_loss:      0.541\taccuracy_score:      0.755\tval_accuracy_score:       0.74\troc_auc_score:       0.84\tval_roc_auc_score:       0.81\t\n",
            "Epoch   13    0sec\tloss:      0.495\tval_loss:      0.535\taccuracy_score:      0.764\tval_accuracy_score:      0.722\troc_auc_score:      0.843\tval_roc_auc_score:      0.812\t\n",
            "Epoch   14    0sec\tloss:      0.489\tval_loss:      0.533\taccuracy_score:      0.759\tval_accuracy_score:      0.738\troc_auc_score:      0.851\tval_roc_auc_score:      0.812\t\n",
            "Epoch   15    0sec\tloss:      0.491\tval_loss:      0.529\taccuracy_score:      0.756\tval_accuracy_score:      0.727\troc_auc_score:      0.852\tval_roc_auc_score:      0.816\t\n",
            "Epoch   16    0sec\tloss:      0.481\tval_loss:      0.528\taccuracy_score:      0.766\tval_accuracy_score:       0.73\troc_auc_score:      0.854\tval_roc_auc_score:      0.813\t\n",
            "Epoch   17    0sec\tloss:      0.479\tval_loss:      0.525\taccuracy_score:      0.774\tval_accuracy_score:      0.732\troc_auc_score:      0.855\tval_roc_auc_score:       0.82\t\n",
            "Epoch   18    0sec\tloss:      0.475\tval_loss:      0.523\taccuracy_score:      0.768\tval_accuracy_score:      0.745\troc_auc_score:      0.854\tval_roc_auc_score:       0.82\t\n",
            "Epoch   19    0sec\tloss:      0.475\tval_loss:      0.523\taccuracy_score:      0.767\tval_accuracy_score:      0.738\troc_auc_score:      0.858\tval_roc_auc_score:      0.821\t\n",
            "Epoch   20    0sec\tloss:      0.475\tval_loss:      0.532\taccuracy_score:      0.764\tval_accuracy_score:      0.743\troc_auc_score:      0.857\tval_roc_auc_score:      0.823\t\n",
            "Epoch   21    0sec\tloss:      0.478\tval_loss:      0.519\taccuracy_score:      0.764\tval_accuracy_score:      0.727\troc_auc_score:      0.862\tval_roc_auc_score:      0.826\t\n",
            "Epoch   22    0sec\tloss:      0.468\tval_loss:      0.519\taccuracy_score:      0.772\tval_accuracy_score:      0.735\troc_auc_score:       0.86\tval_roc_auc_score:      0.824\t\n",
            "Epoch   23    0sec\tloss:      0.465\tval_loss:      0.519\taccuracy_score:      0.778\tval_accuracy_score:      0.738\troc_auc_score:      0.863\tval_roc_auc_score:       0.83\t\n",
            "Epoch   24    0sec\tloss:      0.465\tval_loss:      0.516\taccuracy_score:      0.775\tval_accuracy_score:      0.719\troc_auc_score:      0.865\tval_roc_auc_score:      0.824\t\n",
            "Epoch   25    0sec\tloss:      0.462\tval_loss:      0.521\taccuracy_score:      0.783\tval_accuracy_score:      0.743\troc_auc_score:      0.863\tval_roc_auc_score:      0.833\t\n",
            "Epoch   26    0sec\tloss:      0.462\tval_loss:      0.515\taccuracy_score:      0.777\tval_accuracy_score:      0.735\troc_auc_score:      0.864\tval_roc_auc_score:      0.827\t\n",
            "Epoch   27    0sec\tloss:      0.461\tval_loss:      0.514\taccuracy_score:      0.779\tval_accuracy_score:       0.74\troc_auc_score:      0.867\tval_roc_auc_score:      0.826\t\n",
            "Epoch   28    0sec\tloss:      0.459\tval_loss:      0.516\taccuracy_score:      0.784\tval_accuracy_score:      0.722\troc_auc_score:      0.867\tval_roc_auc_score:      0.826\t\n",
            "Epoch   29    0sec\tloss:      0.458\tval_loss:      0.515\taccuracy_score:       0.78\tval_accuracy_score:      0.743\troc_auc_score:      0.866\tval_roc_auc_score:      0.829\t\n",
            "Epoch   30    0sec\tloss:      0.459\tval_loss:      0.513\taccuracy_score:      0.775\tval_accuracy_score:      0.738\troc_auc_score:      0.865\tval_roc_auc_score:      0.828\t\n",
            "Epoch   31    0sec\tloss:      0.457\tval_loss:      0.516\taccuracy_score:      0.785\tval_accuracy_score:      0.727\troc_auc_score:      0.865\tval_roc_auc_score:      0.824\t\n",
            "Epoch   32    0sec\tloss:      0.457\tval_loss:      0.515\taccuracy_score:       0.78\tval_accuracy_score:      0.745\troc_auc_score:      0.867\tval_roc_auc_score:       0.83\t\n",
            "Epoch   33    0sec\tloss:      0.456\tval_loss:      0.512\taccuracy_score:      0.781\tval_accuracy_score:       0.74\troc_auc_score:      0.867\tval_roc_auc_score:      0.832\t\n",
            "Epoch   34    0sec\tloss:      0.454\tval_loss:      0.511\taccuracy_score:      0.787\tval_accuracy_score:      0.735\troc_auc_score:      0.868\tval_roc_auc_score:      0.829\t\n",
            "Epoch   35    0sec\tloss:      0.453\tval_loss:      0.514\taccuracy_score:      0.786\tval_accuracy_score:      0.748\troc_auc_score:      0.868\tval_roc_auc_score:      0.829\t\n",
            "Epoch   36    0sec\tloss:      0.455\tval_loss:      0.509\taccuracy_score:      0.789\tval_accuracy_score:      0.735\troc_auc_score:      0.872\tval_roc_auc_score:      0.827\t\n",
            "Epoch   37    0sec\tloss:      0.451\tval_loss:       0.51\taccuracy_score:      0.787\tval_accuracy_score:      0.732\troc_auc_score:      0.868\tval_roc_auc_score:      0.829\t\n",
            "Epoch   38    0sec\tloss:      0.452\tval_loss:      0.511\taccuracy_score:      0.782\tval_accuracy_score:      0.745\troc_auc_score:      0.871\tval_roc_auc_score:      0.829\t\n",
            "Epoch   39    0sec\tloss:      0.453\tval_loss:      0.508\taccuracy_score:      0.784\tval_accuracy_score:       0.74\troc_auc_score:       0.87\tval_roc_auc_score:      0.835\t\n",
            "Epoch   40    0sec\tloss:       0.45\tval_loss:      0.509\taccuracy_score:      0.787\tval_accuracy_score:      0.738\troc_auc_score:      0.868\tval_roc_auc_score:      0.832\t\n",
            "Epoch   41    0sec\tloss:      0.449\tval_loss:      0.511\taccuracy_score:       0.79\tval_accuracy_score:      0.738\troc_auc_score:      0.873\tval_roc_auc_score:      0.833\t\n",
            "Epoch   42    0sec\tloss:      0.453\tval_loss:      0.509\taccuracy_score:      0.784\tval_accuracy_score:      0.743\troc_auc_score:      0.868\tval_roc_auc_score:      0.832\t\n",
            "Epoch   43    0sec\tloss:      0.447\tval_loss:      0.512\taccuracy_score:       0.79\tval_accuracy_score:      0.732\troc_auc_score:      0.871\tval_roc_auc_score:      0.832\t\n",
            "Epoch   44    0sec\tloss:      0.451\tval_loss:      0.506\taccuracy_score:      0.789\tval_accuracy_score:      0.738\troc_auc_score:       0.87\tval_roc_auc_score:      0.829\t\n",
            "Epoch   45    0sec\tloss:      0.447\tval_loss:      0.507\taccuracy_score:      0.785\tval_accuracy_score:      0.732\troc_auc_score:      0.872\tval_roc_auc_score:      0.831\t\n",
            "Epoch   46    0sec\tloss:      0.446\tval_loss:      0.504\taccuracy_score:      0.784\tval_accuracy_score:      0.738\troc_auc_score:      0.875\tval_roc_auc_score:      0.838\t\n",
            "Epoch   47    0sec\tloss:      0.445\tval_loss:      0.504\taccuracy_score:      0.784\tval_accuracy_score:       0.74\troc_auc_score:      0.872\tval_roc_auc_score:      0.834\t\n",
            "Epoch   48    0sec\tloss:      0.445\tval_loss:      0.505\taccuracy_score:      0.785\tval_accuracy_score:      0.732\troc_auc_score:      0.873\tval_roc_auc_score:      0.833\t\n",
            "Epoch   49    0sec\tloss:      0.446\tval_loss:      0.504\taccuracy_score:      0.789\tval_accuracy_score:       0.74\troc_auc_score:      0.874\tval_roc_auc_score:      0.834\t\n",
            "Epoch   50    0sec\tloss:      0.444\tval_loss:      0.505\taccuracy_score:      0.793\tval_accuracy_score:      0.751\troc_auc_score:      0.875\tval_roc_auc_score:      0.843\t\n",
            "\n",
            "Time total:      4.21 sec\n"
          ]
        }
      ]
    },
    {
      "cell_type": "code",
      "source": [
        "import matplotlib.pyplot as plt\n",
        "\n",
        "def plot_metric(history, name):\n",
        "  plt.title(f\"Model results with {name}\")\n",
        "  plt.plot(history[name], label='train')\n",
        "  plt.plot(history['val_'+name], label='val')\n",
        "  plt.xlabel('Epoch')\n",
        "  plt.ylabel(name)\n",
        "  plt.legend()\n",
        "\n",
        "\n",
        "plot_metric(history, 'loss')"
      ],
      "metadata": {
        "id": "rjb3THEH0B6P",
        "outputId": "c1e5b1e6-04eb-48dd-d1ae-64a3830c26d6",
        "colab": {
          "base_uri": "https://localhost:8080/",
          "height": 472
        }
      },
      "execution_count": null,
      "outputs": [
        {
          "output_type": "display_data",
          "data": {
            "text/plain": [
              "<Figure size 640x480 with 1 Axes>"
            ],
            "image/png": "[encoded data removed]"
          },
          "metadata": {}
        }
      ]
    },
    {
      "cell_type": "code",
      "source": [
        "plot_metric(history, 'accuracy_score')"
      ],
      "metadata": {
        "id": "5U_bqHYj0JUG",
        "outputId": "461d1eb2-03b4-4874-be9b-94d0493f16bb",
        "colab": {
          "base_uri": "https://localhost:8080/",
          "height": 472
        }
      },
      "execution_count": null,
      "outputs": [
        {
          "output_type": "display_data",
          "data": {
            "text/plain": [
              "<Figure size 640x480 with 1 Axes>"
            ],
            "image/png": "[encoded data removed]"
          },
          "metadata": {}
        }
      ]
    },
    {
      "cell_type": "code",
      "source": [
        "from sklearn.metrics import ConfusionMatrixDisplay, RocCurveDisplay\n",
        "\n",
        "y_pred = model.predict(X_test)\n",
        "\n",
        "ConfusionMatrixDisplay.from_predictions(y_test, y_pred.round())\n",
        "plt.plot()\n",
        "\n",
        "RocCurveDisplay.from_predictions(y_test, y_pred, pos_label=1)"
      ],
      "metadata": {
        "id": "wiSNqgh30Mp0",
        "outputId": "4dbef077-ea07-4ec1-9fe9-3e73e5decaf4",
        "colab": {
          "base_uri": "https://localhost:8080/",
          "height": 898
        }
      },
      "execution_count": null,
      "outputs": [
        {
          "output_type": "execute_result",
          "data": {
            "text/plain": [
              "<sklearn.metrics._plot.roc_curve.RocCurveDisplay at 0x7aa657d829e0>"
            ]
          },
          "metadata": {},
          "execution_count": 49
        },
        {
          "output_type": "display_data",
          "data": {
            "text/plain": [
              "<Figure size 640x480 with 2 Axes>"
            ],
            "image/png": "[encoded data removed]"
          },
          "metadata": {}
        },
        {
          "output_type": "display_data",
          "data": {
            "text/plain": [
              "<Figure size 640x480 with 1 Axes>"
            ],
            "image/png": "[encoded data removed]"
          },
          "metadata": {}
        }
      ]
    },
    {
      "cell_type": "markdown",
      "source": [
        "# Завдання 6\n",
        "Збережіть нейромережу та зробіть прогноз"
      ],
      "metadata": {
        "id": "aoclw4XlgPhB"
      }
    },
    {
      "cell_type": "code",
      "source": [
        "torch.save(model, 'model.pt')"
      ],
      "metadata": {
        "id": "UzVFg-KjgYgy"
      },
      "execution_count": null,
      "outputs": []
    },
    {
      "cell_type": "code",
      "source": [
        "loaded_model = torch.load('model.pt')"
      ],
      "metadata": {
        "id": "cCmMKDMo5JCP"
      },
      "execution_count": null,
      "outputs": []
    },
    {
      "cell_type": "code",
      "source": [
        "loaded_model"
      ],
      "metadata": {
        "id": "D2yU2Ymn5Vm4",
        "outputId": "56a4331d-093f-46d1-f1c6-06ec4b439a3b",
        "colab": {
          "base_uri": "https://localhost:8080/"
        }
      },
      "execution_count": null,
      "outputs": [
        {
          "output_type": "execute_result",
          "data": {
            "text/plain": [
              "BinaryClassifier(\n",
              "  (linear1): Linear(in_features=8, out_features=100, bias=True)\n",
              "  (linear2): Linear(in_features=100, out_features=50, bias=True)\n",
              "  (linear3): Linear(in_features=50, out_features=1, bias=True)\n",
              ")"
            ]
          },
          "metadata": {},
          "execution_count": 52
        }
      ]
    },
    {
      "cell_type": "code",
      "source": [
        "X_data = torch.FloatTensor([X.iloc[0,:].values])\n",
        "\n",
        "\n",
        "print(X_data)\n",
        "print(X_data.shape)"
      ],
      "metadata": {
        "id": "KNGh7nnf5mbp",
        "outputId": "4882406f-0139-43b2-c38e-c93dba203b8c",
        "colab": {
          "base_uri": "https://localhost:8080/"
        }
      },
      "execution_count": null,
      "outputs": [
        {
          "output_type": "stream",
          "name": "stdout",
          "text": [
            "tensor([[0.0588, 0.4271, 0.5410, 0.2636, 0.0000, 0.3300, 0.1166, 0.1667]])\n",
            "torch.Size([1, 8])\n"
          ]
        }
      ]
    },
    {
      "cell_type": "code",
      "source": [
        "with torch.no_grad():\n",
        "  print(loaded_model(X_data).round().item())"
      ],
      "metadata": {
        "id": "lEKrFEMU5tGA",
        "outputId": "af52eaa2-fa24-4995-bfc8-85e1db633265",
        "colab": {
          "base_uri": "https://localhost:8080/"
        }
      },
      "execution_count": null,
      "outputs": [
        {
          "output_type": "stream",
          "name": "stdout",
          "text": [
            "0.0\n"
          ]
        }
      ]
    }
  ]
}
