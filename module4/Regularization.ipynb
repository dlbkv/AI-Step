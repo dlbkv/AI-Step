{
  "nbformat": 4,
  "nbformat_minor": 0,
  "metadata": {
    "colab": {
      "provenance": [],
      "toc_visible": true,
      "include_colab_link": true
    },
    "kernelspec": {
      "name": "python3",
      "display_name": "Python 3"
    },
    "language_info": {
      "name": "python"
    }
  },
  "cells": [
    {
      "cell_type": "markdown",
      "metadata": {
        "id": "view-in-github",
        "colab_type": "text"
      },
      "source": [
        "<a href=\"https://colab.research.google.com/github/dlbkv/AI-Step/blob/lectures/module4/Regularization.ipynb\" target=\"_parent\"><img src=\"https://colab.research.google.com/assets/colab-badge.svg\" alt=\"Open In Colab\"/></a>"
      ]
    },
    {
      "cell_type": "markdown",
      "source": [
        "# Методи регуляризації для запобігання перенавчання нейронних мереж\n",
        "\n",
        "У нейронних мережах перенавчання є серйозною проблемою, коли модель чудово працює на навчальних даних, але не може узагальнити непередбачувані приклади. Методи регуляризації діють як запобіжники, вводячи обмеження або штрафи, які не дають моделі стати надмірно складною і запам'ятовувати навчальні дані замість того, щоб вивчати основні закономірності."
      ],
      "metadata": {
        "id": "cX7XRlHM5Zl5"
      }
    },
    {
      "cell_type": "markdown",
      "source": [
        "# Розуміння проблеми перенавчання\n",
        "\n",
        "Уявіть, що ви навчаєте модель класифікувати рукописні цифри. Під час навчання модель може навчитися ідентифікувати специфічні особливості або закономірності, характерні для певних цифр у навчальній вибірці. Наприклад, вона може зафіксувати маленьку діагональну лінію як визначальну характеристику цифри \"7\". Однак ці ознаки не можуть бути узагальнені на нові цифри з невеликими варіаціями, наприклад, з нахилом лінії. Це може призвести до низької продуктивності на нових даних, навіть якщо модель досягає високої точності на навчальних даних.\n",
        "\n",
        "![](https://static.javatpoint.com/tutorial/machine-learning/images/overfitting-in-machine-learning3.jpg)\n"
      ],
      "metadata": {
        "id": "eDTeXJ8J5dL0"
      }
    },
    {
      "cell_type": "markdown",
      "source": [
        "\n",
        "\n",
        "## Dropout\n",
        " Ця техніка випадковим чином \"відсіває\" певний відсоток нейронів під час навчання. Тимчасово видаляючи ці нейрони з мережі, відсів змушує нейрони, що залишилися, вивчати специфічні ознаки з даних і запобігає надмірній залежності від будь-якого конкретного нейрона. Це спонукає модель розвивати більш надійні функції, які менш чутливі до відсутності окремих нейронів.\n",
        "\n",
        " ![](https://media.licdn.com/dms/image/C4D12AQEgQmpFt-mI7Q/article-cover_image-shrink_720_1280/0/1595924298540?e=2147483647&v=beta&t=jfjUwRMl6awnN-QKfQjBz9l8Umoeip_PjE8RtHO5uqM)\n",
        "\n",
        "```python\n",
        "# Приклад: Шар відсіву з ймовірністю відсіву 20%\n",
        "dropout = nn.Dropout(p=0.2)\n",
        "```"
      ],
      "metadata": {
        "id": "cW6lbfnq5pG0"
      }
    },
    {
      "cell_type": "markdown",
      "source": [
        "## Пакетна нормалізація (BatchNorm)\n",
        "Ця методика вирішує проблему внутрішнього коваріаційного зсуву, коли розподіл активацій між шарами змінюється під час навчання. BatchNorm нормалізує активації прихованих шарів, роблячи процес навчання більш стабільним і менш чутливим до початкових значень. Ця покращена стабільність може допомогти зменшити надмірне пристосування.\n",
        "\n",
        "![](https://udohsolomon.github.io/assets/images/gradientdescent.png)\n",
        "\n",
        "```python\n",
        "# Приклад: Шар BatchNorm\n",
        "batch_norm = nn.BatchNorm1d(num_features)\n",
        "```"
      ],
      "metadata": {
        "id": "WKGVMD346nDH"
      }
    },
    {
      "cell_type": "markdown",
      "source": [
        "# Оптимізатори з вбудованою регуляризацією"
      ],
      "metadata": {
        "id": "WqCiobSY6zk1"
      }
    },
    {
      "cell_type": "markdown",
      "source": [
        "## RMSprop (Root Mean Square Prop)\n",
        " Цей оптимізатор вирішує проблему зменшення швидкості навчання, що спостерігається у Adagrad, адаптуючи швидкість навчання на основі експоненціально спадаючого середнього квадратичного градієнта. Це особливо корисно для проблем з нестаціонарними або розрідженими градієнтами, де традиційний SGD може не впоратися.\n",
        "\n",
        "```python\n",
        "optimizer = torch.optim.RMSprop(model.parameters(), lr=0.01)\n",
        "```"
      ],
      "metadata": {
        "id": "JN7EX8WR61sv"
      }
    },
    {
      "cell_type": "markdown",
      "source": [
        "## Adam (Adaptive Moment Estimation)\n",
        " Цей оптимізатор є розширенням RMSprop, яке включає як ковзні середні градієнта, так і квадрати градієнта. Це робить його популярним вибором для різних архітектур нейронних мереж. Adam може допомогти вирішити проблему надмірного пристосування, динамічно регулюючи швидкість навчання на основі минулих градієнтів.\n",
        "\n",
        "```python\n",
        "optimizer = torch.optim.Adam(model.parameters(), lr=0.001)\n",
        "```"
      ],
      "metadata": {
        "id": "6bwsG5tS7D8-"
      }
    },
    {
      "cell_type": "markdown",
      "source": [
        "# Заохочення розрідженості ваги\n",
        "\n",
        "Ця техніка карає модель за великі ваги під час тренування. Додаючи до функції втрат нормальний штрафний член L1 або L2, вагове спадання не дає моделі присвоювати надмірні ваги певним нейронам і сприяє розрідженню ваг, що призводить до спрощення моделі, менш схильної до перенавчання.\n",
        "\n",
        "![](https://i0.wp.com/vitalflux.com/wp-content/uploads/2022/06/learning-algorithm-in-weight-decay-technique.png?resize=529%2C115&ssl=1)\n",
        "\n",
        "Спадання ваг можна легко вбудувати у конструктор оптимізатора:\n",
        "\n",
        "```python\n",
        "optimizer = torch.optim.Adam(model.parameters(), lr=0.01, weight_decay=0.001)\n",
        "```"
      ],
      "metadata": {
        "id": "VHYSgLXz7NaU"
      }
    },
    {
      "cell_type": "markdown",
      "source": [
        "# Графіки швидкості навчання\n",
        "\n",
        "Швидкість навчання, яка контролює розмір кроку для оновлення ваг під час навчання, також може бути формою регуляризації. Поступово зменшуючи швидкість навчання з часом, ви можете запобігти великому оновленню моделі, яке може призвести до надмірного пристосування. Нижче наведено загальні методи планування швидкості навчання:\n",
        "\n",
        "* **StepLR:** Зменшує швидкість навчання на коефіцієнт (наприклад, 0.1) через кожну певну кількість епох.\n",
        "* **ReduceLROnPlateau:** Зменшує швидкість навчання, коли втрати при перевірці перестають покращуватися протягом певної кількості епох. Це корисна техніка для виявлення та реагування на потенційні ознаки надмірного пристосування під час навчання.\n",
        "```python\n",
        "optimizer = optim.Adam(model.parameters(), lr=0.01)\n",
        "# Define learning rate scheduler\n",
        "scheduler = optim.lr_scheduler.StepLR(optimizer, step_size=1, gamma=0.1)```\n",
        "\n",
        "![](https://pbs.twimg.com/media/FeQmxyQX0AAx63h?format=jpg&name=4096x4096)\n",
        "\n",
        "\n",
        "[документація](https://pytorch.org/docs/stable/optim.html#how-to-adjust-learning-rate)\n"
      ],
      "metadata": {
        "id": "zKo8_-9Y_KcI"
      }
    },
    {
      "cell_type": "markdown",
      "source": [
        "# Архітектура\n",
        "\n",
        "Коли нейронні мережі стають глибшими, вони стикаються з проблемою, відомою як зникаючі градієнти. Це явище ускладнює вивчення мережею довгострокових залежностей у даних, що знижує продуктивність. Дві інноваційні архітектури, залишкові мережі (ResNets) та початкові модулі, вирішують цю проблему і стали фундаментальними будівельними блоками для потужних моделей глибокого навчання."
      ],
      "metadata": {
        "id": "9HBWd7jOCMd9"
      }
    },
    {
      "cell_type": "markdown",
      "source": [
        "## Залишкові мережі (ResNets)\n",
        "\n",
        "Основна ідея залишкових мереж полягає у введенні **пропускних зв'язків**, які дозволяють мережі вивчати відображення ідентичності (просто копіюючи вхідні дані) разом з бажаним перетворенням. Це дозволяє навіть дуже глибоким мережам ефективно навчатися і вивчати складні представлення.\n",
        "\n",
        "**Структура залишкового блоку:**.\n",
        "\n",
        "Типовий залишковий блок складається з таких елементів:\n",
        "\n",
        "* **Вхідний шар:** Отримує вхідні дані.\n",
        "* **Нелінійні перетворення:** Це можуть бути шари згортки, за якими слідують функції активації (наприклад, ReLU). Ці шари виконують потрібне вилучення та перетворення ознак.\n",
        "* **Пропустити з'єднання:** Безпосередньо додає вхідні дані до вихідних після нелінійних перетворень. Це гарантує, що на виході зберігається вихідна інформація, а також включаються вивчені ознаки.\n",
        "* **Вихідний шар:** Сума пропускного з'єднання та перетвореного виходу.\n",
        "\n",
        "<div>\n",
        "<img src=https://miro.medium.com/v2/resize:fit:850/1*Kz6QbXWiQQQJCJdgK1b-7Q.png width=\"500\"/>\n",
        "</div>\n",
        "\n",
        "\n",
        "\n",
        "**Переваги залишкових мереж**\n",
        "\n",
        "* **Полегшує проблему зникаючих градієнтів:** Забезпечуючи прямий шлях для градієнтів назад через мережу, залишкові зв'язки допомагають подолати проблему зникаючих градієнтів, дозволяючи більш глибоким мережам ефективно навчатися.\n",
        "* **Покращена продуктивність:** ResNets продемонстрували найсучаснішу продуктивність при виконанні різних завдань комп'ютерного зору, включаючи класифікацію зображень і виявлення об'єктів.\n",
        "* **Модульна конструкція:** Залишкові блоки можна легко складати в стек для створення дуже глибоких мереж без втрати точності.\n"
      ],
      "metadata": {
        "id": "XYFBcJ1DCQPF"
      }
    },
    {
      "cell_type": "markdown",
      "source": [
        "\n",
        "## Початкові модулі(Inception)\n",
        "\n",
        "Початкові модулі призначені для ефективного захоплення об'єктів різного масштабу на зображенні. Це досягається за рахунок використання фільтрів з різними розмірами ядра (наприклад, 1х1, 3х3, 5х5) в межах одного модуля.\n",
        "\n",
        "**Структура початкового модуля:**.\n",
        "\n",
        "Початковий модуль зазвичай складається з чотирьох паралельних гілок:\n",
        "\n",
        "* **Згортка 1х1:** Виділяє ознаки, що відповідають невеликим просторовим областям.\n",
        "* **Згортання 3x3 зі зменшенням 1x1:** Зменшує розмірність перед застосуванням згортки 3x3 для захоплення об'єктів середнього розміру.\n",
        "* **Згортка 5x5 зі зменшенням 1x1:** Подібно до гілки 3x3, але фокусується на об'єктах більшого масштабу.\n",
        "* **Максимальне об'єднання:** Зменшує вибірку вхідних даних для захоплення просторової інформації в різних масштабах.\n",
        "\n",
        "![](https://media.springernature.com/lw685/springer-static/image/chp%3A10.1007%2F978-3-030-29611-7_8/MediaObjects/488338_1_En_8_Fig2_HTML.png)\n",
        "\n",
        "Переваги початкових модулів:\n",
        "\n",
        "* **Ефективне вилучення об'єктів:** Початкові модулі фіксують об'єкти різних масштабів у межах одного модуля, що підвищує ефективність порівняно з традиційними згортковими шарами з фільтрами різного розміру, які послідовно накладаються один на одного.\n",
        "* **Зменшена кількість параметрів:** Завдяки використанню менших фільтрів у гілках, початкові модулі досягають високої продуктивності з меншою кількістю параметрів порівняно з деякими іншими архітектурами.\n",
        "* **Висока продуктивність:** Архітектури Inception (наприклад, InceptionV3) досягли вражаючих результатів у різних задачах класифікації зображень і виявлення об'єктів.\n",
        "\n",
        "**Вибір правильної архітектури:**\n",
        "\n",
        "* **ResNets:** Часто є кращим вибором для більш глибоких мереж завдяки своїй здатності пом'якшувати зникаючі градієнти та досягати чудової продуктивності.\n",
        "* **Початкові модулі:** Добре підходять для захоплення об'єктів у різних масштабах і пропонують більш ефективний спосіб вилучення складних об'єктів зображення.\n",
        "\n",
        "**На закінчення, як залишкові, так і початкові модулі є потужними архітектурними досягненнями, які суттєво вплинули на сферу глибокого навчання. Розуміння їхніх основних принципів та переваг допоможе вам приймати обґрунтовані рішення при розробці або виборі архітектури для ваших нейромережевих задач.**."
      ],
      "metadata": {
        "id": "DMnWDXtoB8Yg"
      }
    },
    {
      "cell_type": "markdown",
      "source": [
        "# Нейронні мережі з декількома навчальними частинами\n",
        "\n",
        "Нейронні мережі з декількома навчальними головками пропонують потужний підхід для навчання моделей глибокого навчання. Ця архітектура виходить за рамки простої регуляризації та зменшення зникаючих градієнтів, відкриваючи кілька переваг для різних завдань. Ось короткий опис концепції та її переваг:\n",
        "\n",
        "**Що таке множинні навчальні головки?**\n",
        "\n",
        "У типовій нейронній мережі дані проходять через шари, які поступово виділяють ознаки і в кінцевому підсумку призводять до єдиного результату для конкретного завдання (наприклад, класифікація зображень, аналіз настроїв). На відміну від цього, мережа з декількома навчальними головками має загальну основу для вилучення ознак, за якою слідують кілька незалежних \"головок\", кожна з яких прогнозує різні результати для різних, але пов'язаних між собою завдань.\n",
        "\n",
        "![](https://miro.medium.com/v2/resize:fit:685/1*cKFzdA8HNRJ0haKm5DiTtA.png)\n",
        "\n",
        "Переваги декількох навчальних головок:\n",
        "\n",
        "* **Регуляризація:** Маючи кілька виходів з окремими функціями втрат, модель змушена вивчати більш надійні та узагальнюючі ознаки. Це може допомогти запобігти надмірному пристосуванню до будь-якої окремої задачі.\n",
        "* **Покращена продуктивність:** Спільне використання магістралі вилучення ознак дозволяє мережі вивчати ознаки, що стосуються всіх завдань, потенційно покращуючи продуктивність на кожному окремому завданні порівняно з окремими моделями, навченими незалежно один від одного.\n",
        "* **Багатозадачне навчання:** Ця архітектура особливо добре підходить для сценаріїв багатозадачного навчання, коли кілька пов'язаних між собою завдань можуть отримати вигоду від спільного представлення. Наприклад, модель, що аналізує зображення, може мати головки для класифікації об'єктів, підписів до зображень і виявлення об'єктів, використовуючи одні й ті ж шари вилучення ознак.\n",
        "* **Ефективність:** Навчання однієї мережі з декількома головками може бути ефективнішим, ніж навчання окремих моделей для кожної задачі, особливо коли задачі мають спільний простір ознак.\n",
        "* **Запобігання зникненню градієнтів (непряма перевага):** Хоча це не є основною метою використання декількох головок, глибший екстрактор спільних ознак теоретично може запобігати зникненню градієнтів для окремих задач порівняно з дуже глибокими однозадачними мережами. Однак такі методи, як залишкові зв'язки, все ще можуть бути необхідними для дуже глибоких архітектур.\n",
        "\n",
        "**Приклади застосувань:** * Розпізнавання зображень\n",
        "\n",
        "* **Розпізнавання зображень:** Модель може мати окремі головки для класифікації об'єктів, виявлення об'єктів і сегментації зображень, використовуючи ті самі візуальні ознаки.\n",
        "* **Обробка природної мови:** Мережа може мати головки для аналізу настроїв, класифікації тем і розпізнавання іменованих об'єктів у спільному текстовому представленні.\n",
        "* **Системи рекомендацій:** Модель може передбачати вподобання користувача для різних категорій (наприклад, фільмів, музики) на основі спільних характеристик користувача та об'єкта.\n",
        "\n",
        "**Міркування щодо реалізації:**\n",
        "\n",
        "* **Подібність завдань:** Завдання зі спільними заголовками повинні бути пов'язані між собою, щоб отримати вигоду від спільного використання функцій.\n",
        "* **Дизайн голівки:** Архітектура кожної голівки повинна бути пристосована до конкретного результату відповідної задачі.\n",
        "* **Поєднання функцій втрат:** Вам може знадобитися об'єднати функції втрат кожної з головок з відповідним зважуванням, щоб збалансувати їхню важливість під час навчання.\n",
        "\n",
        "**Висновок:**\n",
        "\n",
        "Нейронні мережі з декількома навчальними головками - це універсальна і потужна архітектура, яка пропонує переваги, що виходять за рамки простої регуляризації. Завдяки використанню спільного вилучення функцій і специфічних для завдання виходів, цей підхід може підвищити продуктивність, підвищити ефективність і забезпечити ефективне багатозадачне навчання. Оскільки глибоке навчання продовжує розвиватися, ця архітектура, ймовірно, буде відігравати все більш важливу роль у різних додатках."
      ],
      "metadata": {
        "id": "BTtXU_9GGURF"
      }
    },
    {
      "cell_type": "markdown",
      "source": [
        "#  Імпорт бібліотек"
      ],
      "metadata": {
        "id": "hOW-oZujqs7d"
      }
    },
    {
      "cell_type": "code",
      "execution_count": null,
      "metadata": {
        "id": "w4zIrOVsPHJz"
      },
      "outputs": [],
      "source": [
        "import torch\n",
        "import pandas as pd\n",
        "\n",
        "device = \"cuda\" if torch.cuda.is_available() else \"cpu\"\n",
        "torch.set_default_device(device)"
      ]
    },
    {
      "cell_type": "markdown",
      "source": [
        "# Створення Dataset"
      ],
      "metadata": {
        "id": "s-qfZXZhq1b9"
      }
    },
    {
      "cell_type": "code",
      "source": [
        "df = pd.read_csv(\"https://raw.githubusercontent.com/HalyshAnton/IT-Step-Pyton-AI/main/module3/data/Airline%20Passenger%20Satisfaction.csv\",\n",
        "                 usecols=['Ease of Online booking', 'Inflight wifi service', 'Food and drink', 'Seat comfort', 'satisfaction']\n",
        "                 )\n",
        "\n",
        "df['satisfaction'] = df['satisfaction'].map({'satisfied': 1, 'neutral or dissatisfied': 0})\n",
        "\n",
        "df.head()"
      ],
      "metadata": {
        "colab": {
          "base_uri": "https://localhost:8080/",
          "height": 206
        },
        "id": "IersguI8E_In",
        "outputId": "0851cd52-a5b7-4128-86b8-7a4c7e16df69"
      },
      "execution_count": null,
      "outputs": [
        {
          "output_type": "execute_result",
          "data": {
            "text/plain": [
              "   Inflight wifi service  Ease of Online booking  Food and drink  \\\n",
              "0                      5                       3               3   \n",
              "1                      1                       3               5   \n",
              "2                      2                       2               2   \n",
              "3                      0                       0               3   \n",
              "4                      2                       4               4   \n",
              "\n",
              "   Seat comfort  satisfaction  \n",
              "0             3             1  \n",
              "1             5             1  \n",
              "2             2             0  \n",
              "3             4             1  \n",
              "4             2             1  "
            ],
            "text/html": [
              "\n",
              "  <div id=\"df-5c83ccf0-d120-49fe-a10e-312faa632867\" class=\"colab-df-container\">\n",
              "    <div>\n",
              "<style scoped>\n",
              "    .dataframe tbody tr th:only-of-type {\n",
              "        vertical-align: middle;\n",
              "    }\n",
              "\n",
              "    .dataframe tbody tr th {\n",
              "        vertical-align: top;\n",
              "    }\n",
              "\n",
              "    .dataframe thead th {\n",
              "        text-align: right;\n",
              "    }\n",
              "</style>\n",
              "<table border=\"1\" class=\"dataframe\">\n",
              "  <thead>\n",
              "    <tr style=\"text-align: right;\">\n",
              "      <th></th>\n",
              "      <th>Inflight wifi service</th>\n",
              "      <th>Ease of Online booking</th>\n",
              "      <th>Food and drink</th>\n",
              "      <th>Seat comfort</th>\n",
              "      <th>satisfaction</th>\n",
              "    </tr>\n",
              "  </thead>\n",
              "  <tbody>\n",
              "    <tr>\n",
              "      <th>0</th>\n",
              "      <td>5</td>\n",
              "      <td>3</td>\n",
              "      <td>3</td>\n",
              "      <td>3</td>\n",
              "      <td>1</td>\n",
              "    </tr>\n",
              "    <tr>\n",
              "      <th>1</th>\n",
              "      <td>1</td>\n",
              "      <td>3</td>\n",
              "      <td>5</td>\n",
              "      <td>5</td>\n",
              "      <td>1</td>\n",
              "    </tr>\n",
              "    <tr>\n",
              "      <th>2</th>\n",
              "      <td>2</td>\n",
              "      <td>2</td>\n",
              "      <td>2</td>\n",
              "      <td>2</td>\n",
              "      <td>0</td>\n",
              "    </tr>\n",
              "    <tr>\n",
              "      <th>3</th>\n",
              "      <td>0</td>\n",
              "      <td>0</td>\n",
              "      <td>3</td>\n",
              "      <td>4</td>\n",
              "      <td>1</td>\n",
              "    </tr>\n",
              "    <tr>\n",
              "      <th>4</th>\n",
              "      <td>2</td>\n",
              "      <td>4</td>\n",
              "      <td>4</td>\n",
              "      <td>2</td>\n",
              "      <td>1</td>\n",
              "    </tr>\n",
              "  </tbody>\n",
              "</table>\n",
              "</div>\n",
              "    <div class=\"colab-df-buttons\">\n",
              "\n",
              "  <div class=\"colab-df-container\">\n",
              "    <button class=\"colab-df-convert\" onclick=\"convertToInteractive('df-5c83ccf0-d120-49fe-a10e-312faa632867')\"\n",
              "            title=\"Convert this dataframe to an interactive table.\"\n",
              "            style=\"display:none;\">\n",
              "\n",
              "  <svg xmlns=\"http://www.w3.org/2000/svg\" height=\"24px\" viewBox=\"0 -960 960 960\">\n",
              "    <path d=\"M120-120v-720h720v720H120Zm60-500h600v-160H180v160Zm220 220h160v-160H400v160Zm0 220h160v-160H400v160ZM180-400h160v-160H180v160Zm440 0h160v-160H620v160ZM180-180h160v-160H180v160Zm440 0h160v-160H620v160Z\"/>\n",
              "  </svg>\n",
              "    </button>\n",
              "\n",
              "  <style>\n",
              "    .colab-df-container {\n",
              "      display:flex;\n",
              "      gap: 12px;\n",
              "    }\n",
              "\n",
              "    .colab-df-convert {\n",
              "      background-color: #E8F0FE;\n",
              "      border: none;\n",
              "      border-radius: 50%;\n",
              "      cursor: pointer;\n",
              "      display: none;\n",
              "      fill: #1967D2;\n",
              "      height: 32px;\n",
              "      padding: 0 0 0 0;\n",
              "      width: 32px;\n",
              "    }\n",
              "\n",
              "    .colab-df-convert:hover {\n",
              "      background-color: #E2EBFA;\n",
              "      box-shadow: 0px 1px 2px rgba(60, 64, 67, 0.3), 0px 1px 3px 1px rgba(60, 64, 67, 0.15);\n",
              "      fill: #174EA6;\n",
              "    }\n",
              "\n",
              "    .colab-df-buttons div {\n",
              "      margin-bottom: 4px;\n",
              "    }\n",
              "\n",
              "    [theme=dark] .colab-df-convert {\n",
              "      background-color: #3B4455;\n",
              "      fill: #D2E3FC;\n",
              "    }\n",
              "\n",
              "    [theme=dark] .colab-df-convert:hover {\n",
              "      background-color: #434B5C;\n",
              "      box-shadow: 0px 1px 3px 1px rgba(0, 0, 0, 0.15);\n",
              "      filter: drop-shadow(0px 1px 2px rgba(0, 0, 0, 0.3));\n",
              "      fill: #FFFFFF;\n",
              "    }\n",
              "  </style>\n",
              "\n",
              "    <script>\n",
              "      const buttonEl =\n",
              "        document.querySelector('#df-5c83ccf0-d120-49fe-a10e-312faa632867 button.colab-df-convert');\n",
              "      buttonEl.style.display =\n",
              "        google.colab.kernel.accessAllowed ? 'block' : 'none';\n",
              "\n",
              "      async function convertToInteractive(key) {\n",
              "        const element = document.querySelector('#df-5c83ccf0-d120-49fe-a10e-312faa632867');\n",
              "        const dataTable =\n",
              "          await google.colab.kernel.invokeFunction('convertToInteractive',\n",
              "                                                    [key], {});\n",
              "        if (!dataTable) return;\n",
              "\n",
              "        const docLinkHtml = 'Like what you see? Visit the ' +\n",
              "          '<a target=\"_blank\" href=https://colab.research.google.com/notebooks/data_table.ipynb>data table notebook</a>'\n",
              "          + ' to learn more about interactive tables.';\n",
              "        element.innerHTML = '';\n",
              "        dataTable['output_type'] = 'display_data';\n",
              "        await google.colab.output.renderOutput(dataTable, element);\n",
              "        const docLink = document.createElement('div');\n",
              "        docLink.innerHTML = docLinkHtml;\n",
              "        element.appendChild(docLink);\n",
              "      }\n",
              "    </script>\n",
              "  </div>\n",
              "\n",
              "\n",
              "<div id=\"df-1876662a-ad48-43db-bc14-26d61b094ad6\">\n",
              "  <button class=\"colab-df-quickchart\" onclick=\"quickchart('df-1876662a-ad48-43db-bc14-26d61b094ad6')\"\n",
              "            title=\"Suggest charts\"\n",
              "            style=\"display:none;\">\n",
              "\n",
              "<svg xmlns=\"http://www.w3.org/2000/svg\" height=\"24px\"viewBox=\"0 0 24 24\"\n",
              "     width=\"24px\">\n",
              "    <g>\n",
              "        <path d=\"M19 3H5c-1.1 0-2 .9-2 2v14c0 1.1.9 2 2 2h14c1.1 0 2-.9 2-2V5c0-1.1-.9-2-2-2zM9 17H7v-7h2v7zm4 0h-2V7h2v10zm4 0h-2v-4h2v4z\"/>\n",
              "    </g>\n",
              "</svg>\n",
              "  </button>\n",
              "\n",
              "<style>\n",
              "  .colab-df-quickchart {\n",
              "      --bg-color: #E8F0FE;\n",
              "      --fill-color: #1967D2;\n",
              "      --hover-bg-color: #E2EBFA;\n",
              "      --hover-fill-color: #174EA6;\n",
              "      --disabled-fill-color: #AAA;\n",
              "      --disabled-bg-color: #DDD;\n",
              "  }\n",
              "\n",
              "  [theme=dark] .colab-df-quickchart {\n",
              "      --bg-color: #3B4455;\n",
              "      --fill-color: #D2E3FC;\n",
              "      --hover-bg-color: #434B5C;\n",
              "      --hover-fill-color: #FFFFFF;\n",
              "      --disabled-bg-color: #3B4455;\n",
              "      --disabled-fill-color: #666;\n",
              "  }\n",
              "\n",
              "  .colab-df-quickchart {\n",
              "    background-color: var(--bg-color);\n",
              "    border: none;\n",
              "    border-radius: 50%;\n",
              "    cursor: pointer;\n",
              "    display: none;\n",
              "    fill: var(--fill-color);\n",
              "    height: 32px;\n",
              "    padding: 0;\n",
              "    width: 32px;\n",
              "  }\n",
              "\n",
              "  .colab-df-quickchart:hover {\n",
              "    background-color: var(--hover-bg-color);\n",
              "    box-shadow: 0 1px 2px rgba(60, 64, 67, 0.3), 0 1px 3px 1px rgba(60, 64, 67, 0.15);\n",
              "    fill: var(--button-hover-fill-color);\n",
              "  }\n",
              "\n",
              "  .colab-df-quickchart-complete:disabled,\n",
              "  .colab-df-quickchart-complete:disabled:hover {\n",
              "    background-color: var(--disabled-bg-color);\n",
              "    fill: var(--disabled-fill-color);\n",
              "    box-shadow: none;\n",
              "  }\n",
              "\n",
              "  .colab-df-spinner {\n",
              "    border: 2px solid var(--fill-color);\n",
              "    border-color: transparent;\n",
              "    border-bottom-color: var(--fill-color);\n",
              "    animation:\n",
              "      spin 1s steps(1) infinite;\n",
              "  }\n",
              "\n",
              "  @keyframes spin {\n",
              "    0% {\n",
              "      border-color: transparent;\n",
              "      border-bottom-color: var(--fill-color);\n",
              "      border-left-color: var(--fill-color);\n",
              "    }\n",
              "    20% {\n",
              "      border-color: transparent;\n",
              "      border-left-color: var(--fill-color);\n",
              "      border-top-color: var(--fill-color);\n",
              "    }\n",
              "    30% {\n",
              "      border-color: transparent;\n",
              "      border-left-color: var(--fill-color);\n",
              "      border-top-color: var(--fill-color);\n",
              "      border-right-color: var(--fill-color);\n",
              "    }\n",
              "    40% {\n",
              "      border-color: transparent;\n",
              "      border-right-color: var(--fill-color);\n",
              "      border-top-color: var(--fill-color);\n",
              "    }\n",
              "    60% {\n",
              "      border-color: transparent;\n",
              "      border-right-color: var(--fill-color);\n",
              "    }\n",
              "    80% {\n",
              "      border-color: transparent;\n",
              "      border-right-color: var(--fill-color);\n",
              "      border-bottom-color: var(--fill-color);\n",
              "    }\n",
              "    90% {\n",
              "      border-color: transparent;\n",
              "      border-bottom-color: var(--fill-color);\n",
              "    }\n",
              "  }\n",
              "</style>\n",
              "\n",
              "  <script>\n",
              "    async function quickchart(key) {\n",
              "      const quickchartButtonEl =\n",
              "        document.querySelector('#' + key + ' button');\n",
              "      quickchartButtonEl.disabled = true;  // To prevent multiple clicks.\n",
              "      quickchartButtonEl.classList.add('colab-df-spinner');\n",
              "      try {\n",
              "        const charts = await google.colab.kernel.invokeFunction(\n",
              "            'suggestCharts', [key], {});\n",
              "      } catch (error) {\n",
              "        console.error('Error during call to suggestCharts:', error);\n",
              "      }\n",
              "      quickchartButtonEl.classList.remove('colab-df-spinner');\n",
              "      quickchartButtonEl.classList.add('colab-df-quickchart-complete');\n",
              "    }\n",
              "    (() => {\n",
              "      let quickchartButtonEl =\n",
              "        document.querySelector('#df-1876662a-ad48-43db-bc14-26d61b094ad6 button');\n",
              "      quickchartButtonEl.style.display =\n",
              "        google.colab.kernel.accessAllowed ? 'block' : 'none';\n",
              "    })();\n",
              "  </script>\n",
              "</div>\n",
              "    </div>\n",
              "  </div>\n"
            ],
            "application/vnd.google.colaboratory.intrinsic+json": {
              "type": "dataframe",
              "variable_name": "df",
              "summary": "{\n  \"name\": \"df\",\n  \"rows\": 25976,\n  \"fields\": [\n    {\n      \"column\": \"Inflight wifi service\",\n      \"properties\": {\n        \"dtype\": \"number\",\n        \"std\": 1,\n        \"min\": 0,\n        \"max\": 5,\n        \"num_unique_values\": 6,\n        \"samples\": [\n          5,\n          1,\n          4\n        ],\n        \"semantic_type\": \"\",\n        \"description\": \"\"\n      }\n    },\n    {\n      \"column\": \"Ease of Online booking\",\n      \"properties\": {\n        \"dtype\": \"number\",\n        \"std\": 1,\n        \"min\": 0,\n        \"max\": 5,\n        \"num_unique_values\": 6,\n        \"samples\": [\n          3,\n          2,\n          1\n        ],\n        \"semantic_type\": \"\",\n        \"description\": \"\"\n      }\n    },\n    {\n      \"column\": \"Food and drink\",\n      \"properties\": {\n        \"dtype\": \"number\",\n        \"std\": 1,\n        \"min\": 0,\n        \"max\": 5,\n        \"num_unique_values\": 6,\n        \"samples\": [\n          3,\n          5,\n          0\n        ],\n        \"semantic_type\": \"\",\n        \"description\": \"\"\n      }\n    },\n    {\n      \"column\": \"Seat comfort\",\n      \"properties\": {\n        \"dtype\": \"number\",\n        \"std\": 1,\n        \"min\": 1,\n        \"max\": 5,\n        \"num_unique_values\": 5,\n        \"samples\": [\n          5,\n          1,\n          2\n        ],\n        \"semantic_type\": \"\",\n        \"description\": \"\"\n      }\n    },\n    {\n      \"column\": \"satisfaction\",\n      \"properties\": {\n        \"dtype\": \"number\",\n        \"std\": 0,\n        \"min\": 0,\n        \"max\": 1,\n        \"num_unique_values\": 2,\n        \"samples\": [\n          0,\n          1\n        ],\n        \"semantic_type\": \"\",\n        \"description\": \"\"\n      }\n    }\n  ]\n}"
            }
          },
          "metadata": {},
          "execution_count": 2
        }
      ]
    },
    {
      "cell_type": "code",
      "source": [
        "from torch.utils.data import Dataset\n",
        "from sklearn.model_selection import train_test_split\n",
        "\n",
        "class MyDataset(Dataset):\n",
        "    def __init__(self, X, y):\n",
        "      self.X = torch.FloatTensor(X.values)\n",
        "      self.y = torch.FloatTensor(y.values)\n",
        "      self.y = self.y.reshape(-1, 1)\n",
        "\n",
        "    def __len__(self):\n",
        "      return len(self.X)\n",
        "\n",
        "    def __getitem__(self, idx):\n",
        "      return self.X[idx], self.y[idx]\n",
        "\n",
        "# Create dataset object\n",
        "X = df.drop(columns=['satisfaction'])\n",
        "y = df['satisfaction']\n",
        "\n",
        "dataset = MyDataset(X, y)"
      ],
      "metadata": {
        "id": "7rsPdGlnq_YZ"
      },
      "execution_count": null,
      "outputs": []
    },
    {
      "cell_type": "code",
      "source": [
        "X_train, X_test, y_train, y_test = train_test_split(X, y,\n",
        "                                                    train_size=0.8,\n",
        "                                                    random_state=42,\n",
        "                                                    stratify=y)\n",
        "\n",
        "dataset_train = MyDataset(X_train, y_train)\n",
        "dataset_test = MyDataset(X_test, y_test)"
      ],
      "metadata": {
        "id": "syD15_uzzfEt"
      },
      "execution_count": null,
      "outputs": []
    },
    {
      "cell_type": "markdown",
      "source": [
        "* Створюємо Dataset даних з ознаками `X` та відповідними цільовими значеннями `y`.\n",
        "* Клас `MyDataset` успадковується від `torch.utils.data.Dataset` і визначає методи доступу до даних.\n",
        "* `__len__` повертає розмір набору даних.\n",
        "* `__getitem__` повертає вибірку даних (ознаки та ціль) за певним індексом."
      ],
      "metadata": {
        "id": "prL2G9jYrQug"
      }
    },
    {
      "cell_type": "markdown",
      "source": [
        "# Створення DataLoader"
      ],
      "metadata": {
        "id": "mqTr8xZarhX4"
      }
    },
    {
      "cell_type": "code",
      "source": [
        "from torch.utils.data import DataLoader\n",
        "\n",
        "batch_size = 512\n",
        "train_dl = DataLoader(dataset_train,  # датасет з даними\n",
        "                      batch_size=batch_size,  # кількість даних в одному пакеті\n",
        "                      shuffle=True)  # чи треба перемішувати дані)\n",
        "\n",
        "test_dl = DataLoader(dataset_test,  # датасет з даними\n",
        "                     batch_size=batch_size,  # кількість даних в одному пакеті\n",
        "                     shuffle=True)  # чи треба перемішувати дані)"
      ],
      "metadata": {
        "id": "MrFMiR_Irdrw"
      },
      "execution_count": null,
      "outputs": []
    },
    {
      "cell_type": "markdown",
      "source": [
        "* `DataLoader` керує пакетним завантаженням та перемішуванням набору даних під час навчання.\n",
        "* ``batch_size`` задає кількість вибірок, що обробляються разом у кожній ітерації.\n",
        "* `shuffle=True` рандомізує порядок зразків у кожній епосі (навчальній ітерації)."
      ],
      "metadata": {
        "id": "wJV_jwIGr-Zz"
      }
    },
    {
      "cell_type": "markdown",
      "source": [
        "# Створення моделі"
      ],
      "metadata": {
        "id": "DyHI6wNLX0NE"
      }
    },
    {
      "cell_type": "markdown",
      "source": [
        "## Блок"
      ],
      "metadata": {
        "id": "04d24lbhR8F0"
      }
    },
    {
      "cell_type": "code",
      "source": [
        "import numpy as np\n",
        "from torch import nn\n",
        "import torch.nn.functional as F\n",
        "\n",
        "\n",
        "class Block(nn.Module):\n",
        "    def __init__(self, input_dim, output_dim):\n",
        "        super().__init__()\n",
        "\n",
        "        self.linear = nn.Linear(input_dim, output_dim)\n",
        "        self.linear1 = nn.Linear(output_dim, output_dim)\n",
        "        self.linear2 = nn.Linear(output_dim, output_dim)\n",
        "\n",
        "        self.bn1 = nn.BatchNorm1d(output_dim)\n",
        "        self.bn2 = nn.BatchNorm1d(output_dim)\n",
        "\n",
        "\n",
        "\n",
        "    def forward(self, x):\n",
        "        x = self.linear(x)\n",
        "        x = F.relu(x)   # output_dim\n",
        "\n",
        "        out = self.linear1(x) # output_dim\n",
        "        out = self.bn1(out)\n",
        "        out = F.relu(out)\n",
        "\n",
        "        out = self.linear2(out)\n",
        "        out = self.bn2(out)\n",
        "        out = F.relu(out) # output_dim\n",
        "\n",
        "        return out + x  # output_dim\n",
        "\n"
      ],
      "metadata": {
        "id": "wccdkA7AR52q"
      },
      "execution_count": null,
      "outputs": []
    },
    {
      "cell_type": "markdown",
      "source": [
        "## Модель"
      ],
      "metadata": {
        "id": "aIhiWRmRSBay"
      }
    },
    {
      "cell_type": "code",
      "source": [
        "class BinaryClassifier(nn.Module):\n",
        "    def __init__(self, input_dim, hidden_dim, output_dim):\n",
        "        super().__init__()\n",
        "\n",
        "        self.all_layers = nn.Sequential(\n",
        "          Block(input_dim, hidden_dim),\n",
        "          nn.Dropout(0.2),\n",
        "          Block(hidden_dim, hidden_dim//2),\n",
        "\n",
        "          nn.Linear(hidden_dim//2, hidden_dim//2),\n",
        "          nn.ReLU(),\n",
        "          nn.Linear(hidden_dim//2, output_dim),\n",
        "          nn.Sigmoid()\n",
        "        )\n",
        "\n",
        "    def forward(self, x):\n",
        "        return self.all_layers(x)\n",
        "\n",
        "\n",
        "    def predict(self, X, device='cpu'):\n",
        "        X = torch.FloatTensor(np.array(X)).to(device)\n",
        "\n",
        "        with torch.no_grad():\n",
        "          y_pred = self.forward(X)\n",
        "\n",
        "        return y_pred.cpu().numpy()\n",
        "\n",
        "\n",
        "model = BinaryClassifier(4, 128, 1).to(device)\n",
        "model"
      ],
      "metadata": {
        "id": "YjV7MeJGr_Qf",
        "colab": {
          "base_uri": "https://localhost:8080/"
        },
        "outputId": "a819ac8f-800f-4433-cd41-9995c3af1491"
      },
      "execution_count": null,
      "outputs": [
        {
          "output_type": "execute_result",
          "data": {
            "text/plain": [
              "BinaryClassifier(\n",
              "  (all_layers): Sequential(\n",
              "    (0): Block(\n",
              "      (linear): Linear(in_features=4, out_features=128, bias=True)\n",
              "      (linear1): Linear(in_features=128, out_features=128, bias=True)\n",
              "      (linear2): Linear(in_features=128, out_features=128, bias=True)\n",
              "      (bn1): BatchNorm1d(128, eps=1e-05, momentum=0.1, affine=True, track_running_stats=True)\n",
              "      (bn2): BatchNorm1d(128, eps=1e-05, momentum=0.1, affine=True, track_running_stats=True)\n",
              "    )\n",
              "    (1): Dropout(p=0.2, inplace=False)\n",
              "    (2): Block(\n",
              "      (linear): Linear(in_features=128, out_features=64, bias=True)\n",
              "      (linear1): Linear(in_features=64, out_features=64, bias=True)\n",
              "      (linear2): Linear(in_features=64, out_features=64, bias=True)\n",
              "      (bn1): BatchNorm1d(64, eps=1e-05, momentum=0.1, affine=True, track_running_stats=True)\n",
              "      (bn2): BatchNorm1d(64, eps=1e-05, momentum=0.1, affine=True, track_running_stats=True)\n",
              "    )\n",
              "    (3): Linear(in_features=64, out_features=64, bias=True)\n",
              "    (4): ReLU()\n",
              "    (5): Linear(in_features=64, out_features=1, bias=True)\n",
              "    (6): Sigmoid()\n",
              "  )\n",
              ")"
            ]
          },
          "metadata": {},
          "execution_count": 10
        }
      ]
    },
    {
      "cell_type": "markdown",
      "source": [
        "Перевіряємо розмірності"
      ],
      "metadata": {
        "id": "1uaOXb5pnElN"
      }
    },
    {
      "cell_type": "code",
      "source": [
        "from torchsummary import summary\n",
        "\n",
        "summary(model, input_size=(4,))"
      ],
      "metadata": {
        "id": "x0uNH_13kgIV",
        "outputId": "d8668306-bcc6-4f20-9a44-f6139dddb362",
        "colab": {
          "base_uri": "https://localhost:8080/"
        }
      },
      "execution_count": null,
      "outputs": [
        {
          "output_type": "stream",
          "name": "stdout",
          "text": [
            "----------------------------------------------------------------\n",
            "        Layer (type)               Output Shape         Param #\n",
            "================================================================\n",
            "            Linear-1                  [-1, 128]             640\n",
            "            Linear-2                  [-1, 128]          16,512\n",
            "       BatchNorm1d-3                  [-1, 128]             256\n",
            "            Linear-4                  [-1, 128]          16,512\n",
            "       BatchNorm1d-5                  [-1, 128]             256\n",
            "             Block-6                  [-1, 128]               0\n",
            "           Dropout-7                  [-1, 128]               0\n",
            "            Linear-8                   [-1, 64]           8,256\n",
            "            Linear-9                   [-1, 64]           4,160\n",
            "      BatchNorm1d-10                   [-1, 64]             128\n",
            "           Linear-11                   [-1, 64]           4,160\n",
            "      BatchNorm1d-12                   [-1, 64]             128\n",
            "            Block-13                   [-1, 64]               0\n",
            "           Linear-14                   [-1, 64]           4,160\n",
            "             ReLU-15                   [-1, 64]               0\n",
            "           Linear-16                    [-1, 1]              65\n",
            "          Sigmoid-17                    [-1, 1]               0\n",
            "================================================================\n",
            "Total params: 55,233\n",
            "Trainable params: 55,233\n",
            "Non-trainable params: 0\n",
            "----------------------------------------------------------------\n",
            "Input size (MB): 0.00\n",
            "Forward/backward pass size (MB): 0.01\n",
            "Params size (MB): 0.21\n",
            "Estimated Total Size (MB): 0.22\n",
            "----------------------------------------------------------------\n"
          ]
        }
      ]
    },
    {
      "cell_type": "markdown",
      "source": [
        "# Визначення функції втрат та оптимізатора"
      ],
      "metadata": {
        "id": "_xeemW04sXAm"
      }
    },
    {
      "cell_type": "code",
      "source": [
        "# Функція втрат середньоквадратичної помилки (BCE) для регресії\n",
        "loss_fn = nn.BCELoss()\n",
        "\n",
        "# Оптимізатор (SGD) для оновлення ваг моделі\n",
        "optimizer = torch.optim.Adam(model.parameters(), lr=1e-2, weight_decay=1e-6)"
      ],
      "metadata": {
        "id": "ji02e2dssdd5"
      },
      "execution_count": null,
      "outputs": []
    },
    {
      "cell_type": "markdown",
      "source": [
        "* Визначаємо функцію втрат як `nn.MSELoss`, яка підходить для задач регресії (вимірює середньоквадратичну різницю між прогнозами та цілями).\n",
        "* Вибираємо оптимізатор градієнтного спуску (`torch.optim.SGD`) для налаштування ваг моделей під час навчання.\n",
        "* Швидкість навчання (`lr=0.01`) контролює розмір кроку оптимізатора."
      ],
      "metadata": {
        "id": "6M5lYsWSslKf"
      }
    },
    {
      "cell_type": "code",
      "source": [
        "from torch.optim.lr_scheduler import StepLR\n",
        "\n",
        "scheduler = StepLR(optimizer, step_size=5, gamma=0.1)"
      ],
      "metadata": {
        "id": "AtkZKf38bjou"
      },
      "execution_count": null,
      "outputs": []
    },
    {
      "cell_type": "markdown",
      "source": [
        "# Цикл навчання"
      ],
      "metadata": {
        "id": "pEA-s_AQspqH"
      }
    },
    {
      "cell_type": "code",
      "source": [
        "# @title Функція для тренування\n",
        "import time\n",
        "\n",
        "def train(model, optimizer, loss_fn, train_dl, val_dl,\n",
        "          metrics=None, metrics_name=None, epochs=20, device='cpu', task='regression'):\n",
        "    '''\n",
        "    Runs training loop for classification problems. Returns Keras-style\n",
        "    per-epoch history of loss and accuracy over training and validation data.\n",
        "\n",
        "    Parameters\n",
        "    ----------\n",
        "    model : nn.Module\n",
        "        Neural network model\n",
        "    optimizer : torch.optim.Optimizer\n",
        "        Search space optimizer (e.g. Adam)\n",
        "    loss_fn :\n",
        "        Loss function (e.g. nn.CrossEntropyLoss())\n",
        "    train_dl :\n",
        "        Iterable dataloader for training data.\n",
        "    val_dl :\n",
        "        Iterable dataloader for validation data.\n",
        "    metrics: list\n",
        "        List of sklearn metrics functions to be calculated\n",
        "    metrics_name: list\n",
        "        List of matrics names\n",
        "    epochs : int\n",
        "        Number of epochs to run\n",
        "    device : string\n",
        "        Specifies 'cuda' or 'cpu'\n",
        "    task : string\n",
        "        type of problem. It can be regression, binary or multiclass\n",
        "\n",
        "    Returns\n",
        "    -------\n",
        "    Dictionary\n",
        "        Similar to Keras' fit(), the output dictionary contains per-epoch\n",
        "        history of training loss, training accuracy, validation loss, and\n",
        "        validation accuracy.\n",
        "    '''\n",
        "\n",
        "    print('train() called: model=%s, opt=%s(lr=%f), epochs=%d, device=%s\\n' % \\\n",
        "          (type(model).__name__, type(optimizer).__name__,\n",
        "           optimizer.param_groups[0]['lr'], epochs, device))\n",
        "\n",
        "    metrics = metrics if metrics else []\n",
        "    metrics_name = metrics_name if metrics_name else [metric.__name__ for metric in metrics]\n",
        "\n",
        "    history = {} # Collects per-epoch loss and metrics like Keras' fit().\n",
        "    history['lr'] = []\n",
        "    history['loss'] = []\n",
        "    history['val_loss'] = []\n",
        "    for name in metrics_name:\n",
        "        history[name] = []\n",
        "        history[f'val_{name}'] = []\n",
        "\n",
        "    start_time_train = time.time()\n",
        "\n",
        "    for epoch in range(epochs):\n",
        "\n",
        "        # --- TRAIN AND EVALUATE ON TRAINING SET -----------------------------\n",
        "        start_time_epoch = time.time()\n",
        "\n",
        "        model.train()\n",
        "        history_train = {name: 0 for name in ['loss']+metrics_name}\n",
        "\n",
        "        for batch in train_dl:\n",
        "            x    = batch[0].to(device)\n",
        "            y    = batch[1].to(device)\n",
        "            y_pred = model(x)\n",
        "            loss = loss_fn(y_pred, y)\n",
        "\n",
        "            optimizer.zero_grad()\n",
        "            loss.backward()\n",
        "            optimizer.step()\n",
        "\n",
        "            y_pred = y_pred.detach().cpu().numpy()\n",
        "            y = y.detach().cpu().numpy()\n",
        "\n",
        "\n",
        "            history_train['loss'] += loss.item() * x.size(0)\n",
        "            for name, func in zip(metrics_name, metrics):\n",
        "              try:\n",
        "                  history_train[name] += func(y, y_pred) * x.size(0)\n",
        "              except:\n",
        "                  if task == 'binary': y_pred_ = y_pred.round()\n",
        "                  elif task == 'multiclass': y_pred_ = y_pred.argmax(axis=-1)\n",
        "                  history_train[name] += func(y, y_pred_) * x.size(0)\n",
        "\n",
        "        for name in history_train:\n",
        "            history_train[name] /= len(train_dl.dataset)\n",
        "\n",
        "        scheduler.step()\n",
        "        history['lr'].append(scheduler.get_last_lr())\n",
        "\n",
        "\n",
        "        # --- EVALUATE ON VALIDATION SET -------------------------------------\n",
        "        model.eval()\n",
        "        history_val = {'val_' + name: 0 for name in metrics_name+['loss']}\n",
        "\n",
        "        with torch.no_grad():\n",
        "            for batch in val_dl:\n",
        "                x    = batch[0].to(device)\n",
        "                y    = batch[1].to(device)\n",
        "                y_pred = model(x)\n",
        "                loss = loss_fn(y_pred, y)\n",
        "\n",
        "                y_pred = y_pred.cpu().numpy()\n",
        "                y = y.cpu().numpy()\n",
        "\n",
        "                history_val['val_loss'] += loss.item() * x.size(0)\n",
        "                for name, func in zip(metrics_name, metrics):\n",
        "                    try:\n",
        "                        history_val['val_'+name] += func(y, y_pred) * x.size(0)\n",
        "                    except:\n",
        "                        if task == 'binary': y_pred_ = y_pred.round()\n",
        "                        elif task == 'multiclass': y_pred_ = y_pred.argmax(axis=-1)\n",
        "\n",
        "                        history_val['val_'+name] += func(y, y_pred_) * x.size(0)\n",
        "\n",
        "        for name in history_val:\n",
        "            history_val[name] /= len(val_dl.dataset)\n",
        "\n",
        "        # PRINTING RESULTS\n",
        "\n",
        "        end_time_epoch = time.time()\n",
        "\n",
        "        for name in history_train:\n",
        "            history[name].append(history_train[name])\n",
        "            history['val_'+name].append(history_val['val_'+name])\n",
        "\n",
        "        total_time_epoch = end_time_epoch - start_time_epoch\n",
        "\n",
        "        print(f'Epoch {epoch+1:4d} {total_time_epoch:4.0f}sec', end='\\t')\n",
        "        for name in history_train:\n",
        "            print(f'{name}: {history[name][-1]:10.3g}', end='\\t')\n",
        "            print(f\"val_{name}: {history['val_'+name][-1]:10.3g}\", end='\\t')\n",
        "        print()\n",
        "\n",
        "    # END OF TRAINING LOOP\n",
        "\n",
        "    end_time_train       = time.time()\n",
        "    total_time_train     = end_time_train - start_time_train\n",
        "    print()\n",
        "    print('Time total:     %5.2f sec' % (total_time_train))\n",
        "\n",
        "    return history"
      ],
      "metadata": {
        "id": "NSVzKWZpsl1m"
      },
      "execution_count": null,
      "outputs": []
    },
    {
      "cell_type": "code",
      "source": [
        "from sklearn.metrics import accuracy_score, roc_auc_score\n",
        "\n",
        "history = train(model, optimizer, loss_fn, train_dl, test_dl,\n",
        "                epochs=20,\n",
        "                metrics=[accuracy_score, roc_auc_score],\n",
        "                device=device,\n",
        "                task='binary')"
      ],
      "metadata": {
        "colab": {
          "base_uri": "https://localhost:8080/"
        },
        "id": "r2pW56Pvqy96",
        "outputId": "ea58c14c-1c63-4850-979d-e78c2f496ed8"
      },
      "execution_count": null,
      "outputs": [
        {
          "output_type": "stream",
          "name": "stdout",
          "text": [
            "train() called: model=BinaryClassifier, opt=Adam(lr=0.010000), epochs=20, device=cpu\n",
            "\n",
            "Epoch    1    1sec\tloss:      0.486\tval_loss:      0.572\taccuracy_score:      0.737\tval_accuracy_score:      0.754\troc_auc_score:      0.832\tval_roc_auc_score:      0.849\t\n",
            "Epoch    2    1sec\tloss:      0.449\tval_loss:      0.457\taccuracy_score:      0.767\tval_accuracy_score:      0.756\troc_auc_score:      0.859\tval_roc_auc_score:      0.853\t\n",
            "Epoch    3    1sec\tloss:      0.445\tval_loss:      0.448\taccuracy_score:       0.77\tval_accuracy_score:      0.768\troc_auc_score:      0.861\tval_roc_auc_score:      0.861\t\n",
            "Epoch    4    1sec\tloss:      0.442\tval_loss:       0.47\taccuracy_score:      0.771\tval_accuracy_score:      0.766\troc_auc_score:      0.864\tval_roc_auc_score:      0.858\t\n",
            "Epoch    5    1sec\tloss:      0.443\tval_loss:      0.472\taccuracy_score:      0.773\tval_accuracy_score:      0.765\troc_auc_score:      0.865\tval_roc_auc_score:      0.858\t\n",
            "Epoch    6    1sec\tloss:      0.436\tval_loss:      0.433\taccuracy_score:      0.775\tval_accuracy_score:      0.781\troc_auc_score:      0.868\tval_roc_auc_score:      0.868\t\n",
            "Epoch    7    1sec\tloss:      0.431\tval_loss:      0.433\taccuracy_score:      0.778\tval_accuracy_score:      0.781\troc_auc_score:      0.871\tval_roc_auc_score:      0.868\t\n",
            "Epoch    8    1sec\tloss:       0.43\tval_loss:      0.433\taccuracy_score:       0.78\tval_accuracy_score:      0.779\troc_auc_score:      0.871\tval_roc_auc_score:      0.869\t\n",
            "Epoch    9    1sec\tloss:       0.43\tval_loss:      0.433\taccuracy_score:      0.778\tval_accuracy_score:      0.779\troc_auc_score:      0.871\tval_roc_auc_score:       0.87\t\n",
            "Epoch   10    1sec\tloss:      0.429\tval_loss:      0.432\taccuracy_score:      0.781\tval_accuracy_score:      0.781\troc_auc_score:      0.873\tval_roc_auc_score:       0.87\t\n",
            "Epoch   11    1sec\tloss:      0.427\tval_loss:      0.432\taccuracy_score:      0.782\tval_accuracy_score:      0.781\troc_auc_score:      0.874\tval_roc_auc_score:       0.87\t\n",
            "Epoch   12    1sec\tloss:      0.428\tval_loss:      0.432\taccuracy_score:      0.783\tval_accuracy_score:      0.781\troc_auc_score:      0.873\tval_roc_auc_score:      0.869\t\n",
            "Epoch   13    1sec\tloss:      0.427\tval_loss:      0.432\taccuracy_score:      0.781\tval_accuracy_score:      0.781\troc_auc_score:      0.874\tval_roc_auc_score:       0.87\t\n",
            "Epoch   14    1sec\tloss:      0.427\tval_loss:      0.431\taccuracy_score:      0.782\tval_accuracy_score:      0.781\troc_auc_score:      0.874\tval_roc_auc_score:       0.87\t\n",
            "Epoch   15    1sec\tloss:      0.427\tval_loss:      0.431\taccuracy_score:      0.782\tval_accuracy_score:      0.782\troc_auc_score:      0.873\tval_roc_auc_score:       0.87\t\n",
            "Epoch   16    1sec\tloss:      0.428\tval_loss:      0.431\taccuracy_score:      0.783\tval_accuracy_score:      0.781\troc_auc_score:      0.873\tval_roc_auc_score:       0.87\t\n",
            "Epoch   17    1sec\tloss:      0.427\tval_loss:      0.431\taccuracy_score:      0.781\tval_accuracy_score:      0.782\troc_auc_score:      0.873\tval_roc_auc_score:       0.87\t\n",
            "Epoch   18    1sec\tloss:      0.427\tval_loss:      0.431\taccuracy_score:      0.781\tval_accuracy_score:      0.782\troc_auc_score:      0.874\tval_roc_auc_score:       0.87\t\n",
            "Epoch   19    1sec\tloss:      0.428\tval_loss:      0.431\taccuracy_score:      0.782\tval_accuracy_score:      0.782\troc_auc_score:      0.873\tval_roc_auc_score:       0.87\t\n",
            "Epoch   20    1sec\tloss:      0.426\tval_loss:      0.431\taccuracy_score:      0.782\tval_accuracy_score:      0.782\troc_auc_score:      0.874\tval_roc_auc_score:       0.87\t\n",
            "\n",
            "Time total:     19.69 sec\n"
          ]
        }
      ]
    },
    {
      "cell_type": "markdown",
      "source": [
        "## Графіки"
      ],
      "metadata": {
        "id": "1v-niY_cE6J0"
      }
    },
    {
      "cell_type": "code",
      "source": [
        "import matplotlib.pyplot as plt\n",
        "\n",
        "def plot_metric(history, name):\n",
        "  plt.title(f\"Model results with {name}\")\n",
        "  plt.plot(history[name], label='train')\n",
        "  plt.plot(history['val_'+name], label='val')\n",
        "  plt.xlabel('Epoch')\n",
        "  plt.ylabel(name)\n",
        "  plt.legend()\n",
        "\n",
        "\n",
        "plot_metric(history, 'loss')"
      ],
      "metadata": {
        "colab": {
          "base_uri": "https://localhost:8080/",
          "height": 472
        },
        "id": "9dbGiZkmIAN9",
        "outputId": "188a7b6d-fc58-4542-f6ce-09b3875dee95"
      },
      "execution_count": null,
      "outputs": [
        {
          "output_type": "display_data",
          "data": {
            "text/plain": [
              "<Figure size 640x480 with 1 Axes>"
            ],
            "image/png": "[encoded data removed]"
          },
          "metadata": {}
        }
      ]
    },
    {
      "cell_type": "code",
      "source": [
        "plot_metric(history, 'accuracy_score')"
      ],
      "metadata": {
        "colab": {
          "base_uri": "https://localhost:8080/",
          "height": 472
        },
        "id": "d7NzbDSyH94_",
        "outputId": "10411ee2-c8eb-41d4-839c-0d84145894f8"
      },
      "execution_count": null,
      "outputs": [
        {
          "output_type": "display_data",
          "data": {
            "text/plain": [
              "<Figure size 640x480 with 1 Axes>"
            ],
            "image/png": "[encoded data removed]"
          },
          "metadata": {}
        }
      ]
    },
    {
      "cell_type": "code",
      "source": [
        "plt.plot(history['lr'])"
      ],
      "metadata": {
        "colab": {
          "base_uri": "https://localhost:8080/",
          "height": 447
        },
        "id": "xrPXuzXAa0u-",
        "outputId": "f016d8c0-850d-4409-ffd0-1a3c98505e10"
      },
      "execution_count": null,
      "outputs": [
        {
          "output_type": "execute_result",
          "data": {
            "text/plain": [
              "[<matplotlib.lines.Line2D at 0x785cbe00aef0>]"
            ]
          },
          "metadata": {},
          "execution_count": 19
        },
        {
          "output_type": "display_data",
          "data": {
            "text/plain": [
              "<Figure size 640x480 with 1 Axes>"
            ],
            "image/png": "[encoded data removed]"
          },
          "metadata": {}
        }
      ]
    },
    {
      "cell_type": "code",
      "source": [
        "from sklearn.metrics import ConfusionMatrixDisplay, RocCurveDisplay\n",
        "\n",
        "model = model.to('cpu')  # відключаємо від gpu\n",
        "y_pred = model.predict(X_test)\n",
        "\n",
        "ConfusionMatrixDisplay.from_predictions(y_test, y_pred.round(),\n",
        "                                        display_labels=['satisfied', 'neutral or dissatisfied'])\n",
        "plt.plot()\n",
        "\n",
        "RocCurveDisplay.from_predictions(y_test, y_pred, pos_label=1)"
      ],
      "metadata": {
        "colab": {
          "base_uri": "https://localhost:8080/",
          "height": 898
        },
        "id": "HUsSoZrhmUWv",
        "outputId": "0be90db1-844b-44ca-8ee5-bbc24ab003f8"
      },
      "execution_count": null,
      "outputs": [
        {
          "output_type": "execute_result",
          "data": {
            "text/plain": [
              "<sklearn.metrics._plot.roc_curve.RocCurveDisplay at 0x785cbdfcd690>"
            ]
          },
          "metadata": {},
          "execution_count": 20
        },
        {
          "output_type": "display_data",
          "data": {
            "text/plain": [
              "<Figure size 640x480 with 2 Axes>"
            ],
            "image/png": "[encoded data removed]"
          },
          "metadata": {}
        },
        {
          "output_type": "display_data",
          "data": {
            "text/plain": [
              "<Figure size 640x480 with 1 Axes>"
            ],
            "image/png": "[encoded data removed]"
          },
          "metadata": {}
        }
      ]
    },
    {
      "cell_type": "code",
      "source": [],
      "metadata": {
        "id": "twBefcPHgdLG"
      },
      "execution_count": null,
      "outputs": []
    }
  ]
}